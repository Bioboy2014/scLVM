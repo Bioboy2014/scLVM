{
 "metadata": {
  "name": "",
  "signature": "sha256:5f4a0309278684fbbd06363052fb6f5b85a0c91f9735eb5d46d18664d7cfdfa8"
 },
 "nbformat": 3,
 "nbformat_minor": 0,
 "worksheets": [
  {
   "cells": [
    {
     "cell_type": "heading",
     "level": 1,
     "metadata": {},
     "source": [
      "scLVM  - Accounting for cell-to-cell heterogeneity in single-cell RNA-Seq data"
     ]
    },
    {
     "cell_type": "markdown",
     "metadata": {},
     "source": [
      "The scLVM algorithm is a two-step approach. First, one or more covariance structures are inferred from genes that are annotated to hidden factors such as cell cycle progression. Subsequently, these covariance structures can be used to account for the hidden factors as random effects in a mixed model, allowing the variance in expression for each gene to be decomposed into a technical, a biological and a separate component for each hidden factor. Additionally, the hidden factors can be accounted for when performing pairwise gene-gene correlation analyses, and further allow \u201ccorrected\u201d residual gene expression datasets to be generated. In the following the use of scLVM is shown at the example of the T-cell data analysed in (Buettner et al, Nature Boptech, accepted)."
     ]
    },
    {
     "cell_type": "heading",
     "level": 2,
     "metadata": {},
     "source": [
      "Stage 1: Fitting process"
     ]
    },
    {
     "cell_type": "markdown",
     "metadata": {},
     "source": [
      "The Gaussian Process Latent variable model is used to fit the cell-cell covariance indced by a hidden factor. This approach resembles a Principal Component Analysis on genes annotated to a hidden factor (such as cell cycle). However, instead of explicitly reconstructing PCA loadings and scores, the GPLVM approach fits a low-rank cell-to-cell covariance to the observed gene expression matrix of these genes. \n",
      "First necessary modules for fitting and plotting need to be loaded."
     ]
    },
    {
     "cell_type": "code",
     "collapsed": false,
     "input": [
      "# activiate inline plotting\n",
      "%pylab inline"
     ],
     "language": "python",
     "metadata": {},
     "outputs": [
      {
       "output_type": "stream",
       "stream": "stdout",
       "text": [
        "Populating the interactive namespace from numpy and matplotlib\n"
       ]
      }
     ],
     "prompt_number": 3
    },
    {
     "cell_type": "code",
     "collapsed": false,
     "input": [
      "import sys\n",
      "import scipy as SP\n",
      "import pylab as PL\n",
      "from matplotlib import cm\n",
      "import h5py\n",
      "#adjust path\n",
      "sys.path.append('./..')\n",
      "from scLVM import scLVM\n",
      "from IPython.display import Latex"
     ],
     "language": "python",
     "metadata": {},
     "outputs": [],
     "prompt_number": 4
    },
    {
     "cell_type": "markdown",
     "metadata": {},
     "source": [
      "First, the required data have to be loaded. This includes:\n",
      "</p>\n",
      "<ul>\n",
      "    <li>Normalised gene expression data: LogNcountsMmus\n",
      "        <li>Technical noise (in log space): LogVar_techMmus \n",
      "            <li>Gene symbols: gene_names\n",
      "                <li> Heterogeneous genes (boolean vector): genes_geterogen \n",
      "                    <li> Cell cycle genes (vector of indices): cellcyclegenes_filter\n",
      "</ul>"
     ]
    },
    {
     "cell_type": "code",
     "collapsed": false,
     "input": [
      "data = './../data/Tcell/normCountsMMus_final.h5f'\n",
      "f = h5py.File(data,'r')\n",
      "Y = f['LogNcountsMmus'][:]                 # gene expression matrix\n",
      "tech_noise = f['LogVar_techMmus'][:]       # technical noise\n",
      "genes_het_bool=f['genes_heterogen'][:]     # index of heterogeneous genes\n",
      "geneID = f['gene_names'][:]            # gene names\n",
      "cellcyclegenes_filter = SP.unique(f['cellcyclegenes_filter'][:].ravel() -1) # idx of cell cycle genes from GO\n",
      "cellcyclegenes_filterCB = f['ccCBall_gene_indices'][:].ravel() -1        # idx of cell cycle genes from cycle base ..."
     ],
     "language": "python",
     "metadata": {},
     "outputs": [
      {
       "ename": "IOError",
       "evalue": "unable to open file (File accessibilty: Unable to open file)",
       "output_type": "pyerr",
       "traceback": [
        "\u001b[0;31m---------------------------------------------------------------------------\u001b[0m\n\u001b[0;31mIOError\u001b[0m                                   Traceback (most recent call last)",
        "\u001b[0;32m<ipython-input-5-b9667082e248>\u001b[0m in \u001b[0;36m<module>\u001b[0;34m()\u001b[0m\n\u001b[1;32m      1\u001b[0m \u001b[0mdata\u001b[0m \u001b[0;34m=\u001b[0m \u001b[0;34m'./../data/Tcell/normCountsMMus_final.h5f'\u001b[0m\u001b[0;34m\u001b[0m\u001b[0m\n\u001b[0;32m----> 2\u001b[0;31m \u001b[0mf\u001b[0m \u001b[0;34m=\u001b[0m \u001b[0mh5py\u001b[0m\u001b[0;34m.\u001b[0m\u001b[0mFile\u001b[0m\u001b[0;34m(\u001b[0m\u001b[0mdata\u001b[0m\u001b[0;34m,\u001b[0m\u001b[0;34m'r'\u001b[0m\u001b[0;34m)\u001b[0m\u001b[0;34m\u001b[0m\u001b[0m\n\u001b[0m\u001b[1;32m      3\u001b[0m \u001b[0mY\u001b[0m \u001b[0;34m=\u001b[0m \u001b[0mf\u001b[0m\u001b[0;34m[\u001b[0m\u001b[0;34m'LogNcountsMmus'\u001b[0m\u001b[0;34m]\u001b[0m\u001b[0;34m[\u001b[0m\u001b[0;34m:\u001b[0m\u001b[0;34m]\u001b[0m                 \u001b[0;31m# gene expression matrix\u001b[0m\u001b[0;34m\u001b[0m\u001b[0m\n\u001b[1;32m      4\u001b[0m \u001b[0mtech_noise\u001b[0m \u001b[0;34m=\u001b[0m \u001b[0mf\u001b[0m\u001b[0;34m[\u001b[0m\u001b[0;34m'LogVar_techMmus'\u001b[0m\u001b[0;34m]\u001b[0m\u001b[0;34m[\u001b[0m\u001b[0;34m:\u001b[0m\u001b[0;34m]\u001b[0m       \u001b[0;31m# technical noise\u001b[0m\u001b[0;34m\u001b[0m\u001b[0m\n\u001b[1;32m      5\u001b[0m \u001b[0mgenes_het_bool\u001b[0m\u001b[0;34m=\u001b[0m\u001b[0mf\u001b[0m\u001b[0;34m[\u001b[0m\u001b[0;34m'genes_heterogen'\u001b[0m\u001b[0;34m]\u001b[0m\u001b[0;34m[\u001b[0m\u001b[0;34m:\u001b[0m\u001b[0;34m]\u001b[0m     \u001b[0;31m# index of heterogeneous genes\u001b[0m\u001b[0;34m\u001b[0m\u001b[0m\n",
        "\u001b[0;32m/opt/local/Library/Frameworks/Python.framework/Versions/2.7/lib/python2.7/site-packages/h5py/_hl/files.pyc\u001b[0m in \u001b[0;36m__init__\u001b[0;34m(self, name, mode, driver, libver, userblock_size, **kwds)\u001b[0m\n\u001b[1;32m    205\u001b[0m \u001b[0;34m\u001b[0m\u001b[0m\n\u001b[1;32m    206\u001b[0m             \u001b[0mfapl\u001b[0m \u001b[0;34m=\u001b[0m \u001b[0mmake_fapl\u001b[0m\u001b[0;34m(\u001b[0m\u001b[0mdriver\u001b[0m\u001b[0;34m,\u001b[0m \u001b[0mlibver\u001b[0m\u001b[0;34m,\u001b[0m \u001b[0;34m**\u001b[0m\u001b[0mkwds\u001b[0m\u001b[0;34m)\u001b[0m\u001b[0;34m\u001b[0m\u001b[0m\n\u001b[0;32m--> 207\u001b[0;31m             \u001b[0mfid\u001b[0m \u001b[0;34m=\u001b[0m \u001b[0mmake_fid\u001b[0m\u001b[0;34m(\u001b[0m\u001b[0mname\u001b[0m\u001b[0;34m,\u001b[0m \u001b[0mmode\u001b[0m\u001b[0;34m,\u001b[0m \u001b[0muserblock_size\u001b[0m\u001b[0;34m,\u001b[0m \u001b[0mfapl\u001b[0m\u001b[0;34m)\u001b[0m\u001b[0;34m\u001b[0m\u001b[0m\n\u001b[0m\u001b[1;32m    208\u001b[0m \u001b[0;34m\u001b[0m\u001b[0m\n\u001b[1;32m    209\u001b[0m         \u001b[0mGroup\u001b[0m\u001b[0;34m.\u001b[0m\u001b[0m__init__\u001b[0m\u001b[0;34m(\u001b[0m\u001b[0mself\u001b[0m\u001b[0;34m,\u001b[0m \u001b[0mfid\u001b[0m\u001b[0;34m)\u001b[0m\u001b[0;34m\u001b[0m\u001b[0m\n",
        "\u001b[0;32m/opt/local/Library/Frameworks/Python.framework/Versions/2.7/lib/python2.7/site-packages/h5py/_hl/files.pyc\u001b[0m in \u001b[0;36mmake_fid\u001b[0;34m(name, mode, userblock_size, fapl, fcpl)\u001b[0m\n\u001b[1;32m     77\u001b[0m \u001b[0;34m\u001b[0m\u001b[0m\n\u001b[1;32m     78\u001b[0m     \u001b[0;32mif\u001b[0m \u001b[0mmode\u001b[0m \u001b[0;34m==\u001b[0m \u001b[0;34m'r'\u001b[0m\u001b[0;34m:\u001b[0m\u001b[0;34m\u001b[0m\u001b[0m\n\u001b[0;32m---> 79\u001b[0;31m         \u001b[0mfid\u001b[0m \u001b[0;34m=\u001b[0m \u001b[0mh5f\u001b[0m\u001b[0;34m.\u001b[0m\u001b[0mopen\u001b[0m\u001b[0;34m(\u001b[0m\u001b[0mname\u001b[0m\u001b[0;34m,\u001b[0m \u001b[0mh5f\u001b[0m\u001b[0;34m.\u001b[0m\u001b[0mACC_RDONLY\u001b[0m\u001b[0;34m,\u001b[0m \u001b[0mfapl\u001b[0m\u001b[0;34m=\u001b[0m\u001b[0mfapl\u001b[0m\u001b[0;34m)\u001b[0m\u001b[0;34m\u001b[0m\u001b[0m\n\u001b[0m\u001b[1;32m     80\u001b[0m     \u001b[0;32melif\u001b[0m \u001b[0mmode\u001b[0m \u001b[0;34m==\u001b[0m \u001b[0;34m'r+'\u001b[0m\u001b[0;34m:\u001b[0m\u001b[0;34m\u001b[0m\u001b[0m\n\u001b[1;32m     81\u001b[0m         \u001b[0mfid\u001b[0m \u001b[0;34m=\u001b[0m \u001b[0mh5f\u001b[0m\u001b[0;34m.\u001b[0m\u001b[0mopen\u001b[0m\u001b[0;34m(\u001b[0m\u001b[0mname\u001b[0m\u001b[0;34m,\u001b[0m \u001b[0mh5f\u001b[0m\u001b[0;34m.\u001b[0m\u001b[0mACC_RDWR\u001b[0m\u001b[0;34m,\u001b[0m \u001b[0mfapl\u001b[0m\u001b[0;34m=\u001b[0m\u001b[0mfapl\u001b[0m\u001b[0;34m)\u001b[0m\u001b[0;34m\u001b[0m\u001b[0m\n",
        "\u001b[0;32m/opt/local/Library/Frameworks/Python.framework/Versions/2.7/lib/python2.7/site-packages/h5py/h5f.so\u001b[0m in \u001b[0;36mh5py.h5f.open (h5py/h5f.c:1543)\u001b[0;34m()\u001b[0m\n",
        "\u001b[0;31mIOError\u001b[0m: unable to open file (File accessibilty: Unable to open file)"
       ]
      }
     ],
     "prompt_number": 5
    },
    {
     "cell_type": "markdown",
     "metadata": {},
     "source": [
      "Get cell-gene matrix with only cell-cycle related genes."
     ]
    },
    {
     "cell_type": "code",
     "collapsed": false,
     "input": [
      "# filter cell cycle genes\n",
      "idx_cell_cycle = SP.union1d(cellcyclegenes_filter,cellcyclegenes_filterCB)\n",
      "Ymean2 = Y.mean(0)**2>0\n",
      "idx_cell_cycle_noise_filtered = SP.intersect1d(idx_cell_cycle,SP.array(SP.where(Ymean2.ravel()>0)))\n",
      "Ycc = Y[:,idx_cell_cycle_noise_filtered]"
     ],
     "language": "python",
     "metadata": {},
     "outputs": [],
     "prompt_number": 4
    },
    {
     "cell_type": "markdown",
     "metadata": {},
     "source": [
      "Now the linear GPLVM model can be fitted. The number of latent factors as well as the directory where results are cached can be specified."
     ]
    },
    {
     "cell_type": "code",
     "collapsed": false,
     "input": [
      "k = 80                    # number of latent factors\n",
      "out_dir = './cache'       # folder where results are cached\n",
      "file_name = 'Kcc.hdf5'    # name of the cache file\n",
      "recalc = True             # recalculate X and Kconf\n",
      "use_ard = True            # use automatic relevance detection\n",
      "sclvm = scLVM(Y)\n",
      "X_ARD,Kcc_ARD,varGPLVM_ARD = sclvm.fitGPLVM(idx=idx_cell_cycle_noise_filtered,k=k,out_dir='./cache',file_name=file_name,recalc=recalc, use_ard=use_ard)"
     ],
     "language": "python",
     "metadata": {},
     "outputs": [
      {
       "output_type": "stream",
       "stream": "stderr",
       "text": [
        "./../scLVM/scLVM.py:152: FutureWarning: comparison to `None` will result in an elementwise object comparison in the future.\n",
        "  assert idx!=None, 'scLVM:: specify idx'\n"
       ]
      }
     ],
     "prompt_number": 5
    },
    {
     "cell_type": "markdown",
     "metadata": {},
     "source": [
      "In order to establish the number of latent factors used to model the cell-cell covariance we plot the variance contributions of the individual latent factors. "
     ]
    },
    {
     "cell_type": "code",
     "collapsed": false,
     "input": [
      "#Plot variance contributions from ARD \n",
      "plt = PL.subplot(1,1,1)\n",
      "PL.title('Variance explained by latent factors')\n",
      "PL.scatter(SP.arange(k)+1,varGPLVM_ARD['X_ARD'])\n",
      "PL.xlim([0,k+1])\n",
      "PL.xlabel('# Factor')\n",
      "PL.ylabel('Variance explained')"
     ],
     "language": "python",
     "metadata": {},
     "outputs": [
      {
       "metadata": {},
       "output_type": "pyout",
       "prompt_number": 6,
       "text": [
        "<matplotlib.text.Text at 0x10fdd3a90>"
       ]
      },
      {
       "metadata": {},
       "output_type": "display_data",
       "png": "[encoded data removed]"
      }
     ],
     "prompt_number": 6
    },
    {
     "cell_type": "markdown",
     "metadata": {},
     "source": [
      "In our case there is a large gap between the first and the second factor which is why we only retain one latent factor. That is why we re-fit the GPLVM with one latent factor only."
     ]
    },
    {
     "cell_type": "code",
     "collapsed": false,
     "input": [
      "#Fit rank 1 covariance matrix (large gap between first and second latent factor)\n",
      "X,Kcc,varGPLVM = sclvm.fitGPLVM(idx=idx_cell_cycle_noise_filtered,k=1,out_dir='./cache',file_name=file_name,recalc=True, use_ard=False)"
     ],
     "language": "python",
     "metadata": {},
     "outputs": [],
     "prompt_number": 7
    },
    {
     "cell_type": "markdown",
     "metadata": {},
     "source": [
      "We then visualise the inferred covariance matrix."
     ]
    },
    {
     "cell_type": "code",
     "collapsed": false,
     "input": [
      "#Plot inferred similarity matrix\n",
      "plt = PL.subplot(1,1,1)\n",
      "PL.title('Similarity matrix based on cell cycle')\n",
      "PL.imshow(Kcc,cmap=cm.RdBu,vmin=-3,vmax=+3)\n",
      "PL.colorbar()\n",
      "plt.set_xticks([])\n",
      "plt.set_yticks([])"
     ],
     "language": "python",
     "metadata": {},
     "outputs": [
      {
       "metadata": {},
       "output_type": "pyout",
       "prompt_number": 8,
       "text": [
        "[]"
       ]
      },
      {
       "metadata": {},
       "output_type": "display_data",
       "png": "[encoded data removed]"
      }
     ],
     "prompt_number": 8
    },
    {
     "cell_type": "heading",
     "level": 2,
     "metadata": {},
     "source": [
      "Stage 2: Variance decomposition and cell cycle correction"
     ]
    },
    {
     "cell_type": "markdown",
     "metadata": {},
     "source": [
      "We first perfrom a variance decomposition on the variable genes."
     ]
    },
    {
     "cell_type": "code",
     "collapsed": false,
     "input": [
      "# considers only heterogeneous genes\n",
      "Ihet = genes_het_bool==1\n",
      "Y    = Y[:,Ihet]\n",
      "tech_noise = tech_noise[Ihet]\n",
      "geneID = geneID[Ihet]"
     ],
     "language": "python",
     "metadata": {},
     "outputs": [],
     "prompt_number": 9
    },
    {
     "cell_type": "markdown",
     "metadata": {},
     "source": [
      "As the computation time for many genes can be long, it is easily possible to distribute the calculations over many jobs. i0 and i1 determine the genes from which the analysis starts and stops."
     ]
    },
    {
     "cell_type": "code",
     "collapsed": false,
     "input": [
      "i0 = 0    # gene from which the analysis starts\n",
      "i1 = 7073   # gene at which the analysis ends\n",
      "\n",
      "# define sclvm\n",
      "sclvm = scLVM(Y,geneID=geneID,tech_noise=tech_noise)\n",
      "\n",
      "# fit the model from i0 to i1\n",
      "sclvm.varianceDecomposition(K=Kcc,i0=i0,i1=i1)"
     ],
     "language": "python",
     "metadata": {},
     "outputs": [
      {
       "output_type": "stream",
       "stream": "stderr",
       "text": [
        "./../scLVM/scLVM.py:51: FutureWarning: comparison to `None` will result in an elementwise object comparison in the future.\n",
        "  if tech_noise!=None:\n",
        "./../scLVM/scLVM.py:214: FutureWarning: comparison to `None` will result in an elementwise object comparison in the future.\n",
        "  assert self.tech_noise!=None, 'scLVM:: specify technical noise'\n",
        "./../scLVM/scLVM.py:215: FutureWarning: comparison to `None` will result in an elementwise object comparison in the future.\n",
        "  assert K!=None, 'scLVM:: specify K'\n",
        "/Users/florian/Code/python_code/limix-0.6.4/build/release.darwin/interfaces/python/limix/modules/varianceDecomposition.py:149: FutureWarning: comparison to `None` will result in an elementwise object comparison in the future.\n",
        "  assert K!=None or is_noise, 'VarianceDecomposition:: Specify covariance structure'\n",
        "/Users/florian/Code/python_code/limix-0.6.4/build/release.darwin/interfaces/python/limix/modules/varianceDecomposition.py:296: FutureWarning: comparison to `None` will result in an elementwise object comparison in the future.\n",
        "  if scales0!=None and ~perturb: \tinit_method = 'manual'\n",
        "/Users/florian/Code/python_code/limix-0.6.4/build/release.darwin/interfaces/python/limix/modules/varianceDecomposition.py:251: FutureWarning: comparison to `None` will result in an elementwise object comparison in the future.\n",
        "  if scales0!=None:\n",
        "/Users/florian/Code/python_code/limix-0.6.4/build/release.darwin/interfaces/python/limix/modules/varianceDecomposition.py:411: FutureWarning: comparison to `None` will result in an elementwise object comparison in the future.\n",
        "  if scales==None:\n",
        "/Users/florian/Code/python_code/limix-0.6.4/build/release.darwin/interfaces/python/limix/modules/varianceDecomposition.py:256: FutureWarning: comparison to `None` will result in an elementwise object comparison in the future.\n",
        "  if fixed0!=None:\n",
        "./../scLVM/scLVM.py:268: FutureWarning: comparison to `None` will result in an elementwise object comparison in the future.\n",
        "  if self.geneID!=None:\tgeneID[count] = self.geneID[ids]\n"
       ]
      },
      {
       "output_type": "stream",
       "stream": "stderr",
       "text": [
        "./../scLVM/scLVM.py:279: FutureWarning: comparison to `None` will result in an elementwise object comparison in the future.\n",
        "  if geneID!=None:\tvar_info['geneID'] = SP.array(geneID)\n",
        "./../scLVM/scLVM.py:281: FutureWarning: comparison to `None` will result in an elementwise object comparison in the future.\n",
        "  if geneID!=None:\tYstar_info['geneID'] = SP.array(geneID)\n"
       ]
      }
     ],
     "prompt_number": 10
    },
    {
     "cell_type": "markdown",
     "metadata": {},
     "source": [
      "Once the contribution of cell cycle to the observed variance is estimated, cell-cycled corrected gene expression levels can be obtained. Variance components are normalised such that they sum uo to 1 and genes for which the variance decompostion has not convered are filtered out."
     ]
    },
    {
     "cell_type": "code",
     "collapsed": false,
     "input": [
      "normalize=True    # variance components are normalizaed to sum up to one\n",
      "\n",
      "# get variance components\n",
      "var, var_info = sclvm.getVarianceComponents(normalize=normalize)\n",
      "var_filtered = var[var_info['conv']] # filter out genes for which vd has not converged\n",
      "\n",
      "\n",
      "# get corrected expression levels\n",
      "Ycorr = sclvm.getCorrectedExpression()\n",
      "Ycorr.shape"
     ],
     "language": "python",
     "metadata": {},
     "outputs": [
      {
       "output_type": "stream",
       "stream": "stderr",
       "text": [
        "./../scLVM/scLVM.py:302: FutureWarning: comparison to `None` will result in an elementwise object comparison in the future.\n",
        "  assert self.var!=None, 'scLVM:: use varianceDecomposition method before'\n",
        "./../scLVM/scLVM.py:330: FutureWarning: comparison to `None` will result in an elementwise object comparison in the future.\n",
        "  assert self.var!=None, 'scLVM:: use varianceDecomposition method before'\n"
       ]
      },
      {
       "metadata": {},
       "output_type": "pyout",
       "prompt_number": 11,
       "text": [
        "(81, 7073)"
       ]
      }
     ],
     "prompt_number": 11
    },
    {
     "cell_type": "markdown",
     "metadata": {},
     "source": [
      "After having perfromed the variance decompostion we can illustrate the contributions of the indiviudal components."
     ]
    },
    {
     "cell_type": "code",
     "collapsed": false,
     "input": [
      "#normalize variance component and average across genes\n",
      "var_mean = var_filtered.mean(0)\n",
      "colors = ['Green','MediumBlue','Gray']\n",
      "PL.pie(var_mean,labels=var_info['col_header'],autopct='%1.1f%%',colors=colors,\n",
      "       shadow=True, startangle=0)"
     ],
     "language": "python",
     "metadata": {},
     "outputs": [
      {
       "metadata": {},
       "output_type": "pyout",
       "prompt_number": 12,
       "text": [
        "([<matplotlib.patches.Wedge at 0x10fafb8d0>,\n",
        "  <matplotlib.patches.Wedge at 0x10fb0bc50>,\n",
        "  <matplotlib.patches.Wedge at 0x10fb1af50>],\n",
        " [<matplotlib.text.Text at 0x10fb0b310>,\n",
        "  <matplotlib.text.Text at 0x10fb1a650>,\n",
        "  <matplotlib.text.Text at 0x10d888950>],\n",
        " [<matplotlib.text.Text at 0x10fb0b810>,\n",
        "  <matplotlib.text.Text at 0x10fb1ab10>,\n",
        "  <matplotlib.text.Text at 0x10d888e10>])"
       ]
      },
      {
       "metadata": {},
       "output_type": "display_data",
       "png": "[encoded data removed]"
      }
     ],
     "prompt_number": 12
    },
    {
     "cell_type": "heading",
     "level": 2,
     "metadata": {},
     "source": [
      "Correlation analysis"
     ]
    },
    {
     "cell_type": "markdown",
     "metadata": {},
     "source": [
      "In order to estimate pairwise correlation coefficients whilst controlling for hidden factors such as the cell cycle, we fit a linear mixed model with a fixed effect representing the contribution of another gene j and random effects representing the contribution of the cell cycle and biological variation.\n",
      "Again, as computaion times can be very long we allow the computations to be split up over several calculations for subsets of genes."
     ]
    },
    {
     "cell_type": "code",
     "collapsed": false,
     "input": [
      "i0 = 0     # gene from which the analysis starts\n",
      "i1 = 10    # gene to which the analysis ends\n",
      "\n",
      "# fit lmm without correction\n",
      "pv0,beta0,info0 = sclvm.fitLMM(K=None,i0=i0,i1=i1,verbose=True)\n",
      "# fit lmm with correction\n",
      "pv1,beta1,info1 = sclvm.fitLMM(K=Kcc,i0=i0,i1=i1,verbose=True)"
     ],
     "language": "python",
     "metadata": {},
     "outputs": [
      {
       "output_type": "stream",
       "stream": "stdout",
       "text": [
        ".. fitting gene 0\n",
        ".. fitting gene 1"
       ]
      },
      {
       "output_type": "stream",
       "stream": "stdout",
       "text": [
        "\n",
        ".. fitting gene 2"
       ]
      },
      {
       "output_type": "stream",
       "stream": "stdout",
       "text": [
        "\n",
        ".. fitting gene 3"
       ]
      },
      {
       "output_type": "stream",
       "stream": "stdout",
       "text": [
        "\n",
        ".. fitting gene 4"
       ]
      },
      {
       "output_type": "stream",
       "stream": "stdout",
       "text": [
        "\n",
        ".. fitting gene 5"
       ]
      },
      {
       "output_type": "stream",
       "stream": "stdout",
       "text": [
        "\n",
        ".. fitting gene 6"
       ]
      },
      {
       "output_type": "stream",
       "stream": "stdout",
       "text": [
        "\n",
        ".. fitting gene 7"
       ]
      },
      {
       "output_type": "stream",
       "stream": "stdout",
       "text": [
        "\n",
        ".. fitting gene 8"
       ]
      },
      {
       "output_type": "stream",
       "stream": "stdout",
       "text": [
        "\n",
        ".. fitting gene 9"
       ]
      },
      {
       "output_type": "stream",
       "stream": "stdout",
       "text": [
        "\n",
        ".. fitting gene 0"
       ]
      },
      {
       "output_type": "stream",
       "stream": "stdout",
       "text": [
        "\n",
        ".. fitting gene 1"
       ]
      },
      {
       "output_type": "stream",
       "stream": "stdout",
       "text": [
        "\n",
        ".. fitting gene 2"
       ]
      },
      {
       "output_type": "stream",
       "stream": "stdout",
       "text": [
        "\n",
        ".. fitting gene 3"
       ]
      },
      {
       "output_type": "stream",
       "stream": "stdout",
       "text": [
        "\n",
        ".. fitting gene 4"
       ]
      },
      {
       "output_type": "stream",
       "stream": "stdout",
       "text": [
        "\n",
        ".. fitting gene 5"
       ]
      },
      {
       "output_type": "stream",
       "stream": "stdout",
       "text": [
        "\n",
        ".. fitting gene 6"
       ]
      },
      {
       "output_type": "stream",
       "stream": "stdout",
       "text": [
        "\n",
        ".. fitting gene 7"
       ]
      },
      {
       "output_type": "stream",
       "stream": "stdout",
       "text": [
        "\n",
        ".. fitting gene 8"
       ]
      },
      {
       "output_type": "stream",
       "stream": "stdout",
       "text": [
        "\n",
        ".. fitting gene 9"
       ]
      },
      {
       "output_type": "stream",
       "stream": "stdout",
       "text": [
        "\n"
       ]
      }
     ],
     "prompt_number": 12
    },
    {
     "cell_type": "code",
     "collapsed": false,
     "input": [
      "PL.subplot(2,2,1)\n",
      "PL.title('Without Correction')\n",
      "PL.imshow(beta0[:,i0:i1],cmap=cm.RdBu,vmin=-0.6,vmax=+1)\n",
      "PL.colorbar()\n",
      "plt.set_xticks([])\n",
      "plt.set_yticks([])\n",
      "PL.subplot(2,2,2)\n",
      "PL.title('With Correction')\n",
      "PL.imshow(beta1[:,i0:i1],cmap=cm.RdBu,vmin=-0.6,vmax=+1)\n",
      "PL.colorbar()\n",
      "plt.set_xticks([])\n",
      "plt.set_yticks([])"
     ],
     "language": "python",
     "metadata": {},
     "outputs": [
      {
       "metadata": {},
       "output_type": "pyout",
       "prompt_number": 13,
       "text": [
        "[]"
       ]
      },
      {
       "metadata": {},
       "output_type": "display_data",
       "png": "[encoded data removed]"
      }
     ],
     "prompt_number": 13
    },
    {
     "cell_type": "heading",
     "level": 2,
     "metadata": {},
     "source": [
      "Downstream analysis"
     ]
    },
    {
     "cell_type": "markdown",
     "metadata": {},
     "source": [
      "The cell-cycle corrected gene expression can used for various kinds of downstream analysis. This includes clustering, visualisation, network analysis etc. While in our paper we have performed the downstream anlaysis in Matlab and R, we illustrate here a related forms of visualisation in form of the Bayesian GPLVM. This requires the GPy module."
     ]
    },
    {
     "cell_type": "code",
     "collapsed": false,
     "input": [
      "import GPy"
     ],
     "language": "python",
     "metadata": {},
     "outputs": [],
     "prompt_number": 13
    },
    {
     "cell_type": "code",
     "collapsed": false,
     "input": [
      "# Model optimization\n",
      "Ystd = Ycorr-Ycorr.mean(0)\n",
      "Ystd/=Ystd.std(0)\n",
      "input_dim = 2 # How many latent dimensions to use\n",
      "kern = GPy.kern.rbf(input_dim,ARD=True) # ARD kernel\n",
      "m = GPy.models.BayesianGPLVM(Ystd, input_dim=input_dim, kernel=kern, num_inducing=40)\n",
      "m.optimize('scg', messages=1, max_iters=2000)"
     ],
     "language": "python",
     "metadata": {},
     "outputs": [
      {
       "output_type": "stream",
       "stream": "stdout",
       "text": [
        "Warning: adding jitter of 7.0730000000e-03\n",
        " I      F              Scale          |g|        "
       ]
      },
      {
       "output_type": "stream",
       "stream": "stdout",
       "text": [
        "\n",
        "\r"
       ]
      },
      {
       "output_type": "stream",
       "stream": "stdout",
       "text": [
        "0001   8.533044e+05   1.000000e+00   3.175983e+09"
       ]
      },
      {
       "output_type": "stream",
       "stream": "stdout",
       "text": [
        " \r",
        "0002   8.351466e+05   5.000000e-01   1.246736e+09"
       ]
      },
      {
       "output_type": "stream",
       "stream": "stdout",
       "text": [
        " \r",
        "0003   8.183998e+05   2.500000e-01   8.242825e+08"
       ]
      },
      {
       "output_type": "stream",
       "stream": "stdout",
       "text": [
        " \r",
        "0004   8.171576e+05   1.250000e-01   7.797530e+07"
       ]
      },
      {
       "output_type": "stream",
       "stream": "stdout",
       "text": [
        " \n",
        "\r"
       ]
      },
      {
       "output_type": "stream",
       "stream": "stdout",
       "text": [
        "0005   8.145832e+05   6.250000e-02   1.138419e+08"
       ]
      },
      {
       "output_type": "stream",
       "stream": "stdout",
       "text": [
        " \r",
        "0006   8.145487e+05   3.125000e-02   1.600331e+07"
       ]
      },
      {
       "output_type": "stream",
       "stream": "stdout",
       "text": [
        " \r",
        "0007   8.139089e+05   1.562500e-02   3.293922e+06"
       ]
      },
      {
       "output_type": "stream",
       "stream": "stdout",
       "text": [
        " \n",
        "\r"
       ]
      },
      {
       "output_type": "stream",
       "stream": "stdout",
       "text": [
        "0008   8.138752e+05   7.812500e-03   2.142545e+06"
       ]
      },
      {
       "output_type": "stream",
       "stream": "stdout",
       "text": [
        " \r",
        "0009   8.129342e+05   3.906250e-03   3.940678e+06"
       ]
      },
      {
       "output_type": "stream",
       "stream": "stdout",
       "text": [
        " \r",
        "0010   8.129315e+05   1.953125e-03   8.090392e+05"
       ]
      },
      {
       "output_type": "stream",
       "stream": "stdout",
       "text": [
        " \r",
        "0011   8.129137e+05   9.765625e-04   1.086293e+05"
       ]
      },
      {
       "output_type": "stream",
       "stream": "stdout",
       "text": [
        " \r",
        "0012   8.126801e+05   3.906250e-03   6.245617e+05"
       ]
      },
      {
       "output_type": "stream",
       "stream": "stdout",
       "text": [
        " \r",
        "0013   8.126427e+05   1.953125e-03   6.790198e+06"
       ]
      },
      {
       "output_type": "stream",
       "stream": "stdout",
       "text": [
        " \r",
        "0014   8.126105e+05   9.765625e-04   1.529036e+05"
       ]
      },
      {
       "output_type": "stream",
       "stream": "stdout",
       "text": [
        " \r",
        "0015   8.126060e+05   4.882812e-04   5.142793e+05"
       ]
      },
      {
       "output_type": "stream",
       "stream": "stdout",
       "text": [
        " \r",
        "0016   8.124982e+05   2.441406e-04   4.309836e+05"
       ]
      },
      {
       "output_type": "stream",
       "stream": "stdout",
       "text": [
        " \r",
        "0017   8.124865e+05   1.220703e-04   2.237315e+06"
       ]
      },
      {
       "output_type": "stream",
       "stream": "stdout",
       "text": [
        " \r",
        "0018   8.124865e+05   6.103516e-05   1.408176e+06"
       ]
      },
      {
       "output_type": "stream",
       "stream": "stdout",
       "text": [
        " \r",
        "0019   8.124865e+05   2.441406e-04   1.408176e+06"
       ]
      },
      {
       "output_type": "stream",
       "stream": "stdout",
       "text": [
        " \r",
        "0020   8.124865e+05   9.765625e-04   1.408176e+06"
       ]
      },
      {
       "output_type": "stream",
       "stream": "stdout",
       "text": [
        " \r",
        "0021   8.124865e+05   3.906250e-03   1.408176e+06"
       ]
      },
      {
       "output_type": "stream",
       "stream": "stdout",
       "text": [
        " \n",
        "\r",
        "0022   8.124865e+05   1.562500e-02   1.408176e+06"
       ]
      },
      {
       "output_type": "stream",
       "stream": "stdout",
       "text": [
        " \r",
        "0023   8.124865e+05   6.250000e-02   1.408176e+06"
       ]
      },
      {
       "output_type": "stream",
       "stream": "stdout",
       "text": [
        " \r",
        "0024   8.124865e+05   2.500000e-01   1.408176e+06"
       ]
      },
      {
       "output_type": "stream",
       "stream": "stdout",
       "text": [
        " \r",
        "0025   8.124865e+05   1.000000e+00   1.408176e+06"
       ]
      },
      {
       "output_type": "stream",
       "stream": "stdout",
       "text": [
        " \r",
        "0026   8.124865e+05   4.000000e+00   1.408176e+06"
       ]
      },
      {
       "output_type": "stream",
       "stream": "stdout",
       "text": [
        " \r",
        "0027   8.124865e+05   1.600000e+01   1.408176e+06"
       ]
      },
      {
       "output_type": "stream",
       "stream": "stdout",
       "text": [
        " \r",
        "0028   8.124865e+05   6.400000e+01   1.408176e+06"
       ]
      },
      {
       "output_type": "stream",
       "stream": "stdout",
       "text": [
        " \r",
        "0029   8.123199e+05   2.560000e+02   1.408176e+06"
       ]
      },
      {
       "output_type": "stream",
       "stream": "stdout",
       "text": [
        " \r",
        "0030   8.119838e+05   1.280000e+02   1.342854e+06"
       ]
      },
      {
       "output_type": "stream",
       "stream": "stdout",
       "text": [
        " \r",
        "0031   8.119574e+05   1.280000e+02   5.371673e+07"
       ]
      },
      {
       "output_type": "stream",
       "stream": "stdout",
       "text": [
        " \r",
        "0032   8.117491e+05   6.400000e+01   3.944778e+07"
       ]
      },
      {
       "output_type": "stream",
       "stream": "stdout",
       "text": [
        " \r",
        "0033   8.112947e+05   3.200000e+01   9.711962e+05"
       ]
      },
      {
       "output_type": "stream",
       "stream": "stdout",
       "text": [
        " \r",
        "0034   8.112792e+05   1.600000e+01   2.752829e+06"
       ]
      },
      {
       "output_type": "stream",
       "stream": "stdout",
       "text": [
        " \r",
        "0035   8.110662e+05   8.000000e+00   1.950639e+05"
       ]
      },
      {
       "output_type": "stream",
       "stream": "stdout",
       "text": [
        " \n",
        "\r"
       ]
      },
      {
       "output_type": "stream",
       "stream": "stdout",
       "text": [
        "0036   8.110514e+05   4.000000e+00   1.605417e+06"
       ]
      },
      {
       "output_type": "stream",
       "stream": "stdout",
       "text": [
        " \r",
        "0037   8.100055e+05   2.000000e+00   1.114194e+06"
       ]
      },
      {
       "output_type": "stream",
       "stream": "stdout",
       "text": [
        " \r",
        "0038   8.098946e+05   1.000000e+00   1.044253e+07"
       ]
      },
      {
       "output_type": "stream",
       "stream": "stdout",
       "text": [
        " \r",
        "0039   8.091141e+05   5.000000e-01   4.491172e+06"
       ]
      },
      {
       "output_type": "stream",
       "stream": "stdout",
       "text": [
        " \r",
        "0040   8.090570e+05   2.500000e-01   6.451265e+06"
       ]
      },
      {
       "output_type": "stream",
       "stream": "stdout",
       "text": [
        " \r",
        "0041   8.088552e+05   1.250000e-01   1.851793e+06"
       ]
      },
      {
       "output_type": "stream",
       "stream": "stdout",
       "text": [
        " \r",
        "0042   8.088376e+05   6.250000e-02   2.422718e+06"
       ]
      },
      {
       "output_type": "stream",
       "stream": "stdout",
       "text": [
        " \r",
        "0043   8.088376e+05   3.125000e-02   1.563819e+06"
       ]
      },
      {
       "output_type": "stream",
       "stream": "stdout",
       "text": [
        " \r",
        "0044   8.088376e+05   1.250000e-01   1.563819e+06"
       ]
      },
      {
       "output_type": "stream",
       "stream": "stdout",
       "text": [
        " \r",
        "0045   8.088376e+05   5.000000e-01   1.563819e+06"
       ]
      },
      {
       "output_type": "stream",
       "stream": "stdout",
       "text": [
        " \r",
        "0046   8.088376e+05   2.000000e+00   1.563819e+06"
       ]
      },
      {
       "output_type": "stream",
       "stream": "stdout",
       "text": [
        " \r",
        "0047   8.088150e+05   8.000000e+00   1.563819e+06"
       ]
      },
      {
       "output_type": "stream",
       "stream": "stdout",
       "text": [
        " \r",
        "0048   8.088010e+05   8.000000e+00   3.076663e+06"
       ]
      },
      {
       "output_type": "stream",
       "stream": "stdout",
       "text": [
        " \r",
        "0049   8.087293e+05   4.000000e+00   4.129435e+05"
       ]
      },
      {
       "output_type": "stream",
       "stream": "stdout",
       "text": [
        " \r",
        "0050   8.087279e+05   2.000000e+00   1.361918e+05"
       ]
      },
      {
       "output_type": "stream",
       "stream": "stdout",
       "text": [
        " \r",
        "0051   8.085664e+05   1.000000e+00   1.653746e+05"
       ]
      },
      {
       "output_type": "stream",
       "stream": "stdout",
       "text": [
        " \r",
        "0052   8.085565e+05   5.000000e-01   9.269212e+04"
       ]
      },
      {
       "output_type": "stream",
       "stream": "stdout",
       "text": [
        " \n",
        "\r"
       ]
      },
      {
       "output_type": "stream",
       "stream": "stdout",
       "text": [
        "0053   8.085565e+05   2.500000e-01   1.997209e+06"
       ]
      },
      {
       "output_type": "stream",
       "stream": "stdout",
       "text": [
        " \r",
        "0054   8.085565e+05   1.000000e+00   1.997209e+06"
       ]
      },
      {
       "output_type": "stream",
       "stream": "stdout",
       "text": [
        " \r",
        "0055   8.085565e+05   4.000000e+00   1.997209e+06"
       ]
      },
      {
       "output_type": "stream",
       "stream": "stdout",
       "text": [
        " \r",
        "0056   8.085565e+05   1.600000e+01   1.997209e+06"
       ]
      },
      {
       "output_type": "stream",
       "stream": "stdout",
       "text": [
        " \r",
        "0057   8.085565e+05   6.400000e+01   1.997209e+06"
       ]
      },
      {
       "output_type": "stream",
       "stream": "stdout",
       "text": [
        " \r",
        "0058   8.084017e+05   2.560000e+02   1.997209e+06"
       ]
      },
      {
       "output_type": "stream",
       "stream": "stdout",
       "text": [
        " \r",
        "0059   8.083989e+05   1.280000e+02   4.063094e+05"
       ]
      },
      {
       "output_type": "stream",
       "stream": "stdout",
       "text": [
        " \r",
        "0060   8.083797e+05   6.400000e+01   3.540793e+05"
       ]
      },
      {
       "output_type": "stream",
       "stream": "stdout",
       "text": [
        " \r",
        "0061   8.083787e+05   3.200000e+01   6.505659e+04"
       ]
      },
      {
       "output_type": "stream",
       "stream": "stdout",
       "text": [
        " \r",
        "0062   8.083664e+05   1.600000e+01   1.597234e+05"
       ]
      },
      {
       "output_type": "stream",
       "stream": "stdout",
       "text": [
        " \r",
        "0063   8.083495e+05   8.000000e+00   7.923765e+04"
       ]
      },
      {
       "output_type": "stream",
       "stream": "stdout",
       "text": [
        " \r",
        "0064   8.082907e+05   4.000000e+00   2.807199e+06"
       ]
      },
      {
       "output_type": "stream",
       "stream": "stdout",
       "text": [
        " \r",
        "0065   8.082905e+05   2.000000e+00   2.286993e+05"
       ]
      },
      {
       "output_type": "stream",
       "stream": "stdout",
       "text": [
        " \r",
        "0066   8.082842e+05   1.000000e+00   1.492662e+05"
       ]
      },
      {
       "output_type": "stream",
       "stream": "stdout",
       "text": [
        " \r",
        "0067   8.082799e+05   5.000000e-01   4.098607e+05"
       ]
      },
      {
       "output_type": "stream",
       "stream": "stdout",
       "text": [
        " \r",
        "0068   8.082778e+05   2.500000e-01   8.886525e+04"
       ]
      },
      {
       "output_type": "stream",
       "stream": "stdout",
       "text": [
        " \r",
        "0069   8.082768e+05   1.250000e-01   9.355198e+04"
       ]
      },
      {
       "output_type": "stream",
       "stream": "stdout",
       "text": [
        " \r",
        "0070   8.082758e+05   6.250000e-02   3.657555e+04"
       ]
      },
      {
       "output_type": "stream",
       "stream": "stdout",
       "text": [
        " \r",
        "0071   8.082751e+05   3.125000e-02   5.700885e+04"
       ]
      },
      {
       "output_type": "stream",
       "stream": "stdout",
       "text": [
        " \r",
        "0072   8.082742e+05   1.562500e-02   2.916809e+04"
       ]
      },
      {
       "output_type": "stream",
       "stream": "stdout",
       "text": [
        " \r",
        "0073   8.082734e+05   7.812500e-03   6.715345e+04"
       ]
      },
      {
       "output_type": "stream",
       "stream": "stdout",
       "text": [
        " \r",
        "0074   8.082713e+05   3.906250e-03   3.557517e+04"
       ]
      },
      {
       "output_type": "stream",
       "stream": "stdout",
       "text": [
        " \r",
        "0075   8.082693e+05   1.953125e-03   1.835122e+05"
       ]
      },
      {
       "output_type": "stream",
       "stream": "stdout",
       "text": [
        " \r",
        "0076   8.082677e+05   9.765625e-04   7.356022e+04"
       ]
      },
      {
       "output_type": "stream",
       "stream": "stdout",
       "text": [
        " \r",
        "0077   8.082668e+05   4.882812e-04   1.157172e+05"
       ]
      },
      {
       "output_type": "stream",
       "stream": "stdout",
       "text": [
        " \r",
        "0078   8.082625e+05   2.441406e-04   5.449707e+04"
       ]
      },
      {
       "output_type": "stream",
       "stream": "stdout",
       "text": [
        " \r",
        "0079   8.082599e+05   1.220703e-04   3.263765e+05"
       ]
      },
      {
       "output_type": "stream",
       "stream": "stdout",
       "text": [
        " \r",
        "0080   8.082567e+05   6.103516e-05   4.596857e+04"
       ]
      },
      {
       "output_type": "stream",
       "stream": "stdout",
       "text": [
        " \r",
        "0081   8.082545e+05   3.051758e-05   2.059810e+05"
       ]
      },
      {
       "output_type": "stream",
       "stream": "stdout",
       "text": [
        " \r",
        "0082   8.082428e+05   1.525879e-05   1.017459e+05"
       ]
      },
      {
       "output_type": "stream",
       "stream": "stdout",
       "text": [
        " \r",
        "0083   8.082314e+05   7.629395e-06   1.333595e+06"
       ]
      },
      {
       "output_type": "stream",
       "stream": "stdout",
       "text": [
        " \r",
        "0084   8.081512e+05   3.814697e-06   2.799992e+05"
       ]
      },
      {
       "output_type": "stream",
       "stream": "stdout",
       "text": [
        " \r",
        "0085   8.081472e+05   1.907349e-06   5.338832e+05"
       ]
      },
      {
       "output_type": "stream",
       "stream": "stdout",
       "text": [
        " \r",
        "0086   8.080154e+05   9.536743e-07   2.002870e+05"
       ]
      },
      {
       "output_type": "stream",
       "stream": "stdout",
       "text": [
        " \r",
        "0087   8.078871e+05   4.768372e-07   3.924675e+05"
       ]
      },
      {
       "output_type": "stream",
       "stream": "stdout",
       "text": [
        " \r",
        "0088   8.078808e+05   2.384186e-07   1.067507e+06"
       ]
      },
      {
       "output_type": "stream",
       "stream": "stdout",
       "text": [
        " \r",
        "0089   8.077908e+05   1.192093e-07   2.349807e+05"
       ]
      },
      {
       "output_type": "stream",
       "stream": "stdout",
       "text": [
        " \r",
        "0090   8.077890e+05   1.192093e-07   5.702286e+05"
       ]
      },
      {
       "output_type": "stream",
       "stream": "stdout",
       "text": [
        " \r",
        "0091   8.077332e+05   5.960464e-08   5.399901e+05"
       ]
      },
      {
       "output_type": "stream",
       "stream": "stdout",
       "text": [
        " \r",
        "0092   8.077257e+05   2.980232e-08   1.175263e+06"
       ]
      },
      {
       "output_type": "stream",
       "stream": "stdout",
       "text": [
        " \r",
        "0093   8.077178e+05   1.490116e-08   9.431103e+04"
       ]
      },
      {
       "output_type": "stream",
       "stream": "stdout",
       "text": [
        " \r",
        "0094   8.077157e+05   7.450581e-09   1.543181e+05"
       ]
      },
      {
       "output_type": "stream",
       "stream": "stdout",
       "text": [
        " \r",
        "0095   8.076895e+05   3.725290e-09   2.533230e+05"
       ]
      },
      {
       "output_type": "stream",
       "stream": "stdout",
       "text": [
        " \r",
        "0096   8.076804e+05   1.862645e-09   3.509689e+05"
       ]
      },
      {
       "output_type": "stream",
       "stream": "stdout",
       "text": [
        " \r",
        "0097   8.076097e+05   9.313226e-10   1.527097e+06"
       ]
      },
      {
       "output_type": "stream",
       "stream": "stdout",
       "text": [
        " \r",
        "0098   8.075949e+05   4.656613e-10   8.086323e+04"
       ]
      },
      {
       "output_type": "stream",
       "stream": "stdout",
       "text": [
        " \r",
        "0099   8.075919e+05   2.328306e-10   5.617843e+05"
       ]
      },
      {
       "output_type": "stream",
       "stream": "stdout",
       "text": [
        " \r",
        "0100   8.075547e+05   1.164153e-10   5.343814e+04"
       ]
      },
      {
       "output_type": "stream",
       "stream": "stdout",
       "text": [
        " \r",
        "0101   8.075504e+05   5.820766e-11   7.174144e+05"
       ]
      },
      {
       "output_type": "stream",
       "stream": "stdout",
       "text": [
        " \r",
        "0102   8.075291e+05   2.910383e-11   9.957158e+04"
       ]
      },
      {
       "output_type": "stream",
       "stream": "stdout",
       "text": [
        " \r",
        "0103   8.075291e+05   2.910383e-11   3.745184e+04"
       ]
      },
      {
       "output_type": "stream",
       "stream": "stdout",
       "text": [
        " \r",
        "0104   8.075255e+05   1.455192e-11   2.134085e+04"
       ]
      },
      {
       "output_type": "stream",
       "stream": "stdout",
       "text": [
        " \r",
        "0105   8.075253e+05   7.275958e-12   2.611687e+04"
       ]
      },
      {
       "output_type": "stream",
       "stream": "stdout",
       "text": [
        " \r",
        "0106   8.075203e+05   3.637979e-12   2.346613e+04"
       ]
      },
      {
       "output_type": "stream",
       "stream": "stdout",
       "text": [
        " \r",
        "0107   8.075202e+05   1.818989e-12   1.043598e+04"
       ]
      },
      {
       "output_type": "stream",
       "stream": "stdout",
       "text": [
        " \r",
        "0108   8.075095e+05   9.094947e-13   2.363770e+04"
       ]
      },
      {
       "output_type": "stream",
       "stream": "stdout",
       "text": [
        " \r",
        "0109   8.075093e+05   9.094947e-13   5.201794e+04"
       ]
      },
      {
       "output_type": "stream",
       "stream": "stdout",
       "text": [
        " \r",
        "0110   8.074969e+05   4.547474e-13   3.499087e+04"
       ]
      },
      {
       "output_type": "stream",
       "stream": "stdout",
       "text": [
        " \r",
        "0111   8.074765e+05   2.273737e-13   5.488983e+04"
       ]
      },
      {
       "output_type": "stream",
       "stream": "stdout",
       "text": [
        " \r",
        "0112   8.074765e+05   1.136868e-13   2.947027e+06"
       ]
      },
      {
       "output_type": "stream",
       "stream": "stdout",
       "text": [
        " \r",
        "0113   8.074765e+05   4.547474e-13   2.947027e+06"
       ]
      },
      {
       "output_type": "stream",
       "stream": "stdout",
       "text": [
        " \r",
        "0114   8.074765e+05   1.818989e-12   2.947027e+06"
       ]
      },
      {
       "output_type": "stream",
       "stream": "stdout",
       "text": [
        " \r",
        "0115   8.074765e+05   7.275958e-12   2.947027e+06"
       ]
      },
      {
       "output_type": "stream",
       "stream": "stdout",
       "text": [
        " \r",
        "0116   8.074765e+05   2.910383e-11   2.947027e+06"
       ]
      },
      {
       "output_type": "stream",
       "stream": "stdout",
       "text": [
        " \r",
        "0117   8.074765e+05   1.164153e-10   2.947027e+06"
       ]
      },
      {
       "output_type": "stream",
       "stream": "stdout",
       "text": [
        " \r",
        "0118   8.074765e+05   4.656613e-10   2.947027e+06"
       ]
      },
      {
       "output_type": "stream",
       "stream": "stdout",
       "text": [
        " \r",
        "0119   8.074765e+05   1.862645e-09   2.947027e+06"
       ]
      },
      {
       "output_type": "stream",
       "stream": "stdout",
       "text": [
        " \r",
        "0120   8.074765e+05   7.450581e-09   2.947027e+06"
       ]
      },
      {
       "output_type": "stream",
       "stream": "stdout",
       "text": [
        " \r",
        "0121   8.074765e+05   2.980232e-08   2.947027e+06"
       ]
      },
      {
       "output_type": "stream",
       "stream": "stdout",
       "text": [
        " \r",
        "0122   8.074765e+05   1.192093e-07   2.947027e+06"
       ]
      },
      {
       "output_type": "stream",
       "stream": "stdout",
       "text": [
        " \r",
        "0123   8.074765e+05   4.768372e-07   2.947027e+06"
       ]
      },
      {
       "output_type": "stream",
       "stream": "stdout",
       "text": [
        " \r",
        "0124   8.074765e+05   1.907349e-06   2.947027e+06"
       ]
      },
      {
       "output_type": "stream",
       "stream": "stdout",
       "text": [
        " \r",
        "0125   8.074765e+05   7.629395e-06   2.947027e+06"
       ]
      },
      {
       "output_type": "stream",
       "stream": "stdout",
       "text": [
        " \r",
        "0126   8.074765e+05   3.051758e-05   2.947027e+06"
       ]
      },
      {
       "output_type": "stream",
       "stream": "stdout",
       "text": [
        " \r",
        "0127   8.074765e+05   1.220703e-04   2.947027e+06"
       ]
      },
      {
       "output_type": "stream",
       "stream": "stdout",
       "text": [
        " \r",
        "0128   8.074765e+05   4.882812e-04   2.947027e+06"
       ]
      },
      {
       "output_type": "stream",
       "stream": "stdout",
       "text": [
        " \r",
        "0129   8.074765e+05   1.953125e-03   2.947027e+06"
       ]
      },
      {
       "output_type": "stream",
       "stream": "stdout",
       "text": [
        " \r",
        "0130   8.074765e+05   7.812500e-03   2.947027e+06"
       ]
      },
      {
       "output_type": "stream",
       "stream": "stdout",
       "text": [
        " \r",
        "0131   8.074765e+05   3.125000e-02   2.947027e+06"
       ]
      },
      {
       "output_type": "stream",
       "stream": "stdout",
       "text": [
        " \r",
        "0132   8.074765e+05   1.250000e-01   2.947027e+06"
       ]
      },
      {
       "output_type": "stream",
       "stream": "stdout",
       "text": [
        " \r",
        "0133   8.074765e+05   5.000000e-01   2.947027e+06"
       ]
      },
      {
       "output_type": "stream",
       "stream": "stdout",
       "text": [
        " \r",
        "0134   8.074765e+05   2.000000e+00   2.947027e+06"
       ]
      },
      {
       "output_type": "stream",
       "stream": "stdout",
       "text": [
        " \r",
        "0135   8.074765e+05   8.000000e+00   2.947027e+06"
       ]
      },
      {
       "output_type": "stream",
       "stream": "stdout",
       "text": [
        " \r",
        "0136   8.074114e+05   3.200000e+01   2.947027e+06"
       ]
      },
      {
       "output_type": "stream",
       "stream": "stdout",
       "text": [
        " \r",
        "0137   8.074052e+05   1.600000e+01   3.591404e+05"
       ]
      },
      {
       "output_type": "stream",
       "stream": "stdout",
       "text": [
        " \r",
        "0138   8.073998e+05   1.600000e+01   8.399339e+05"
       ]
      },
      {
       "output_type": "stream",
       "stream": "stdout",
       "text": [
        " \r",
        "0139   8.073953e+05   8.000000e+00   5.947658e+05"
       ]
      },
      {
       "output_type": "stream",
       "stream": "stdout",
       "text": [
        " \r",
        "0140   8.073725e+05   4.000000e+00   3.581935e+05"
       ]
      },
      {
       "output_type": "stream",
       "stream": "stdout",
       "text": [
        " \r",
        "0141   8.073707e+05   2.000000e+00   3.358699e+05"
       ]
      },
      {
       "output_type": "stream",
       "stream": "stdout",
       "text": [
        " \r",
        "0142   8.073481e+05   1.000000e+00   4.690442e+04"
       ]
      },
      {
       "output_type": "stream",
       "stream": "stdout",
       "text": [
        " \r",
        "0143   8.073442e+05   5.000000e-01   4.118606e+05"
       ]
      },
      {
       "output_type": "stream",
       "stream": "stdout",
       "text": [
        " \r",
        "0144   8.073204e+05   2.500000e-01   2.378211e+05"
       ]
      },
      {
       "output_type": "stream",
       "stream": "stdout",
       "text": [
        " \r",
        "0145   8.073201e+05   2.500000e-01   1.637857e+05"
       ]
      },
      {
       "output_type": "stream",
       "stream": "stdout",
       "text": [
        " \n",
        "\r"
       ]
      },
      {
       "output_type": "stream",
       "stream": "stdout",
       "text": [
        "0146   8.073089e+05   1.250000e-01   6.284509e+04"
       ]
      },
      {
       "output_type": "stream",
       "stream": "stdout",
       "text": [
        " \r",
        "0147   8.073088e+05   6.250000e-02   1.005423e+04"
       ]
      },
      {
       "output_type": "stream",
       "stream": "stdout",
       "text": [
        " \r",
        "0148   8.072841e+05   3.125000e-02   2.296692e+04"
       ]
      },
      {
       "output_type": "stream",
       "stream": "stdout",
       "text": [
        " \r",
        "0149   8.072687e+05   1.562500e-02   1.719212e+05"
       ]
      },
      {
       "output_type": "stream",
       "stream": "stdout",
       "text": [
        " \r",
        "0150   8.072687e+05   7.812500e-03   2.756706e+06"
       ]
      },
      {
       "output_type": "stream",
       "stream": "stdout",
       "text": [
        " \r",
        "0151   8.072687e+05   3.125000e-02   2.756706e+06"
       ]
      },
      {
       "output_type": "stream",
       "stream": "stdout",
       "text": [
        " \r",
        "0152   8.072687e+05   1.250000e-01   2.756706e+06"
       ]
      },
      {
       "output_type": "stream",
       "stream": "stdout",
       "text": [
        " \r",
        "0153   8.072687e+05   5.000000e-01   2.756706e+06"
       ]
      },
      {
       "output_type": "stream",
       "stream": "stdout",
       "text": [
        " \r",
        "0154   8.072687e+05   2.000000e+00   2.756706e+06"
       ]
      },
      {
       "output_type": "stream",
       "stream": "stdout",
       "text": [
        " \r",
        "0155   8.072172e+05   8.000000e+00   2.756706e+06"
       ]
      },
      {
       "output_type": "stream",
       "stream": "stdout",
       "text": [
        " \r",
        "0156   8.072125e+05   8.000000e+00   9.715424e+05"
       ]
      },
      {
       "output_type": "stream",
       "stream": "stdout",
       "text": [
        " \r",
        "0157   8.071787e+05   4.000000e+00   7.726280e+04"
       ]
      },
      {
       "output_type": "stream",
       "stream": "stdout",
       "text": [
        " \r",
        "0158   8.071555e+05   2.000000e+00   2.088364e+05"
       ]
      },
      {
       "output_type": "stream",
       "stream": "stdout",
       "text": [
        " \r",
        "0159   8.070996e+05   1.000000e+00   3.927288e+06"
       ]
      },
      {
       "output_type": "stream",
       "stream": "stdout",
       "text": [
        " \r",
        "0160   8.070987e+05   5.000000e-01   3.172941e+05"
       ]
      },
      {
       "output_type": "stream",
       "stream": "stdout",
       "text": [
        " \r",
        "0161   8.070906e+05   2.500000e-01   7.205371e+04"
       ]
      },
      {
       "output_type": "stream",
       "stream": "stdout",
       "text": [
        " \r",
        "0162   8.070893e+05   1.250000e-01   1.320065e+05"
       ]
      },
      {
       "output_type": "stream",
       "stream": "stdout",
       "text": [
        " \r",
        "0163   8.070793e+05   6.250000e-02   8.802235e+04"
       ]
      },
      {
       "output_type": "stream",
       "stream": "stdout",
       "text": [
        " \r",
        "0164   8.070765e+05   3.125000e-02   1.457432e+05"
       ]
      },
      {
       "output_type": "stream",
       "stream": "stdout",
       "text": [
        " \r",
        "0165   8.070547e+05   1.562500e-02   3.879629e+05"
       ]
      },
      {
       "output_type": "stream",
       "stream": "stdout",
       "text": [
        " \r",
        "0166   8.070542e+05   1.562500e-02   1.250648e+06"
       ]
      },
      {
       "output_type": "stream",
       "stream": "stdout",
       "text": [
        " \r",
        "0167   8.070444e+05   7.812500e-03   8.281965e+05"
       ]
      },
      {
       "output_type": "stream",
       "stream": "stdout",
       "text": [
        " \r",
        "0168   8.070142e+05   3.906250e-03   1.820948e+05"
       ]
      },
      {
       "output_type": "stream",
       "stream": "stdout",
       "text": [
        " \r",
        "0169   8.070110e+05   1.953125e-03   6.092741e+05"
       ]
      },
      {
       "output_type": "stream",
       "stream": "stdout",
       "text": [
        " \r",
        "0170   8.069676e+05   9.765625e-04   1.119311e+05"
       ]
      },
      {
       "output_type": "stream",
       "stream": "stdout",
       "text": [
        " \r",
        "0171   8.069669e+05   4.882812e-04   1.001336e+05"
       ]
      },
      {
       "output_type": "stream",
       "stream": "stdout",
       "text": [
        " \r",
        "0172   8.069608e+05   2.441406e-04   4.022712e+04"
       ]
      },
      {
       "output_type": "stream",
       "stream": "stdout",
       "text": [
        " \r",
        "0173   8.069605e+05   1.220703e-04   1.722912e+04"
       ]
      },
      {
       "output_type": "stream",
       "stream": "stdout",
       "text": [
        " \r",
        "0174   8.069522e+05   6.103516e-05   5.551452e+04"
       ]
      },
      {
       "output_type": "stream",
       "stream": "stdout",
       "text": [
        " \r",
        "0175   8.069370e+05   3.051758e-05   2.764717e+04"
       ]
      },
      {
       "output_type": "stream",
       "stream": "stdout",
       "text": [
        " \r",
        "0176   8.069294e+05   1.525879e-05   8.987584e+05"
       ]
      },
      {
       "output_type": "stream",
       "stream": "stdout",
       "text": [
        " \r",
        "0177   8.069294e+05   7.629395e-06   6.615018e+04"
       ]
      },
      {
       "output_type": "stream",
       "stream": "stdout",
       "text": [
        " \r",
        "0178   8.069294e+05   3.051758e-05   6.615018e+04"
       ]
      },
      {
       "output_type": "stream",
       "stream": "stdout",
       "text": [
        " \r",
        "0179   8.069294e+05   1.220703e-04   6.615018e+04"
       ]
      },
      {
       "output_type": "stream",
       "stream": "stdout",
       "text": [
        " \r",
        "0180   8.069294e+05   4.882812e-04   6.615018e+04"
       ]
      },
      {
       "output_type": "stream",
       "stream": "stdout",
       "text": [
        " \r",
        "0181   8.069294e+05   1.953125e-03   6.615018e+04"
       ]
      },
      {
       "output_type": "stream",
       "stream": "stdout",
       "text": [
        " \r",
        "0182   8.069294e+05   7.812500e-03   6.615018e+04"
       ]
      },
      {
       "output_type": "stream",
       "stream": "stdout",
       "text": [
        " \r",
        "0183   8.069294e+05   3.125000e-02   6.615018e+04"
       ]
      },
      {
       "output_type": "stream",
       "stream": "stdout",
       "text": [
        " \r",
        "0184   8.069294e+05   1.250000e-01   6.615018e+04"
       ]
      },
      {
       "output_type": "stream",
       "stream": "stdout",
       "text": [
        " \r",
        "0185   8.069294e+05   5.000000e-01   6.615018e+04"
       ]
      },
      {
       "output_type": "stream",
       "stream": "stdout",
       "text": [
        " \r",
        "0186   8.069294e+05   2.000000e+00   6.615018e+04"
       ]
      },
      {
       "output_type": "stream",
       "stream": "stdout",
       "text": [
        " \r",
        "0187   8.069294e+05   8.000000e+00   6.615018e+04"
       ]
      },
      {
       "output_type": "stream",
       "stream": "stdout",
       "text": [
        " \r",
        "0188   8.069266e+05   3.200000e+01   6.615018e+04"
       ]
      },
      {
       "output_type": "stream",
       "stream": "stdout",
       "text": [
        " \r",
        "0189   8.069259e+05   3.200000e+01   1.948133e+05"
       ]
      },
      {
       "output_type": "stream",
       "stream": "stdout",
       "text": [
        " \r",
        "0190   8.069231e+05   1.600000e+01   9.261489e+04"
       ]
      },
      {
       "output_type": "stream",
       "stream": "stdout",
       "text": [
        " \r",
        "0191   8.069205e+05   8.000000e+00   2.818976e+05"
       ]
      },
      {
       "output_type": "stream",
       "stream": "stdout",
       "text": [
        " \r",
        "0192   8.069200e+05   4.000000e+00   2.388157e+04"
       ]
      },
      {
       "output_type": "stream",
       "stream": "stdout",
       "text": [
        " \r",
        "0193   8.069195e+05   2.000000e+00   5.134008e+04"
       ]
      },
      {
       "output_type": "stream",
       "stream": "stdout",
       "text": [
        " \r",
        "0194   8.069136e+05   1.000000e+00   1.813211e+04"
       ]
      },
      {
       "output_type": "stream",
       "stream": "stdout",
       "text": [
        " \r",
        "0195   8.069111e+05   5.000000e-01   3.655023e+05"
       ]
      },
      {
       "output_type": "stream",
       "stream": "stdout",
       "text": [
        " \r",
        "0196   8.068960e+05   2.500000e-01   5.184173e+04"
       ]
      },
      {
       "output_type": "stream",
       "stream": "stdout",
       "text": [
        " \r",
        "0197   8.068951e+05   1.250000e-01   8.082021e+04"
       ]
      },
      {
       "output_type": "stream",
       "stream": "stdout",
       "text": [
        " \r",
        "0198   8.068906e+05   6.250000e-02   8.788554e+04"
       ]
      },
      {
       "output_type": "stream",
       "stream": "stdout",
       "text": [
        " \r",
        "0199   8.068706e+05   3.125000e-02   6.902487e+03"
       ]
      },
      {
       "output_type": "stream",
       "stream": "stdout",
       "text": [
        " \n",
        "\r"
       ]
      },
      {
       "output_type": "stream",
       "stream": "stdout",
       "text": [
        "0200   8.068665e+05   1.562500e-02   5.390359e+05"
       ]
      },
      {
       "output_type": "stream",
       "stream": "stdout",
       "text": [
        " \r",
        "0201   8.068577e+05   7.812500e-03   5.473147e+04"
       ]
      },
      {
       "output_type": "stream",
       "stream": "stdout",
       "text": [
        " \r",
        "0202   8.068564e+05   3.906250e-03   1.361442e+05"
       ]
      },
      {
       "output_type": "stream",
       "stream": "stdout",
       "text": [
        " \r",
        "0203   8.068551e+05   1.953125e-03   4.410455e+04"
       ]
      },
      {
       "output_type": "stream",
       "stream": "stdout",
       "text": [
        " \r",
        "0204   8.068551e+05   7.812500e-03   4.143974e+05"
       ]
      },
      {
       "output_type": "stream",
       "stream": "stdout",
       "text": [
        " \r",
        "0205   8.068519e+05   3.906250e-03   3.981505e+05"
       ]
      },
      {
       "output_type": "stream",
       "stream": "stdout",
       "text": [
        " \r",
        "0206   8.068356e+05   1.953125e-03   5.109539e+04"
       ]
      },
      {
       "output_type": "stream",
       "stream": "stdout",
       "text": [
        " \r",
        "0207   8.068287e+05   9.765625e-04   1.075004e+06"
       ]
      },
      {
       "output_type": "stream",
       "stream": "stdout",
       "text": [
        " \r",
        "0208   8.068013e+05   4.882812e-04   1.102961e+05"
       ]
      },
      {
       "output_type": "stream",
       "stream": "stdout",
       "text": [
        " \r",
        "0209   8.067963e+05   2.441406e-04   1.718942e+06"
       ]
      },
      {
       "output_type": "stream",
       "stream": "stdout",
       "text": [
        " \r",
        "0210   8.067907e+05   1.220703e-04   2.431395e+05"
       ]
      },
      {
       "output_type": "stream",
       "stream": "stdout",
       "text": [
        " \r",
        "0211   8.067899e+05   6.103516e-05   8.049513e+04"
       ]
      },
      {
       "output_type": "stream",
       "stream": "stdout",
       "text": [
        " \r",
        "0212   8.067885e+05   3.051758e-05   5.674038e+04"
       ]
      },
      {
       "output_type": "stream",
       "stream": "stdout",
       "text": [
        " \r",
        "0213   8.067883e+05   1.525879e-05   1.735523e+04"
       ]
      },
      {
       "output_type": "stream",
       "stream": "stdout",
       "text": [
        " \r",
        "0214   8.067875e+05   7.629395e-06   2.495729e+04"
       ]
      },
      {
       "output_type": "stream",
       "stream": "stdout",
       "text": [
        " \r",
        "0215   8.067871e+05   3.814697e-06   1.690746e+04"
       ]
      },
      {
       "output_type": "stream",
       "stream": "stdout",
       "text": [
        " \r",
        "0216   8.067851e+05   1.907349e-06   5.895943e+04"
       ]
      },
      {
       "output_type": "stream",
       "stream": "stdout",
       "text": [
        " \r",
        "0217   8.067831e+05   9.536743e-07   3.998829e+04"
       ]
      },
      {
       "output_type": "stream",
       "stream": "stdout",
       "text": [
        " \r",
        "0218   8.067792e+05   4.768372e-07   3.458008e+05"
       ]
      },
      {
       "output_type": "stream",
       "stream": "stdout",
       "text": [
        " \r",
        "0219   8.067787e+05   2.384186e-07   6.511479e+04"
       ]
      },
      {
       "output_type": "stream",
       "stream": "stdout",
       "text": [
        " \r",
        "0220   8.067771e+05   1.192093e-07   4.049169e+04"
       ]
      },
      {
       "output_type": "stream",
       "stream": "stdout",
       "text": [
        " \r",
        "0221   8.067768e+05   5.960464e-08   2.375085e+04"
       ]
      },
      {
       "output_type": "stream",
       "stream": "stdout",
       "text": [
        " \r",
        "0222   8.067764e+05   2.980232e-08   1.413831e+04"
       ]
      },
      {
       "output_type": "stream",
       "stream": "stdout",
       "text": [
        " \r",
        "0223   8.067763e+05   1.490116e-08   4.448666e+03"
       ]
      },
      {
       "output_type": "stream",
       "stream": "stdout",
       "text": [
        " \r",
        "0224   8.067757e+05   7.450581e-09   1.636717e+04"
       ]
      },
      {
       "output_type": "stream",
       "stream": "stdout",
       "text": [
        " \r",
        "0225   8.067752e+05   3.725290e-09   9.486413e+03"
       ]
      },
      {
       "output_type": "stream",
       "stream": "stdout",
       "text": [
        " \r",
        "0226   8.067719e+05   1.862645e-09   9.116975e+04"
       ]
      },
      {
       "output_type": "stream",
       "stream": "stdout",
       "text": [
        " \r",
        "0227   8.067705e+05   9.313226e-10   5.610200e+04"
       ]
      },
      {
       "output_type": "stream",
       "stream": "stdout",
       "text": [
        " \r",
        "0228   8.067663e+05   4.656613e-10   1.459007e+05"
       ]
      },
      {
       "output_type": "stream",
       "stream": "stdout",
       "text": [
        " \r",
        "0229   8.067647e+05   2.328306e-10   1.138412e+05"
       ]
      },
      {
       "output_type": "stream",
       "stream": "stdout",
       "text": [
        " \r",
        "0230   8.067632e+05   1.164153e-10   1.073362e+05"
       ]
      },
      {
       "output_type": "stream",
       "stream": "stdout",
       "text": [
        " \r",
        "0231   8.067627e+05   1.164153e-10   5.924079e+04"
       ]
      },
      {
       "output_type": "stream",
       "stream": "stdout",
       "text": [
        " \r",
        "0232   8.067609e+05   5.820766e-11   5.153263e+04"
       ]
      },
      {
       "output_type": "stream",
       "stream": "stdout",
       "text": [
        " \r",
        "0233   8.067598e+05   2.910383e-11   1.347208e+05"
       ]
      },
      {
       "output_type": "stream",
       "stream": "stdout",
       "text": [
        " \r",
        "0234   8.067598e+05   8.183872e+00   1.060665e+05"
       ]
      },
      {
       "output_type": "stream",
       "stream": "stdout",
       "text": [
        " \r",
        "0235   8.067540e+05   3.273549e+01   1.060665e+05"
       ]
      },
      {
       "output_type": "stream",
       "stream": "stdout",
       "text": [
        " \r",
        "0236   8.067500e+05   1.636774e+01   2.582885e+05"
       ]
      },
      {
       "output_type": "stream",
       "stream": "stdout",
       "text": [
        " \r",
        "0237   8.067320e+05   8.183872e+00   3.542044e+05"
       ]
      },
      {
       "output_type": "stream",
       "stream": "stdout",
       "text": [
        " \r",
        "0238   8.067193e+05   4.091936e+00   3.609345e+05"
       ]
      },
      {
       "output_type": "stream",
       "stream": "stdout",
       "text": [
        " \r",
        "0239   8.067193e+05   2.045968e+00   1.808867e+06"
       ]
      },
      {
       "output_type": "stream",
       "stream": "stdout",
       "text": [
        " \r",
        "0240   8.066755e+05   8.183872e+00   1.808867e+06"
       ]
      },
      {
       "output_type": "stream",
       "stream": "stdout",
       "text": [
        " \r",
        "0241   8.066716e+05   4.091936e+00   4.759956e+05"
       ]
      },
      {
       "output_type": "stream",
       "stream": "stdout",
       "text": [
        " \r",
        "0242   8.066464e+05   2.045968e+00   2.174272e+05"
       ]
      },
      {
       "output_type": "stream",
       "stream": "stdout",
       "text": [
        " \r",
        "0243   8.066417e+05   1.022984e+00   7.743052e+05"
       ]
      },
      {
       "output_type": "stream",
       "stream": "stdout",
       "text": [
        " \r",
        "0244   8.066379e+05   5.114920e-01   1.879591e+05"
       ]
      },
      {
       "output_type": "stream",
       "stream": "stdout",
       "text": [
        " \r",
        "0245   8.066331e+05   2.045968e+00   7.181305e+05"
       ]
      },
      {
       "output_type": "stream",
       "stream": "stdout",
       "text": [
        " \r",
        "0246   8.066109e+05   1.022984e+00   3.344229e+05"
       ]
      },
      {
       "output_type": "stream",
       "stream": "stdout",
       "text": [
        " \r",
        "0247   8.066105e+05   5.114920e-01   1.081361e+04"
       ]
      },
      {
       "output_type": "stream",
       "stream": "stdout",
       "text": [
        " \r",
        "0248   8.066041e+05   2.557460e-01   6.723086e+04"
       ]
      },
      {
       "output_type": "stream",
       "stream": "stdout",
       "text": [
        " \r",
        "0249   8.065996e+05   1.278730e-01   2.608284e+04"
       ]
      },
      {
       "output_type": "stream",
       "stream": "stdout",
       "text": [
        " \r",
        "0250   8.065986e+05   6.393650e-02   1.717741e+05"
       ]
      },
      {
       "output_type": "stream",
       "stream": "stdout",
       "text": [
        " \r",
        "0251   8.065920e+05   3.196825e-02   6.330968e+03"
       ]
      },
      {
       "output_type": "stream",
       "stream": "stdout",
       "text": [
        " \r",
        "0252   8.065914e+05   3.196825e-02   4.516779e+05"
       ]
      },
      {
       "output_type": "stream",
       "stream": "stdout",
       "text": [
        " \r",
        "0253   8.065788e+05   1.598413e-02   2.331711e+05"
       ]
      },
      {
       "output_type": "stream",
       "stream": "stdout",
       "text": [
        " \r",
        "0254   8.065772e+05   7.992063e-03   2.641232e+05"
       ]
      },
      {
       "output_type": "stream",
       "stream": "stdout",
       "text": [
        " \r",
        "0255   8.065762e+05   3.996031e-03   2.229368e+04"
       ]
      },
      {
       "output_type": "stream",
       "stream": "stdout",
       "text": [
        " \r",
        "0256   8.065761e+05   1.998016e-03   1.505997e+04"
       ]
      },
      {
       "output_type": "stream",
       "stream": "stdout",
       "text": [
        " \r",
        "0257   8.065754e+05   9.990079e-04   8.574545e+03"
       ]
      },
      {
       "output_type": "stream",
       "stream": "stdout",
       "text": [
        " \r",
        "0258   8.065752e+05   4.995039e-04   1.679107e+04"
       ]
      },
      {
       "output_type": "stream",
       "stream": "stdout",
       "text": [
        " \r",
        "0259   8.065728e+05   2.497520e-04   2.866380e+04"
       ]
      },
      {
       "output_type": "stream",
       "stream": "stdout",
       "text": [
        " \r",
        "0260   8.065722e+05   1.248760e-04   4.361289e+04"
       ]
      },
      {
       "output_type": "stream",
       "stream": "stdout",
       "text": [
        " \r",
        "0261   8.065697e+05   6.243799e-05   7.457621e+04"
       ]
      },
      {
       "output_type": "stream",
       "stream": "stdout",
       "text": [
        " \r",
        "0262   8.065693e+05   3.121900e-05   3.790791e+04"
       ]
      },
      {
       "output_type": "stream",
       "stream": "stdout",
       "text": [
        " \r",
        "0263   8.065685e+05   1.560950e-05   3.432142e+04"
       ]
      },
      {
       "output_type": "stream",
       "stream": "stdout",
       "text": [
        " \r",
        "0264   8.065682e+05   7.804749e-06   1.758762e+04"
       ]
      },
      {
       "output_type": "stream",
       "stream": "stdout",
       "text": [
        " \r",
        "0265   8.065672e+05   3.902374e-06   3.562992e+04"
       ]
      },
      {
       "output_type": "stream",
       "stream": "stdout",
       "text": [
        " \r",
        "0266   8.065664e+05   1.951187e-06   4.888627e+04"
       ]
      },
      {
       "output_type": "stream",
       "stream": "stdout",
       "text": [
        " \r",
        "0267   8.065635e+05   9.755936e-07   9.866755e+04"
       ]
      },
      {
       "output_type": "stream",
       "stream": "stdout",
       "text": [
        " \r",
        "0268   8.065625e+05   9.755936e-07   6.062898e+05"
       ]
      },
      {
       "output_type": "stream",
       "stream": "stdout",
       "text": [
        " \r",
        "0269   8.065552e+05   4.877968e-07   4.584240e+05"
       ]
      },
      {
       "output_type": "stream",
       "stream": "stdout",
       "text": [
        " \r",
        "0270   8.065437e+05   2.438984e-07   8.058331e+05"
       ]
      },
      {
       "output_type": "stream",
       "stream": "stdout",
       "text": [
        " \r",
        "0271   8.065419e+05   1.219492e-07   3.042553e+04"
       ]
      },
      {
       "output_type": "stream",
       "stream": "stdout",
       "text": [
        " \r",
        "0272   8.065372e+05   6.097460e-08   2.904549e+05"
       ]
      },
      {
       "output_type": "stream",
       "stream": "stdout",
       "text": [
        " \r",
        "0273   8.065354e+05   3.048730e-08   2.576298e+04"
       ]
      },
      {
       "output_type": "stream",
       "stream": "stdout",
       "text": [
        " \r",
        "0274   8.065324e+05   1.524365e-08   2.537400e+05"
       ]
      },
      {
       "output_type": "stream",
       "stream": "stdout",
       "text": [
        " \r",
        "0275   8.065313e+05   7.621825e-09   1.333355e+04"
       ]
      },
      {
       "output_type": "stream",
       "stream": "stdout",
       "text": [
        " \r",
        "0276   8.065299e+05   3.810913e-09   1.401265e+05"
       ]
      },
      {
       "output_type": "stream",
       "stream": "stdout",
       "text": [
        " \r",
        "0277   8.065196e+05   1.905456e-09   1.031285e+04"
       ]
      },
      {
       "output_type": "stream",
       "stream": "stdout",
       "text": [
        " \r",
        "0278   8.065194e+05   9.527281e-10   2.683206e+04"
       ]
      },
      {
       "output_type": "stream",
       "stream": "stdout",
       "text": [
        " \r",
        "0279   8.064432e+05   4.763641e-10   1.286857e+04"
       ]
      },
      {
       "output_type": "stream",
       "stream": "stdout",
       "text": [
        " \r",
        "0280   8.064394e+05   2.381820e-10   1.471221e+05"
       ]
      },
      {
       "output_type": "stream",
       "stream": "stdout",
       "text": [
        " \r",
        "0281   8.064394e+05   2.001499e+01   4.878661e+05"
       ]
      },
      {
       "output_type": "stream",
       "stream": "stdout",
       "text": [
        " \r",
        "0282   8.063821e+05   8.005998e+01   4.878661e+05"
       ]
      },
      {
       "output_type": "stream",
       "stream": "stdout",
       "text": [
        " \r",
        "0283   8.063804e+05   4.002999e+01   2.800699e+05"
       ]
      },
      {
       "output_type": "stream",
       "stream": "stdout",
       "text": [
        " \r",
        "0284   8.063664e+05   2.001499e+01   1.039048e+05"
       ]
      },
      {
       "output_type": "stream",
       "stream": "stdout",
       "text": [
        " \r",
        "0285   8.063413e+05   1.000750e+01   5.740627e+04"
       ]
      },
      {
       "output_type": "stream",
       "stream": "stdout",
       "text": [
        " \r",
        "0286   8.063401e+05   5.003749e+00   3.872273e+05"
       ]
      },
      {
       "output_type": "stream",
       "stream": "stdout",
       "text": [
        " \r",
        "0287   8.063384e+05   2.501874e+00   2.495806e+04"
       ]
      },
      {
       "output_type": "stream",
       "stream": "stdout",
       "text": [
        " \r",
        "0288   8.063380e+05   1.250937e+00   6.047312e+03"
       ]
      },
      {
       "output_type": "stream",
       "stream": "stdout",
       "text": [
        " \r",
        "0289   8.063361e+05   6.254686e-01   7.366559e+04"
       ]
      },
      {
       "output_type": "stream",
       "stream": "stdout",
       "text": [
        " \r",
        "0290   8.063352e+05   3.127343e-01   1.622478e+04"
       ]
      },
      {
       "output_type": "stream",
       "stream": "stdout",
       "text": [
        " \r",
        "0291   8.063337e+05   1.563671e-01   1.600316e+05"
       ]
      },
      {
       "output_type": "stream",
       "stream": "stdout",
       "text": [
        " \r",
        "0292   8.063328e+05   7.818357e-02   3.683466e+04"
       ]
      },
      {
       "output_type": "stream",
       "stream": "stdout",
       "text": [
        " \r",
        "0293   8.063312e+05   3.909179e-02   1.065787e+05"
       ]
      },
      {
       "output_type": "stream",
       "stream": "stdout",
       "text": [
        " \r",
        "0294   8.063193e+05   1.954589e-02   8.013701e+03"
       ]
      },
      {
       "output_type": "stream",
       "stream": "stdout",
       "text": [
        " \r",
        "0295   8.063103e+05   9.772947e-03   1.357524e+06"
       ]
      },
      {
       "output_type": "stream",
       "stream": "stdout",
       "text": [
        " \r",
        "0296   8.063102e+05   9.772947e-03   5.853506e+05"
       ]
      },
      {
       "output_type": "stream",
       "stream": "stdout",
       "text": [
        " \r",
        "0297   8.063044e+05   4.886473e-03   5.903339e+05"
       ]
      },
      {
       "output_type": "stream",
       "stream": "stdout",
       "text": [
        " \r",
        "0298   8.062740e+05   2.443237e-03   6.627911e+05"
       ]
      },
      {
       "output_type": "stream",
       "stream": "stdout",
       "text": [
        " \r",
        "0299   8.062739e+05   1.221618e-03   1.253746e+04"
       ]
      },
      {
       "output_type": "stream",
       "stream": "stdout",
       "text": [
        " \r",
        "0300   8.062725e+05   6.108092e-04   9.252602e+03"
       ]
      },
      {
       "output_type": "stream",
       "stream": "stdout",
       "text": [
        " \r",
        "0301   8.062721e+05   3.054046e-04   1.758309e+04"
       ]
      },
      {
       "output_type": "stream",
       "stream": "stdout",
       "text": [
        " \r",
        "0302   8.062658e+05   1.527023e-04   6.915652e+04"
       ]
      },
      {
       "output_type": "stream",
       "stream": "stdout",
       "text": [
        " \r",
        "0303   8.062618e+05   7.635115e-05   2.979479e+04"
       ]
      },
      {
       "output_type": "stream",
       "stream": "stdout",
       "text": [
        " \r",
        "0304   8.062606e+05   3.817557e-05   1.911570e+05"
       ]
      },
      {
       "output_type": "stream",
       "stream": "stdout",
       "text": [
        " \r",
        "0305   8.062606e+05   1.908779e-05   1.593294e+04"
       ]
      },
      {
       "output_type": "stream",
       "stream": "stdout",
       "text": [
        " \r",
        "0306   8.062606e+05   7.635115e-05   1.593294e+04"
       ]
      },
      {
       "output_type": "stream",
       "stream": "stdout",
       "text": [
        " \r",
        "0307   8.062606e+05   3.054046e-04   1.593294e+04"
       ]
      },
      {
       "output_type": "stream",
       "stream": "stdout",
       "text": [
        " \r",
        "0308   8.062606e+05   1.221618e-03   1.593294e+04"
       ]
      },
      {
       "output_type": "stream",
       "stream": "stdout",
       "text": [
        " \r",
        "0309   8.062606e+05   4.886473e-03   1.593294e+04"
       ]
      },
      {
       "output_type": "stream",
       "stream": "stdout",
       "text": [
        " \r",
        "0310   8.062606e+05   1.954589e-02   1.593294e+04"
       ]
      },
      {
       "output_type": "stream",
       "stream": "stdout",
       "text": [
        " \r",
        "0311   8.062606e+05   7.818357e-02   1.593294e+04"
       ]
      },
      {
       "output_type": "stream",
       "stream": "stdout",
       "text": [
        " \r",
        "0312   8.062606e+05   3.127343e-01   1.593294e+04"
       ]
      },
      {
       "output_type": "stream",
       "stream": "stdout",
       "text": [
        " \r",
        "0313   8.062606e+05   1.250937e+00   1.593294e+04"
       ]
      },
      {
       "output_type": "stream",
       "stream": "stdout",
       "text": [
        " \r",
        "0314   8.062523e+05   5.003749e+00   1.593294e+04"
       ]
      },
      {
       "output_type": "stream",
       "stream": "stdout",
       "text": [
        " \r",
        "0315   8.062321e+05   2.001499e+01   4.176714e+06"
       ]
      },
      {
       "output_type": "stream",
       "stream": "stdout",
       "text": [
        " \r",
        "0316   8.061932e+05   1.000750e+01   4.390750e+05"
       ]
      },
      {
       "output_type": "stream",
       "stream": "stdout",
       "text": [
        " \r",
        "0317   8.061923e+05   5.003749e+00   3.762595e+04"
       ]
      },
      {
       "output_type": "stream",
       "stream": "stdout",
       "text": [
        " \r",
        "0318   8.061751e+05   2.501874e+00   1.601577e+05"
       ]
      },
      {
       "output_type": "stream",
       "stream": "stdout",
       "text": [
        " \r",
        "0319   8.061749e+05   1.250937e+00   2.142712e+04"
       ]
      },
      {
       "output_type": "stream",
       "stream": "stdout",
       "text": [
        " \r",
        "0320   8.061735e+05   6.254686e-01   3.190013e+04"
       ]
      },
      {
       "output_type": "stream",
       "stream": "stdout",
       "text": [
        " \r",
        "0321   8.061721e+05   3.127343e-01   5.923381e+03"
       ]
      },
      {
       "output_type": "stream",
       "stream": "stdout",
       "text": [
        " \r",
        "0322   8.061631e+05   1.563671e-01   2.777240e+05"
       ]
      },
      {
       "output_type": "stream",
       "stream": "stdout",
       "text": [
        " \r",
        "0323   8.061605e+05   7.818357e-02   8.339361e+04"
       ]
      },
      {
       "output_type": "stream",
       "stream": "stdout",
       "text": [
        " \r",
        "0324   8.061531e+05   3.909179e-02   3.811693e+05"
       ]
      },
      {
       "output_type": "stream",
       "stream": "stdout",
       "text": [
        " \r",
        "0325   8.061528e+05   1.954589e-02   5.760575e+03"
       ]
      },
      {
       "output_type": "stream",
       "stream": "stdout",
       "text": [
        " \r",
        "0326   8.061517e+05   9.772947e-03   5.130905e+04"
       ]
      },
      {
       "output_type": "stream",
       "stream": "stdout",
       "text": [
        " \r",
        "0327   8.061331e+05   4.886473e-03   7.266674e+03"
       ]
      },
      {
       "output_type": "stream",
       "stream": "stdout",
       "text": [
        " \r",
        "0328   8.061304e+05   2.443237e-03   4.014912e+05"
       ]
      },
      {
       "output_type": "stream",
       "stream": "stdout",
       "text": [
        " \r",
        "0329   8.061304e+05   2.398356e+01   9.715009e+04"
       ]
      },
      {
       "output_type": "stream",
       "stream": "stdout",
       "text": [
        " \r",
        "0330   8.061272e+05   9.593422e+01   9.715009e+04"
       ]
      },
      {
       "output_type": "stream",
       "stream": "stdout",
       "text": [
        " \r",
        "0331   8.061261e+05   4.796711e+01   1.451687e+05"
       ]
      },
      {
       "output_type": "stream",
       "stream": "stdout",
       "text": [
        " \r",
        "0332   8.060982e+05   2.398356e+01   8.454416e+04"
       ]
      },
      {
       "output_type": "stream",
       "stream": "stdout",
       "text": [
        " \r",
        "0333   8.060909e+05   1.199178e+01   1.245899e+05"
       ]
      },
      {
       "output_type": "stream",
       "stream": "stdout",
       "text": [
        " \r",
        "0334   8.060529e+05   5.995889e+00   1.157670e+06"
       ]
      },
      {
       "output_type": "stream",
       "stream": "stdout",
       "text": [
        " \r",
        "0335   8.060519e+05   2.997944e+00   8.701048e+04"
       ]
      },
      {
       "output_type": "stream",
       "stream": "stdout",
       "text": [
        " \r",
        "0336   8.060461e+05   1.498972e+00   7.267745e+04"
       ]
      },
      {
       "output_type": "stream",
       "stream": "stdout",
       "text": [
        " \r",
        "0337   8.060441e+05   7.494861e-01   1.537394e+05"
       ]
      },
      {
       "output_type": "stream",
       "stream": "stdout",
       "text": [
        " \r",
        "0338   8.060344e+05   3.747431e-01   1.809845e+05"
       ]
      },
      {
       "output_type": "stream",
       "stream": "stdout",
       "text": [
        " \r",
        "0339   8.060318e+05   1.873715e-01   1.889224e+05"
       ]
      },
      {
       "output_type": "stream",
       "stream": "stdout",
       "text": [
        " \r",
        "0340   8.060243e+05   9.368576e-02   2.150993e+05"
       ]
      },
      {
       "output_type": "stream",
       "stream": "stdout",
       "text": [
        " \r",
        "0341   8.059921e+05   4.684288e-02   9.573051e+04"
       ]
      },
      {
       "output_type": "stream",
       "stream": "stdout",
       "text": [
        " \r",
        "0342   8.059402e+05   2.342144e-02   2.480029e+06"
       ]
      },
      {
       "output_type": "stream",
       "stream": "stdout",
       "text": [
        " \r",
        "0343   8.059245e+05   1.171072e-02   2.554552e+06"
       ]
      },
      {
       "output_type": "stream",
       "stream": "stdout",
       "text": [
        " \r",
        "0344   8.059183e+05   5.855360e-03   7.129118e+05"
       ]
      },
      {
       "output_type": "stream",
       "stream": "stdout",
       "text": [
        " \r",
        "0345   8.059106e+05   2.927680e-03   2.050748e+05"
       ]
      },
      {
       "output_type": "stream",
       "stream": "stdout",
       "text": [
        " \r",
        "0346   8.059091e+05   1.463840e-03   1.512504e+05"
       ]
      },
      {
       "output_type": "stream",
       "stream": "stdout",
       "text": [
        " \r",
        "0347   8.059056e+05   7.319200e-04   9.624989e+04"
       ]
      },
      {
       "output_type": "stream",
       "stream": "stdout",
       "text": [
        " \r",
        "0348   8.059050e+05   3.659600e-04   7.050029e+04"
       ]
      },
      {
       "output_type": "stream",
       "stream": "stdout",
       "text": [
        " \r",
        "0349   8.059030e+05   1.829800e-04   4.981622e+04"
       ]
      },
      {
       "output_type": "stream",
       "stream": "stdout",
       "text": [
        " \r",
        "0350   8.059025e+05   9.149000e-05   5.307311e+04"
       ]
      },
      {
       "output_type": "stream",
       "stream": "stdout",
       "text": [
        " \r",
        "0351   8.059007e+05   4.574500e-05   3.572577e+04"
       ]
      },
      {
       "output_type": "stream",
       "stream": "stdout",
       "text": [
        " \r",
        "0352   8.059002e+05   2.287250e-05   5.333940e+04"
       ]
      },
      {
       "output_type": "stream",
       "stream": "stdout",
       "text": [
        " \r",
        "0353   8.058987e+05   1.143625e-05   4.063569e+04"
       ]
      },
      {
       "output_type": "stream",
       "stream": "stdout",
       "text": [
        " \r",
        "0354   8.058983e+05   5.718125e-06   3.332850e+04"
       ]
      },
      {
       "output_type": "stream",
       "stream": "stdout",
       "text": [
        " \r",
        "0355   8.058969e+05   2.859063e-06   4.149784e+04"
       ]
      },
      {
       "output_type": "stream",
       "stream": "stdout",
       "text": [
        " \r",
        "0356   8.058964e+05   1.429531e-06   2.711379e+04"
       ]
      },
      {
       "output_type": "stream",
       "stream": "stdout",
       "text": [
        " \r",
        "0357   8.058950e+05   7.147656e-07   5.225876e+04"
       ]
      },
      {
       "output_type": "stream",
       "stream": "stdout",
       "text": [
        " \r",
        "0358   8.058947e+05   3.573828e-07   2.048172e+04"
       ]
      },
      {
       "output_type": "stream",
       "stream": "stdout",
       "text": [
        " \r",
        "0359   8.058938e+05   1.786914e-07   3.279144e+04"
       ]
      },
      {
       "output_type": "stream",
       "stream": "stdout",
       "text": [
        " \r",
        "0360   8.058935e+05   8.934571e-08   1.894303e+04"
       ]
      },
      {
       "output_type": "stream",
       "stream": "stdout",
       "text": [
        " \r",
        "0361   8.058926e+05   4.467285e-08   3.382892e+04"
       ]
      },
      {
       "output_type": "stream",
       "stream": "stdout",
       "text": [
        " \r",
        "0362   8.058922e+05   2.233643e-08   2.201749e+04"
       ]
      },
      {
       "output_type": "stream",
       "stream": "stdout",
       "text": [
        " \r",
        "0363   8.058913e+05   1.116821e-08   3.403719e+04"
       ]
      },
      {
       "output_type": "stream",
       "stream": "stdout",
       "text": [
        " \r",
        "0364   8.058909e+05   5.584107e-09   2.630458e+04"
       ]
      },
      {
       "output_type": "stream",
       "stream": "stdout",
       "text": [
        " \r",
        "0365   8.058898e+05   2.792053e-09   4.545479e+04"
       ]
      },
      {
       "output_type": "stream",
       "stream": "stdout",
       "text": [
        " \r",
        "0366   8.058892e+05   1.396027e-09   2.864032e+04"
       ]
      },
      {
       "output_type": "stream",
       "stream": "stdout",
       "text": [
        " \r",
        "0367   8.058880e+05   6.980133e-10   5.676764e+04"
       ]
      },
      {
       "output_type": "stream",
       "stream": "stdout",
       "text": [
        " \r",
        "0368   8.058875e+05   3.490067e-10   3.159555e+04"
       ]
      },
      {
       "output_type": "stream",
       "stream": "stdout",
       "text": [
        " \r",
        "0369   8.058865e+05   1.745033e-10   4.661214e+04"
       ]
      },
      {
       "output_type": "stream",
       "stream": "stdout",
       "text": [
        " \r",
        "0370   8.058861e+05   8.725167e-11   2.324780e+04"
       ]
      },
      {
       "output_type": "stream",
       "stream": "stdout",
       "text": [
        " \r",
        "0371   8.058853e+05   4.362583e-11   4.184500e+04"
       ]
      },
      {
       "output_type": "stream",
       "stream": "stdout",
       "text": [
        " \r",
        "0372   8.058850e+05   2.181292e-11   1.564823e+04"
       ]
      },
      {
       "output_type": "stream",
       "stream": "stdout",
       "text": [
        " \r",
        "0373   8.058845e+05   1.090646e-11   2.734835e+04"
       ]
      },
      {
       "output_type": "stream",
       "stream": "stdout",
       "text": [
        " \r",
        "0374   8.058843e+05   5.453229e-12   1.155374e+04"
       ]
      },
      {
       "output_type": "stream",
       "stream": "stdout",
       "text": [
        " \r",
        "0375   8.058839e+05   2.726615e-12   2.239465e+04"
       ]
      },
      {
       "output_type": "stream",
       "stream": "stdout",
       "text": [
        " \r",
        "0376   8.058836e+05   1.363307e-12   9.394516e+03"
       ]
      },
      {
       "output_type": "stream",
       "stream": "stdout",
       "text": [
        " \r",
        "0377   8.058832e+05   6.816536e-13   2.139590e+04"
       ]
      },
      {
       "output_type": "stream",
       "stream": "stdout",
       "text": [
        " \r",
        "0378   8.058829e+05   3.408268e-13   1.081558e+04"
       ]
      },
      {
       "output_type": "stream",
       "stream": "stdout",
       "text": [
        " \r",
        "0379   8.058825e+05   1.704134e-13   2.612216e+04"
       ]
      },
      {
       "output_type": "stream",
       "stream": "stdout",
       "text": [
        " \r",
        "0380   8.058819e+05   8.520671e-14   1.039759e+04"
       ]
      },
      {
       "output_type": "stream",
       "stream": "stdout",
       "text": [
        " \r",
        "0381   8.058809e+05   4.260335e-14   6.628597e+04"
       ]
      },
      {
       "output_type": "stream",
       "stream": "stdout",
       "text": [
        " \r",
        "0382   8.058804e+05   2.130168e-14   1.332391e+04"
       ]
      },
      {
       "output_type": "stream",
       "stream": "stdout",
       "text": [
        " \r",
        "0383   8.058798e+05   1.065084e-14   4.990814e+04"
       ]
      },
      {
       "output_type": "stream",
       "stream": "stdout",
       "text": [
        " \r",
        "0384   8.058788e+05   5.325419e-15   1.334709e+04"
       ]
      },
      {
       "output_type": "stream",
       "stream": "stdout",
       "text": [
        " \r",
        "0385   8.058777e+05   2.662710e-15   1.074127e+05"
       ]
      },
      {
       "output_type": "stream",
       "stream": "stdout",
       "text": [
        " \r",
        "0386   8.058753e+05   1.331355e-15   1.481607e+04"
       ]
      },
      {
       "output_type": "stream",
       "stream": "stdout",
       "text": [
        " \r",
        "0387   8.058736e+05   1.000000e-15   2.275516e+05"
       ]
      },
      {
       "output_type": "stream",
       "stream": "stdout",
       "text": [
        " \r",
        "0388   8.058586e+05   1.000000e-15   2.144548e+04"
       ]
      },
      {
       "output_type": "stream",
       "stream": "stdout",
       "text": [
        " \r",
        "0389   8.058582e+05   1.000000e-15   4.577530e+04"
       ]
      },
      {
       "output_type": "stream",
       "stream": "stdout",
       "text": [
        " \r",
        "0390   8.058545e+05   1.000000e-15   3.295171e+04"
       ]
      },
      {
       "output_type": "stream",
       "stream": "stdout",
       "text": [
        " \r",
        "0391   8.058496e+05   1.000000e-15   1.325890e+04"
       ]
      },
      {
       "output_type": "stream",
       "stream": "stdout",
       "text": [
        " \r",
        "0392   8.058431e+05   1.000000e-15   6.474402e+05"
       ]
      },
      {
       "output_type": "stream",
       "stream": "stdout",
       "text": [
        " \r",
        "0393   8.058377e+05   1.000000e-15   3.055387e+04"
       ]
      },
      {
       "output_type": "stream",
       "stream": "stdout",
       "text": [
        " \r",
        "0394   8.058344e+05   1.000000e-15   4.474773e+05"
       ]
      },
      {
       "output_type": "stream",
       "stream": "stdout",
       "text": [
        " \r",
        "0395   8.058233e+05   1.000000e-15   3.684926e+04"
       ]
      },
      {
       "output_type": "stream",
       "stream": "stdout",
       "text": [
        " \r",
        "0396   8.058231e+05   1.000000e-15   3.243239e+04"
       ]
      },
      {
       "output_type": "stream",
       "stream": "stdout",
       "text": [
        " \r",
        "0397   8.057988e+05   1.000000e-15   1.777783e+04"
       ]
      },
      {
       "output_type": "stream",
       "stream": "stdout",
       "text": [
        " \r",
        "0398   8.057984e+05   1.000000e-15   3.820955e+04"
       ]
      },
      {
       "output_type": "stream",
       "stream": "stdout",
       "text": [
        " \r",
        "0399   8.057627e+05   1.000000e-15   4.798170e+04"
       ]
      },
      {
       "output_type": "stream",
       "stream": "stdout",
       "text": [
        " \r",
        "0400   8.057620e+05   1.000000e-15   1.141810e+05"
       ]
      },
      {
       "output_type": "stream",
       "stream": "stdout",
       "text": [
        " \r",
        "0401   8.057173e+05   1.000000e-15   1.198438e+05"
       ]
      },
      {
       "output_type": "stream",
       "stream": "stdout",
       "text": [
        " \r",
        "0402   8.057105e+05   1.000000e-15   5.746605e+04"
       ]
      },
      {
       "output_type": "stream",
       "stream": "stdout",
       "text": [
        " \r",
        "0403   8.057097e+05   1.000000e-15   1.086832e+04"
       ]
      },
      {
       "output_type": "stream",
       "stream": "stdout",
       "text": [
        " \r",
        "0404   8.056680e+05   1.000000e-15   1.720750e+05"
       ]
      },
      {
       "output_type": "stream",
       "stream": "stdout",
       "text": [
        " \r",
        "0405   8.056671e+05   1.000000e-15   3.836879e+04"
       ]
      },
      {
       "output_type": "stream",
       "stream": "stdout",
       "text": [
        " \r",
        "0406   8.056451e+05   1.000000e-15   1.615030e+05"
       ]
      },
      {
       "output_type": "stream",
       "stream": "stdout",
       "text": [
        " \r",
        "0407   8.056440e+05   1.000000e-15   3.884298e+04"
       ]
      },
      {
       "output_type": "stream",
       "stream": "stdout",
       "text": [
        " \r",
        "0408   8.056419e+05   1.000000e-15   1.526539e+05"
       ]
      },
      {
       "output_type": "stream",
       "stream": "stdout",
       "text": [
        " \r",
        "0409   8.056401e+05   1.000000e-15   2.751375e+04"
       ]
      },
      {
       "output_type": "stream",
       "stream": "stdout",
       "text": [
        " \r",
        "0410   8.056378e+05   1.000000e-15   1.984690e+05"
       ]
      },
      {
       "output_type": "stream",
       "stream": "stdout",
       "text": [
        " \r",
        "0411   8.056336e+05   1.000000e-15   5.329113e+04"
       ]
      },
      {
       "output_type": "stream",
       "stream": "stdout",
       "text": [
        " \r",
        "0412   8.056309e+05   1.000000e-15   2.823034e+05"
       ]
      },
      {
       "output_type": "stream",
       "stream": "stdout",
       "text": [
        " \r",
        "0413   8.056287e+05   1.000000e-15   6.278942e+04"
       ]
      },
      {
       "output_type": "stream",
       "stream": "stdout",
       "text": [
        " \r",
        "0414   8.056279e+05   1.000000e-15   7.670785e+04"
       ]
      },
      {
       "output_type": "stream",
       "stream": "stdout",
       "text": [
        " \r",
        "0415   8.056266e+05   1.000000e-15   3.837264e+04"
       ]
      },
      {
       "output_type": "stream",
       "stream": "stdout",
       "text": [
        " \r",
        "0416   8.056260e+05   1.000000e-15   4.691768e+04"
       ]
      },
      {
       "output_type": "stream",
       "stream": "stdout",
       "text": [
        " \r",
        "0417   8.056240e+05   1.000000e-15   5.113463e+04"
       ]
      },
      {
       "output_type": "stream",
       "stream": "stdout",
       "text": [
        " \r",
        "0418   8.056229e+05   1.000000e-15   7.456594e+04"
       ]
      },
      {
       "output_type": "stream",
       "stream": "stdout",
       "text": [
        " \r",
        "0419   8.056198e+05   1.000000e-15   1.033147e+05"
       ]
      },
      {
       "output_type": "stream",
       "stream": "stdout",
       "text": [
        " \r",
        "0420   8.056188e+05   1.000000e-15   7.211946e+04"
       ]
      },
      {
       "output_type": "stream",
       "stream": "stdout",
       "text": [
        " \r",
        "0421   8.056169e+05   1.000000e-15   8.881869e+04"
       ]
      },
      {
       "output_type": "stream",
       "stream": "stdout",
       "text": [
        " \r",
        "0422   8.056163e+05   1.000000e-15   3.440086e+04"
       ]
      },
      {
       "output_type": "stream",
       "stream": "stdout",
       "text": [
        " \r",
        "0423   8.056149e+05   1.000000e-15   6.338734e+04"
       ]
      },
      {
       "output_type": "stream",
       "stream": "stdout",
       "text": [
        " \r",
        "0424   8.056137e+05   1.000000e-15   3.884450e+04"
       ]
      },
      {
       "output_type": "stream",
       "stream": "stdout",
       "text": [
        " \r",
        "0425   8.056104e+05   1.000000e-15   1.485723e+05"
       ]
      },
      {
       "output_type": "stream",
       "stream": "stdout",
       "text": [
        " \r",
        "0426   8.056068e+05   1.000000e-15   1.062640e+05"
       ]
      },
      {
       "output_type": "stream",
       "stream": "stdout",
       "text": [
        " \r",
        "0427   8.056019e+05   1.000000e-15   3.889108e+05"
       ]
      },
      {
       "output_type": "stream",
       "stream": "stdout",
       "text": [
        " \r",
        "0428   8.055974e+05   1.000000e-15   1.086519e+05"
       ]
      },
      {
       "output_type": "stream",
       "stream": "stdout",
       "text": [
        " \r",
        "0429   8.055950e+05   1.000000e-15   3.172393e+05"
       ]
      },
      {
       "output_type": "stream",
       "stream": "stdout",
       "text": [
        " \r",
        "0430   8.055924e+05   1.000000e-15   3.368700e+04"
       ]
      },
      {
       "output_type": "stream",
       "stream": "stdout",
       "text": [
        " \r",
        "0431   8.055912e+05   1.000000e-15   1.564139e+05"
       ]
      },
      {
       "output_type": "stream",
       "stream": "stdout",
       "text": [
        " \r",
        "0432   8.055873e+05   1.000000e-15   3.605791e+04"
       ]
      },
      {
       "output_type": "stream",
       "stream": "stdout",
       "text": [
        " \r",
        "0433   8.055862e+05   1.000000e-15   1.459754e+05"
       ]
      },
      {
       "output_type": "stream",
       "stream": "stdout",
       "text": [
        " \r",
        "0434   8.055834e+05   1.000000e-15   4.378869e+04"
       ]
      },
      {
       "output_type": "stream",
       "stream": "stdout",
       "text": [
        " \r",
        "0435   8.055829e+05   1.000000e-15   6.033817e+04"
       ]
      },
      {
       "output_type": "stream",
       "stream": "stdout",
       "text": [
        " \r",
        "0436   8.055795e+05   1.000000e-15   3.954656e+04"
       ]
      },
      {
       "output_type": "stream",
       "stream": "stdout",
       "text": [
        " \r",
        "0437   8.055783e+05   1.000000e-15   9.721412e+04"
       ]
      },
      {
       "output_type": "stream",
       "stream": "stdout",
       "text": [
        " \r",
        "0438   8.055676e+05   1.000000e-15   1.324916e+05"
       ]
      },
      {
       "output_type": "stream",
       "stream": "stdout",
       "text": [
        " \r",
        "0439   8.055652e+05   1.000000e-15   2.396231e+05"
       ]
      },
      {
       "output_type": "stream",
       "stream": "stdout",
       "text": [
        " \r",
        "0440   8.055573e+05   1.000000e-15   2.239439e+05"
       ]
      },
      {
       "output_type": "stream",
       "stream": "stdout",
       "text": [
        " \r",
        "0441   8.055564e+05   1.000000e-15   1.050846e+05"
       ]
      },
      {
       "output_type": "stream",
       "stream": "stdout",
       "text": [
        " \r",
        "0442   8.055542e+05   1.000000e-15   6.924785e+04"
       ]
      },
      {
       "output_type": "stream",
       "stream": "stdout",
       "text": [
        " \r",
        "0443   8.055537e+05   1.000000e-15   3.908712e+04"
       ]
      },
      {
       "output_type": "stream",
       "stream": "stdout",
       "text": [
        " \r",
        "0444   8.055513e+05   1.000000e-15   5.139322e+04"
       ]
      },
      {
       "output_type": "stream",
       "stream": "stdout",
       "text": [
        " \r",
        "0445   8.055500e+05   1.000000e-15   7.165413e+04"
       ]
      },
      {
       "output_type": "stream",
       "stream": "stdout",
       "text": [
        " \r",
        "0446   8.055425e+05   1.000000e-15   1.713510e+05"
       ]
      },
      {
       "output_type": "stream",
       "stream": "stdout",
       "text": [
        " \r",
        "0447   8.055393e+05   1.000000e-15   2.292234e+05"
       ]
      },
      {
       "output_type": "stream",
       "stream": "stdout",
       "text": [
        " \r",
        "0448   8.055316e+05   1.000000e-15   3.427792e+05"
       ]
      },
      {
       "output_type": "stream",
       "stream": "stdout",
       "text": [
        " \r",
        "0449   8.055286e+05   1.000000e-15   2.380690e+05"
       ]
      },
      {
       "output_type": "stream",
       "stream": "stdout",
       "text": [
        " \r",
        "0450   8.055234e+05   1.000000e-15   2.618902e+05"
       ]
      },
      {
       "output_type": "stream",
       "stream": "stdout",
       "text": [
        " \r",
        "0451   8.055207e+05   1.000000e-15   1.893397e+05"
       ]
      },
      {
       "output_type": "stream",
       "stream": "stdout",
       "text": [
        " \r",
        "0452   8.055159e+05   1.000000e-15   2.158992e+05"
       ]
      },
      {
       "output_type": "stream",
       "stream": "stdout",
       "text": [
        " \r",
        "0453   8.055124e+05   1.000000e-15   2.072221e+05"
       ]
      },
      {
       "output_type": "stream",
       "stream": "stdout",
       "text": [
        " \r",
        "0454   8.055066e+05   1.000000e-15   2.631305e+05"
       ]
      },
      {
       "output_type": "stream",
       "stream": "stdout",
       "text": [
        " \r",
        "0455   8.055030e+05   1.000000e-15   2.318104e+05"
       ]
      },
      {
       "output_type": "stream",
       "stream": "stdout",
       "text": [
        " \r",
        "0456   8.054993e+05   1.000000e-15   2.120753e+05"
       ]
      },
      {
       "output_type": "stream",
       "stream": "stdout",
       "text": [
        " \r",
        "0457   8.054976e+05   1.000000e-15   1.200909e+05"
       ]
      },
      {
       "output_type": "stream",
       "stream": "stdout",
       "text": [
        " \r",
        "0458   8.054959e+05   1.000000e-15   9.529443e+04"
       ]
      },
      {
       "output_type": "stream",
       "stream": "stdout",
       "text": [
        " \r",
        "0459   8.054948e+05   1.000000e-15   6.600564e+04"
       ]
      },
      {
       "output_type": "stream",
       "stream": "stdout",
       "text": [
        " \r",
        "0460   8.054928e+05   1.000000e-15   8.874712e+04"
       ]
      },
      {
       "output_type": "stream",
       "stream": "stdout",
       "text": [
        " \r",
        "0461   8.054903e+05   1.000000e-15   1.076537e+05"
       ]
      },
      {
       "output_type": "stream",
       "stream": "stdout",
       "text": [
        " \r",
        "0462   8.054848e+05   1.000000e-15   2.173856e+05"
       ]
      },
      {
       "output_type": "stream",
       "stream": "stdout",
       "text": [
        " \r",
        "0463   8.054784e+05   1.000000e-15   3.005444e+05"
       ]
      },
      {
       "output_type": "stream",
       "stream": "stdout",
       "text": [
        " \r",
        "0464   8.054693e+05   1.000000e-15   4.720463e+05"
       ]
      },
      {
       "output_type": "stream",
       "stream": "stdout",
       "text": [
        " \r",
        "0465   8.054636e+05   1.000000e-15   4.025454e+05"
       ]
      },
      {
       "output_type": "stream",
       "stream": "stdout",
       "text": [
        " \r",
        "0466   8.054593e+05   1.000000e-15   2.830882e+05"
       ]
      },
      {
       "output_type": "stream",
       "stream": "stdout",
       "text": [
        " \r",
        "0467   8.054569e+05   1.000000e-15   1.939711e+05"
       ]
      },
      {
       "output_type": "stream",
       "stream": "stdout",
       "text": [
        " \r",
        "0468   8.054551e+05   1.000000e-15   1.054751e+05"
       ]
      },
      {
       "output_type": "stream",
       "stream": "stdout",
       "text": [
        " \r",
        "0469   8.054538e+05   1.000000e-15   9.681724e+04"
       ]
      },
      {
       "output_type": "stream",
       "stream": "stdout",
       "text": [
        " \r",
        "0470   8.054520e+05   1.000000e-15   7.392205e+04"
       ]
      },
      {
       "output_type": "stream",
       "stream": "stdout",
       "text": [
        " \r",
        "0471   8.054498e+05   1.000000e-15   1.250491e+05"
       ]
      },
      {
       "output_type": "stream",
       "stream": "stdout",
       "text": [
        " \r",
        "0472   8.054456e+05   1.000000e-15   1.485441e+05"
       ]
      },
      {
       "output_type": "stream",
       "stream": "stdout",
       "text": [
        " \r",
        "0473   8.054408e+05   1.000000e-15   3.087617e+05"
       ]
      },
      {
       "output_type": "stream",
       "stream": "stdout",
       "text": [
        " \r",
        "0474   8.054343e+05   1.000000e-15   2.985333e+05"
       ]
      },
      {
       "output_type": "stream",
       "stream": "stdout",
       "text": [
        " \r",
        "0475   8.054299e+05   1.000000e-15   3.953274e+05"
       ]
      },
      {
       "output_type": "stream",
       "stream": "stdout",
       "text": [
        " \r",
        "0476   8.054244e+05   1.000000e-15   2.332807e+05"
       ]
      },
      {
       "output_type": "stream",
       "stream": "stdout",
       "text": [
        " \r",
        "0477   8.054209e+05   1.000000e-15   3.271384e+05"
       ]
      },
      {
       "output_type": "stream",
       "stream": "stdout",
       "text": [
        " \r",
        "0478   8.054161e+05   1.000000e-15   1.455906e+05"
       ]
      },
      {
       "output_type": "stream",
       "stream": "stdout",
       "text": [
        " \r",
        "0479   8.054125e+05   1.000000e-15   3.017854e+05"
       ]
      },
      {
       "output_type": "stream",
       "stream": "stdout",
       "text": [
        " \r",
        "0480   8.054059e+05   1.000000e-15   1.753516e+05"
       ]
      },
      {
       "output_type": "stream",
       "stream": "stdout",
       "text": [
        " \r",
        "0481   8.054015e+05   1.000000e-15   3.682778e+05"
       ]
      },
      {
       "output_type": "stream",
       "stream": "stdout",
       "text": [
        " \r",
        "0482   8.053994e+05   1.000000e-15   2.055201e+05"
       ]
      },
      {
       "output_type": "stream",
       "stream": "stdout",
       "text": [
        " \r",
        "0483   8.053866e+05   1.000000e-15   2.455465e+05"
       ]
      },
      {
       "output_type": "stream",
       "stream": "stdout",
       "text": [
        " \r",
        "0484   8.053803e+05   1.000000e-15   3.685422e+04"
       ]
      },
      {
       "output_type": "stream",
       "stream": "stdout",
       "text": [
        " \r",
        "0485   8.053694e+05   1.000000e-15   8.478679e+05"
       ]
      },
      {
       "output_type": "stream",
       "stream": "stdout",
       "text": [
        " \r",
        "0486   8.053670e+05   1.000000e-15   2.661611e+04"
       ]
      },
      {
       "output_type": "stream",
       "stream": "stdout",
       "text": [
        " \r",
        "0487   8.053648e+05   1.000000e-15   2.247021e+05"
       ]
      },
      {
       "output_type": "stream",
       "stream": "stdout",
       "text": [
        " \r",
        "0488   8.053624e+05   1.000000e-15   3.126313e+04"
       ]
      },
      {
       "output_type": "stream",
       "stream": "stdout",
       "text": [
        " \r",
        "0489   8.053607e+05   1.000000e-15   1.879600e+05"
       ]
      },
      {
       "output_type": "stream",
       "stream": "stdout",
       "text": [
        " \r",
        "0490   8.053551e+05   1.000000e-15   5.232065e+04"
       ]
      },
      {
       "output_type": "stream",
       "stream": "stdout",
       "text": [
        " \r",
        "0491   8.053524e+05   1.000000e-15   3.472858e+05"
       ]
      },
      {
       "output_type": "stream",
       "stream": "stdout",
       "text": [
        " \r",
        "0492   8.053467e+05   1.000000e-15   8.600219e+04"
       ]
      },
      {
       "output_type": "stream",
       "stream": "stdout",
       "text": [
        " \r",
        "0493   8.053454e+05   1.000000e-15   1.786302e+05"
       ]
      },
      {
       "output_type": "stream",
       "stream": "stdout",
       "text": [
        " \r",
        "0494   8.053425e+05   1.000000e-15   4.412963e+04"
       ]
      },
      {
       "output_type": "stream",
       "stream": "stdout",
       "text": [
        " \r",
        "0495   8.053419e+05   1.000000e-15   8.012358e+04"
       ]
      },
      {
       "output_type": "stream",
       "stream": "stdout",
       "text": [
        " \r",
        "0496   8.053387e+05   1.000000e-15   4.308292e+04"
       ]
      },
      {
       "output_type": "stream",
       "stream": "stdout",
       "text": [
        " \r",
        "0497   8.053381e+05   1.000000e-15   6.647635e+04"
       ]
      },
      {
       "output_type": "stream",
       "stream": "stdout",
       "text": [
        " \r",
        "0498   8.053357e+05   1.000000e-15   4.492688e+04"
       ]
      },
      {
       "output_type": "stream",
       "stream": "stdout",
       "text": [
        " \r",
        "0499   8.053353e+05   1.000000e-15   3.528538e+04"
       ]
      },
      {
       "output_type": "stream",
       "stream": "stdout",
       "text": [
        " \r",
        "0500   8.053329e+05   1.000000e-15   3.997091e+04"
       ]
      },
      {
       "output_type": "stream",
       "stream": "stdout",
       "text": [
        " \r",
        "0501   8.053322e+05   1.000000e-15   4.463888e+04"
       ]
      },
      {
       "output_type": "stream",
       "stream": "stdout",
       "text": [
        " \r",
        "0502   8.053287e+05   1.000000e-15   8.627725e+04"
       ]
      },
      {
       "output_type": "stream",
       "stream": "stdout",
       "text": [
        " \r",
        "0503   8.053279e+05   1.000000e-15   4.418560e+04"
       ]
      },
      {
       "output_type": "stream",
       "stream": "stdout",
       "text": [
        " \r",
        "0504   8.053254e+05   1.000000e-15   9.591910e+04"
       ]
      },
      {
       "output_type": "stream",
       "stream": "stdout",
       "text": [
        " \r",
        "0505   8.053244e+05   1.000000e-15   3.003613e+04"
       ]
      },
      {
       "output_type": "stream",
       "stream": "stdout",
       "text": [
        " \r",
        "0506   8.053208e+05   1.000000e-15   1.427353e+05"
       ]
      },
      {
       "output_type": "stream",
       "stream": "stdout",
       "text": [
        " \r",
        "0507   8.053184e+05   1.000000e-15   4.805422e+04"
       ]
      },
      {
       "output_type": "stream",
       "stream": "stdout",
       "text": [
        " \r",
        "0508   8.053143e+05   1.000000e-15   2.944123e+05"
       ]
      },
      {
       "output_type": "stream",
       "stream": "stdout",
       "text": [
        " \r",
        "0509   8.053120e+05   1.000000e-15   3.236555e+04"
       ]
      },
      {
       "output_type": "stream",
       "stream": "stdout",
       "text": [
        " \r",
        "0510   8.053092e+05   1.000000e-15   2.608119e+05"
       ]
      },
      {
       "output_type": "stream",
       "stream": "stdout",
       "text": [
        " \r",
        "0511   8.053020e+05   1.000000e-15   3.823444e+04"
       ]
      },
      {
       "output_type": "stream",
       "stream": "stdout",
       "text": [
        " \r",
        "0512   8.052996e+05   1.000000e-15   3.815527e+05"
       ]
      },
      {
       "output_type": "stream",
       "stream": "stdout",
       "text": [
        " \r",
        "0513   8.052961e+05   1.000000e-15   2.337691e+04"
       ]
      },
      {
       "output_type": "stream",
       "stream": "stdout",
       "text": [
        " \r",
        "0514   8.052953e+05   1.000000e-15   1.308093e+05"
       ]
      },
      {
       "output_type": "stream",
       "stream": "stdout",
       "text": [
        " \r",
        "0515   8.052901e+05   1.000000e-15   2.821193e+04"
       ]
      },
      {
       "output_type": "stream",
       "stream": "stdout",
       "text": [
        " \r",
        "0516   8.052896e+05   1.000000e-15   8.203485e+04"
       ]
      },
      {
       "output_type": "stream",
       "stream": "stdout",
       "text": [
        " \r",
        "0517   8.052833e+05   1.000000e-15   1.977841e+04"
       ]
      },
      {
       "output_type": "stream",
       "stream": "stdout",
       "text": [
        " \r",
        "0518   8.052828e+05   1.000000e-15   9.022207e+04"
       ]
      },
      {
       "output_type": "stream",
       "stream": "stdout",
       "text": [
        " \r",
        "0519   8.052775e+05   1.000000e-15   4.248737e+04"
       ]
      },
      {
       "output_type": "stream",
       "stream": "stdout",
       "text": [
        " \r",
        "0520   8.052771e+05   1.000000e-15   2.518717e+04"
       ]
      },
      {
       "output_type": "stream",
       "stream": "stdout",
       "text": [
        " \r",
        "0521   8.052695e+05   1.000000e-15   6.189197e+04"
       ]
      },
      {
       "output_type": "stream",
       "stream": "stdout",
       "text": [
        " \r",
        "0522   8.052691e+05   1.000000e-15   2.204952e+04"
       ]
      },
      {
       "output_type": "stream",
       "stream": "stdout",
       "text": [
        " \r",
        "0523   8.052663e+05   1.000000e-15   7.044915e+04"
       ]
      },
      {
       "output_type": "stream",
       "stream": "stdout",
       "text": [
        " \r",
        "0524   8.052650e+05   1.000000e-15   1.677022e+04"
       ]
      },
      {
       "output_type": "stream",
       "stream": "stdout",
       "text": [
        " \r",
        "0525   8.052620e+05   1.000000e-15   1.894640e+05"
       ]
      },
      {
       "output_type": "stream",
       "stream": "stdout",
       "text": [
        " \r",
        "0526   8.052607e+05   1.000000e-15   1.513319e+04"
       ]
      },
      {
       "output_type": "stream",
       "stream": "stdout",
       "text": [
        " \r",
        "0527   8.052594e+05   1.000000e-15   1.324369e+05"
       ]
      },
      {
       "output_type": "stream",
       "stream": "stdout",
       "text": [
        " \r",
        "0528   8.052556e+05   1.000000e-15   1.901583e+04"
       ]
      },
      {
       "output_type": "stream",
       "stream": "stdout",
       "text": [
        " \r",
        "0529   8.052540e+05   1.000000e-15   2.447933e+05"
       ]
      },
      {
       "output_type": "stream",
       "stream": "stdout",
       "text": [
        " \r",
        "0530   8.052484e+05   1.000000e-15   2.895355e+04"
       ]
      },
      {
       "output_type": "stream",
       "stream": "stdout",
       "text": [
        " \r",
        "0531   8.052478e+05   1.000000e-15   4.678864e+04"
       ]
      },
      {
       "output_type": "stream",
       "stream": "stdout",
       "text": [
        " \r",
        "0532   8.052370e+05   1.000000e-15   9.327364e+04"
       ]
      },
      {
       "output_type": "stream",
       "stream": "stdout",
       "text": [
        " \r",
        "0533   8.052309e+05   1.000000e-15   1.218109e+04"
       ]
      },
      {
       "output_type": "stream",
       "stream": "stdout",
       "text": [
        " \r",
        "0534   8.052298e+05   1.000000e-15   3.014192e+04"
       ]
      },
      {
       "output_type": "stream",
       "stream": "stdout",
       "text": [
        " \r",
        "0535   8.052264e+05   1.000000e-15   1.683709e+05"
       ]
      },
      {
       "output_type": "stream",
       "stream": "stdout",
       "text": [
        " \r",
        "0536   8.052224e+05   1.000000e-15   9.508146e+03"
       ]
      },
      {
       "output_type": "stream",
       "stream": "stdout",
       "text": [
        " \r",
        "0537   8.052215e+05   1.000000e-15   1.481175e+05"
       ]
      },
      {
       "output_type": "stream",
       "stream": "stdout",
       "text": [
        " \r",
        "0538   8.052197e+05   1.000000e-15   1.522243e+04"
       ]
      },
      {
       "output_type": "stream",
       "stream": "stdout",
       "text": [
        " \r",
        "0539   8.052195e+05   1.000000e-15   1.523320e+04"
       ]
      },
      {
       "output_type": "stream",
       "stream": "stdout",
       "text": [
        " \r",
        "0540   8.052164e+05   1.000000e-15   1.930776e+04"
       ]
      },
      {
       "output_type": "stream",
       "stream": "stdout",
       "text": [
        " \r",
        "0541   8.052157e+05   1.000000e-15   2.463655e+04"
       ]
      },
      {
       "output_type": "stream",
       "stream": "stdout",
       "text": [
        " \r",
        "0542   8.052136e+05   1.000000e-15   9.242743e+04"
       ]
      },
      {
       "output_type": "stream",
       "stream": "stdout",
       "text": [
        " \r",
        "0543   8.052121e+05   1.000000e-15   1.210901e+04"
       ]
      },
      {
       "output_type": "stream",
       "stream": "stdout",
       "text": [
        " \r",
        "0544   8.052095e+05   1.000000e-15   1.963716e+05"
       ]
      },
      {
       "output_type": "stream",
       "stream": "stdout",
       "text": [
        " \r",
        "0545   8.052035e+05   1.000000e-15   3.396408e+04"
       ]
      },
      {
       "output_type": "stream",
       "stream": "stdout",
       "text": [
        " \r",
        "0546   8.052032e+05   1.000000e-15   5.672284e+04"
       ]
      },
      {
       "output_type": "stream",
       "stream": "stdout",
       "text": [
        " \r",
        "0547   8.052007e+05   1.000000e-15   8.463741e+03"
       ]
      },
      {
       "output_type": "stream",
       "stream": "stdout",
       "text": [
        " \r",
        "0548   8.052002e+05   1.000000e-15   2.716054e+04"
       ]
      },
      {
       "output_type": "stream",
       "stream": "stdout",
       "text": [
        " \r",
        "0549   8.051930e+05   1.000000e-15   7.760567e+04"
       ]
      },
      {
       "output_type": "stream",
       "stream": "stdout",
       "text": [
        " \r",
        "0550   8.051924e+05   1.000000e-15   1.866059e+04"
       ]
      },
      {
       "output_type": "stream",
       "stream": "stdout",
       "text": [
        " \r",
        "0551   8.051883e+05   1.000000e-15   1.048183e+05"
       ]
      },
      {
       "output_type": "stream",
       "stream": "stdout",
       "text": [
        " \r",
        "0552   8.051861e+05   1.000000e-15   2.972035e+04"
       ]
      },
      {
       "output_type": "stream",
       "stream": "stdout",
       "text": [
        " \r",
        "0553   8.051844e+05   1.000000e-15   2.092059e+05"
       ]
      },
      {
       "output_type": "stream",
       "stream": "stdout",
       "text": [
        " \r",
        "0554   8.051787e+05   1.000000e-15   1.724055e+04"
       ]
      },
      {
       "output_type": "stream",
       "stream": "stdout",
       "text": [
        " \n",
        "\r"
       ]
      },
      {
       "output_type": "stream",
       "stream": "stdout",
       "text": [
        "0555   8.051777e+05   1.000000e-15   1.603987e+05"
       ]
      },
      {
       "output_type": "stream",
       "stream": "stdout",
       "text": [
        " \r",
        "0556   8.051716e+05   1.000000e-15   4.384389e+04"
       ]
      },
      {
       "output_type": "stream",
       "stream": "stdout",
       "text": [
        " \r",
        "0557   8.051714e+05   1.000000e-15   1.411241e+04"
       ]
      },
      {
       "output_type": "stream",
       "stream": "stdout",
       "text": [
        " \r",
        "0558   8.051671e+05   1.000000e-15   3.679748e+04"
       ]
      },
      {
       "output_type": "stream",
       "stream": "stdout",
       "text": [
        " \r",
        "0559   8.051620e+05   1.000000e-15   3.434943e+04"
       ]
      },
      {
       "output_type": "stream",
       "stream": "stdout",
       "text": [
        " \r",
        "0560   8.051600e+05   1.000000e-15   3.256935e+05"
       ]
      },
      {
       "output_type": "stream",
       "stream": "stdout",
       "text": [
        " \r",
        "0561   8.051527e+05   1.000000e-15   1.419364e+04"
       ]
      },
      {
       "output_type": "stream",
       "stream": "stdout",
       "text": [
        " \r",
        "0562   8.051522e+05   1.000000e-15   7.478052e+04"
       ]
      },
      {
       "output_type": "stream",
       "stream": "stdout",
       "text": [
        " \r",
        "0563   8.051498e+05   1.000000e-15   2.024171e+04"
       ]
      },
      {
       "output_type": "stream",
       "stream": "stdout",
       "text": [
        " \r",
        "0564   8.051453e+05   1.000000e-15   9.103075e+03"
       ]
      },
      {
       "output_type": "stream",
       "stream": "stdout",
       "text": [
        " \r",
        "0565   8.051418e+05   1.000000e-15   4.622111e+05"
       ]
      },
      {
       "output_type": "stream",
       "stream": "stdout",
       "text": [
        " \r",
        "0566   8.051412e+05   1.000000e-15   1.004016e+04"
       ]
      },
      {
       "output_type": "stream",
       "stream": "stdout",
       "text": [
        " \r",
        "0567   8.051409e+05   1.000000e-15   4.597281e+04"
       ]
      },
      {
       "output_type": "stream",
       "stream": "stdout",
       "text": [
        " \r",
        "0568   8.051406e+05   1.000000e-15   3.681585e+03"
       ]
      },
      {
       "output_type": "stream",
       "stream": "stdout",
       "text": [
        " \r",
        "0569   8.051405e+05   1.000000e-15   1.632396e+04"
       ]
      },
      {
       "output_type": "stream",
       "stream": "stdout",
       "text": [
        " \r",
        "0570   8.051403e+05   1.000000e-15   2.576053e+03"
       ]
      },
      {
       "output_type": "stream",
       "stream": "stdout",
       "text": [
        " \r",
        "0571   8.051402e+05   1.000000e-15   1.331439e+04"
       ]
      },
      {
       "output_type": "stream",
       "stream": "stdout",
       "text": [
        " \r",
        "0572   8.051400e+05   1.000000e-15   2.817819e+03"
       ]
      },
      {
       "output_type": "stream",
       "stream": "stdout",
       "text": [
        " \r",
        "0573   8.051399e+05   1.000000e-15   1.514477e+04"
       ]
      },
      {
       "output_type": "stream",
       "stream": "stdout",
       "text": [
        " \r",
        "0574   8.051396e+05   1.000000e-15   3.558085e+03"
       ]
      },
      {
       "output_type": "stream",
       "stream": "stdout",
       "text": [
        " \r",
        "0575   8.051394e+05   1.000000e-15   1.982104e+04"
       ]
      },
      {
       "output_type": "stream",
       "stream": "stdout",
       "text": [
        " \r",
        "0576   8.051389e+05   1.000000e-15   4.639031e+03"
       ]
      },
      {
       "output_type": "stream",
       "stream": "stdout",
       "text": [
        " \r",
        "0577   8.051387e+05   1.000000e-15   2.947182e+04"
       ]
      },
      {
       "output_type": "stream",
       "stream": "stdout",
       "text": [
        " \r",
        "0578   8.051377e+05   1.000000e-15   6.868539e+03"
       ]
      },
      {
       "output_type": "stream",
       "stream": "stdout",
       "text": [
        " \r",
        "0579   8.051372e+05   1.000000e-15   6.559498e+04"
       ]
      },
      {
       "output_type": "stream",
       "stream": "stdout",
       "text": [
        " \r",
        "0580   8.051334e+05   1.000000e-15   1.368457e+04"
       ]
      },
      {
       "output_type": "stream",
       "stream": "stdout",
       "text": [
        " \r",
        "0581   8.051325e+05   1.000000e-15   1.715971e+05"
       ]
      },
      {
       "output_type": "stream",
       "stream": "stdout",
       "text": [
        " \r",
        "0582   8.051238e+05   1.000000e-15   2.272564e+04"
       ]
      },
      {
       "output_type": "stream",
       "stream": "stdout",
       "text": [
        " \r",
        "0583   8.051235e+05   1.000000e-15   4.418790e+04"
       ]
      },
      {
       "output_type": "stream",
       "stream": "stdout",
       "text": [
        " \r",
        "0584   8.051207e+05   1.000000e-15   1.879326e+04"
       ]
      },
      {
       "output_type": "stream",
       "stream": "stdout",
       "text": [
        " \r",
        "0585   8.051196e+05   1.000000e-15   1.352946e+04"
       ]
      },
      {
       "output_type": "stream",
       "stream": "stdout",
       "text": [
        " \r",
        "0586   8.051169e+05   1.000000e-15   1.754435e+05"
       ]
      },
      {
       "output_type": "stream",
       "stream": "stdout",
       "text": [
        " \r",
        "0587   8.051127e+05   1.000000e-15   8.377489e+03"
       ]
      },
      {
       "output_type": "stream",
       "stream": "stdout",
       "text": [
        " \r",
        "0588   8.051125e+05   1.000000e-15   3.847992e+04"
       ]
      },
      {
       "output_type": "stream",
       "stream": "stdout",
       "text": [
        " \r",
        "0589   8.051100e+05   1.000000e-15   8.997188e+03"
       ]
      },
      {
       "output_type": "stream",
       "stream": "stdout",
       "text": [
        " \r",
        "0590   8.051070e+05   1.000000e-15   1.863549e+04"
       ]
      },
      {
       "output_type": "stream",
       "stream": "stdout",
       "text": [
        " \r",
        "0591   8.051020e+05   1.000000e-15   4.209235e+05"
       ]
      },
      {
       "output_type": "stream",
       "stream": "stdout",
       "text": [
        " \r",
        "0592   8.051013e+05   1.000000e-15   6.974426e+03"
       ]
      },
      {
       "output_type": "stream",
       "stream": "stdout",
       "text": [
        " \r",
        "0593   8.051004e+05   1.000000e-15   8.481740e+04"
       ]
      },
      {
       "output_type": "stream",
       "stream": "stdout",
       "text": [
        " \r",
        "0594   8.051000e+05   1.000000e-15   3.497032e+03"
       ]
      },
      {
       "output_type": "stream",
       "stream": "stdout",
       "text": [
        " \r",
        "0595   8.050998e+05   1.000000e-15   2.682417e+04"
       ]
      },
      {
       "output_type": "stream",
       "stream": "stdout",
       "text": [
        " \r",
        "0596   8.050992e+05   1.000000e-15   2.373425e+03"
       ]
      },
      {
       "output_type": "stream",
       "stream": "stdout",
       "text": [
        " \r",
        "0597   8.050991e+05   1.000000e-15   1.730355e+04"
       ]
      },
      {
       "output_type": "stream",
       "stream": "stdout",
       "text": [
        " \r",
        "0598   8.050982e+05   1.000000e-15   2.198843e+03"
       ]
      },
      {
       "output_type": "stream",
       "stream": "stdout",
       "text": [
        " \r",
        "0599   8.050981e+05   1.000000e-15   1.576959e+04"
       ]
      },
      {
       "output_type": "stream",
       "stream": "stdout",
       "text": [
        " \r",
        "0600   8.050975e+05   1.000000e-15   4.007959e+03"
       ]
      },
      {
       "output_type": "stream",
       "stream": "stdout",
       "text": [
        " \r",
        "0601   8.050974e+05   1.000000e-15   5.309040e+03"
       ]
      },
      {
       "output_type": "stream",
       "stream": "stdout",
       "text": [
        " \r",
        "0602   8.050961e+05   1.000000e-15   7.585816e+03"
       ]
      },
      {
       "output_type": "stream",
       "stream": "stdout",
       "text": [
        " \r",
        "0603   8.050961e+05   1.000000e-15   4.633154e+03"
       ]
      },
      {
       "output_type": "stream",
       "stream": "stdout",
       "text": [
        " \r",
        "0604   8.050947e+05   1.000000e-15   1.228698e+04"
       ]
      },
      {
       "output_type": "stream",
       "stream": "stdout",
       "text": [
        " \r",
        "0605   8.050944e+05   1.000000e-15   6.794593e+03"
       ]
      },
      {
       "output_type": "stream",
       "stream": "stdout",
       "text": [
        " \r",
        "0606   8.050934e+05   1.000000e-15   4.262698e+04"
       ]
      },
      {
       "output_type": "stream",
       "stream": "stdout",
       "text": [
        " \r",
        "0607   8.050924e+05   1.000000e-15   4.911708e+03"
       ]
      },
      {
       "output_type": "stream",
       "stream": "stdout",
       "text": [
        " \r",
        "0608   8.050914e+05   1.000000e-15   1.096360e+05"
       ]
      },
      {
       "output_type": "stream",
       "stream": "stdout",
       "text": [
        " \r",
        "0609   8.050898e+05   1.000000e-15   3.122256e+03"
       ]
      },
      {
       "output_type": "stream",
       "stream": "stdout",
       "text": [
        " \r",
        "0610   8.050891e+05   1.000000e-15   1.071436e+05"
       ]
      },
      {
       "output_type": "stream",
       "stream": "stdout",
       "text": [
        " \r",
        "0611   8.050860e+05   1.000000e-15   3.865218e+03"
       ]
      },
      {
       "output_type": "stream",
       "stream": "stdout",
       "text": [
        " \r",
        "0612   8.050856e+05   1.000000e-15   2.305013e+04"
       ]
      },
      {
       "output_type": "stream",
       "stream": "stdout",
       "text": [
        " \r",
        "0613   8.050828e+05   1.000000e-15   4.649949e+04"
       ]
      },
      {
       "output_type": "stream",
       "stream": "stdout",
       "text": [
        " \r",
        "0614   8.050807e+05   1.000000e-15   8.082418e+03"
       ]
      },
      {
       "output_type": "stream",
       "stream": "stdout",
       "text": [
        " \r",
        "0615   8.050765e+05   1.000000e-15   3.104471e+05"
       ]
      },
      {
       "output_type": "stream",
       "stream": "stdout",
       "text": [
        " \r",
        "0616   8.050734e+05   1.000000e-15   1.579445e+04"
       ]
      },
      {
       "output_type": "stream",
       "stream": "stdout",
       "text": [
        " \r",
        "0617   8.050730e+05   1.000000e-15   5.571883e+04"
       ]
      },
      {
       "output_type": "stream",
       "stream": "stdout",
       "text": [
        " \r",
        "0618   8.050647e+05   1.000000e-15   3.220416e+04"
       ]
      },
      {
       "output_type": "stream",
       "stream": "stdout",
       "text": [
        " \r",
        "0619   8.050642e+05   1.000000e-15   2.175691e+04"
       ]
      },
      {
       "output_type": "stream",
       "stream": "stdout",
       "text": [
        " \r",
        "0620   8.050586e+05   1.000000e-15   8.288073e+04"
       ]
      },
      {
       "output_type": "stream",
       "stream": "stdout",
       "text": [
        " \r",
        "0621   8.050551e+05   1.000000e-15   3.113000e+04"
       ]
      },
      {
       "output_type": "stream",
       "stream": "stdout",
       "text": [
        " \r",
        "0622   8.050521e+05   1.000000e-15   3.452304e+05"
       ]
      },
      {
       "output_type": "stream",
       "stream": "stdout",
       "text": [
        " \r",
        "0623   8.050424e+05   1.000000e-15   2.497173e+04"
       ]
      },
      {
       "output_type": "stream",
       "stream": "stdout",
       "text": [
        " \r",
        "0624   8.050407e+05   1.000000e-15   4.750149e+05"
       ]
      },
      {
       "output_type": "stream",
       "stream": "stdout",
       "text": [
        " \r",
        "0625   8.050393e+05   1.000000e-15   4.407320e+04"
       ]
      },
      {
       "output_type": "stream",
       "stream": "stdout",
       "text": [
        " \r",
        "0626   8.050389e+05   1.000000e-15   3.801540e+04"
       ]
      },
      {
       "output_type": "stream",
       "stream": "stdout",
       "text": [
        " \r",
        "0627   8.050378e+05   1.000000e-15   3.707798e+04"
       ]
      },
      {
       "output_type": "stream",
       "stream": "stdout",
       "text": [
        " \r",
        "0628   8.050375e+05   1.000000e-15   2.359049e+04"
       ]
      },
      {
       "output_type": "stream",
       "stream": "stdout",
       "text": [
        " \r",
        "0629   8.050366e+05   1.000000e-15   2.977539e+04"
       ]
      },
      {
       "output_type": "stream",
       "stream": "stdout",
       "text": [
        " \r",
        "0630   8.050363e+05   1.000000e-15   1.895342e+04"
       ]
      },
      {
       "output_type": "stream",
       "stream": "stdout",
       "text": [
        " \r",
        "0631   8.050356e+05   1.000000e-15   2.867047e+04"
       ]
      },
      {
       "output_type": "stream",
       "stream": "stdout",
       "text": [
        " \r",
        "0632   8.050353e+05   1.000000e-15   1.545998e+04"
       ]
      },
      {
       "output_type": "stream",
       "stream": "stdout",
       "text": [
        " \r",
        "0633   8.050346e+05   1.000000e-15   2.664171e+04"
       ]
      },
      {
       "output_type": "stream",
       "stream": "stdout",
       "text": [
        " \r",
        "0634   8.050344e+05   1.000000e-15   1.329247e+04"
       ]
      },
      {
       "output_type": "stream",
       "stream": "stdout",
       "text": [
        " \r",
        "0635   8.050337e+05   1.000000e-15   2.878436e+04"
       ]
      },
      {
       "output_type": "stream",
       "stream": "stdout",
       "text": [
        " \r",
        "0636   8.050334e+05   1.000000e-15   1.236398e+04"
       ]
      },
      {
       "output_type": "stream",
       "stream": "stdout",
       "text": [
        " \r",
        "0637   8.050329e+05   1.000000e-15   2.887736e+04"
       ]
      },
      {
       "output_type": "stream",
       "stream": "stdout",
       "text": [
        " \r",
        "0638   8.050327e+05   1.000000e-15   8.664852e+03"
       ]
      },
      {
       "output_type": "stream",
       "stream": "stdout",
       "text": [
        " \r",
        "0639   8.050322e+05   1.000000e-15   2.254068e+04"
       ]
      },
      {
       "output_type": "stream",
       "stream": "stdout",
       "text": [
        " \r",
        "0640   8.050321e+05   1.000000e-15   6.718866e+03"
       ]
      },
      {
       "output_type": "stream",
       "stream": "stdout",
       "text": [
        " \r",
        "0641   8.050316e+05   1.000000e-15   2.249884e+04"
       ]
      },
      {
       "output_type": "stream",
       "stream": "stdout",
       "text": [
        " \r",
        "0642   8.050315e+05   1.000000e-15   6.190430e+03"
       ]
      },
      {
       "output_type": "stream",
       "stream": "stdout",
       "text": [
        " \r",
        "0643   8.050311e+05   1.000000e-15   2.085484e+04"
       ]
      },
      {
       "output_type": "stream",
       "stream": "stdout",
       "text": [
        " \r",
        "0644   8.050310e+05   1.000000e-15   4.786381e+03"
       ]
      },
      {
       "output_type": "stream",
       "stream": "stdout",
       "text": [
        " \r",
        "0645   8.050307e+05   1.000000e-15   1.764443e+04"
       ]
      },
      {
       "output_type": "stream",
       "stream": "stdout",
       "text": [
        " \r",
        "0646   8.050305e+05   1.000000e-15   4.125295e+03"
       ]
      },
      {
       "output_type": "stream",
       "stream": "stdout",
       "text": [
        " \r",
        "0647   8.050303e+05   1.000000e-15   1.616181e+04"
       ]
      },
      {
       "output_type": "stream",
       "stream": "stdout",
       "text": [
        " \r",
        "0648   8.050302e+05   1.000000e-15   2.950512e+03"
       ]
      },
      {
       "output_type": "stream",
       "stream": "stdout",
       "text": [
        " \r",
        "0649   8.050300e+05   1.000000e-15   1.301347e+04"
       ]
      },
      {
       "output_type": "stream",
       "stream": "stdout",
       "text": [
        " \r",
        "0650   8.050299e+05   1.000000e-15   2.468531e+03"
       ]
      },
      {
       "output_type": "stream",
       "stream": "stdout",
       "text": [
        " \r",
        "0651   8.050297e+05   1.000000e-15   1.522926e+04"
       ]
      },
      {
       "output_type": "stream",
       "stream": "stdout",
       "text": [
        " \r",
        "0652   8.050296e+05   1.000000e-15   2.492878e+03"
       ]
      },
      {
       "output_type": "stream",
       "stream": "stdout",
       "text": [
        " \r",
        "0653   8.050294e+05   1.000000e-15   1.563108e+04"
       ]
      },
      {
       "output_type": "stream",
       "stream": "stdout",
       "text": [
        " \r",
        "0654   8.050292e+05   1.000000e-15   2.195739e+03"
       ]
      },
      {
       "output_type": "stream",
       "stream": "stdout",
       "text": [
        " \r",
        "0655   8.050290e+05   1.000000e-15   1.819578e+04"
       ]
      },
      {
       "output_type": "stream",
       "stream": "stdout",
       "text": [
        " \r",
        "0656   8.050288e+05   1.000000e-15   2.642037e+03"
       ]
      },
      {
       "output_type": "stream",
       "stream": "stdout",
       "text": [
        " \r",
        "0657   8.050286e+05   1.000000e-15   1.869717e+04"
       ]
      },
      {
       "output_type": "stream",
       "stream": "stdout",
       "text": [
        " \r",
        "0658   8.050282e+05   1.000000e-15   2.946882e+03"
       ]
      },
      {
       "output_type": "stream",
       "stream": "stdout",
       "text": [
        " \r",
        "0659   8.050280e+05   1.000000e-15   2.569919e+04"
       ]
      },
      {
       "output_type": "stream",
       "stream": "stdout",
       "text": [
        " \r",
        "0660   8.050274e+05   1.000000e-15   3.978625e+03"
       ]
      },
      {
       "output_type": "stream",
       "stream": "stdout",
       "text": [
        " \r",
        "0661   8.050273e+05   1.000000e-15   2.556801e+04"
       ]
      },
      {
       "output_type": "stream",
       "stream": "stdout",
       "text": [
        " \r",
        "0662   8.050261e+05   1.000000e-15   4.205835e+03"
       ]
      },
      {
       "output_type": "stream",
       "stream": "stdout",
       "text": [
        " \r",
        "0663   8.050259e+05   1.000000e-15   3.352991e+04"
       ]
      },
      {
       "output_type": "stream",
       "stream": "stdout",
       "text": [
        " \r",
        "0664   8.050239e+05   1.000000e-15   4.504820e+03"
       ]
      },
      {
       "output_type": "stream",
       "stream": "stdout",
       "text": [
        " \r",
        "0665   8.050237e+05   1.000000e-15   2.338608e+04"
       ]
      },
      {
       "output_type": "stream",
       "stream": "stdout",
       "text": [
        " \r",
        "0666   8.050226e+05   1.000000e-15   5.154969e+03"
       ]
      },
      {
       "output_type": "stream",
       "stream": "stdout",
       "text": [
        " \r",
        "0667   8.050224e+05   1.000000e-15   7.513539e+03"
       ]
      },
      {
       "output_type": "stream",
       "stream": "stdout",
       "text": [
        " \r",
        "0668   8.050209e+05   1.000000e-15   2.618080e+04"
       ]
      },
      {
       "output_type": "stream",
       "stream": "stdout",
       "text": [
        " \r",
        "0669   8.050207e+05   1.000000e-15   3.375839e+03"
       ]
      },
      {
       "output_type": "stream",
       "stream": "stdout",
       "text": [
        " \r",
        "0670   8.050192e+05   1.000000e-15   4.294700e+04"
       ]
      },
      {
       "output_type": "stream",
       "stream": "stdout",
       "text": [
        " \r",
        "0671   8.050186e+05   1.000000e-15   5.869418e+03"
       ]
      },
      {
       "output_type": "stream",
       "stream": "stdout",
       "text": [
        " \r",
        "0672   8.050174e+05   1.000000e-15   8.035984e+04"
       ]
      },
      {
       "output_type": "stream",
       "stream": "stdout",
       "text": [
        " \r",
        "0673   8.050159e+05   1.000000e-15   9.933548e+03"
       ]
      },
      {
       "output_type": "stream",
       "stream": "stdout",
       "text": [
        " \r",
        "0674   8.050150e+05   1.000000e-15   1.190160e+05"
       ]
      },
      {
       "output_type": "stream",
       "stream": "stdout",
       "text": [
        " \r",
        "0675   8.050121e+05   1.000000e-15   9.449432e+03"
       ]
      },
      {
       "output_type": "stream",
       "stream": "stdout",
       "text": [
        " \r",
        "0676   8.050109e+05   1.000000e-15   1.875090e+05"
       ]
      },
      {
       "output_type": "stream",
       "stream": "stdout",
       "text": [
        " \r",
        "0677   8.050069e+05   1.000000e-15   1.540734e+04"
       ]
      },
      {
       "output_type": "stream",
       "stream": "stdout",
       "text": [
        " \r",
        "0678   8.050063e+05   1.000000e-15   4.155888e+04"
       ]
      },
      {
       "output_type": "stream",
       "stream": "stdout",
       "text": [
        " \r",
        "0679   8.049965e+05   1.000000e-15   7.495107e+04"
       ]
      },
      {
       "output_type": "stream",
       "stream": "stdout",
       "text": [
        " \r",
        "0680   8.049929e+05   1.000000e-15   2.139874e+04"
       ]
      },
      {
       "output_type": "stream",
       "stream": "stdout",
       "text": [
        " \r",
        "0681   8.049905e+05   1.000000e-15   2.982405e+05"
       ]
      },
      {
       "output_type": "stream",
       "stream": "stdout",
       "text": [
        " \r",
        "0682   8.049897e+05   1.000000e-15   1.377329e+04"
       ]
      },
      {
       "output_type": "stream",
       "stream": "stdout",
       "text": [
        " \r",
        "0683   8.049893e+05   1.000000e-15   4.179808e+04"
       ]
      },
      {
       "output_type": "stream",
       "stream": "stdout",
       "text": [
        " \r",
        "0684   8.049885e+05   1.000000e-15   1.226730e+04"
       ]
      },
      {
       "output_type": "stream",
       "stream": "stdout",
       "text": [
        " \r",
        "0685   8.049882e+05   1.000000e-15   3.708357e+04"
       ]
      },
      {
       "output_type": "stream",
       "stream": "stdout",
       "text": [
        " \r",
        "0686   8.049871e+05   1.000000e-15   1.816652e+04"
       ]
      },
      {
       "output_type": "stream",
       "stream": "stdout",
       "text": [
        " \r",
        "0687   8.049867e+05   1.000000e-15   4.120735e+04"
       ]
      },
      {
       "output_type": "stream",
       "stream": "stdout",
       "text": [
        " \r",
        "0688   8.049856e+05   1.000000e-15   2.303513e+04"
       ]
      },
      {
       "output_type": "stream",
       "stream": "stdout",
       "text": [
        " \r",
        "0689   8.049853e+05   1.000000e-15   3.402657e+04"
       ]
      },
      {
       "output_type": "stream",
       "stream": "stdout",
       "text": [
        " \r",
        "0690   8.049841e+05   1.000000e-15   2.458922e+04"
       ]
      },
      {
       "output_type": "stream",
       "stream": "stdout",
       "text": [
        " \r",
        "0691   8.049837e+05   1.000000e-15   3.993710e+04"
       ]
      },
      {
       "output_type": "stream",
       "stream": "stdout",
       "text": [
        " \r",
        "0692   8.049821e+05   1.000000e-15   3.443914e+04"
       ]
      },
      {
       "output_type": "stream",
       "stream": "stdout",
       "text": [
        " \r",
        "0693   8.049816e+05   1.000000e-15   5.126335e+04"
       ]
      },
      {
       "output_type": "stream",
       "stream": "stdout",
       "text": [
        " \r",
        "0694   8.049797e+05   1.000000e-15   4.219667e+04"
       ]
      },
      {
       "output_type": "stream",
       "stream": "stdout",
       "text": [
        " \r",
        "0695   8.049791e+05   1.000000e-15   5.892400e+04"
       ]
      },
      {
       "output_type": "stream",
       "stream": "stdout",
       "text": [
        " \r",
        "0696   8.049769e+05   1.000000e-15   4.981047e+04"
       ]
      },
      {
       "output_type": "stream",
       "stream": "stdout",
       "text": [
        " \r",
        "0697   8.049762e+05   1.000000e-15   6.330484e+04"
       ]
      },
      {
       "output_type": "stream",
       "stream": "stdout",
       "text": [
        " \r",
        "0698   8.049742e+05   1.000000e-15   5.475481e+04"
       ]
      },
      {
       "output_type": "stream",
       "stream": "stdout",
       "text": [
        " \r",
        "0699   8.049736e+05   1.000000e-15   4.719103e+04"
       ]
      },
      {
       "output_type": "stream",
       "stream": "stdout",
       "text": [
        " \r",
        "0700   8.049719e+05   1.000000e-15   4.760488e+04"
       ]
      },
      {
       "output_type": "stream",
       "stream": "stdout",
       "text": [
        " \r",
        "0701   8.049714e+05   1.000000e-15   3.512433e+04"
       ]
      },
      {
       "output_type": "stream",
       "stream": "stdout",
       "text": [
        " \r",
        "0702   8.049694e+05   1.000000e-15   5.476080e+04"
       ]
      },
      {
       "output_type": "stream",
       "stream": "stdout",
       "text": [
        " \r",
        "0703   8.049688e+05   1.000000e-15   3.637397e+04"
       ]
      },
      {
       "output_type": "stream",
       "stream": "stdout",
       "text": [
        " \r",
        "0704   8.049666e+05   1.000000e-15   7.519719e+04"
       ]
      },
      {
       "output_type": "stream",
       "stream": "stdout",
       "text": [
        " \r",
        "0705   8.049659e+05   1.000000e-15   3.111506e+04"
       ]
      },
      {
       "output_type": "stream",
       "stream": "stdout",
       "text": [
        " \r",
        "0706   8.049638e+05   1.000000e-15   8.422454e+04"
       ]
      },
      {
       "output_type": "stream",
       "stream": "stdout",
       "text": [
        " \r",
        "0707   8.049629e+05   1.000000e-15   2.935937e+04"
       ]
      },
      {
       "output_type": "stream",
       "stream": "stdout",
       "text": [
        " \r",
        "0708   8.049607e+05   1.000000e-15   1.220857e+05"
       ]
      },
      {
       "output_type": "stream",
       "stream": "stdout",
       "text": [
        " \r",
        "0709   8.049591e+05   1.000000e-15   2.919792e+04"
       ]
      },
      {
       "output_type": "stream",
       "stream": "stdout",
       "text": [
        " \r",
        "0710   8.049566e+05   1.000000e-15   1.996945e+05"
       ]
      },
      {
       "output_type": "stream",
       "stream": "stdout",
       "text": [
        " \r",
        "0711   8.049521e+05   1.000000e-15   2.945842e+04"
       ]
      },
      {
       "output_type": "stream",
       "stream": "stdout",
       "text": [
        " \r",
        "0712   8.049498e+05   1.000000e-15   3.137419e+05"
       ]
      },
      {
       "output_type": "stream",
       "stream": "stdout",
       "text": [
        " \r",
        "0713   8.049465e+05   1.000000e-15   1.877240e+04"
       ]
      },
      {
       "output_type": "stream",
       "stream": "stdout",
       "text": [
        " \r",
        "0714   8.049453e+05   1.000000e-15   1.668816e+05"
       ]
      },
      {
       "output_type": "stream",
       "stream": "stdout",
       "text": [
        " \r",
        "0715   8.049418e+05   1.000000e-15   2.222873e+04"
       ]
      },
      {
       "output_type": "stream",
       "stream": "stdout",
       "text": [
        " \r",
        "0716   8.049410e+05   1.000000e-15   1.205165e+05"
       ]
      },
      {
       "output_type": "stream",
       "stream": "stdout",
       "text": [
        " \r",
        "0717   8.049368e+05   1.000000e-15   2.614240e+04"
       ]
      },
      {
       "output_type": "stream",
       "stream": "stdout",
       "text": [
        " \r",
        "0718   8.049362e+05   1.000000e-15   1.092587e+05"
       ]
      },
      {
       "output_type": "stream",
       "stream": "stdout",
       "text": [
        " \r",
        "0719   8.049295e+05   1.000000e-15   2.431977e+04"
       ]
      },
      {
       "output_type": "stream",
       "stream": "stdout",
       "text": [
        " \r",
        "0720   8.049288e+05   1.000000e-15   1.171161e+05"
       ]
      },
      {
       "output_type": "stream",
       "stream": "stdout",
       "text": [
        " \r",
        "0721   8.049200e+05   1.000000e-15   4.407697e+04"
       ]
      },
      {
       "output_type": "stream",
       "stream": "stdout",
       "text": [
        " \r",
        "0722   8.049193e+05   1.000000e-15   4.379808e+04"
       ]
      },
      {
       "output_type": "stream",
       "stream": "stdout",
       "text": [
        " \r",
        "0723   8.049124e+05   1.000000e-15   1.010992e+05"
       ]
      },
      {
       "output_type": "stream",
       "stream": "stdout",
       "text": [
        " \r",
        "0724   8.049116e+05   1.000000e-15   1.806664e+04"
       ]
      },
      {
       "output_type": "stream",
       "stream": "stdout",
       "text": [
        " \r",
        "0725   8.049061e+05   1.000000e-15   1.323920e+05"
       ]
      },
      {
       "output_type": "stream",
       "stream": "stdout",
       "text": [
        " \r",
        "0726   8.049053e+05   1.000000e-15   1.796105e+04"
       ]
      },
      {
       "output_type": "stream",
       "stream": "stdout",
       "text": [
        " \r",
        "0727   8.049031e+05   1.000000e-15   1.117173e+05"
       ]
      },
      {
       "output_type": "stream",
       "stream": "stdout",
       "text": [
        " \r",
        "0728   8.049018e+05   1.000000e-15   1.539140e+04"
       ]
      },
      {
       "output_type": "stream",
       "stream": "stdout",
       "text": [
        " \r",
        "0729   8.049002e+05   1.000000e-15   1.513225e+05"
       ]
      },
      {
       "output_type": "stream",
       "stream": "stdout",
       "text": [
        " \r",
        "0730   8.048965e+05   1.000000e-15   1.448470e+04"
       ]
      },
      {
       "output_type": "stream",
       "stream": "stdout",
       "text": [
        " \r",
        "0731   8.048952e+05   1.000000e-15   1.915722e+05"
       ]
      },
      {
       "output_type": "stream",
       "stream": "stdout",
       "text": [
        " \r",
        "0732   8.048926e+05   1.000000e-15   1.843811e+04"
       ]
      },
      {
       "output_type": "stream",
       "stream": "stdout",
       "text": [
        " \r",
        "0733   8.048923e+05   1.000000e-15   4.035666e+04"
       ]
      },
      {
       "output_type": "stream",
       "stream": "stdout",
       "text": [
        " \r",
        "0734   8.048893e+05   1.000000e-15   1.635653e+04"
       ]
      },
      {
       "output_type": "stream",
       "stream": "stdout",
       "text": [
        " \r",
        "0735   8.048890e+05   1.000000e-15   2.943309e+04"
       ]
      },
      {
       "output_type": "stream",
       "stream": "stdout",
       "text": [
        " \r",
        "0736   8.048867e+05   1.000000e-15   2.926665e+04"
       ]
      },
      {
       "output_type": "stream",
       "stream": "stdout",
       "text": [
        " \r",
        "0737   8.048863e+05   1.000000e-15   1.437629e+04"
       ]
      },
      {
       "output_type": "stream",
       "stream": "stdout",
       "text": [
        " \r",
        "0738   8.048835e+05   1.000000e-15   5.927575e+04"
       ]
      },
      {
       "output_type": "stream",
       "stream": "stdout",
       "text": [
        " \r",
        "0739   8.048826e+05   1.000000e-15   1.461557e+04"
       ]
      },
      {
       "output_type": "stream",
       "stream": "stdout",
       "text": [
        " \r",
        "0740   8.048803e+05   1.000000e-15   1.360907e+05"
       ]
      },
      {
       "output_type": "stream",
       "stream": "stdout",
       "text": [
        " \r",
        "0741   8.048766e+05   1.000000e-15   1.881958e+04"
       ]
      },
      {
       "output_type": "stream",
       "stream": "stdout",
       "text": [
        " \r",
        "0742   8.048757e+05   1.000000e-15   1.427000e+05"
       ]
      },
      {
       "output_type": "stream",
       "stream": "stdout",
       "text": [
        " \r",
        "0743   8.048730e+05   1.000000e-15   1.183596e+04"
       ]
      },
      {
       "output_type": "stream",
       "stream": "stdout",
       "text": [
        " \r",
        "0744   8.048727e+05   1.000000e-15   5.541157e+04"
       ]
      },
      {
       "output_type": "stream",
       "stream": "stdout",
       "text": [
        " \r",
        "0745   8.048704e+05   1.000000e-15   1.446852e+04"
       ]
      },
      {
       "output_type": "stream",
       "stream": "stdout",
       "text": [
        " \r",
        "0746   8.048702e+05   1.000000e-15   3.092197e+04"
       ]
      },
      {
       "output_type": "stream",
       "stream": "stdout",
       "text": [
        " \r",
        "0747   8.048676e+05   1.000000e-15   2.058270e+04"
       ]
      },
      {
       "output_type": "stream",
       "stream": "stdout",
       "text": [
        " \r",
        "0748   8.048674e+05   1.000000e-15   2.582344e+04"
       ]
      },
      {
       "output_type": "stream",
       "stream": "stdout",
       "text": [
        " \r",
        "0749   8.048648e+05   1.000000e-15   2.270390e+04"
       ]
      },
      {
       "output_type": "stream",
       "stream": "stdout",
       "text": [
        " \r",
        "0750   8.048645e+05   1.000000e-15   2.791017e+04"
       ]
      },
      {
       "output_type": "stream",
       "stream": "stdout",
       "text": [
        " \r",
        "0751   8.048622e+05   1.000000e-15   3.276737e+04"
       ]
      },
      {
       "output_type": "stream",
       "stream": "stdout",
       "text": [
        " \r",
        "0752   8.048619e+05   1.000000e-15   2.125426e+04"
       ]
      },
      {
       "output_type": "stream",
       "stream": "stdout",
       "text": [
        " \r",
        "0753   8.048596e+05   1.000000e-15   3.534965e+04"
       ]
      },
      {
       "output_type": "stream",
       "stream": "stdout",
       "text": [
        " \r",
        "0754   8.048592e+05   1.000000e-15   2.354031e+04"
       ]
      },
      {
       "output_type": "stream",
       "stream": "stdout",
       "text": [
        " \r",
        "0755   8.048566e+05   1.000000e-15   5.798820e+04"
       ]
      },
      {
       "output_type": "stream",
       "stream": "stdout",
       "text": [
        " \r",
        "0756   8.048561e+05   1.000000e-15   2.226254e+04"
       ]
      },
      {
       "output_type": "stream",
       "stream": "stdout",
       "text": [
        " \r",
        "0757   8.048538e+05   1.000000e-15   6.557069e+04"
       ]
      },
      {
       "output_type": "stream",
       "stream": "stdout",
       "text": [
        " \r",
        "0758   8.048533e+05   1.000000e-15   2.142163e+04"
       ]
      },
      {
       "output_type": "stream",
       "stream": "stdout",
       "text": [
        " \r",
        "0759   8.048518e+05   1.000000e-15   6.609393e+04"
       ]
      },
      {
       "output_type": "stream",
       "stream": "stdout",
       "text": [
        " \r",
        "0760   8.048513e+05   1.000000e-15   1.636011e+04"
       ]
      },
      {
       "output_type": "stream",
       "stream": "stdout",
       "text": [
        " \r",
        "0761   8.048501e+05   1.000000e-15   6.039132e+04"
       ]
      },
      {
       "output_type": "stream",
       "stream": "stdout",
       "text": [
        " \r",
        "0762   8.048494e+05   1.000000e-15   1.907571e+04"
       ]
      },
      {
       "output_type": "stream",
       "stream": "stdout",
       "text": [
        " \r",
        "0763   8.048479e+05   1.000000e-15   9.181299e+04"
       ]
      },
      {
       "output_type": "stream",
       "stream": "stdout",
       "text": [
        " \r",
        "0764   8.048469e+05   1.000000e-15   2.363277e+04"
       ]
      },
      {
       "output_type": "stream",
       "stream": "stdout",
       "text": [
        " \r",
        "0765   8.048457e+05   1.000000e-15   1.005989e+05"
       ]
      },
      {
       "output_type": "stream",
       "stream": "stdout",
       "text": [
        " \r",
        "0766   8.048447e+05   1.000000e-15   2.164310e+04"
       ]
      },
      {
       "output_type": "stream",
       "stream": "stdout",
       "text": [
        " \r",
        "0767   8.048438e+05   1.000000e-15   8.488646e+04"
       ]
      },
      {
       "output_type": "stream",
       "stream": "stdout",
       "text": [
        " \r",
        "0768   8.048430e+05   1.000000e-15   2.016535e+04"
       ]
      },
      {
       "output_type": "stream",
       "stream": "stdout",
       "text": [
        " \r",
        "0769   8.048423e+05   1.000000e-15   6.079665e+04"
       ]
      },
      {
       "output_type": "stream",
       "stream": "stdout",
       "text": [
        " \r",
        "0770   8.048416e+05   1.000000e-15   1.754764e+04"
       ]
      },
      {
       "output_type": "stream",
       "stream": "stdout",
       "text": [
        " \r",
        "0771   8.048411e+05   1.000000e-15   4.828950e+04"
       ]
      },
      {
       "output_type": "stream",
       "stream": "stdout",
       "text": [
        " \r",
        "0772   8.048402e+05   1.000000e-15   2.032338e+04"
       ]
      },
      {
       "output_type": "stream",
       "stream": "stdout",
       "text": [
        " \r",
        "0773   8.048396e+05   1.000000e-15   5.958651e+04"
       ]
      },
      {
       "output_type": "stream",
       "stream": "stdout",
       "text": [
        " \r",
        "0774   8.048383e+05   1.000000e-15   2.845650e+04"
       ]
      },
      {
       "output_type": "stream",
       "stream": "stdout",
       "text": [
        " \r",
        "0775   8.048377e+05   1.000000e-15   6.604672e+04"
       ]
      },
      {
       "output_type": "stream",
       "stream": "stdout",
       "text": [
        " \r",
        "0776   8.048364e+05   1.000000e-15   2.923033e+04"
       ]
      },
      {
       "output_type": "stream",
       "stream": "stdout",
       "text": [
        " \r",
        "0777   8.048359e+05   1.000000e-15   6.384066e+04"
       ]
      },
      {
       "output_type": "stream",
       "stream": "stdout",
       "text": [
        " \r",
        "0778   8.048344e+05   1.000000e-15   2.916766e+04"
       ]
      },
      {
       "output_type": "stream",
       "stream": "stdout",
       "text": [
        " \r",
        "0779   8.048338e+05   1.000000e-15   7.039495e+04"
       ]
      },
      {
       "output_type": "stream",
       "stream": "stdout",
       "text": [
        " \r",
        "0780   8.048321e+05   1.000000e-15   3.131535e+04"
       ]
      },
      {
       "output_type": "stream",
       "stream": "stdout",
       "text": [
        " \r",
        "0781   8.048315e+05   1.000000e-15   7.041994e+04"
       ]
      },
      {
       "output_type": "stream",
       "stream": "stdout",
       "text": [
        " \r",
        "0782   8.048295e+05   1.000000e-15   3.188270e+04"
       ]
      },
      {
       "output_type": "stream",
       "stream": "stdout",
       "text": [
        " \r",
        "0783   8.048289e+05   1.000000e-15   7.072740e+04"
       ]
      },
      {
       "output_type": "stream",
       "stream": "stdout",
       "text": [
        " \r",
        "0784   8.048265e+05   1.000000e-15   4.050150e+04"
       ]
      },
      {
       "output_type": "stream",
       "stream": "stdout",
       "text": [
        " \r",
        "0785   8.048258e+05   1.000000e-15   6.423200e+04"
       ]
      },
      {
       "output_type": "stream",
       "stream": "stdout",
       "text": [
        " \r",
        "0786   8.048234e+05   1.000000e-15   4.793021e+04"
       ]
      },
      {
       "output_type": "stream",
       "stream": "stdout",
       "text": [
        " \r",
        "0787   8.048229e+05   1.000000e-15   4.699547e+04"
       ]
      },
      {
       "output_type": "stream",
       "stream": "stdout",
       "text": [
        " \r",
        "0788   8.048202e+05   1.000000e-15   5.678690e+04"
       ]
      },
      {
       "output_type": "stream",
       "stream": "stdout",
       "text": [
        " \r",
        "0789   8.048195e+05   1.000000e-15   4.590508e+04"
       ]
      },
      {
       "output_type": "stream",
       "stream": "stdout",
       "text": [
        " \r",
        "0790   8.048166e+05   1.000000e-15   8.182452e+04"
       ]
      },
      {
       "output_type": "stream",
       "stream": "stdout",
       "text": [
        " \r",
        "0791   8.048159e+05   1.000000e-15   3.793921e+04"
       ]
      },
      {
       "output_type": "stream",
       "stream": "stdout",
       "text": [
        " \r",
        "0792   8.048134e+05   1.000000e-15   9.165982e+04"
       ]
      },
      {
       "output_type": "stream",
       "stream": "stdout",
       "text": [
        " \r",
        "0793   8.048125e+05   1.000000e-15   3.387695e+04"
       ]
      },
      {
       "output_type": "stream",
       "stream": "stdout",
       "text": [
        " \r",
        "0794   8.048101e+05   1.000000e-15   1.278146e+05"
       ]
      },
      {
       "output_type": "stream",
       "stream": "stdout",
       "text": [
        " \r",
        "0795   8.048084e+05   1.000000e-15   3.287569e+04"
       ]
      },
      {
       "output_type": "stream",
       "stream": "stdout",
       "text": [
        " \r",
        "0796   8.048059e+05   1.000000e-15   2.077189e+05"
       ]
      },
      {
       "output_type": "stream",
       "stream": "stdout",
       "text": [
        " \r",
        "0797   8.048005e+05   1.000000e-15   3.370215e+04"
       ]
      },
      {
       "output_type": "stream",
       "stream": "stdout",
       "text": [
        " \r",
        "0798   8.047980e+05   1.000000e-15   3.546193e+05"
       ]
      },
      {
       "output_type": "stream",
       "stream": "stdout",
       "text": [
        " \r",
        "0799   8.047939e+05   1.000000e-15   2.423196e+04"
       ]
      },
      {
       "output_type": "stream",
       "stream": "stdout",
       "text": [
        " \r",
        "0800   8.047930e+05   1.000000e-15   1.374306e+05"
       ]
      },
      {
       "output_type": "stream",
       "stream": "stdout",
       "text": [
        " \r",
        "0801   8.047891e+05   1.000000e-15   2.303703e+04"
       ]
      },
      {
       "output_type": "stream",
       "stream": "stdout",
       "text": [
        " \r",
        "0802   8.047887e+05   1.000000e-15   6.777793e+04"
       ]
      },
      {
       "output_type": "stream",
       "stream": "stdout",
       "text": [
        " \r",
        "0803   8.047843e+05   1.000000e-15   2.450627e+04"
       ]
      },
      {
       "output_type": "stream",
       "stream": "stdout",
       "text": [
        " \r",
        "0804   8.047839e+05   1.000000e-15   5.385233e+04"
       ]
      },
      {
       "output_type": "stream",
       "stream": "stdout",
       "text": [
        " \r",
        "0805   8.047800e+05   1.000000e-15   2.863434e+04"
       ]
      },
      {
       "output_type": "stream",
       "stream": "stdout",
       "text": [
        " \r",
        "0806   8.047796e+05   1.000000e-15   3.888150e+04"
       ]
      },
      {
       "output_type": "stream",
       "stream": "stdout",
       "text": [
        " \r",
        "0807   8.047756e+05   1.000000e-15   4.077794e+04"
       ]
      },
      {
       "output_type": "stream",
       "stream": "stdout",
       "text": [
        " \r",
        "0808   8.047753e+05   1.000000e-15   2.848213e+04"
       ]
      },
      {
       "output_type": "stream",
       "stream": "stdout",
       "text": [
        " \r",
        "0809   8.047722e+05   1.000000e-15   4.735449e+04"
       ]
      },
      {
       "output_type": "stream",
       "stream": "stdout",
       "text": [
        " \r",
        "0810   8.047718e+05   1.000000e-15   2.214302e+04"
       ]
      },
      {
       "output_type": "stream",
       "stream": "stdout",
       "text": [
        " \r",
        "0811   8.047693e+05   1.000000e-15   6.284896e+04"
       ]
      },
      {
       "output_type": "stream",
       "stream": "stdout",
       "text": [
        " \r",
        "0812   8.047688e+05   1.000000e-15   1.850217e+04"
       ]
      },
      {
       "output_type": "stream",
       "stream": "stdout",
       "text": [
        " \r",
        "0813   8.047667e+05   1.000000e-15   7.833854e+04"
       ]
      },
      {
       "output_type": "stream",
       "stream": "stdout",
       "text": [
        " \r",
        "0814   8.047660e+05   1.000000e-15   2.045083e+04"
       ]
      },
      {
       "output_type": "stream",
       "stream": "stdout",
       "text": [
        " \r",
        "0815   8.047645e+05   1.000000e-15   9.193976e+04"
       ]
      },
      {
       "output_type": "stream",
       "stream": "stdout",
       "text": [
        " \r",
        "0816   8.047637e+05   1.000000e-15   1.665532e+04"
       ]
      },
      {
       "output_type": "stream",
       "stream": "stdout",
       "text": [
        " \r",
        "0817   8.047626e+05   1.000000e-15   8.602238e+04"
       ]
      },
      {
       "output_type": "stream",
       "stream": "stdout",
       "text": [
        " \r",
        "0818   8.047616e+05   1.000000e-15   1.705738e+04"
       ]
      },
      {
       "output_type": "stream",
       "stream": "stdout",
       "text": [
        " \r",
        "0819   8.047607e+05   1.000000e-15   9.324917e+04"
       ]
      },
      {
       "output_type": "stream",
       "stream": "stdout",
       "text": [
        " \r",
        "0820   8.047595e+05   1.000000e-15   1.703828e+04"
       ]
      },
      {
       "output_type": "stream",
       "stream": "stdout",
       "text": [
        " \r",
        "0821   8.047589e+05   1.000000e-15   7.843437e+04"
       ]
      },
      {
       "output_type": "stream",
       "stream": "stdout",
       "text": [
        " \r",
        "0822   8.047575e+05   1.000000e-15   1.655259e+04"
       ]
      },
      {
       "output_type": "stream",
       "stream": "stdout",
       "text": [
        " \r",
        "0823   8.047570e+05   1.000000e-15   6.644685e+04"
       ]
      },
      {
       "output_type": "stream",
       "stream": "stdout",
       "text": [
        " \r",
        "0824   8.047555e+05   1.000000e-15   1.805829e+04"
       ]
      },
      {
       "output_type": "stream",
       "stream": "stdout",
       "text": [
        " \r",
        "0825   8.047551e+05   1.000000e-15   5.233761e+04"
       ]
      },
      {
       "output_type": "stream",
       "stream": "stdout",
       "text": [
        " \r",
        "0826   8.047534e+05   1.000000e-15   2.030874e+04"
       ]
      },
      {
       "output_type": "stream",
       "stream": "stdout",
       "text": [
        " \r",
        "0827   8.047531e+05   1.000000e-15   4.052522e+04"
       ]
      },
      {
       "output_type": "stream",
       "stream": "stdout",
       "text": [
        " \r",
        "0828   8.047517e+05   1.000000e-15   2.101727e+04"
       ]
      },
      {
       "output_type": "stream",
       "stream": "stdout",
       "text": [
        " \r",
        "0829   8.047515e+05   1.000000e-15   2.494905e+04"
       ]
      },
      {
       "output_type": "stream",
       "stream": "stdout",
       "text": [
        " \r",
        "0830   8.047501e+05   1.000000e-15   1.962315e+04"
       ]
      },
      {
       "output_type": "stream",
       "stream": "stdout",
       "text": [
        " \r",
        "0831   8.047499e+05   1.000000e-15   2.240768e+04"
       ]
      },
      {
       "output_type": "stream",
       "stream": "stdout",
       "text": [
        " \r",
        "0832   8.047482e+05   1.000000e-15   3.089078e+04"
       ]
      },
      {
       "output_type": "stream",
       "stream": "stdout",
       "text": [
        " \r",
        "0833   8.047478e+05   1.000000e-15   2.144237e+04"
       ]
      },
      {
       "output_type": "stream",
       "stream": "stdout",
       "text": [
        " \r",
        "0834   8.047463e+05   1.000000e-15   4.467259e+04"
       ]
      },
      {
       "output_type": "stream",
       "stream": "stdout",
       "text": [
        " \r",
        "0835   8.047458e+05   1.000000e-15   1.666777e+04"
       ]
      },
      {
       "output_type": "stream",
       "stream": "stdout",
       "text": [
        " \r",
        "0836   8.047445e+05   1.000000e-15   5.797780e+04"
       ]
      },
      {
       "output_type": "stream",
       "stream": "stdout",
       "text": [
        " \r",
        "0837   8.047440e+05   1.000000e-15   1.191173e+04"
       ]
      },
      {
       "output_type": "stream",
       "stream": "stdout",
       "text": [
        " \r",
        "0838   8.047429e+05   1.000000e-15   6.683987e+04"
       ]
      },
      {
       "output_type": "stream",
       "stream": "stdout",
       "text": [
        " \r",
        "0839   8.047421e+05   1.000000e-15   9.950156e+03"
       ]
      },
      {
       "output_type": "stream",
       "stream": "stdout",
       "text": [
        " \r",
        "0840   8.047413e+05   1.000000e-15   8.735586e+04"
       ]
      },
      {
       "output_type": "stream",
       "stream": "stdout",
       "text": [
        " \r",
        "0841   8.047396e+05   1.000000e-15   8.431942e+03"
       ]
      },
      {
       "output_type": "stream",
       "stream": "stdout",
       "text": [
        " \r",
        "0842   8.047393e+05   1.000000e-15   5.815616e+04"
       ]
      },
      {
       "output_type": "stream",
       "stream": "stdout",
       "text": [
        " \r",
        "0843   8.047374e+05   1.000000e-15   8.915565e+03"
       ]
      },
      {
       "output_type": "stream",
       "stream": "stdout",
       "text": [
        " \r",
        "0844   8.047372e+05   1.000000e-15   8.109973e+03"
       ]
      },
      {
       "output_type": "stream",
       "stream": "stdout",
       "text": [
        " \r",
        "0845   8.047358e+05   1.000000e-15   2.403690e+04"
       ]
      },
      {
       "output_type": "stream",
       "stream": "stdout",
       "text": [
        " \r",
        "0846   8.047353e+05   1.000000e-15   3.959074e+03"
       ]
      },
      {
       "output_type": "stream",
       "stream": "stdout",
       "text": [
        " \r",
        "0847   8.047347e+05   1.000000e-15   6.310365e+04"
       ]
      },
      {
       "output_type": "stream",
       "stream": "stdout",
       "text": [
        " \r",
        "0848   8.047339e+05   1.000000e-15   3.169093e+03"
       ]
      },
      {
       "output_type": "stream",
       "stream": "stdout",
       "text": [
        " \r",
        "0849   8.047336e+05   1.000000e-15   3.574055e+04"
       ]
      },
      {
       "output_type": "stream",
       "stream": "stdout",
       "text": [
        " \r",
        "0850   8.047326e+05   1.000000e-15   4.291494e+03"
       ]
      },
      {
       "output_type": "stream",
       "stream": "stdout",
       "text": [
        " \r",
        "0851   8.047325e+05   1.000000e-15   9.335718e+03"
       ]
      },
      {
       "output_type": "stream",
       "stream": "stdout",
       "text": [
        " \r",
        "0852   8.047316e+05   1.000000e-15   5.940066e+03"
       ]
      },
      {
       "output_type": "stream",
       "stream": "stdout",
       "text": [
        " \r",
        "0853   8.047314e+05   1.000000e-15   4.561450e+03"
       ]
      },
      {
       "output_type": "stream",
       "stream": "stdout",
       "text": [
        " \r",
        "0854   8.047304e+05   1.000000e-15   3.051985e+04"
       ]
      },
      {
       "output_type": "stream",
       "stream": "stdout",
       "text": [
        " \r",
        "0855   8.047296e+05   1.000000e-15   3.092567e+03"
       ]
      },
      {
       "output_type": "stream",
       "stream": "stdout",
       "text": [
        " \r",
        "0856   8.047293e+05   1.000000e-15   5.364913e+04"
       ]
      },
      {
       "output_type": "stream",
       "stream": "stdout",
       "text": [
        " \r",
        "0857   8.047280e+05   1.000000e-15   3.408392e+03"
       ]
      },
      {
       "output_type": "stream",
       "stream": "stdout",
       "text": [
        " \r",
        "0858   8.047276e+05   1.000000e-15   2.921471e+03"
       ]
      },
      {
       "output_type": "stream",
       "stream": "stdout",
       "text": [
        " \r",
        "0859   8.047270e+05   1.000000e-15   4.867810e+04"
       ]
      },
      {
       "output_type": "stream",
       "stream": "stdout",
       "text": [
        " \r",
        "0860   8.047263e+05   1.000000e-15   2.408796e+03"
       ]
      },
      {
       "output_type": "stream",
       "stream": "stdout",
       "text": [
        " \r",
        "0861   8.047262e+05   1.000000e-15   1.517366e+04"
       ]
      },
      {
       "output_type": "stream",
       "stream": "stdout",
       "text": [
        " \r",
        "0862   8.047256e+05   1.000000e-15   2.448306e+03"
       ]
      },
      {
       "output_type": "stream",
       "stream": "stdout",
       "text": [
        " \r",
        "0863   8.047256e+05   1.000000e-15   2.517876e+03"
       ]
      },
      {
       "output_type": "stream",
       "stream": "stdout",
       "text": [
        " \r",
        "0864   8.047249e+05   1.000000e-15   1.080235e+04"
       ]
      },
      {
       "output_type": "stream",
       "stream": "stdout",
       "text": [
        " \r",
        "0865   8.047243e+05   1.000000e-15   2.731716e+03"
       ]
      },
      {
       "output_type": "stream",
       "stream": "stdout",
       "text": [
        " \r",
        "0866   8.047242e+05   1.000000e-15   1.590246e+04"
       ]
      },
      {
       "output_type": "stream",
       "stream": "stdout",
       "text": [
        " \r",
        "0867   8.047234e+05   1.000000e-15   2.431869e+03"
       ]
      },
      {
       "output_type": "stream",
       "stream": "stdout",
       "text": [
        " \r",
        "0868   8.047234e+05   1.000000e-15   2.569451e+03"
       ]
      },
      {
       "output_type": "stream",
       "stream": "stdout",
       "text": [
        " \r",
        "0869   8.047227e+05   1.000000e-15   8.160488e+03"
       ]
      },
      {
       "output_type": "stream",
       "stream": "stdout",
       "text": [
        " \r",
        "0870   8.047222e+05   1.000000e-15   2.476638e+03"
       ]
      },
      {
       "output_type": "stream",
       "stream": "stdout",
       "text": [
        " \r",
        "0871   8.047216e+05   1.000000e-15   5.607095e+04"
       ]
      },
      {
       "output_type": "stream",
       "stream": "stdout",
       "text": [
        " \r",
        "0872   8.047206e+05   1.000000e-15   2.976253e+03"
       ]
      },
      {
       "output_type": "stream",
       "stream": "stdout",
       "text": [
        " \r",
        "0873   8.047205e+05   1.000000e-15   5.128816e+03"
       ]
      },
      {
       "output_type": "stream",
       "stream": "stdout",
       "text": [
        " \r",
        "0874   8.047195e+05   1.000000e-15   1.340466e+04"
       ]
      },
      {
       "output_type": "stream",
       "stream": "stdout",
       "text": [
        " \r",
        "0875   8.047183e+05   1.000000e-15   4.387900e+03"
       ]
      },
      {
       "output_type": "stream",
       "stream": "stdout",
       "text": [
        " \r",
        "0876   8.047179e+05   1.000000e-15   4.362104e+03"
       ]
      },
      {
       "output_type": "stream",
       "stream": "stdout",
       "text": [
        " \r",
        "0877   8.047172e+05   1.000000e-15   5.375094e+04"
       ]
      },
      {
       "output_type": "stream",
       "stream": "stdout",
       "text": [
        " \r",
        "0878   8.047161e+05   1.000000e-15   3.478409e+03"
       ]
      },
      {
       "output_type": "stream",
       "stream": "stdout",
       "text": [
        " \r",
        "0879   8.047159e+05   1.000000e-15   2.988836e+04"
       ]
      },
      {
       "output_type": "stream",
       "stream": "stdout",
       "text": [
        " \r",
        "0880   8.047149e+05   1.000000e-15   4.811590e+03"
       ]
      },
      {
       "output_type": "stream",
       "stream": "stdout",
       "text": [
        " \r",
        "0881   8.047147e+05   1.000000e-15   4.483346e+03"
       ]
      },
      {
       "output_type": "stream",
       "stream": "stdout",
       "text": [
        " \r",
        "0882   8.047137e+05   1.000000e-15   2.927900e+04"
       ]
      },
      {
       "output_type": "stream",
       "stream": "stdout",
       "text": [
        " \r",
        "0883   8.047124e+05   1.000000e-15   4.093408e+03"
       ]
      },
      {
       "output_type": "stream",
       "stream": "stdout",
       "text": [
        " \r",
        "0884   8.047123e+05   1.000000e-15   1.112704e+04"
       ]
      },
      {
       "output_type": "stream",
       "stream": "stdout",
       "text": [
        " \r",
        "0885   8.047109e+05   1.000000e-15   6.682275e+03"
       ]
      },
      {
       "output_type": "stream",
       "stream": "stdout",
       "text": [
        " \r",
        "0886   8.047097e+05   1.000000e-15   5.068061e+03"
       ]
      },
      {
       "output_type": "stream",
       "stream": "stdout",
       "text": [
        " \r",
        "0887   8.047096e+05   1.000000e-15   2.293456e+04"
       ]
      },
      {
       "output_type": "stream",
       "stream": "stdout",
       "text": [
        " \r",
        "0888   8.047083e+05   1.000000e-15   6.461808e+03"
       ]
      },
      {
       "output_type": "stream",
       "stream": "stdout",
       "text": [
        " \r",
        "0889   8.047069e+05   1.000000e-15   5.078562e+03"
       ]
      },
      {
       "output_type": "stream",
       "stream": "stdout",
       "text": [
        " \r",
        "0890   8.047068e+05   1.000000e-15   6.082685e+03"
       ]
      },
      {
       "output_type": "stream",
       "stream": "stdout",
       "text": [
        " \r",
        "0891   8.047062e+05   1.000000e-15   1.731453e+04"
       ]
      },
      {
       "output_type": "stream",
       "stream": "stdout",
       "text": [
        " \r",
        "0892   8.047058e+05   1.000000e-15   1.409739e+03"
       ]
      },
      {
       "output_type": "stream",
       "stream": "stdout",
       "text": [
        " \r",
        "0893   8.047058e+05   1.000000e-15   6.323913e+03"
       ]
      },
      {
       "output_type": "stream",
       "stream": "stdout",
       "text": [
        " \r",
        "0894   8.047053e+05   1.000000e-15   1.499917e+03"
       ]
      },
      {
       "output_type": "stream",
       "stream": "stdout",
       "text": [
        " \r",
        "0895   8.047052e+05   1.000000e-15   1.521927e+03"
       ]
      },
      {
       "output_type": "stream",
       "stream": "stdout",
       "text": [
        " \r",
        "0896   8.047049e+05   1.000000e-15   1.110324e+04"
       ]
      },
      {
       "output_type": "stream",
       "stream": "stdout",
       "text": [
        " \r",
        "0897   8.047045e+05   1.000000e-15   1.340904e+03"
       ]
      },
      {
       "output_type": "stream",
       "stream": "stdout",
       "text": [
        " \r",
        "0898   8.047044e+05   1.000000e-15   1.603287e+03"
       ]
      },
      {
       "output_type": "stream",
       "stream": "stdout",
       "text": [
        " \r",
        "0899   8.047041e+05   1.000000e-15   4.092204e+03"
       ]
      },
      {
       "output_type": "stream",
       "stream": "stdout",
       "text": [
        " \r",
        "0900   8.047038e+05   1.000000e-15   1.506144e+03"
       ]
      },
      {
       "output_type": "stream",
       "stream": "stdout",
       "text": [
        " \r",
        "0901   8.047035e+05   1.000000e-15   8.046354e+02"
       ]
      },
      {
       "output_type": "stream",
       "stream": "stdout",
       "text": [
        " \n",
        "\r"
       ]
      },
      {
       "output_type": "stream",
       "stream": "stdout",
       "text": [
        "0902   8.047035e+05   1.000000e-15   7.834116e+03"
       ]
      },
      {
       "output_type": "stream",
       "stream": "stdout",
       "text": [
        " \r",
        "0903   8.047031e+05   1.000000e-15   1.117339e+03"
       ]
      },
      {
       "output_type": "stream",
       "stream": "stdout",
       "text": [
        " \r",
        "0904   8.047028e+05   1.000000e-15   1.702668e+03"
       ]
      },
      {
       "output_type": "stream",
       "stream": "stdout",
       "text": [
        " \r",
        "0905   8.047025e+05   1.000000e-15   2.828759e+04"
       ]
      },
      {
       "output_type": "stream",
       "stream": "stdout",
       "text": [
        " \r",
        "0906   8.047021e+05   1.000000e-15   1.748579e+03"
       ]
      },
      {
       "output_type": "stream",
       "stream": "stdout",
       "text": [
        " \r",
        "0907   8.047020e+05   1.000000e-15   4.317838e+03"
       ]
      },
      {
       "output_type": "stream",
       "stream": "stdout",
       "text": [
        " \r",
        "0908   8.047016e+05   1.000000e-15   2.877642e+03"
       ]
      },
      {
       "output_type": "stream",
       "stream": "stdout",
       "text": [
        " \r",
        "0909   8.047013e+05   1.000000e-15   1.974657e+03"
       ]
      },
      {
       "output_type": "stream",
       "stream": "stdout",
       "text": [
        " \r",
        "0910   8.047010e+05   1.000000e-15   2.783573e+04"
       ]
      },
      {
       "output_type": "stream",
       "stream": "stdout",
       "text": [
        " \r",
        "0911   8.047004e+05   1.000000e-15   1.742296e+03"
       ]
      },
      {
       "output_type": "stream",
       "stream": "stdout",
       "text": [
        " \r",
        "0912   8.047004e+05   1.000000e-15   4.588750e+03"
       ]
      },
      {
       "output_type": "stream",
       "stream": "stdout",
       "text": [
        " \r",
        "0913   8.046997e+05   1.000000e-15   3.169268e+03"
       ]
      },
      {
       "output_type": "stream",
       "stream": "stdout",
       "text": [
        " \r",
        "0914   8.046994e+05   1.000000e-15   2.143687e+03"
       ]
      },
      {
       "output_type": "stream",
       "stream": "stdout",
       "text": [
        " \r",
        "0915   8.046993e+05   1.000000e-15   2.082742e+04"
       ]
      },
      {
       "output_type": "stream",
       "stream": "stdout",
       "text": [
        " \r",
        "0916   8.046988e+05   1.000000e-15   1.374718e+03"
       ]
      },
      {
       "output_type": "stream",
       "stream": "stdout",
       "text": [
        " \r",
        "0917   8.046988e+05   1.000000e-15   4.030287e+03"
       ]
      },
      {
       "output_type": "stream",
       "stream": "stdout",
       "text": [
        " \r",
        "0918   8.046984e+05   1.000000e-15   2.481672e+03"
       ]
      },
      {
       "output_type": "stream",
       "stream": "stdout",
       "text": [
        " \r",
        "0919   8.046983e+05   1.000000e-15   1.487300e+03"
       ]
      },
      {
       "output_type": "stream",
       "stream": "stdout",
       "text": [
        " \r",
        "0920   8.046980e+05   1.000000e-15   1.521054e+04"
       ]
      },
      {
       "output_type": "stream",
       "stream": "stdout",
       "text": [
        " \r",
        "0921   8.046975e+05   1.000000e-15   1.432804e+03"
       ]
      },
      {
       "output_type": "stream",
       "stream": "stdout",
       "text": [
        " \r",
        "0922   8.046974e+05   1.000000e-15   1.140796e+04"
       ]
      },
      {
       "output_type": "stream",
       "stream": "stdout",
       "text": [
        " \r",
        "0923   8.046968e+05   1.000000e-15   2.407475e+03"
       ]
      },
      {
       "output_type": "stream",
       "stream": "stdout",
       "text": [
        " \r",
        "0924   8.046967e+05   1.000000e-15   2.626530e+03"
       ]
      },
      {
       "output_type": "stream",
       "stream": "stdout",
       "text": [
        " \r",
        "0925   8.046960e+05   1.000000e-15   1.368474e+04"
       ]
      },
      {
       "output_type": "stream",
       "stream": "stdout",
       "text": [
        " \r",
        "0926   8.046954e+05   1.000000e-15   3.166989e+03"
       ]
      },
      {
       "output_type": "stream",
       "stream": "stdout",
       "text": [
        " \r",
        "0927   8.046950e+05   1.000000e-15   4.994375e+04"
       ]
      },
      {
       "output_type": "stream",
       "stream": "stdout",
       "text": [
        " \r",
        "0928   8.046942e+05   1.000000e-15   3.362721e+03"
       ]
      },
      {
       "output_type": "stream",
       "stream": "stdout",
       "text": [
        " \r",
        "0929   8.046940e+05   1.000000e-15   2.275831e+04"
       ]
      },
      {
       "output_type": "stream",
       "stream": "stdout",
       "text": [
        " \r",
        "0930   8.046932e+05   1.000000e-15   3.696136e+03"
       ]
      },
      {
       "output_type": "stream",
       "stream": "stdout",
       "text": [
        " \r",
        "0931   8.046932e+05   1.000000e-15   5.621264e+03"
       ]
      },
      {
       "output_type": "stream",
       "stream": "stdout",
       "text": [
        " \r",
        "0932   8.046923e+05   1.000000e-15   5.744501e+03"
       ]
      },
      {
       "output_type": "stream",
       "stream": "stdout",
       "text": [
        " \r",
        "0933   8.046922e+05   1.000000e-15   3.317632e+03"
       ]
      },
      {
       "output_type": "stream",
       "stream": "stdout",
       "text": [
        " \r",
        "0934   8.046915e+05   1.000000e-15   1.484839e+04"
       ]
      },
      {
       "output_type": "stream",
       "stream": "stdout",
       "text": [
        " \r",
        "0935   8.046910e+05   1.000000e-15   3.114076e+03"
       ]
      },
      {
       "output_type": "stream",
       "stream": "stdout",
       "text": [
        " \r",
        "0936   8.046905e+05   1.000000e-15   5.403305e+04"
       ]
      },
      {
       "output_type": "stream",
       "stream": "stdout",
       "text": [
        " \r",
        "0937   8.046897e+05   1.000000e-15   3.704984e+03"
       ]
      },
      {
       "output_type": "stream",
       "stream": "stdout",
       "text": [
        " \r",
        "0938   8.046895e+05   1.000000e-15   3.948244e+04"
       ]
      },
      {
       "output_type": "stream",
       "stream": "stdout",
       "text": [
        " \r",
        "0939   8.046885e+05   1.000000e-15   3.380283e+03"
       ]
      },
      {
       "output_type": "stream",
       "stream": "stdout",
       "text": [
        " \r",
        "0940   8.046884e+05   1.000000e-15   1.599780e+04"
       ]
      },
      {
       "output_type": "stream",
       "stream": "stdout",
       "text": [
        " \r",
        "0941   8.046874e+05   1.000000e-15   4.892205e+03"
       ]
      },
      {
       "output_type": "stream",
       "stream": "stdout",
       "text": [
        " \r",
        "0942   8.046873e+05   1.000000e-15   5.322389e+03"
       ]
      },
      {
       "output_type": "stream",
       "stream": "stdout",
       "text": [
        " \r",
        "0943   8.046863e+05   1.000000e-15   8.429776e+03"
       ]
      },
      {
       "output_type": "stream",
       "stream": "stdout",
       "text": [
        " \r",
        "0944   8.046862e+05   1.000000e-15   4.294578e+03"
       ]
      },
      {
       "output_type": "stream",
       "stream": "stdout",
       "text": [
        " \r",
        "0945   8.046853e+05   1.000000e-15   2.407188e+04"
       ]
      },
      {
       "output_type": "stream",
       "stream": "stdout",
       "text": [
        " \r",
        "0946   8.046849e+05   1.000000e-15   2.876934e+03"
       ]
      },
      {
       "output_type": "stream",
       "stream": "stdout",
       "text": [
        " \r",
        "0947   8.046844e+05   1.000000e-15   4.968556e+04"
       ]
      },
      {
       "output_type": "stream",
       "stream": "stdout",
       "text": [
        " \r",
        "0948   8.046835e+05   1.000000e-15   4.591142e+03"
       ]
      },
      {
       "output_type": "stream",
       "stream": "stdout",
       "text": [
        " \r",
        "0949   8.046833e+05   1.000000e-15   4.305511e+04"
       ]
      },
      {
       "output_type": "stream",
       "stream": "stdout",
       "text": [
        " \r",
        "0950   8.046826e+05   1.000000e-15   3.527417e+03"
       ]
      },
      {
       "output_type": "stream",
       "stream": "stdout",
       "text": [
        " \r",
        "0951   8.046825e+05   1.000000e-15   1.577976e+04"
       ]
      },
      {
       "output_type": "stream",
       "stream": "stdout",
       "text": [
        " \r",
        "0952   8.046817e+05   1.000000e-15   3.314814e+03"
       ]
      },
      {
       "output_type": "stream",
       "stream": "stdout",
       "text": [
        " \r",
        "0953   8.046817e+05   1.000000e-15   8.180838e+03"
       ]
      },
      {
       "output_type": "stream",
       "stream": "stdout",
       "text": [
        " \r",
        "0954   8.046810e+05   1.000000e-15   4.314979e+03"
       ]
      },
      {
       "output_type": "stream",
       "stream": "stdout",
       "text": [
        " \r",
        "0955   8.046809e+05   1.000000e-15   3.655648e+03"
       ]
      },
      {
       "output_type": "stream",
       "stream": "stdout",
       "text": [
        " \r",
        "0956   8.046803e+05   1.000000e-15   5.242846e+03"
       ]
      },
      {
       "output_type": "stream",
       "stream": "stdout",
       "text": [
        " \r",
        "0957   8.046802e+05   1.000000e-15   2.961401e+03"
       ]
      },
      {
       "output_type": "stream",
       "stream": "stdout",
       "text": [
        " \r",
        "0958   8.046795e+05   1.000000e-15   1.376551e+04"
       ]
      },
      {
       "output_type": "stream",
       "stream": "stdout",
       "text": [
        " \r",
        "0959   8.046793e+05   1.000000e-15   3.600444e+03"
       ]
      },
      {
       "output_type": "stream",
       "stream": "stdout",
       "text": [
        " \r",
        "0960   8.046787e+05   1.000000e-15   3.121456e+04"
       ]
      },
      {
       "output_type": "stream",
       "stream": "stdout",
       "text": [
        " \r",
        "0961   8.046782e+05   1.000000e-15   3.034467e+03"
       ]
      },
      {
       "output_type": "stream",
       "stream": "stdout",
       "text": [
        " \r",
        "0962   8.046777e+05   1.000000e-15   5.503650e+04"
       ]
      },
      {
       "output_type": "stream",
       "stream": "stdout",
       "text": [
        " \r",
        "0963   8.046772e+05   1.000000e-15   3.631954e+03"
       ]
      },
      {
       "output_type": "stream",
       "stream": "stdout",
       "text": [
        " \r",
        "0964   8.046770e+05   1.000000e-15   3.206184e+04"
       ]
      },
      {
       "output_type": "stream",
       "stream": "stdout",
       "text": [
        " \r",
        "0965   8.046762e+05   1.000000e-15   2.788415e+03"
       ]
      },
      {
       "output_type": "stream",
       "stream": "stdout",
       "text": [
        " \r",
        "0966   8.046761e+05   1.000000e-15   2.460621e+04"
       ]
      },
      {
       "output_type": "stream",
       "stream": "stdout",
       "text": [
        " \r",
        "0967   8.046754e+05   1.000000e-15   3.576635e+03"
       ]
      },
      {
       "output_type": "stream",
       "stream": "stdout",
       "text": [
        " \r",
        "0968   8.046754e+05   1.000000e-15   1.070807e+04"
       ]
      },
      {
       "output_type": "stream",
       "stream": "stdout",
       "text": [
        " \r",
        "0969   8.046747e+05   1.000000e-15   3.215393e+03"
       ]
      },
      {
       "output_type": "stream",
       "stream": "stdout",
       "text": [
        " \r",
        "0970   8.046747e+05   1.000000e-15   5.783558e+03"
       ]
      },
      {
       "output_type": "stream",
       "stream": "stdout",
       "text": [
        " \r",
        "0971   8.046741e+05   1.000000e-15   3.881751e+03"
       ]
      },
      {
       "output_type": "stream",
       "stream": "stdout",
       "text": [
        " \r",
        "0972   8.046741e+05   1.000000e-15   2.774740e+03"
       ]
      },
      {
       "output_type": "stream",
       "stream": "stdout",
       "text": [
        " \r",
        "0973   8.046737e+05   1.000000e-15   5.674458e+03"
       ]
      },
      {
       "output_type": "stream",
       "stream": "stdout",
       "text": [
        " \r",
        "0974   8.046736e+05   1.000000e-15   1.931932e+03"
       ]
      },
      {
       "output_type": "stream",
       "stream": "stdout",
       "text": [
        " \r",
        "0975   8.046732e+05   1.000000e-15   8.597096e+03"
       ]
      },
      {
       "output_type": "stream",
       "stream": "stdout",
       "text": [
        " \r",
        "0976   8.046731e+05   1.000000e-15   1.619157e+03"
       ]
      },
      {
       "output_type": "stream",
       "stream": "stdout",
       "text": [
        " \r",
        "0977   8.046728e+05   1.000000e-15   1.777721e+04"
       ]
      },
      {
       "output_type": "stream",
       "stream": "stdout",
       "text": [
        " \r",
        "0978   8.046726e+05   1.000000e-15   1.870333e+03"
       ]
      },
      {
       "output_type": "stream",
       "stream": "stdout",
       "text": [
        " \r",
        "0979   8.046724e+05   1.000000e-15   2.243351e+04"
       ]
      },
      {
       "output_type": "stream",
       "stream": "stdout",
       "text": [
        " \r",
        "0980   8.046721e+05   1.000000e-15   1.558398e+03"
       ]
      },
      {
       "output_type": "stream",
       "stream": "stdout",
       "text": [
        " \r",
        "0981   8.046719e+05   1.000000e-15   2.035632e+04"
       ]
      },
      {
       "output_type": "stream",
       "stream": "stdout",
       "text": [
        " \r",
        "0982   8.046717e+05   1.000000e-15   1.822403e+03"
       ]
      },
      {
       "output_type": "stream",
       "stream": "stdout",
       "text": [
        " \r",
        "0983   8.046716e+05   1.000000e-15   1.124453e+04"
       ]
      },
      {
       "output_type": "stream",
       "stream": "stdout",
       "text": [
        " \r",
        "0984   8.046713e+05   1.000000e-15   1.256637e+03"
       ]
      },
      {
       "output_type": "stream",
       "stream": "stdout",
       "text": [
        " \r",
        "0985   8.046713e+05   1.000000e-15   6.176013e+03"
       ]
      },
      {
       "output_type": "stream",
       "stream": "stdout",
       "text": [
        " \r",
        "0986   8.046710e+05   1.000000e-15   1.361000e+03"
       ]
      },
      {
       "output_type": "stream",
       "stream": "stdout",
       "text": [
        " \r",
        "0987   8.046710e+05   1.000000e-15   3.272479e+03"
       ]
      },
      {
       "output_type": "stream",
       "stream": "stdout",
       "text": [
        " \r",
        "0988   8.046707e+05   1.000000e-15   1.762455e+03"
       ]
      },
      {
       "output_type": "stream",
       "stream": "stdout",
       "text": [
        " \r",
        "0989   8.046707e+05   1.000000e-15   2.195033e+03"
       ]
      },
      {
       "output_type": "stream",
       "stream": "stdout",
       "text": [
        " \r",
        "0990   8.046703e+05   1.000000e-15   2.717779e+03"
       ]
      },
      {
       "output_type": "stream",
       "stream": "stdout",
       "text": [
        " \r",
        "0991   8.046703e+05   1.000000e-15   1.728065e+03"
       ]
      },
      {
       "output_type": "stream",
       "stream": "stdout",
       "text": [
        " \r",
        "0992   8.046700e+05   1.000000e-15   5.418401e+03"
       ]
      },
      {
       "output_type": "stream",
       "stream": "stdout",
       "text": [
        " \r",
        "0993   8.046699e+05   1.000000e-15   1.698463e+03"
       ]
      },
      {
       "output_type": "stream",
       "stream": "stdout",
       "text": [
        " \r",
        "0994   8.046696e+05   1.000000e-15   9.216341e+03"
       ]
      },
      {
       "output_type": "stream",
       "stream": "stdout",
       "text": [
        " \r",
        "0995   8.046695e+05   1.000000e-15   1.518570e+03"
       ]
      },
      {
       "output_type": "stream",
       "stream": "stdout",
       "text": [
        " \r",
        "0996   8.046692e+05   1.000000e-15   1.918568e+04"
       ]
      },
      {
       "output_type": "stream",
       "stream": "stdout",
       "text": [
        " \r",
        "0997   8.046690e+05   1.000000e-15   1.895529e+03"
       ]
      },
      {
       "output_type": "stream",
       "stream": "stdout",
       "text": [
        " \r",
        "0998   8.046688e+05   1.000000e-15   2.185175e+04"
       ]
      },
      {
       "output_type": "stream",
       "stream": "stdout",
       "text": [
        " \r",
        "0999   8.046685e+05   1.000000e-15   1.620394e+03"
       ]
      },
      {
       "output_type": "stream",
       "stream": "stdout",
       "text": [
        " \r",
        "1000   8.046683e+05   1.000000e-15   2.389319e+04"
       ]
      },
      {
       "output_type": "stream",
       "stream": "stdout",
       "text": [
        " \r",
        "1001   8.046679e+05   1.000000e-15   2.038158e+03"
       ]
      },
      {
       "output_type": "stream",
       "stream": "stdout",
       "text": [
        " \r",
        "1002   8.046678e+05   1.000000e-15   1.772278e+04"
       ]
      },
      {
       "output_type": "stream",
       "stream": "stdout",
       "text": [
        " \r",
        "1003   8.046672e+05   1.000000e-15   2.522288e+03"
       ]
      },
      {
       "output_type": "stream",
       "stream": "stdout",
       "text": [
        " \r",
        "1004   8.046671e+05   1.000000e-15   1.512376e+04"
       ]
      },
      {
       "output_type": "stream",
       "stream": "stdout",
       "text": [
        " \r",
        "1005   8.046665e+05   1.000000e-15   3.303772e+03"
       ]
      },
      {
       "output_type": "stream",
       "stream": "stdout",
       "text": [
        " \r",
        "1006   8.046665e+05   1.000000e-15   7.615521e+03"
       ]
      },
      {
       "output_type": "stream",
       "stream": "stdout",
       "text": [
        " \r",
        "1007   8.046659e+05   1.000000e-15   3.370214e+03"
       ]
      },
      {
       "output_type": "stream",
       "stream": "stdout",
       "text": [
        " \r",
        "1008   8.046659e+05   1.000000e-15   4.798503e+03"
       ]
      },
      {
       "output_type": "stream",
       "stream": "stdout",
       "text": [
        " \r",
        "1009   8.046654e+05   1.000000e-15   3.908683e+03"
       ]
      },
      {
       "output_type": "stream",
       "stream": "stdout",
       "text": [
        " \r",
        "1010   8.046653e+05   1.000000e-15   3.176604e+03"
       ]
      },
      {
       "output_type": "stream",
       "stream": "stdout",
       "text": [
        " \r",
        "1011   8.046648e+05   1.000000e-15   6.901787e+03"
       ]
      },
      {
       "output_type": "stream",
       "stream": "stdout",
       "text": [
        " \r",
        "1012   8.046647e+05   1.000000e-15   3.180416e+03"
       ]
      },
      {
       "output_type": "stream",
       "stream": "stdout",
       "text": [
        " \r",
        "1013   8.046641e+05   1.000000e-15   1.188254e+04"
       ]
      },
      {
       "output_type": "stream",
       "stream": "stdout",
       "text": [
        " \r",
        "1014   8.046640e+05   1.000000e-15   3.155003e+03"
       ]
      },
      {
       "output_type": "stream",
       "stream": "stdout",
       "text": [
        " \r",
        "1015   8.046633e+05   1.000000e-15   2.846708e+04"
       ]
      },
      {
       "output_type": "stream",
       "stream": "stdout",
       "text": [
        " \r",
        "1016   8.046631e+05   1.000000e-15   3.555351e+03"
       ]
      },
      {
       "output_type": "stream",
       "stream": "stdout",
       "text": [
        " \r",
        "1017   8.046626e+05   1.000000e-15   3.755415e+04"
       ]
      },
      {
       "output_type": "stream",
       "stream": "stdout",
       "text": [
        " \r",
        "1018   8.046620e+05   1.000000e-15   3.448427e+03"
       ]
      },
      {
       "output_type": "stream",
       "stream": "stdout",
       "text": [
        " \r",
        "1019   8.046616e+05   1.000000e-15   5.205772e+04"
       ]
      },
      {
       "output_type": "stream",
       "stream": "stdout",
       "text": [
        " \r",
        "1020   8.046612e+05   1.000000e-15   4.285581e+03"
       ]
      },
      {
       "output_type": "stream",
       "stream": "stdout",
       "text": [
        " \r",
        "1021   8.046610e+05   1.000000e-15   3.089105e+04"
       ]
      },
      {
       "output_type": "stream",
       "stream": "stdout",
       "text": [
        " \r",
        "1022   8.046606e+05   1.000000e-15   2.292950e+03"
       ]
      },
      {
       "output_type": "stream",
       "stream": "stdout",
       "text": [
        " \r",
        "1023   8.046606e+05   1.000000e-15   1.223159e+04"
       ]
      },
      {
       "output_type": "stream",
       "stream": "stdout",
       "text": [
        " \r",
        "1024   8.046602e+05   1.000000e-15   1.566274e+03"
       ]
      },
      {
       "output_type": "stream",
       "stream": "stdout",
       "text": [
        " \r",
        "1025   8.046602e+05   1.000000e-15   7.281442e+03"
       ]
      },
      {
       "output_type": "stream",
       "stream": "stdout",
       "text": [
        " \r",
        "1026   8.046599e+05   1.000000e-15   1.945006e+03"
       ]
      },
      {
       "output_type": "stream",
       "stream": "stdout",
       "text": [
        " \r",
        "1027   8.046598e+05   1.000000e-15   3.594461e+03"
       ]
      },
      {
       "output_type": "stream",
       "stream": "stdout",
       "text": [
        " \r",
        "1028   8.046595e+05   1.000000e-15   2.440703e+03"
       ]
      },
      {
       "output_type": "stream",
       "stream": "stdout",
       "text": [
        " \r",
        "1029   8.046594e+05   1.000000e-15   2.632364e+03"
       ]
      },
      {
       "output_type": "stream",
       "stream": "stdout",
       "text": [
        " \r",
        "1030   8.046592e+05   1.000000e-15   3.886010e+03"
       ]
      },
      {
       "output_type": "stream",
       "stream": "stdout",
       "text": [
        " \r",
        "1031   8.046591e+05   1.000000e-15   1.601969e+03"
       ]
      },
      {
       "output_type": "stream",
       "stream": "stdout",
       "text": [
        " \r",
        "1032   8.046588e+05   1.000000e-15   5.948578e+03"
       ]
      },
      {
       "output_type": "stream",
       "stream": "stdout",
       "text": [
        " \r",
        "1033   8.046588e+05   1.000000e-15   1.464008e+03"
       ]
      },
      {
       "output_type": "stream",
       "stream": "stdout",
       "text": [
        " \r",
        "1034   8.046585e+05   1.000000e-15   1.141164e+04"
       ]
      },
      {
       "output_type": "stream",
       "stream": "stdout",
       "text": [
        " \r",
        "1035   8.046584e+05   1.000000e-15   1.687006e+03"
       ]
      },
      {
       "output_type": "stream",
       "stream": "stdout",
       "text": [
        " \r",
        "1036   8.046581e+05   1.000000e-15   2.073327e+04"
       ]
      },
      {
       "output_type": "stream",
       "stream": "stdout",
       "text": [
        " \r",
        "1037   8.046579e+05   1.000000e-15   1.856756e+03"
       ]
      },
      {
       "output_type": "stream",
       "stream": "stdout",
       "text": [
        " \r",
        "1038   8.046577e+05   1.000000e-15   2.082089e+04"
       ]
      },
      {
       "output_type": "stream",
       "stream": "stdout",
       "text": [
        " \r",
        "1039   8.046575e+05   1.000000e-15   1.788858e+03"
       ]
      },
      {
       "output_type": "stream",
       "stream": "stdout",
       "text": [
        " \r",
        "1040   8.046574e+05   1.000000e-15   1.461193e+04"
       ]
      },
      {
       "output_type": "stream",
       "stream": "stdout",
       "text": [
        " \r",
        "1041   8.046571e+05   1.000000e-15   1.459066e+03"
       ]
      },
      {
       "output_type": "stream",
       "stream": "stdout",
       "text": [
        " \r",
        "1042   8.046570e+05   1.000000e-15   9.478898e+03"
       ]
      },
      {
       "output_type": "stream",
       "stream": "stdout",
       "text": [
        " \r",
        "1043   8.046567e+05   1.000000e-15   1.782916e+03"
       ]
      },
      {
       "output_type": "stream",
       "stream": "stdout",
       "text": [
        " \r",
        "1044   8.046567e+05   1.000000e-15   6.096652e+03"
       ]
      },
      {
       "output_type": "stream",
       "stream": "stdout",
       "text": [
        " \r",
        "1045   8.046563e+05   1.000000e-15   2.328189e+03"
       ]
      },
      {
       "output_type": "stream",
       "stream": "stdout",
       "text": [
        " \r",
        "1046   8.046563e+05   1.000000e-15   3.400338e+03"
       ]
      },
      {
       "output_type": "stream",
       "stream": "stdout",
       "text": [
        " \r",
        "1047   8.046560e+05   1.000000e-15   2.605579e+03"
       ]
      },
      {
       "output_type": "stream",
       "stream": "stdout",
       "text": [
        " \r",
        "1048   8.046559e+05   1.000000e-15   2.292367e+03"
       ]
      },
      {
       "output_type": "stream",
       "stream": "stdout",
       "text": [
        " \r",
        "1049   8.046557e+05   1.000000e-15   3.829270e+03"
       ]
      },
      {
       "output_type": "stream",
       "stream": "stdout",
       "text": [
        " \r",
        "1050   8.046556e+05   1.000000e-15   1.637167e+03"
       ]
      },
      {
       "output_type": "stream",
       "stream": "stdout",
       "text": [
        " \r",
        "1051   8.046554e+05   1.000000e-15   5.942043e+03"
       ]
      },
      {
       "output_type": "stream",
       "stream": "stdout",
       "text": [
        " \r",
        "1052   8.046553e+05   1.000000e-15   1.491082e+03"
       ]
      },
      {
       "output_type": "stream",
       "stream": "stdout",
       "text": [
        " \r",
        "1053   8.046551e+05   1.000000e-15   1.099358e+04"
       ]
      },
      {
       "output_type": "stream",
       "stream": "stdout",
       "text": [
        " \r",
        "1054   8.046550e+05   1.000000e-15   1.332951e+03"
       ]
      },
      {
       "output_type": "stream",
       "stream": "stdout",
       "text": [
        " \r",
        "1055   8.046548e+05   1.000000e-15   1.321539e+04"
       ]
      },
      {
       "output_type": "stream",
       "stream": "stdout",
       "text": [
        " \r",
        "1056   8.046546e+05   1.000000e-15   1.437780e+03"
       ]
      },
      {
       "output_type": "stream",
       "stream": "stdout",
       "text": [
        " \r",
        "1057   8.046545e+05   1.000000e-15   1.645056e+04"
       ]
      },
      {
       "output_type": "stream",
       "stream": "stdout",
       "text": [
        " \r",
        "1058   8.046543e+05   1.000000e-15   1.380536e+03"
       ]
      },
      {
       "output_type": "stream",
       "stream": "stdout",
       "text": [
        " \r",
        "1059   8.046542e+05   1.000000e-15   1.394217e+04"
       ]
      },
      {
       "output_type": "stream",
       "stream": "stdout",
       "text": [
        " \r",
        "1060   8.046539e+05   1.000000e-15   1.530513e+03"
       ]
      },
      {
       "output_type": "stream",
       "stream": "stdout",
       "text": [
        " \r",
        "1061   8.046539e+05   1.000000e-15   8.341768e+03"
       ]
      },
      {
       "output_type": "stream",
       "stream": "stdout",
       "text": [
        " \r",
        "1062   8.046536e+05   1.000000e-15   1.593675e+03"
       ]
      },
      {
       "output_type": "stream",
       "stream": "stdout",
       "text": [
        " \r",
        "1063   8.046535e+05   1.000000e-15   5.933472e+03"
       ]
      },
      {
       "output_type": "stream",
       "stream": "stdout",
       "text": [
        " \r",
        "1064   8.046532e+05   1.000000e-15   2.039061e+03"
       ]
      },
      {
       "output_type": "stream",
       "stream": "stdout",
       "text": [
        " \r",
        "1065   8.046532e+05   1.000000e-15   3.638284e+03"
       ]
      },
      {
       "output_type": "stream",
       "stream": "stdout",
       "text": [
        " \r",
        "1066   8.046528e+05   1.000000e-15   2.679049e+03"
       ]
      },
      {
       "output_type": "stream",
       "stream": "stdout",
       "text": [
        " \r",
        "1067   8.046528e+05   1.000000e-15   2.616736e+03"
       ]
      },
      {
       "output_type": "stream",
       "stream": "stdout",
       "text": [
        " \r",
        "1068   8.046525e+05   1.000000e-15   4.036730e+03"
       ]
      },
      {
       "output_type": "stream",
       "stream": "stdout",
       "text": [
        " \r",
        "1069   8.046524e+05   1.000000e-15   2.365675e+03"
       ]
      },
      {
       "output_type": "stream",
       "stream": "stdout",
       "text": [
        " \r",
        "1070   8.046520e+05   1.000000e-15   7.677649e+03"
       ]
      },
      {
       "output_type": "stream",
       "stream": "stdout",
       "text": [
        " \r",
        "1071   8.046519e+05   1.000000e-15   2.340914e+03"
       ]
      },
      {
       "output_type": "stream",
       "stream": "stdout",
       "text": [
        " \r",
        "1072   8.046516e+05   1.000000e-15   1.451017e+04"
       ]
      },
      {
       "output_type": "stream",
       "stream": "stdout",
       "text": [
        " \r",
        "1073   8.046514e+05   1.000000e-15   2.275691e+03"
       ]
      },
      {
       "output_type": "stream",
       "stream": "stdout",
       "text": [
        " \r",
        "1074   8.046511e+05   1.000000e-15   2.129937e+04"
       ]
      },
      {
       "output_type": "stream",
       "stream": "stdout",
       "text": [
        " \r",
        "1075   8.046509e+05   1.000000e-15   2.292294e+03"
       ]
      },
      {
       "output_type": "stream",
       "stream": "stdout",
       "text": [
        " \r",
        "1076   8.046507e+05   1.000000e-15   2.495633e+04"
       ]
      },
      {
       "output_type": "stream",
       "stream": "stdout",
       "text": [
        " \r",
        "1077   8.046504e+05   1.000000e-15   2.291020e+03"
       ]
      },
      {
       "output_type": "stream",
       "stream": "stdout",
       "text": [
        " \r",
        "1078   8.046502e+05   1.000000e-15   2.291849e+04"
       ]
      },
      {
       "output_type": "stream",
       "stream": "stdout",
       "text": [
        " \r",
        "1079   8.046499e+05   1.000000e-15   2.288219e+03"
       ]
      },
      {
       "output_type": "stream",
       "stream": "stdout",
       "text": [
        " \r",
        "1080   8.046498e+05   1.000000e-15   1.696871e+04"
       ]
      },
      {
       "output_type": "stream",
       "stream": "stdout",
       "text": [
        " \r",
        "1081   8.046495e+05   1.000000e-15   2.150058e+03"
       ]
      },
      {
       "output_type": "stream",
       "stream": "stdout",
       "text": [
        " \r",
        "1082   8.046494e+05   1.000000e-15   1.091215e+04"
       ]
      },
      {
       "output_type": "stream",
       "stream": "stdout",
       "text": [
        " \r",
        "1083   8.046491e+05   1.000000e-15   1.890522e+03"
       ]
      },
      {
       "output_type": "stream",
       "stream": "stdout",
       "text": [
        " \r",
        "1084   8.046491e+05   1.000000e-15   6.032531e+03"
       ]
      },
      {
       "output_type": "stream",
       "stream": "stdout",
       "text": [
        " \r",
        "1085   8.046488e+05   1.000000e-15   1.877085e+03"
       ]
      },
      {
       "output_type": "stream",
       "stream": "stdout",
       "text": [
        " \r",
        "1086   8.046488e+05   1.000000e-15   3.922396e+03"
       ]
      },
      {
       "output_type": "stream",
       "stream": "stdout",
       "text": [
        " \r",
        "1087   8.046485e+05   1.000000e-15   2.157963e+03"
       ]
      },
      {
       "output_type": "stream",
       "stream": "stdout",
       "text": [
        " \r",
        "1088   8.046485e+05   1.000000e-15   2.438122e+03"
       ]
      },
      {
       "output_type": "stream",
       "stream": "stdout",
       "text": [
        " \r",
        "1089   8.046483e+05   1.000000e-15   2.474448e+03"
       ]
      },
      {
       "output_type": "stream",
       "stream": "stdout",
       "text": [
        " \r",
        "1090   8.046482e+05   1.000000e-15   1.788097e+03"
       ]
      },
      {
       "output_type": "stream",
       "stream": "stdout",
       "text": [
        " \r",
        "1091   8.046480e+05   1.000000e-15   3.545951e+03"
       ]
      },
      {
       "output_type": "stream",
       "stream": "stdout",
       "text": [
        " \r",
        "1092   8.046480e+05   1.000000e-15   1.609573e+03"
       ]
      },
      {
       "output_type": "stream",
       "stream": "stdout",
       "text": [
        " \r",
        "1093   8.046477e+05   1.000000e-15   6.008751e+03"
       ]
      },
      {
       "output_type": "stream",
       "stream": "stdout",
       "text": [
        " \r",
        "1094   8.046476e+05   1.000000e-15   1.865173e+03"
       ]
      },
      {
       "output_type": "stream",
       "stream": "stdout",
       "text": [
        " \r",
        "1095   8.046474e+05   1.000000e-15   1.134159e+04"
       ]
      },
      {
       "output_type": "stream",
       "stream": "stdout",
       "text": [
        " \r",
        "1096   8.046472e+05   1.000000e-15   1.869658e+03"
       ]
      },
      {
       "output_type": "stream",
       "stream": "stdout",
       "text": [
        " \r",
        "1097   8.046470e+05   1.000000e-15   1.631125e+04"
       ]
      },
      {
       "output_type": "stream",
       "stream": "stdout",
       "text": [
        " \r",
        "1098   8.046468e+05   1.000000e-15   1.860627e+03"
       ]
      },
      {
       "output_type": "stream",
       "stream": "stdout",
       "text": [
        " \r",
        "1099   8.046466e+05   1.000000e-15   1.918875e+04"
       ]
      },
      {
       "output_type": "stream",
       "stream": "stdout",
       "text": [
        " \r",
        "1100   8.046465e+05   1.000000e-15   1.801485e+03"
       ]
      },
      {
       "output_type": "stream",
       "stream": "stdout",
       "text": [
        " \r",
        "1101   8.046463e+05   1.000000e-15   1.762007e+04"
       ]
      },
      {
       "output_type": "stream",
       "stream": "stdout",
       "text": [
        " \r",
        "1102   8.046461e+05   1.000000e-15   1.700826e+03"
       ]
      },
      {
       "output_type": "stream",
       "stream": "stdout",
       "text": [
        " \r",
        "1103   8.046460e+05   1.000000e-15   1.473293e+04"
       ]
      },
      {
       "output_type": "stream",
       "stream": "stdout",
       "text": [
        " \r",
        "1104   8.046457e+05   1.000000e-15   1.944845e+03"
       ]
      },
      {
       "output_type": "stream",
       "stream": "stdout",
       "text": [
        " \r",
        "1105   8.046456e+05   1.000000e-15   1.261484e+04"
       ]
      },
      {
       "output_type": "stream",
       "stream": "stdout",
       "text": [
        " \r",
        "1106   8.046453e+05   1.000000e-15   1.992848e+03"
       ]
      },
      {
       "output_type": "stream",
       "stream": "stdout",
       "text": [
        " \r",
        "1107   8.046453e+05   1.000000e-15   6.880769e+03"
       ]
      },
      {
       "output_type": "stream",
       "stream": "stdout",
       "text": [
        " \r",
        "1108   8.046451e+05   1.000000e-15   1.710366e+03"
       ]
      },
      {
       "output_type": "stream",
       "stream": "stdout",
       "text": [
        " \r",
        "1109   8.046450e+05   1.000000e-15   4.380994e+03"
       ]
      },
      {
       "output_type": "stream",
       "stream": "stdout",
       "text": [
        " \r",
        "1110   8.046448e+05   1.000000e-15   1.599037e+03"
       ]
      },
      {
       "output_type": "stream",
       "stream": "stdout",
       "text": [
        " \r",
        "1111   8.046448e+05   1.000000e-15   2.944138e+03"
       ]
      },
      {
       "output_type": "stream",
       "stream": "stdout",
       "text": [
        " \r",
        "1112   8.046446e+05   1.000000e-15   2.140981e+03"
       ]
      },
      {
       "output_type": "stream",
       "stream": "stdout",
       "text": [
        " \r",
        "1113   8.046445e+05   1.000000e-15   2.175329e+03"
       ]
      },
      {
       "output_type": "stream",
       "stream": "stdout",
       "text": [
        " \r",
        "1114   8.046443e+05   1.000000e-15   2.385268e+03"
       ]
      },
      {
       "output_type": "stream",
       "stream": "stdout",
       "text": [
        " \r",
        "1115   8.046443e+05   1.000000e-15   1.755452e+03"
       ]
      },
      {
       "output_type": "stream",
       "stream": "stdout",
       "text": [
        " \r",
        "1116   8.046441e+05   1.000000e-15   3.405693e+03"
       ]
      },
      {
       "output_type": "stream",
       "stream": "stdout",
       "text": [
        " \r",
        "1117   8.046441e+05   1.000000e-15   1.388708e+03"
       ]
      },
      {
       "output_type": "stream",
       "stream": "stdout",
       "text": [
        " \r",
        "1118   8.046439e+05   1.000000e-15   4.714829e+03"
       ]
      },
      {
       "output_type": "stream",
       "stream": "stdout",
       "text": [
        " \r",
        "1119   8.046438e+05   1.000000e-15   1.472584e+03"
       ]
      },
      {
       "output_type": "stream",
       "stream": "stdout",
       "text": [
        " \r",
        "1120   8.046436e+05   1.000000e-15   8.139838e+03"
       ]
      },
      {
       "output_type": "stream",
       "stream": "stdout",
       "text": [
        " \r",
        "1121   8.046435e+05   1.000000e-15   1.495755e+03"
       ]
      },
      {
       "output_type": "stream",
       "stream": "stdout",
       "text": [
        " \r",
        "1122   8.046433e+05   1.000000e-15   1.224144e+04"
       ]
      },
      {
       "output_type": "stream",
       "stream": "stdout",
       "text": [
        " \r",
        "1123   8.046432e+05   1.000000e-15   1.758018e+03"
       ]
      },
      {
       "output_type": "stream",
       "stream": "stdout",
       "text": [
        " \r",
        "1124   8.046430e+05   1.000000e-15   1.641670e+04"
       ]
      },
      {
       "output_type": "stream",
       "stream": "stdout",
       "text": [
        " \r",
        "1125   8.046428e+05   1.000000e-15   1.696680e+03"
       ]
      },
      {
       "output_type": "stream",
       "stream": "stdout",
       "text": [
        " \r",
        "1126   8.046426e+05   1.000000e-15   1.859042e+04"
       ]
      },
      {
       "output_type": "stream",
       "stream": "stdout",
       "text": [
        " \r",
        "1127   8.046424e+05   1.000000e-15   2.044952e+03"
       ]
      },
      {
       "output_type": "stream",
       "stream": "stdout",
       "text": [
        " \r",
        "1128   8.046423e+05   1.000000e-15   1.754652e+04"
       ]
      },
      {
       "output_type": "stream",
       "stream": "stdout",
       "text": [
        " \r",
        "1129   8.046421e+05   1.000000e-15   1.669755e+03"
       ]
      },
      {
       "output_type": "stream",
       "stream": "stdout",
       "text": [
        " \r",
        "1130   8.046420e+05   1.000000e-15   1.367081e+04"
       ]
      },
      {
       "output_type": "stream",
       "stream": "stdout",
       "text": [
        " \r",
        "1131   8.046418e+05   1.000000e-15   1.784177e+03"
       ]
      },
      {
       "output_type": "stream",
       "stream": "stdout",
       "text": [
        " \r",
        "1132   8.046417e+05   1.000000e-15   1.013018e+04"
       ]
      },
      {
       "output_type": "stream",
       "stream": "stdout",
       "text": [
        " \r",
        "1133   8.046415e+05   1.000000e-15   1.603768e+03"
       ]
      },
      {
       "output_type": "stream",
       "stream": "stdout",
       "text": [
        " \r",
        "1134   8.046415e+05   1.000000e-15   6.542228e+03"
       ]
      },
      {
       "output_type": "stream",
       "stream": "stdout",
       "text": [
        " \r",
        "1135   8.046413e+05   1.000000e-15   1.529866e+03"
       ]
      },
      {
       "output_type": "stream",
       "stream": "stdout",
       "text": [
        " \r",
        "1136   8.046412e+05   1.000000e-15   4.364719e+03"
       ]
      },
      {
       "output_type": "stream",
       "stream": "stdout",
       "text": [
        " \r",
        "1137   8.046410e+05   1.000000e-15   1.421912e+03"
       ]
      },
      {
       "output_type": "stream",
       "stream": "stdout",
       "text": [
        " \r",
        "1138   8.046410e+05   1.000000e-15   3.264760e+03"
       ]
      },
      {
       "output_type": "stream",
       "stream": "stdout",
       "text": [
        " \r",
        "1139   8.046408e+05   1.000000e-15   1.743547e+03"
       ]
      },
      {
       "output_type": "stream",
       "stream": "stdout",
       "text": [
        " \r",
        "1140   8.046408e+05   1.000000e-15   2.576218e+03"
       ]
      },
      {
       "output_type": "stream",
       "stream": "stdout",
       "text": [
        " \r",
        "1141   8.046406e+05   1.000000e-15   2.069341e+03"
       ]
      },
      {
       "output_type": "stream",
       "stream": "stdout",
       "text": [
        " \r",
        "1142   8.046406e+05   1.000000e-15   2.152572e+03"
       ]
      },
      {
       "output_type": "stream",
       "stream": "stdout",
       "text": [
        " \r",
        "1143   8.046403e+05   1.000000e-15   2.745781e+03"
       ]
      },
      {
       "output_type": "stream",
       "stream": "stdout",
       "text": [
        " \r",
        "1144   8.046403e+05   1.000000e-15   1.849108e+03"
       ]
      },
      {
       "output_type": "stream",
       "stream": "stdout",
       "text": [
        " \r",
        "1145   8.046401e+05   1.000000e-15   3.566876e+03"
       ]
      },
      {
       "output_type": "stream",
       "stream": "stdout",
       "text": [
        " \r",
        "1146   8.046401e+05   1.000000e-15   1.621962e+03"
       ]
      },
      {
       "output_type": "stream",
       "stream": "stdout",
       "text": [
        " \r",
        "1147   8.046398e+05   1.000000e-15   5.015624e+03"
       ]
      },
      {
       "output_type": "stream",
       "stream": "stdout",
       "text": [
        " \r",
        "1148   8.046398e+05   1.000000e-15   1.478199e+03"
       ]
      },
      {
       "output_type": "stream",
       "stream": "stdout",
       "text": [
        " \r",
        "1149   8.046396e+05   1.000000e-15   6.809532e+03"
       ]
      },
      {
       "output_type": "stream",
       "stream": "stdout",
       "text": [
        " \r",
        "1150   8.046395e+05   1.000000e-15   1.568853e+03"
       ]
      },
      {
       "output_type": "stream",
       "stream": "stdout",
       "text": [
        " \r",
        "1151   8.046393e+05   1.000000e-15   9.765416e+03"
       ]
      },
      {
       "output_type": "stream",
       "stream": "stdout",
       "text": [
        " \r",
        "1152   8.046392e+05   1.000000e-15   1.558914e+03"
       ]
      },
      {
       "output_type": "stream",
       "stream": "stdout",
       "text": [
        " \r",
        "1153   8.046390e+05   1.000000e-15   1.389133e+04"
       ]
      },
      {
       "output_type": "stream",
       "stream": "stdout",
       "text": [
        " \r",
        "1154   8.046389e+05   1.000000e-15   1.816568e+03"
       ]
      },
      {
       "output_type": "stream",
       "stream": "stdout",
       "text": [
        " \r",
        "1155   8.046388e+05   1.000000e-15   1.478519e+04"
       ]
      },
      {
       "output_type": "stream",
       "stream": "stdout",
       "text": [
        " \r",
        "1156   8.046386e+05   1.000000e-15   1.529538e+03"
       ]
      },
      {
       "output_type": "stream",
       "stream": "stdout",
       "text": [
        " \r",
        "1157   8.046385e+05   1.000000e-15   1.601057e+04"
       ]
      },
      {
       "output_type": "stream",
       "stream": "stdout",
       "text": [
        " \r",
        "1158   8.046383e+05   1.000000e-15   1.720523e+03"
       ]
      },
      {
       "output_type": "stream",
       "stream": "stdout",
       "text": [
        " \r",
        "1159   8.046382e+05   1.000000e-15   1.451929e+04"
       ]
      },
      {
       "output_type": "stream",
       "stream": "stdout",
       "text": [
        " \r",
        "1160   8.046380e+05   1.000000e-15   1.490328e+03"
       ]
      },
      {
       "output_type": "stream",
       "stream": "stdout",
       "text": [
        " \r",
        "1161   8.046379e+05   1.000000e-15   1.241604e+04"
       ]
      },
      {
       "output_type": "stream",
       "stream": "stdout",
       "text": [
        " \r",
        "1162   8.046377e+05   1.000000e-15   1.720443e+03"
       ]
      },
      {
       "output_type": "stream",
       "stream": "stdout",
       "text": [
        " \r",
        "1163   8.046377e+05   1.000000e-15   9.459386e+03"
       ]
      },
      {
       "output_type": "stream",
       "stream": "stdout",
       "text": [
        " \r",
        "1164   8.046375e+05   1.000000e-15   1.363914e+03"
       ]
      },
      {
       "output_type": "stream",
       "stream": "stdout",
       "text": [
        " \r",
        "1165   8.046375e+05   1.000000e-15   6.657383e+03"
       ]
      },
      {
       "output_type": "stream",
       "stream": "stdout",
       "text": [
        " \r",
        "1166   8.046373e+05   1.000000e-15   1.350074e+03"
       ]
      },
      {
       "output_type": "stream",
       "stream": "stdout",
       "text": [
        " \r",
        "1167   8.046372e+05   1.000000e-15   5.345717e+03"
       ]
      },
      {
       "output_type": "stream",
       "stream": "stdout",
       "text": [
        " \r",
        "1168   8.046370e+05   1.000000e-15   1.495331e+03"
       ]
      },
      {
       "output_type": "stream",
       "stream": "stdout",
       "text": [
        " \r",
        "1169   8.046370e+05   1.000000e-15   4.112633e+03"
       ]
      },
      {
       "output_type": "stream",
       "stream": "stdout",
       "text": [
        " \r",
        "1170   8.046368e+05   1.000000e-15   1.634499e+03"
       ]
      },
      {
       "output_type": "stream",
       "stream": "stdout",
       "text": [
        " \r",
        "1171   8.046368e+05   1.000000e-15   3.470669e+03"
       ]
      },
      {
       "output_type": "stream",
       "stream": "stdout",
       "text": [
        " \r",
        "1172   8.046366e+05   1.000000e-15   2.026353e+03"
       ]
      },
      {
       "output_type": "stream",
       "stream": "stdout",
       "text": [
        " \r",
        "1173   8.046365e+05   1.000000e-15   2.729212e+03"
       ]
      },
      {
       "output_type": "stream",
       "stream": "stdout",
       "text": [
        " \r",
        "1174   8.046363e+05   1.000000e-15   2.201001e+03"
       ]
      },
      {
       "output_type": "stream",
       "stream": "stdout",
       "text": [
        " \r",
        "1175   8.046363e+05   1.000000e-15   2.345908e+03"
       ]
      },
      {
       "output_type": "stream",
       "stream": "stdout",
       "text": [
        " \r",
        "1176   8.046361e+05   1.000000e-15   3.016537e+03"
       ]
      },
      {
       "output_type": "stream",
       "stream": "stdout",
       "text": [
        " \r",
        "1177   8.046361e+05   1.000000e-15   2.044421e+03"
       ]
      },
      {
       "output_type": "stream",
       "stream": "stdout",
       "text": [
        " \r",
        "1178   8.046358e+05   1.000000e-15   3.549233e+03"
       ]
      },
      {
       "output_type": "stream",
       "stream": "stdout",
       "text": [
        " \r",
        "1179   8.046358e+05   1.000000e-15   1.756404e+03"
       ]
      },
      {
       "output_type": "stream",
       "stream": "stdout",
       "text": [
        " \r",
        "1180   8.046356e+05   1.000000e-15   4.535722e+03"
       ]
      },
      {
       "output_type": "stream",
       "stream": "stdout",
       "text": [
        " \r",
        "1181   8.046356e+05   1.000000e-15   1.666786e+03"
       ]
      },
      {
       "output_type": "stream",
       "stream": "stdout",
       "text": [
        " \r",
        "1182   8.046353e+05   1.000000e-15   6.286327e+03"
       ]
      },
      {
       "output_type": "stream",
       "stream": "stdout",
       "text": [
        " \r",
        "1183   8.046353e+05   1.000000e-15   1.664478e+03"
       ]
      },
      {
       "output_type": "stream",
       "stream": "stdout",
       "text": [
        " \r",
        "1184   8.046351e+05   1.000000e-15   8.878078e+03"
       ]
      },
      {
       "output_type": "stream",
       "stream": "stdout",
       "text": [
        " \r",
        "1185   8.046350e+05   1.000000e-15   1.839882e+03"
       ]
      },
      {
       "output_type": "stream",
       "stream": "stdout",
       "text": [
        " \r",
        "1186   8.046348e+05   1.000000e-15   1.147212e+04"
       ]
      },
      {
       "output_type": "stream",
       "stream": "stdout",
       "text": [
        " \r",
        "1187   8.046347e+05   1.000000e-15   1.576130e+03"
       ]
      },
      {
       "output_type": "stream",
       "stream": "stdout",
       "text": [
        " \r",
        "1188   8.046345e+05   1.000000e-15   1.288138e+04"
       ]
      },
      {
       "output_type": "stream",
       "stream": "stdout",
       "text": [
        " \r",
        "1189   8.046344e+05   1.000000e-15   1.639237e+03"
       ]
      },
      {
       "output_type": "stream",
       "stream": "stdout",
       "text": [
        " \r",
        "1190   8.046343e+05   1.000000e-15   1.382307e+04"
       ]
      },
      {
       "output_type": "stream",
       "stream": "stdout",
       "text": [
        " \r",
        "1191   8.046341e+05   1.000000e-15   1.579172e+03"
       ]
      },
      {
       "output_type": "stream",
       "stream": "stdout",
       "text": [
        " \r",
        "1192   8.046340e+05   1.000000e-15   1.382235e+04"
       ]
      },
      {
       "output_type": "stream",
       "stream": "stdout",
       "text": [
        " \r",
        "1193   8.046339e+05   1.000000e-15   1.428876e+03"
       ]
      },
      {
       "output_type": "stream",
       "stream": "stdout",
       "text": [
        " \r",
        "1194   8.046338e+05   1.000000e-15   1.013688e+04"
       ]
      },
      {
       "output_type": "stream",
       "stream": "stdout",
       "text": [
        " \r",
        "1195   8.046337e+05   1.000000e-15   1.062726e+03"
       ]
      },
      {
       "output_type": "stream",
       "stream": "stdout",
       "text": [
        " \r",
        "1196   8.046337e+05   1.000000e-15   8.290725e+03"
       ]
      },
      {
       "output_type": "stream",
       "stream": "stdout",
       "text": [
        " \r",
        "1197   8.046335e+05   1.000000e-15   1.072731e+03"
       ]
      },
      {
       "output_type": "stream",
       "stream": "stdout",
       "text": [
        " \r",
        "1198   8.046335e+05   1.000000e-15   7.319414e+03"
       ]
      },
      {
       "output_type": "stream",
       "stream": "stdout",
       "text": [
        " \r",
        "1199   8.046333e+05   1.000000e-15   1.220932e+03"
       ]
      },
      {
       "output_type": "stream",
       "stream": "stdout",
       "text": [
        " \r",
        "1200   8.046333e+05   1.000000e-15   6.586503e+03"
       ]
      },
      {
       "output_type": "stream",
       "stream": "stdout",
       "text": [
        " \r",
        "1201   8.046331e+05   1.000000e-15   1.306660e+03"
       ]
      },
      {
       "output_type": "stream",
       "stream": "stdout",
       "text": [
        " \r",
        "1202   8.046331e+05   1.000000e-15   4.710219e+03"
       ]
      },
      {
       "output_type": "stream",
       "stream": "stdout",
       "text": [
        " \r",
        "1203   8.046330e+05   1.000000e-15   1.191514e+03"
       ]
      },
      {
       "output_type": "stream",
       "stream": "stdout",
       "text": [
        " \r",
        "1204   8.046330e+05   1.000000e-15   3.065862e+03"
       ]
      },
      {
       "output_type": "stream",
       "stream": "stdout",
       "text": [
        " \r",
        "1205   8.046328e+05   1.000000e-15   1.052067e+03"
       ]
      },
      {
       "output_type": "stream",
       "stream": "stdout",
       "text": [
        " \r",
        "1206   8.046328e+05   1.000000e-15   2.178827e+03"
       ]
      },
      {
       "output_type": "stream",
       "stream": "stdout",
       "text": [
        " \r",
        "1207   8.046327e+05   1.000000e-15   1.122652e+03"
       ]
      },
      {
       "output_type": "stream",
       "stream": "stdout",
       "text": [
        " \r",
        "1208   8.046327e+05   1.000000e-15   1.645479e+03"
       ]
      },
      {
       "output_type": "stream",
       "stream": "stdout",
       "text": [
        " \r",
        "1209   8.046326e+05   1.000000e-15   1.170894e+03"
       ]
      },
      {
       "output_type": "stream",
       "stream": "stdout",
       "text": [
        " \r",
        "1210   8.046326e+05   1.000000e-15   1.334140e+03"
       ]
      },
      {
       "output_type": "stream",
       "stream": "stdout",
       "text": [
        " \r",
        "1211   8.046325e+05   1.000000e-15   1.465562e+03"
       ]
      },
      {
       "output_type": "stream",
       "stream": "stdout",
       "text": [
        " \r",
        "1212   8.046325e+05   1.000000e-15   1.025299e+03"
       ]
      },
      {
       "output_type": "stream",
       "stream": "stdout",
       "text": [
        " \r",
        "1213   8.046324e+05   1.000000e-15   1.539430e+03"
       ]
      },
      {
       "output_type": "stream",
       "stream": "stdout",
       "text": [
        " \r",
        "1214   8.046323e+05   1.000000e-15   8.834711e+02"
       ]
      },
      {
       "output_type": "stream",
       "stream": "stdout",
       "text": [
        " \r",
        "1215   8.046322e+05   1.000000e-15   2.029108e+03"
       ]
      },
      {
       "output_type": "stream",
       "stream": "stdout",
       "text": [
        " \r",
        "1216   8.046322e+05   1.000000e-15   7.411232e+02"
       ]
      },
      {
       "output_type": "stream",
       "stream": "stdout",
       "text": [
        " \r",
        "1217   8.046322e+05   1.000000e-15   2.248634e+03"
       ]
      },
      {
       "output_type": "stream",
       "stream": "stdout",
       "text": [
        " \r",
        "1218   8.046321e+05   1.000000e-15   6.845270e+02"
       ]
      },
      {
       "output_type": "stream",
       "stream": "stdout",
       "text": [
        " \r",
        "1219   8.046321e+05   1.000000e-15   3.175158e+03"
       ]
      },
      {
       "output_type": "stream",
       "stream": "stdout",
       "text": [
        " \r",
        "1220   8.046320e+05   1.000000e-15   6.602395e+02"
       ]
      },
      {
       "output_type": "stream",
       "stream": "stdout",
       "text": [
        " \r",
        "1221   8.046319e+05   1.000000e-15   3.895750e+03"
       ]
      },
      {
       "output_type": "stream",
       "stream": "stdout",
       "text": [
        " \r",
        "1222   8.046319e+05   1.000000e-15   7.878872e+02"
       ]
      },
      {
       "output_type": "stream",
       "stream": "stdout",
       "text": [
        " \r",
        "1223   8.046318e+05   1.000000e-15   6.410255e+03"
       ]
      },
      {
       "output_type": "stream",
       "stream": "stdout",
       "text": [
        " \r",
        "1224   8.046317e+05   1.000000e-15   9.560564e+02"
       ]
      },
      {
       "output_type": "stream",
       "stream": "stdout",
       "text": [
        " \r",
        "1225   8.046316e+05   1.000000e-15   8.398993e+03"
       ]
      },
      {
       "output_type": "stream",
       "stream": "stdout",
       "text": [
        " \r",
        "1226   8.046315e+05   1.000000e-15   1.221929e+03"
       ]
      },
      {
       "output_type": "stream",
       "stream": "stdout",
       "text": [
        " \r",
        "1227   8.046314e+05   1.000000e-15   1.183450e+04"
       ]
      },
      {
       "output_type": "stream",
       "stream": "stdout",
       "text": [
        " \r",
        "1228   8.046313e+05   1.000000e-15   1.366223e+03"
       ]
      },
      {
       "output_type": "stream",
       "stream": "stdout",
       "text": [
        " \r",
        "1229   8.046312e+05   1.000000e-15   1.162811e+04"
       ]
      },
      {
       "output_type": "stream",
       "stream": "stdout",
       "text": [
        " \r",
        "1230   8.046311e+05   1.000000e-15   1.459314e+03"
       ]
      },
      {
       "output_type": "stream",
       "stream": "stdout",
       "text": [
        " \r",
        "1231   8.046310e+05   1.000000e-15   1.043823e+04"
       ]
      },
      {
       "output_type": "stream",
       "stream": "stdout",
       "text": [
        " \r",
        "1232   8.046309e+05   1.000000e-15   1.284367e+03"
       ]
      },
      {
       "output_type": "stream",
       "stream": "stdout",
       "text": [
        " \r",
        "1233   8.046308e+05   1.000000e-15   7.326062e+03"
       ]
      },
      {
       "output_type": "stream",
       "stream": "stdout",
       "text": [
        " \r",
        "1234   8.046307e+05   1.000000e-15   1.043347e+03"
       ]
      },
      {
       "output_type": "stream",
       "stream": "stdout",
       "text": [
        " \r",
        "1235   8.046307e+05   1.000000e-15   5.102258e+03"
       ]
      },
      {
       "output_type": "stream",
       "stream": "stdout",
       "text": [
        " \r",
        "1236   8.046306e+05   1.000000e-15   9.175749e+02"
       ]
      },
      {
       "output_type": "stream",
       "stream": "stdout",
       "text": [
        " \r",
        "1237   8.046305e+05   1.000000e-15   4.014375e+03"
       ]
      },
      {
       "output_type": "stream",
       "stream": "stdout",
       "text": [
        " \r",
        "1238   8.046304e+05   1.000000e-15   9.943520e+02"
       ]
      },
      {
       "output_type": "stream",
       "stream": "stdout",
       "text": [
        " \r",
        "1239   8.046304e+05   1.000000e-15   2.925493e+03"
       ]
      },
      {
       "output_type": "stream",
       "stream": "stdout",
       "text": [
        " \r",
        "1240   8.046303e+05   1.000000e-15   9.827690e+02"
       ]
      },
      {
       "output_type": "stream",
       "stream": "stdout",
       "text": [
        " \r",
        "1241   8.046303e+05   1.000000e-15   2.403057e+03"
       ]
      },
      {
       "output_type": "stream",
       "stream": "stdout",
       "text": [
        " \r",
        "1242   8.046302e+05   1.000000e-15   1.163164e+03"
       ]
      },
      {
       "output_type": "stream",
       "stream": "stdout",
       "text": [
        " \r",
        "1243   8.046302e+05   1.000000e-15   1.709646e+03"
       ]
      },
      {
       "output_type": "stream",
       "stream": "stdout",
       "text": [
        " \r",
        "1244   8.046301e+05   1.000000e-15   1.114123e+03"
       ]
      },
      {
       "output_type": "stream",
       "stream": "stdout",
       "text": [
        " \r",
        "1245   8.046300e+05   1.000000e-15   1.498928e+03"
       ]
      },
      {
       "output_type": "stream",
       "stream": "stdout",
       "text": [
        " \r",
        "1246   8.046299e+05   1.000000e-15   1.481598e+03"
       ]
      },
      {
       "output_type": "stream",
       "stream": "stdout",
       "text": [
        " \r",
        "1247   8.046299e+05   1.000000e-15   1.092051e+03"
       ]
      },
      {
       "output_type": "stream",
       "stream": "stdout",
       "text": [
        " \r",
        "1248   8.046298e+05   1.000000e-15   1.469812e+03"
       ]
      },
      {
       "output_type": "stream",
       "stream": "stdout",
       "text": [
        " \r",
        "1249   8.046298e+05   1.000000e-15   1.050121e+03"
       ]
      },
      {
       "output_type": "stream",
       "stream": "stdout",
       "text": [
        " \r",
        "1250   8.046297e+05   1.000000e-15   2.161169e+03"
       ]
      },
      {
       "output_type": "stream",
       "stream": "stdout",
       "text": [
        " \r",
        "1251   8.046297e+05   1.000000e-15   8.931502e+02"
       ]
      },
      {
       "output_type": "stream",
       "stream": "stdout",
       "text": [
        " \r",
        "1252   8.046296e+05   1.000000e-15   2.515495e+03"
       ]
      },
      {
       "output_type": "stream",
       "stream": "stdout",
       "text": [
        " \r",
        "1253   8.046296e+05   1.000000e-15   9.711165e+02"
       ]
      },
      {
       "output_type": "stream",
       "stream": "stdout",
       "text": [
        " \r",
        "1254   8.046295e+05   1.000000e-15   3.985517e+03"
       ]
      },
      {
       "output_type": "stream",
       "stream": "stdout",
       "text": [
        " \r",
        "1255   8.046294e+05   1.000000e-15   9.441509e+02"
       ]
      },
      {
       "output_type": "stream",
       "stream": "stdout",
       "text": [
        " \r",
        "1256   8.046293e+05   1.000000e-15   4.808636e+03"
       ]
      },
      {
       "output_type": "stream",
       "stream": "stdout",
       "text": [
        " \r",
        "1257   8.046293e+05   1.000000e-15   9.651604e+02"
       ]
      },
      {
       "output_type": "stream",
       "stream": "stdout",
       "text": [
        " \r",
        "1258   8.046292e+05   1.000000e-15   6.260676e+03"
       ]
      },
      {
       "output_type": "stream",
       "stream": "stdout",
       "text": [
        " \r",
        "1259   8.046291e+05   1.000000e-15   9.238855e+02"
       ]
      },
      {
       "output_type": "stream",
       "stream": "stdout",
       "text": [
        " \r",
        "1260   8.046290e+05   1.000000e-15   7.299940e+03"
       ]
      },
      {
       "output_type": "stream",
       "stream": "stdout",
       "text": [
        " \r",
        "1261   8.046290e+05   1.000000e-15   1.074361e+03"
       ]
      },
      {
       "output_type": "stream",
       "stream": "stdout",
       "text": [
        " \r",
        "1262   8.046289e+05   1.000000e-15   8.711775e+03"
       ]
      },
      {
       "output_type": "stream",
       "stream": "stdout",
       "text": [
        " \r",
        "1263   8.046288e+05   1.000000e-15   1.035424e+03"
       ]
      },
      {
       "output_type": "stream",
       "stream": "stdout",
       "text": [
        " \r",
        "1264   8.046287e+05   1.000000e-15   8.800357e+03"
       ]
      },
      {
       "output_type": "stream",
       "stream": "stdout",
       "text": [
        " \r",
        "1265   8.046286e+05   1.000000e-15   1.148811e+03"
       ]
      },
      {
       "output_type": "stream",
       "stream": "stdout",
       "text": [
        " \r",
        "1266   8.046286e+05   1.000000e-15   7.989152e+03"
       ]
      },
      {
       "output_type": "stream",
       "stream": "stdout",
       "text": [
        " \r",
        "1267   8.046284e+05   1.000000e-15   1.014963e+03"
       ]
      },
      {
       "output_type": "stream",
       "stream": "stdout",
       "text": [
        " \r",
        "1268   8.046284e+05   1.000000e-15   7.007627e+03"
       ]
      },
      {
       "output_type": "stream",
       "stream": "stdout",
       "text": [
        " \r",
        "1269   8.046283e+05   1.000000e-15   1.062241e+03"
       ]
      },
      {
       "output_type": "stream",
       "stream": "stdout",
       "text": [
        " \r",
        "1270   8.046283e+05   1.000000e-15   5.165540e+03"
       ]
      },
      {
       "output_type": "stream",
       "stream": "stdout",
       "text": [
        " \r",
        "1271   8.046282e+05   1.000000e-15   9.439972e+02"
       ]
      },
      {
       "output_type": "stream",
       "stream": "stdout",
       "text": [
        " \r",
        "1272   8.046281e+05   1.000000e-15   4.353805e+03"
       ]
      },
      {
       "output_type": "stream",
       "stream": "stdout",
       "text": [
        " \r",
        "1273   8.046280e+05   1.000000e-15   1.009713e+03"
       ]
      },
      {
       "output_type": "stream",
       "stream": "stdout",
       "text": [
        " \r",
        "1274   8.046280e+05   1.000000e-15   3.102718e+03"
       ]
      },
      {
       "output_type": "stream",
       "stream": "stdout",
       "text": [
        " \r",
        "1275   8.046279e+05   1.000000e-15   1.006189e+03"
       ]
      },
      {
       "output_type": "stream",
       "stream": "stdout",
       "text": [
        " \r",
        "1276   8.046279e+05   1.000000e-15   2.820342e+03"
       ]
      },
      {
       "output_type": "stream",
       "stream": "stdout",
       "text": [
        " \r",
        "1277   8.046278e+05   1.000000e-15   1.192378e+03"
       ]
      },
      {
       "output_type": "stream",
       "stream": "stdout",
       "text": [
        " \r",
        "1278   8.046277e+05   1.000000e-15   1.988545e+03"
       ]
      },
      {
       "output_type": "stream",
       "stream": "stdout",
       "text": [
        " \r",
        "1279   8.046276e+05   1.000000e-15   1.219032e+03"
       ]
      },
      {
       "output_type": "stream",
       "stream": "stdout",
       "text": [
        " \r",
        "1280   8.046276e+05   1.000000e-15   1.795960e+03"
       ]
      },
      {
       "output_type": "stream",
       "stream": "stdout",
       "text": [
        " \r",
        "1281   8.046275e+05   1.000000e-15   1.478637e+03"
       ]
      },
      {
       "output_type": "stream",
       "stream": "stdout",
       "text": [
        " \r",
        "1282   8.046275e+05   1.000000e-15   1.220608e+03"
       ]
      },
      {
       "output_type": "stream",
       "stream": "stdout",
       "text": [
        " \r",
        "1283   8.046274e+05   1.000000e-15   1.505368e+03"
       ]
      },
      {
       "output_type": "stream",
       "stream": "stdout",
       "text": [
        " \r",
        "1284   8.046274e+05   1.000000e-15   1.242005e+03"
       ]
      },
      {
       "output_type": "stream",
       "stream": "stdout",
       "text": [
        " \r",
        "1285   8.046273e+05   1.000000e-15   2.057325e+03"
       ]
      },
      {
       "output_type": "stream",
       "stream": "stdout",
       "text": [
        " \r",
        "1286   8.046272e+05   1.000000e-15   9.677660e+02"
       ]
      },
      {
       "output_type": "stream",
       "stream": "stdout",
       "text": [
        " \r",
        "1287   8.046271e+05   1.000000e-15   2.353348e+03"
       ]
      },
      {
       "output_type": "stream",
       "stream": "stdout",
       "text": [
        " \r",
        "1288   8.046271e+05   1.000000e-15   9.655727e+02"
       ]
      },
      {
       "output_type": "stream",
       "stream": "stdout",
       "text": [
        " \r",
        "1289   8.046270e+05   1.000000e-15   3.061270e+03"
       ]
      },
      {
       "output_type": "stream",
       "stream": "stdout",
       "text": [
        " \r",
        "1290   8.046270e+05   1.000000e-15   8.248831e+02"
       ]
      },
      {
       "output_type": "stream",
       "stream": "stdout",
       "text": [
        " \r",
        "1291   8.046269e+05   1.000000e-15   3.717542e+03"
       ]
      },
      {
       "output_type": "stream",
       "stream": "stdout",
       "text": [
        " \r",
        "1292   8.046269e+05   1.000000e-15   8.581186e+02"
       ]
      },
      {
       "output_type": "stream",
       "stream": "stdout",
       "text": [
        " \r",
        "1293   8.046268e+05   1.000000e-15   4.690161e+03"
       ]
      },
      {
       "output_type": "stream",
       "stream": "stdout",
       "text": [
        " \r",
        "1294   8.046268e+05   1.000000e-15   8.682498e+02"
       ]
      },
      {
       "output_type": "stream",
       "stream": "stdout",
       "text": [
        " \r",
        "1295   8.046267e+05   1.000000e-15   6.036760e+03"
       ]
      },
      {
       "output_type": "stream",
       "stream": "stdout",
       "text": [
        " \r",
        "1296   8.046266e+05   1.000000e-15   8.681780e+02"
       ]
      },
      {
       "output_type": "stream",
       "stream": "stdout",
       "text": [
        " \r",
        "1297   8.046266e+05   1.000000e-15   6.046431e+03"
       ]
      },
      {
       "output_type": "stream",
       "stream": "stdout",
       "text": [
        " \r",
        "1298   8.046265e+05   1.000000e-15   7.684732e+02"
       ]
      },
      {
       "output_type": "stream",
       "stream": "stdout",
       "text": [
        " \r",
        "1299   8.046265e+05   1.000000e-15   1.787127e+02"
       ]
      },
      {
       "output_type": "stream",
       "stream": "stdout",
       "text": [
        " \r",
        "1300   8.046265e+05   1.000000e-15   9.957269e+01"
       ]
      },
      {
       "output_type": "stream",
       "stream": "stdout",
       "text": [
        " \n",
        "\r"
       ]
      },
      {
       "output_type": "stream",
       "stream": "stdout",
       "text": [
        "1301   8.046265e+05   1.000000e-15   4.978892e+01"
       ]
      },
      {
       "output_type": "stream",
       "stream": "stdout",
       "text": [
        " \r",
        "1302   8.046265e+05   1.000000e-15   1.073260e+02"
       ]
      },
      {
       "output_type": "stream",
       "stream": "stdout",
       "text": [
        " \r",
        "1303   8.046265e+05   1.000000e-15   6.967099e+01"
       ]
      },
      {
       "output_type": "stream",
       "stream": "stdout",
       "text": [
        " \r",
        "1304   8.046265e+05   1.000000e-15   5.006963e+02"
       ]
      },
      {
       "output_type": "stream",
       "stream": "stdout",
       "text": [
        " \r",
        "1305   8.046265e+05   1.000000e-15   7.070301e+01"
       ]
      },
      {
       "output_type": "stream",
       "stream": "stdout",
       "text": [
        " \r",
        "1306   8.046264e+05   1.000000e-15   8.795120e+01"
       ]
      },
      {
       "output_type": "stream",
       "stream": "stdout",
       "text": [
        " \r",
        "1307   8.046264e+05   1.000000e-15   5.219731e+02"
       ]
      },
      {
       "output_type": "stream",
       "stream": "stdout",
       "text": [
        " \r",
        "1308   8.046264e+05   1.000000e-15   7.398982e+01"
       ]
      },
      {
       "output_type": "stream",
       "stream": "stdout",
       "text": [
        " \r",
        "1309   8.046264e+05   1.000000e-15   8.999889e+01"
       ]
      },
      {
       "output_type": "stream",
       "stream": "stdout",
       "text": [
        " \r",
        "1310   8.046264e+05   1.000000e-15   1.713386e+02"
       ]
      },
      {
       "output_type": "stream",
       "stream": "stdout",
       "text": [
        " \r",
        "1311   8.046264e+05   1.000000e-15   1.183338e+02"
       ]
      },
      {
       "output_type": "stream",
       "stream": "stdout",
       "text": [
        " \r",
        "1312   8.046264e+05   1.000000e-15   8.608925e+01"
       ]
      },
      {
       "output_type": "stream",
       "stream": "stdout",
       "text": [
        " \r",
        "1313   8.046264e+05   1.000000e-15   1.157308e+02"
       ]
      },
      {
       "output_type": "stream",
       "stream": "stdout",
       "text": [
        " \r",
        "1314   8.046264e+05   1.000000e-15   3.029524e+02"
       ]
      },
      {
       "output_type": "stream",
       "stream": "stdout",
       "text": [
        " \r",
        "1315   8.046264e+05   1.000000e-15   7.990477e+01"
       ]
      },
      {
       "output_type": "stream",
       "stream": "stdout",
       "text": [
        " \r",
        "1316   8.046264e+05   1.000000e-15   1.191689e+02"
       ]
      },
      {
       "output_type": "stream",
       "stream": "stdout",
       "text": [
        " \r",
        "1317   8.046263e+05   1.000000e-15   1.189477e+03"
       ]
      },
      {
       "output_type": "stream",
       "stream": "stdout",
       "text": [
        " \r",
        "1318   8.046263e+05   1.000000e-15   1.767920e+02"
       ]
      },
      {
       "output_type": "stream",
       "stream": "stdout",
       "text": [
        " \r",
        "1319   8.046263e+05   1.000000e-15   1.870007e+02"
       ]
      },
      {
       "output_type": "stream",
       "stream": "stdout",
       "text": [
        " \r",
        "1320   8.046263e+05   1.000000e-15   8.672984e+02"
       ]
      },
      {
       "output_type": "stream",
       "stream": "stdout",
       "text": [
        " \r",
        "1321   8.046262e+05   1.000000e-15   4.916993e+02"
       ]
      },
      {
       "output_type": "stream",
       "stream": "stdout",
       "text": [
        " \r",
        "1322   8.046262e+05   1.000000e-15   3.125227e+02"
       ]
      },
      {
       "output_type": "stream",
       "stream": "stdout",
       "text": [
        " \r",
        "1323   8.046262e+05   1.000000e-15   3.801522e+02"
       ]
      },
      {
       "output_type": "stream",
       "stream": "stdout",
       "text": [
        " \r",
        "1324   8.046261e+05   1.000000e-15   2.407589e+03"
       ]
      },
      {
       "output_type": "stream",
       "stream": "stdout",
       "text": [
        " \r",
        "1325   8.046261e+05   1.000000e-15   3.965224e+02"
       ]
      },
      {
       "output_type": "stream",
       "stream": "stdout",
       "text": [
        " \r",
        "1326   8.046260e+05   1.000000e-15   5.795105e+02"
       ]
      },
      {
       "output_type": "stream",
       "stream": "stdout",
       "text": [
        " \r",
        "1327   8.046259e+05   1.000000e-15   6.384022e+03"
       ]
      },
      {
       "output_type": "stream",
       "stream": "stdout",
       "text": [
        " \r",
        "1328   8.046257e+05   1.000000e-15   8.534109e+02"
       ]
      },
      {
       "output_type": "stream",
       "stream": "stdout",
       "text": [
        " \r",
        "1329   8.046257e+05   1.000000e-15   2.155854e+03"
       ]
      },
      {
       "output_type": "stream",
       "stream": "stdout",
       "text": [
        " \r",
        "1330   8.046256e+05   1.000000e-15   1.705597e+03"
       ]
      },
      {
       "output_type": "stream",
       "stream": "stdout",
       "text": [
        " \r",
        "1331   8.046254e+05   1.000000e-15   9.826499e+02"
       ]
      },
      {
       "output_type": "stream",
       "stream": "stdout",
       "text": [
        " \r",
        "1332   8.046254e+05   1.000000e-15   3.667199e+03"
       ]
      },
      {
       "output_type": "stream",
       "stream": "stdout",
       "text": [
        " \r",
        "1333   8.046252e+05   1.000000e-15   1.523555e+03"
       ]
      },
      {
       "output_type": "stream",
       "stream": "stdout",
       "text": [
        " \r",
        "1334   8.046251e+05   1.000000e-15   1.351871e+03"
       ]
      },
      {
       "output_type": "stream",
       "stream": "stdout",
       "text": [
        " \r",
        "1335   8.046251e+05   1.000000e-15   4.031872e+03"
       ]
      },
      {
       "output_type": "stream",
       "stream": "stdout",
       "text": [
        " \r",
        "1336   8.046248e+05   1.000000e-15   1.370826e+03"
       ]
      },
      {
       "output_type": "stream",
       "stream": "stdout",
       "text": [
        " \r",
        "1337   8.046248e+05   1.000000e-15   1.292595e+03"
       ]
      },
      {
       "output_type": "stream",
       "stream": "stdout",
       "text": [
        " \r",
        "1338   8.046247e+05   1.000000e-15   9.741403e+03"
       ]
      },
      {
       "output_type": "stream",
       "stream": "stdout",
       "text": [
        " \r",
        "1339   8.046245e+05   1.000000e-15   1.054122e+03"
       ]
      },
      {
       "output_type": "stream",
       "stream": "stdout",
       "text": [
        " \r",
        "1340   8.046244e+05   1.000000e-15   1.997491e+03"
       ]
      },
      {
       "output_type": "stream",
       "stream": "stdout",
       "text": [
        " \r",
        "1341   8.046242e+05   1.000000e-15   5.713331e+03"
       ]
      },
      {
       "output_type": "stream",
       "stream": "stdout",
       "text": [
        " \r",
        "1342   8.046241e+05   1.000000e-15   1.344414e+03"
       ]
      },
      {
       "output_type": "stream",
       "stream": "stdout",
       "text": [
        " \r",
        "1343   8.046240e+05   1.000000e-15   1.927052e+03"
       ]
      },
      {
       "output_type": "stream",
       "stream": "stdout",
       "text": [
        " \r",
        "1344   8.046239e+05   1.000000e-15   5.347145e+03"
       ]
      },
      {
       "output_type": "stream",
       "stream": "stdout",
       "text": [
        " \r",
        "1345   8.046237e+05   1.000000e-15   1.736341e+03"
       ]
      },
      {
       "output_type": "stream",
       "stream": "stdout",
       "text": [
        " \r",
        "1346   8.046234e+05   1.000000e-15   1.925354e+03"
       ]
      },
      {
       "output_type": "stream",
       "stream": "stdout",
       "text": [
        " \r",
        "1347   8.046233e+05   1.000000e-15   4.027458e+03"
       ]
      },
      {
       "output_type": "stream",
       "stream": "stdout",
       "text": [
        " \r",
        "1348   8.046231e+05   1.000000e-15   3.066355e+03"
       ]
      },
      {
       "output_type": "stream",
       "stream": "stdout",
       "text": [
        " \r",
        "1349   8.046228e+05   1.000000e-15   2.430254e+03"
       ]
      },
      {
       "output_type": "stream",
       "stream": "stdout",
       "text": [
        " \r",
        "1350   8.046227e+05   1.000000e-15   2.038468e+03"
       ]
      },
      {
       "output_type": "stream",
       "stream": "stdout",
       "text": [
        " \r",
        "1351   8.046225e+05   1.000000e-15   9.089396e+03"
       ]
      },
      {
       "output_type": "stream",
       "stream": "stdout",
       "text": [
        " \r",
        "1352   8.046223e+05   1.000000e-15   2.536873e+03"
       ]
      },
      {
       "output_type": "stream",
       "stream": "stdout",
       "text": [
        " \r",
        "1353   8.046222e+05   1.000000e-15   2.239548e+03"
       ]
      },
      {
       "output_type": "stream",
       "stream": "stdout",
       "text": [
        " \r",
        "1354   8.046221e+05   1.000000e-15   1.307485e+04"
       ]
      },
      {
       "output_type": "stream",
       "stream": "stdout",
       "text": [
        " \r",
        "1355   8.046219e+05   1.000000e-15   1.753648e+03"
       ]
      },
      {
       "output_type": "stream",
       "stream": "stdout",
       "text": [
        " \r",
        "1356   8.046216e+05   1.000000e-15   1.971007e+03"
       ]
      },
      {
       "output_type": "stream",
       "stream": "stdout",
       "text": [
        " \r",
        "1357   8.046216e+05   1.000000e-15   1.147076e+04"
       ]
      },
      {
       "output_type": "stream",
       "stream": "stdout",
       "text": [
        " \r",
        "1358   8.046213e+05   1.000000e-15   2.617249e+03"
       ]
      },
      {
       "output_type": "stream",
       "stream": "stdout",
       "text": [
        " \r",
        "1359   8.046211e+05   1.000000e-15   1.886822e+03"
       ]
      },
      {
       "output_type": "stream",
       "stream": "stdout",
       "text": [
        " \r",
        "1360   8.046210e+05   1.000000e-15   6.821535e+03"
       ]
      },
      {
       "output_type": "stream",
       "stream": "stdout",
       "text": [
        " \r",
        "1361   8.046209e+05   1.000000e-15   2.899765e+03"
       ]
      },
      {
       "output_type": "stream",
       "stream": "stdout",
       "text": [
        " \r",
        "1362   8.046207e+05   1.000000e-15   1.795333e+03"
       ]
      },
      {
       "output_type": "stream",
       "stream": "stdout",
       "text": [
        " \r",
        "1363   8.046206e+05   1.000000e-15   2.128311e+03"
       ]
      },
      {
       "output_type": "stream",
       "stream": "stdout",
       "text": [
        " \r",
        "1364   8.046204e+05   1.000000e-15   5.236630e+03"
       ]
      },
      {
       "output_type": "stream",
       "stream": "stdout",
       "text": [
        " \r",
        "1365   8.046202e+05   1.000000e-15   1.839902e+03"
       ]
      },
      {
       "output_type": "stream",
       "stream": "stdout",
       "text": [
        " \r",
        "1366   8.046202e+05   1.000000e-15   1.867086e+03"
       ]
      },
      {
       "output_type": "stream",
       "stream": "stdout",
       "text": [
        " \r",
        "1367   8.046200e+05   1.000000e-15   1.048393e+04"
       ]
      },
      {
       "output_type": "stream",
       "stream": "stdout",
       "text": [
        " \r",
        "1368   8.046199e+05   1.000000e-15   1.605318e+03"
       ]
      },
      {
       "output_type": "stream",
       "stream": "stdout",
       "text": [
        " \r",
        "1369   8.046197e+05   1.000000e-15   1.575346e+03"
       ]
      },
      {
       "output_type": "stream",
       "stream": "stdout",
       "text": [
        " \r",
        "1370   8.046197e+05   1.000000e-15   5.829221e+03"
       ]
      },
      {
       "output_type": "stream",
       "stream": "stdout",
       "text": [
        " \r",
        "1371   8.046195e+05   1.000000e-15   1.739222e+03"
       ]
      },
      {
       "output_type": "stream",
       "stream": "stdout",
       "text": [
        " \r",
        "1372   8.046194e+05   1.000000e-15   9.107951e+02"
       ]
      },
      {
       "output_type": "stream",
       "stream": "stdout",
       "text": [
        " \r",
        "1373   8.046194e+05   1.000000e-15   2.065231e+03"
       ]
      },
      {
       "output_type": "stream",
       "stream": "stdout",
       "text": [
        " \r",
        "1374   8.046193e+05   1.000000e-15   1.873102e+03"
       ]
      },
      {
       "output_type": "stream",
       "stream": "stdout",
       "text": [
        " \r",
        "1375   8.046192e+05   1.000000e-15   1.088452e+03"
       ]
      },
      {
       "output_type": "stream",
       "stream": "stdout",
       "text": [
        " \r",
        "1376   8.046190e+05   1.000000e-15   1.275926e+03"
       ]
      },
      {
       "output_type": "stream",
       "stream": "stdout",
       "text": [
        " \r",
        "1377   8.046190e+05   1.000000e-15   2.497753e+03"
       ]
      },
      {
       "output_type": "stream",
       "stream": "stdout",
       "text": [
        " \r",
        "1378   8.046189e+05   1.000000e-15   3.005546e+03"
       ]
      },
      {
       "output_type": "stream",
       "stream": "stdout",
       "text": [
        " \r",
        "1379   8.046187e+05   1.000000e-15   1.075868e+03"
       ]
      },
      {
       "output_type": "stream",
       "stream": "stdout",
       "text": [
        " \r",
        "1380   8.046187e+05   1.000000e-15   1.364077e+03"
       ]
      },
      {
       "output_type": "stream",
       "stream": "stdout",
       "text": [
        " \r",
        "1381   8.046186e+05   1.000000e-15   2.043945e+03"
       ]
      },
      {
       "output_type": "stream",
       "stream": "stdout",
       "text": [
        " \r",
        "1382   8.046185e+05   1.000000e-15   8.048217e+02"
       ]
      },
      {
       "output_type": "stream",
       "stream": "stdout",
       "text": [
        " \r",
        "1383   8.046185e+05   1.000000e-15   1.053896e+03"
       ]
      },
      {
       "output_type": "stream",
       "stream": "stdout",
       "text": [
        " \r",
        "1384   8.046184e+05   1.000000e-15   4.445713e+03"
       ]
      },
      {
       "output_type": "stream",
       "stream": "stdout",
       "text": [
        " \r",
        "1385   8.046184e+05   1.000000e-15   8.019617e+02"
       ]
      },
      {
       "output_type": "stream",
       "stream": "stdout",
       "text": [
        " \r",
        "1386   8.046183e+05   1.000000e-15   9.378693e+02"
       ]
      },
      {
       "output_type": "stream",
       "stream": "stdout",
       "text": [
        " \r",
        "1387   8.046183e+05   1.000000e-15   5.736469e+03"
       ]
      },
      {
       "output_type": "stream",
       "stream": "stdout",
       "text": [
        " \r",
        "1388   8.046182e+05   1.000000e-15   7.475048e+02"
       ]
      },
      {
       "output_type": "stream",
       "stream": "stdout",
       "text": [
        " \r",
        "1389   8.046181e+05   1.000000e-15   5.909551e+02"
       ]
      },
      {
       "output_type": "stream",
       "stream": "stdout",
       "text": [
        " \r",
        "1390   8.046181e+05   1.000000e-15   1.582864e+03"
       ]
      },
      {
       "output_type": "stream",
       "stream": "stdout",
       "text": [
        " \r",
        "1391   8.046180e+05   1.000000e-15   1.433489e+03"
       ]
      },
      {
       "output_type": "stream",
       "stream": "stdout",
       "text": [
        " \r",
        "1392   8.046180e+05   1.000000e-15   4.659929e+02"
       ]
      },
      {
       "output_type": "stream",
       "stream": "stdout",
       "text": [
        " \r",
        "1393   8.046179e+05   1.000000e-15   6.928622e+02"
       ]
      },
      {
       "output_type": "stream",
       "stream": "stdout",
       "text": [
        " \r",
        "1394   8.046179e+05   1.000000e-15   2.686523e+03"
       ]
      },
      {
       "output_type": "stream",
       "stream": "stdout",
       "text": [
        " \r",
        "1395   8.046179e+05   1.000000e-15   6.096140e+02"
       ]
      },
      {
       "output_type": "stream",
       "stream": "stdout",
       "text": [
        " \r",
        "1396   8.046178e+05   1.000000e-15   3.956505e+02"
       ]
      },
      {
       "output_type": "stream",
       "stream": "stdout",
       "text": [
        " \r",
        "1397   8.046178e+05   1.000000e-15   4.891360e+02"
       ]
      },
      {
       "output_type": "stream",
       "stream": "stdout",
       "text": [
        " \r",
        "1398   8.046178e+05   1.000000e-15   1.050346e+03"
       ]
      },
      {
       "output_type": "stream",
       "stream": "stdout",
       "text": [
        " \r",
        "1399   8.046177e+05   1.000000e-15   4.749923e+02"
       ]
      },
      {
       "output_type": "stream",
       "stream": "stdout",
       "text": [
        " \r",
        "1400   8.046177e+05   1.000000e-15   3.417537e+02"
       ]
      },
      {
       "output_type": "stream",
       "stream": "stdout",
       "text": [
        " \r",
        "1401   8.046177e+05   1.000000e-15   2.623626e+02"
       ]
      },
      {
       "output_type": "stream",
       "stream": "stdout",
       "text": [
        " \r",
        "1402   8.046177e+05   1.000000e-15   1.556268e+03"
       ]
      },
      {
       "output_type": "stream",
       "stream": "stdout",
       "text": [
        " \r",
        "1403   8.046176e+05   1.000000e-15   3.386099e+02"
       ]
      },
      {
       "output_type": "stream",
       "stream": "stdout",
       "text": [
        " \r",
        "1404   8.046176e+05   1.000000e-15   1.924286e+02"
       ]
      },
      {
       "output_type": "stream",
       "stream": "stdout",
       "text": [
        " \r",
        "1405   8.046176e+05   1.000000e-15   2.041178e+02"
       ]
      },
      {
       "output_type": "stream",
       "stream": "stdout",
       "text": [
        " \r",
        "1406   8.046176e+05   1.000000e-15   4.132729e+02"
       ]
      },
      {
       "output_type": "stream",
       "stream": "stdout",
       "text": [
        " \r",
        "1407   8.046176e+05   1.000000e-15   2.802936e+02"
       ]
      },
      {
       "output_type": "stream",
       "stream": "stdout",
       "text": [
        " \r",
        "1408   8.046176e+05   1.000000e-15   1.384151e+02"
       ]
      },
      {
       "output_type": "stream",
       "stream": "stdout",
       "text": [
        " \r",
        "1409   8.046176e+05   1.000000e-15   1.396299e+02"
       ]
      },
      {
       "output_type": "stream",
       "stream": "stdout",
       "text": [
        " \r",
        "1410   8.046176e+05   1.000000e-15   1.574734e+02"
       ]
      },
      {
       "output_type": "stream",
       "stream": "stdout",
       "text": [
        " \r",
        "1411   8.046175e+05   1.000000e-15   3.766476e+02"
       ]
      },
      {
       "output_type": "stream",
       "stream": "stdout",
       "text": [
        " \r",
        "1412   8.046175e+05   1.000000e-15   1.205997e+02"
       ]
      },
      {
       "output_type": "stream",
       "stream": "stdout",
       "text": [
        " \r",
        "1413   8.046175e+05   1.000000e-15   1.273510e+02"
       ]
      },
      {
       "output_type": "stream",
       "stream": "stdout",
       "text": [
        " \r",
        "1414   8.046175e+05   1.000000e-15   1.334753e+02"
       ]
      },
      {
       "output_type": "stream",
       "stream": "stdout",
       "text": [
        " \r",
        "1415   8.046175e+05   1.000000e-15   2.139537e+02"
       ]
      },
      {
       "output_type": "stream",
       "stream": "stdout",
       "text": [
        " \r",
        "1416   8.046175e+05   1.000000e-15   8.297447e+01"
       ]
      },
      {
       "output_type": "stream",
       "stream": "stdout",
       "text": [
        " \r",
        "1417   8.046175e+05   1.000000e-15   7.930220e+01"
       ]
      },
      {
       "output_type": "stream",
       "stream": "stdout",
       "text": [
        " \r",
        "1418   8.046175e+05   1.000000e-15   3.954092e+02"
       ]
      },
      {
       "output_type": "stream",
       "stream": "stdout",
       "text": [
        " \r",
        "1419   8.046175e+05   1.000000e-15   8.174756e+01"
       ]
      },
      {
       "output_type": "stream",
       "stream": "stdout",
       "text": [
        " \r",
        "1420   8.046175e+05   1.000000e-15   5.947016e+01"
       ]
      },
      {
       "output_type": "stream",
       "stream": "stdout",
       "text": [
        " \r",
        "1421   8.046175e+05   1.000000e-15   7.991618e+01"
       ]
      },
      {
       "output_type": "stream",
       "stream": "stdout",
       "text": [
        " \r",
        "1422   8.046175e+05   1.000000e-15   2.795723e+02"
       ]
      },
      {
       "output_type": "stream",
       "stream": "stdout",
       "text": [
        " \r",
        "1423   8.046175e+05   1.000000e-15   6.443454e+01"
       ]
      },
      {
       "output_type": "stream",
       "stream": "stdout",
       "text": [
        " \r",
        "1424   8.046175e+05   1.000000e-15   4.106425e+01"
       ]
      },
      {
       "output_type": "stream",
       "stream": "stdout",
       "text": [
        " \r",
        "1425   8.046175e+05   1.000000e-15   7.359155e+01"
       ]
      },
      {
       "output_type": "stream",
       "stream": "stdout",
       "text": [
        " \r",
        "1426   8.046175e+05   1.000000e-15   3.036904e+02"
       ]
      },
      {
       "output_type": "stream",
       "stream": "stdout",
       "text": [
        " \r",
        "1427   8.046174e+05   1.000000e-15   5.287528e+01"
       ]
      },
      {
       "output_type": "stream",
       "stream": "stdout",
       "text": [
        " \r",
        "1428   8.046174e+05   1.000000e-15   5.663949e+01"
       ]
      },
      {
       "output_type": "stream",
       "stream": "stdout",
       "text": [
        " \r",
        "1429   8.046174e+05   1.000000e-15   7.215485e+01"
       ]
      },
      {
       "output_type": "stream",
       "stream": "stdout",
       "text": [
        " \r",
        "1430   8.046174e+05   1.000000e-15   2.937124e+02"
       ]
      },
      {
       "output_type": "stream",
       "stream": "stdout",
       "text": [
        " \r",
        "1431   8.046174e+05   1.000000e-15   6.307341e+01"
       ]
      },
      {
       "output_type": "stream",
       "stream": "stdout",
       "text": [
        " \r",
        "1432   8.046174e+05   1.000000e-15   4.998092e+01"
       ]
      },
      {
       "output_type": "stream",
       "stream": "stdout",
       "text": [
        " \r",
        "1433   8.046174e+05   1.000000e-15   4.536990e+01"
       ]
      },
      {
       "output_type": "stream",
       "stream": "stdout",
       "text": [
        " \r",
        "1434   8.046174e+05   1.000000e-15   2.156506e+02"
       ]
      },
      {
       "output_type": "stream",
       "stream": "stdout",
       "text": [
        " \r",
        "1435   8.046174e+05   1.000000e-15   3.913726e+01"
       ]
      },
      {
       "output_type": "stream",
       "stream": "stdout",
       "text": [
        " \r",
        "1436   8.046174e+05   1.000000e-15   3.991991e+01"
       ]
      },
      {
       "output_type": "stream",
       "stream": "stdout",
       "text": [
        " \r",
        "1437   8.046174e+05   1.000000e-15   4.075461e+01"
       ]
      },
      {
       "output_type": "stream",
       "stream": "stdout",
       "text": [
        " \r",
        "1438   8.046174e+05   1.000000e-15   8.575584e+01"
       ]
      },
      {
       "output_type": "stream",
       "stream": "stdout",
       "text": [
        " \r",
        "1439   8.046174e+05   1.000000e-15   6.205720e+01"
       ]
      },
      {
       "output_type": "stream",
       "stream": "stdout",
       "text": [
        " \r",
        "1440   8.046174e+05   1.000000e-15   3.196796e+01"
       ]
      },
      {
       "output_type": "stream",
       "stream": "stdout",
       "text": [
        " \r",
        "1441   8.046174e+05   1.000000e-15   4.026892e+01"
       ]
      },
      {
       "output_type": "stream",
       "stream": "stdout",
       "text": [
        " \r",
        "1442   8.046174e+05   1.000000e-15   2.562162e+01"
       ]
      },
      {
       "output_type": "stream",
       "stream": "stdout",
       "text": [
        " \r",
        "1443   8.046174e+05   1.000000e-15   3.649104e+01"
       ]
      },
      {
       "output_type": "stream",
       "stream": "stdout",
       "text": [
        " \r",
        "1444   8.046174e+05   1.000000e-15   1.227613e+02"
       ]
      },
      {
       "output_type": "stream",
       "stream": "stdout",
       "text": [
        " \r",
        "1445   8.046174e+05   1.000000e-15   3.186008e+01"
       ]
      },
      {
       "output_type": "stream",
       "stream": "stdout",
       "text": [
        " \r",
        "1446   8.046174e+05   1.000000e-15   2.951019e+01"
       ]
      },
      {
       "output_type": "stream",
       "stream": "stdout",
       "text": [
        " \r",
        "1447   8.046174e+05   1.000000e-15   3.187597e+01"
       ]
      },
      {
       "output_type": "stream",
       "stream": "stdout",
       "text": [
        " \r",
        "1448   8.046174e+05   1.000000e-15   4.878249e+01"
       ]
      },
      {
       "output_type": "stream",
       "stream": "stdout",
       "text": [
        " \r",
        "1449   8.046174e+05   1.000000e-15   5.114730e+01"
       ]
      },
      {
       "output_type": "stream",
       "stream": "stdout",
       "text": [
        " \r",
        "1450   8.046174e+05   1.000000e-15   3.264628e+01"
       ]
      },
      {
       "output_type": "stream",
       "stream": "stdout",
       "text": [
        " \r",
        "1451   8.046174e+05   1.000000e-15   3.390464e+01"
       ]
      },
      {
       "output_type": "stream",
       "stream": "stdout",
       "text": [
        " \r",
        "1452   8.046174e+05   1.000000e-15   3.366493e+01"
       ]
      },
      {
       "output_type": "stream",
       "stream": "stdout",
       "text": [
        " \r",
        "1453   8.046174e+05   1.000000e-15   1.435628e+02"
       ]
      },
      {
       "output_type": "stream",
       "stream": "stdout",
       "text": [
        " \r",
        "1454   8.046174e+05   1.000000e-15   3.128370e+01"
       ]
      },
      {
       "output_type": "stream",
       "stream": "stdout",
       "text": [
        " \r",
        "1455   8.046174e+05   1.000000e-15   2.616572e+01"
       ]
      },
      {
       "output_type": "stream",
       "stream": "stdout",
       "text": [
        " \r",
        "1456   8.046174e+05   1.000000e-15   2.943628e+01"
       ]
      },
      {
       "output_type": "stream",
       "stream": "stdout",
       "text": [
        " \r",
        "1457   8.046174e+05   1.000000e-15   1.558064e+02"
       ]
      },
      {
       "output_type": "stream",
       "stream": "stdout",
       "text": [
        " \r",
        "1458   8.046174e+05   1.000000e-15   3.627460e+01"
       ]
      },
      {
       "output_type": "stream",
       "stream": "stdout",
       "text": [
        " \r",
        "1459   8.046173e+05   1.000000e-15   4.729827e+01"
       ]
      },
      {
       "output_type": "stream",
       "stream": "stdout",
       "text": [
        " \r",
        "1460   8.046173e+05   1.000000e-15   2.382956e+01"
       ]
      },
      {
       "output_type": "stream",
       "stream": "stdout",
       "text": [
        " \r",
        "1461   8.046173e+05   1.000000e-15   5.617034e+01"
       ]
      },
      {
       "output_type": "stream",
       "stream": "stdout",
       "text": [
        " \r",
        "1462   8.046173e+05   1.000000e-15   6.120861e+01"
       ]
      },
      {
       "output_type": "stream",
       "stream": "stdout",
       "text": [
        " \r",
        "1463   8.046173e+05   1.000000e-15   2.552736e+01"
       ]
      },
      {
       "output_type": "stream",
       "stream": "stdout",
       "text": [
        " \r",
        "1464   8.046173e+05   1.000000e-15   2.333115e+01"
       ]
      },
      {
       "output_type": "stream",
       "stream": "stdout",
       "text": [
        " \r",
        "1465   8.046173e+05   1.000000e-15   2.558396e+01"
       ]
      },
      {
       "output_type": "stream",
       "stream": "stdout",
       "text": [
        " \r",
        "1466   8.046173e+05   1.000000e-15   1.092066e+02"
       ]
      },
      {
       "output_type": "stream",
       "stream": "stdout",
       "text": [
        " \r",
        "1467   8.046173e+05   1.000000e-15   2.553538e+01"
       ]
      },
      {
       "output_type": "stream",
       "stream": "stdout",
       "text": [
        " \r",
        "1468   8.046173e+05   1.000000e-15   2.448385e+01"
       ]
      },
      {
       "output_type": "stream",
       "stream": "stdout",
       "text": [
        " \r",
        "1469   8.046173e+05   1.000000e-15   1.337056e+01"
       ]
      },
      {
       "output_type": "stream",
       "stream": "stdout",
       "text": [
        " \r",
        "1470   8.046173e+05   1.000000e-15   3.410734e+01"
       ]
      },
      {
       "output_type": "stream",
       "stream": "stdout",
       "text": [
        " \r",
        "1471   8.046173e+05   1.000000e-15   4.264762e+01"
       ]
      },
      {
       "output_type": "stream",
       "stream": "stdout",
       "text": [
        " \r",
        "1472   8.046173e+05   1.000000e-15   2.511362e+01"
       ]
      },
      {
       "output_type": "stream",
       "stream": "stdout",
       "text": [
        " \r",
        "1473   8.046173e+05   1.000000e-15   2.184543e+01"
       ]
      },
      {
       "output_type": "stream",
       "stream": "stdout",
       "text": [
        " \r",
        "1474   8.046173e+05   1.000000e-15   3.231792e+01"
       ]
      },
      {
       "output_type": "stream",
       "stream": "stdout",
       "text": [
        " \r",
        "1475   8.046173e+05   1.000000e-15   1.307735e+02"
       ]
      },
      {
       "output_type": "stream",
       "stream": "stdout",
       "text": [
        " \r",
        "1476   8.046173e+05   1.000000e-15   2.854009e+01"
       ]
      },
      {
       "output_type": "stream",
       "stream": "stdout",
       "text": [
        " \r",
        "1477   8.046173e+05   1.000000e-15   2.444702e+01"
       ]
      },
      {
       "output_type": "stream",
       "stream": "stdout",
       "text": [
        " \r",
        "1478   8.046173e+05   1.000000e-15   3.234186e+01"
       ]
      },
      {
       "output_type": "stream",
       "stream": "stdout",
       "text": [
        " \r",
        "1479   8.046173e+05   1.000000e-15   3.504662e+01"
       ]
      },
      {
       "output_type": "stream",
       "stream": "stdout",
       "text": [
        " \r",
        "1480   8.046173e+05   1.000000e-15   1.001683e+02"
       ]
      },
      {
       "output_type": "stream",
       "stream": "stdout",
       "text": [
        " \r",
        "1481   8.046173e+05   1.000000e-15   4.164790e+01"
       ]
      },
      {
       "output_type": "stream",
       "stream": "stdout",
       "text": [
        " \r",
        "1482   8.046173e+05   1.000000e-15   2.498125e+01"
       ]
      },
      {
       "output_type": "stream",
       "stream": "stdout",
       "text": [
        " \r",
        "1483   8.046173e+05   1.000000e-15   3.496532e+01"
       ]
      },
      {
       "output_type": "stream",
       "stream": "stdout",
       "text": [
        " \r",
        "1484   8.046173e+05   1.000000e-15   3.054989e+01"
       ]
      },
      {
       "output_type": "stream",
       "stream": "stdout",
       "text": [
        " \r",
        "1485   8.046173e+05   1.000000e-15   5.455458e+01"
       ]
      },
      {
       "output_type": "stream",
       "stream": "stdout",
       "text": [
        " \r",
        "1486   8.046173e+05   1.000000e-15   7.541361e+01"
       ]
      },
      {
       "output_type": "stream",
       "stream": "stdout",
       "text": [
        " \r",
        "1487   8.046173e+05   1.000000e-15   2.585526e+01"
       ]
      },
      {
       "output_type": "stream",
       "stream": "stdout",
       "text": [
        " \r",
        "1488   8.046173e+05   1.000000e-15   3.047558e+01"
       ]
      },
      {
       "output_type": "stream",
       "stream": "stdout",
       "text": [
        " \r",
        "1489   8.046173e+05   1.000000e-15   3.227137e+01"
       ]
      },
      {
       "output_type": "stream",
       "stream": "stdout",
       "text": [
        " \r",
        "1490   8.046173e+05   1.000000e-15   1.392647e+02"
       ]
      },
      {
       "output_type": "stream",
       "stream": "stdout",
       "text": [
        " \r",
        "1491   8.046173e+05   1.000000e-15   2.226397e+01"
       ]
      },
      {
       "output_type": "stream",
       "stream": "stdout",
       "text": [
        " \r",
        "1492   8.046173e+05   1.000000e-15   2.539433e+01"
       ]
      },
      {
       "output_type": "stream",
       "stream": "stdout",
       "text": [
        " \r",
        "1493   8.046173e+05   1.000000e-15   2.754661e+01"
       ]
      },
      {
       "output_type": "stream",
       "stream": "stdout",
       "text": [
        " \r",
        "1494   8.046173e+05   1.000000e-15   1.026279e+02"
       ]
      },
      {
       "output_type": "stream",
       "stream": "stdout",
       "text": [
        " \r",
        "1495   8.046173e+05   1.000000e-15   3.369363e+01"
       ]
      },
      {
       "output_type": "stream",
       "stream": "stdout",
       "text": [
        " \r",
        "1496   8.046173e+05   1.000000e-15   2.204025e+01"
       ]
      },
      {
       "output_type": "stream",
       "stream": "stdout",
       "text": [
        " \r",
        "1497   8.046173e+05   1.000000e-15   2.883212e+01"
       ]
      },
      {
       "output_type": "stream",
       "stream": "stdout",
       "text": [
        " \r",
        "1498   8.046173e+05   1.000000e-15   7.527309e+01"
       ]
      },
      {
       "output_type": "stream",
       "stream": "stdout",
       "text": [
        " \r",
        "1499   8.046173e+05   1.000000e-15   5.093695e+01"
       ]
      },
      {
       "output_type": "stream",
       "stream": "stdout",
       "text": [
        " \r",
        "1500   8.046173e+05   1.000000e-15   3.160652e+01"
       ]
      },
      {
       "output_type": "stream",
       "stream": "stdout",
       "text": [
        " \r",
        "1501   8.046173e+05   1.000000e-15   4.410520e+01"
       ]
      },
      {
       "output_type": "stream",
       "stream": "stdout",
       "text": [
        " \r",
        "1502   8.046172e+05   1.000000e-15   4.208134e+01"
       ]
      },
      {
       "output_type": "stream",
       "stream": "stdout",
       "text": [
        " \r",
        "1503   8.046172e+05   1.000000e-15   7.643452e+01"
       ]
      },
      {
       "output_type": "stream",
       "stream": "stdout",
       "text": [
        " \r",
        "1504   8.046172e+05   1.000000e-15   1.139045e+02"
       ]
      },
      {
       "output_type": "stream",
       "stream": "stdout",
       "text": [
        " \r",
        "1505   8.046172e+05   1.000000e-15   5.028390e+01"
       ]
      },
      {
       "output_type": "stream",
       "stream": "stdout",
       "text": [
        " \r",
        "1506   8.046172e+05   1.000000e-15   4.336636e+01"
       ]
      },
      {
       "output_type": "stream",
       "stream": "stdout",
       "text": [
        " \r",
        "1507   8.046172e+05   1.000000e-15   7.255050e+01"
       ]
      },
      {
       "output_type": "stream",
       "stream": "stdout",
       "text": [
        " \r",
        "1508   8.046172e+05   1.000000e-15   1.961719e+02"
       ]
      },
      {
       "output_type": "stream",
       "stream": "stdout",
       "text": [
        " \r",
        "1509   8.046172e+05   1.000000e-15   4.763662e+01"
       ]
      },
      {
       "output_type": "stream",
       "stream": "stdout",
       "text": [
        " \r",
        "1510   8.046172e+05   1.000000e-15   6.572625e+01"
       ]
      },
      {
       "output_type": "stream",
       "stream": "stdout",
       "text": [
        " \r",
        "1511   8.046172e+05   1.000000e-15   7.799642e+01"
       ]
      },
      {
       "output_type": "stream",
       "stream": "stdout",
       "text": [
        " \r",
        "1512   8.046172e+05   1.000000e-15   1.221053e+02"
       ]
      },
      {
       "output_type": "stream",
       "stream": "stdout",
       "text": [
        " \r",
        "1513   8.046172e+05   1.000000e-15   7.700414e+01"
       ]
      },
      {
       "output_type": "stream",
       "stream": "stdout",
       "text": [
        " \r",
        "1514   8.046172e+05   1.000000e-15   8.335084e+01"
       ]
      },
      {
       "output_type": "stream",
       "stream": "stdout",
       "text": [
        " \r",
        "1515   8.046172e+05   1.000000e-15   3.971665e+02"
       ]
      },
      {
       "output_type": "stream",
       "stream": "stdout",
       "text": [
        " \r",
        "1516   8.046172e+05   1.000000e-15   1.028300e+02"
       ]
      },
      {
       "output_type": "stream",
       "stream": "stdout",
       "text": [
        " \r",
        "1517   8.046172e+05   1.000000e-15   9.229217e+01"
       ]
      },
      {
       "output_type": "stream",
       "stream": "stdout",
       "text": [
        " \r",
        "1518   8.046172e+05   1.000000e-15   9.253893e+01"
       ]
      },
      {
       "output_type": "stream",
       "stream": "stdout",
       "text": [
        " \r",
        "1519   8.046172e+05   1.000000e-15   7.117206e+02"
       ]
      },
      {
       "output_type": "stream",
       "stream": "stdout",
       "text": [
        " \r",
        "1520   8.046171e+05   1.000000e-15   1.147203e+02"
       ]
      },
      {
       "output_type": "stream",
       "stream": "stdout",
       "text": [
        " \r",
        "1521   8.046171e+05   1.000000e-15   1.230615e+02"
       ]
      },
      {
       "output_type": "stream",
       "stream": "stdout",
       "text": [
        " \r",
        "1522   8.046171e+05   1.000000e-15   1.616314e+02"
       ]
      },
      {
       "output_type": "stream",
       "stream": "stdout",
       "text": [
        " \r",
        "1523   8.046171e+05   1.000000e-15   7.548559e+02"
       ]
      },
      {
       "output_type": "stream",
       "stream": "stdout",
       "text": [
        " \r",
        "1524   8.046171e+05   1.000000e-15   1.542370e+02"
       ]
      },
      {
       "output_type": "stream",
       "stream": "stdout",
       "text": [
        " \r",
        "1525   8.046171e+05   1.000000e-15   1.743452e+02"
       ]
      },
      {
       "output_type": "stream",
       "stream": "stdout",
       "text": [
        " \r",
        "1526   8.046171e+05   1.000000e-15   2.043778e+02"
       ]
      },
      {
       "output_type": "stream",
       "stream": "stdout",
       "text": [
        " \r",
        "1527   8.046170e+05   1.000000e-15   1.399992e+03"
       ]
      },
      {
       "output_type": "stream",
       "stream": "stdout",
       "text": [
        " \r",
        "1528   8.046170e+05   1.000000e-15   2.658134e+02"
       ]
      },
      {
       "output_type": "stream",
       "stream": "stdout",
       "text": [
        " \r",
        "1529   8.046170e+05   1.000000e-15   4.088761e+02"
       ]
      },
      {
       "output_type": "stream",
       "stream": "stdout",
       "text": [
        " \r",
        "1530   8.046170e+05   1.000000e-15   9.233740e+02"
       ]
      },
      {
       "output_type": "stream",
       "stream": "stdout",
       "text": [
        " \r",
        "1531   8.046169e+05   1.000000e-15   1.367951e+03"
       ]
      },
      {
       "output_type": "stream",
       "stream": "stdout",
       "text": [
        " \r",
        "1532   8.046169e+05   1.000000e-15   5.936566e+02"
       ]
      },
      {
       "output_type": "stream",
       "stream": "stdout",
       "text": [
        " \r",
        "1533   8.046168e+05   1.000000e-15   7.192553e+02"
       ]
      },
      {
       "output_type": "stream",
       "stream": "stdout",
       "text": [
        " \r",
        "1534   8.046168e+05   1.000000e-15   1.771714e+03"
       ]
      },
      {
       "output_type": "stream",
       "stream": "stdout",
       "text": [
        " \r",
        "1535   8.046168e+05   1.000000e-15   4.597311e+02"
       ]
      },
      {
       "output_type": "stream",
       "stream": "stdout",
       "text": [
        " \r",
        "1536   8.046168e+05   1.000000e-15   1.566891e+03"
       ]
      },
      {
       "output_type": "stream",
       "stream": "stdout",
       "text": [
        " \r",
        "1537   8.046167e+05   1.000000e-15   4.085331e+02"
       ]
      },
      {
       "output_type": "stream",
       "stream": "stdout",
       "text": [
        " \r",
        "1538   8.046167e+05   1.000000e-15   4.554772e+02"
       ]
      },
      {
       "output_type": "stream",
       "stream": "stdout",
       "text": [
        " \r",
        "1539   8.046167e+05   1.000000e-15   1.981931e+03"
       ]
      },
      {
       "output_type": "stream",
       "stream": "stdout",
       "text": [
        " \r",
        "1540   8.046167e+05   1.000000e-15   3.977478e+02"
       ]
      },
      {
       "output_type": "stream",
       "stream": "stdout",
       "text": [
        " \r",
        "1541   8.046166e+05   1.000000e-15   4.961119e+02"
       ]
      },
      {
       "output_type": "stream",
       "stream": "stdout",
       "text": [
        " \r",
        "1542   8.046166e+05   1.000000e-15   5.915169e+02"
       ]
      },
      {
       "output_type": "stream",
       "stream": "stdout",
       "text": [
        " \r",
        "1543   8.046166e+05   1.000000e-15   4.413600e+02"
       ]
      },
      {
       "output_type": "stream",
       "stream": "stdout",
       "text": [
        " \r",
        "1544   8.046166e+05   1.000000e-15   1.304208e+03"
       ]
      },
      {
       "output_type": "stream",
       "stream": "stdout",
       "text": [
        " \r",
        "1545   8.046165e+05   1.000000e-15   2.886387e+02"
       ]
      },
      {
       "output_type": "stream",
       "stream": "stdout",
       "text": [
        " \r",
        "1546   8.046165e+05   1.000000e-15   3.439849e+02"
       ]
      },
      {
       "output_type": "stream",
       "stream": "stdout",
       "text": [
        " \r",
        "1547   8.046165e+05   1.000000e-15   9.420140e+02"
       ]
      },
      {
       "output_type": "stream",
       "stream": "stdout",
       "text": [
        " \r",
        "1548   8.046165e+05   1.000000e-15   3.365202e+02"
       ]
      },
      {
       "output_type": "stream",
       "stream": "stdout",
       "text": [
        " \r",
        "1549   8.046165e+05   1.000000e-15   8.479430e+02"
       ]
      },
      {
       "output_type": "stream",
       "stream": "stdout",
       "text": [
        " \r",
        "1550   8.046164e+05   1.000000e-15   4.511965e+02"
       ]
      },
      {
       "output_type": "stream",
       "stream": "stdout",
       "text": [
        " \r",
        "1551   8.046164e+05   1.000000e-15   3.591298e+02"
       ]
      },
      {
       "output_type": "stream",
       "stream": "stdout",
       "text": [
        " \r",
        "1552   8.046164e+05   1.000000e-15   1.763980e+03"
       ]
      },
      {
       "output_type": "stream",
       "stream": "stdout",
       "text": [
        " \r",
        "1553   8.046164e+05   1.000000e-15   4.067689e+02"
       ]
      },
      {
       "output_type": "stream",
       "stream": "stdout",
       "text": [
        " \r",
        "1554   8.046164e+05   1.000000e-15   4.011534e+02"
       ]
      },
      {
       "output_type": "stream",
       "stream": "stdout",
       "text": [
        " \r",
        "1555   8.046163e+05   1.000000e-15   7.102304e+02"
       ]
      },
      {
       "output_type": "stream",
       "stream": "stdout",
       "text": [
        " \r",
        "1556   8.046163e+05   1.000000e-15   3.694226e+02"
       ]
      },
      {
       "output_type": "stream",
       "stream": "stdout",
       "text": [
        " \r",
        "1557   8.046163e+05   1.000000e-15   1.284894e+03"
       ]
      },
      {
       "output_type": "stream",
       "stream": "stdout",
       "text": [
        " \r",
        "1558   8.046163e+05   1.000000e-15   3.781969e+02"
       ]
      },
      {
       "output_type": "stream",
       "stream": "stdout",
       "text": [
        " \r",
        "1559   8.046163e+05   1.000000e-15   3.132924e+02"
       ]
      },
      {
       "output_type": "stream",
       "stream": "stdout",
       "text": [
        " \r",
        "1560   8.046162e+05   1.000000e-15   1.123169e+03"
       ]
      },
      {
       "output_type": "stream",
       "stream": "stdout",
       "text": [
        " \r",
        "1561   8.046162e+05   1.000000e-15   2.761978e+02"
       ]
      },
      {
       "output_type": "stream",
       "stream": "stdout",
       "text": [
        " \r",
        "1562   8.046162e+05   1.000000e-15   4.740009e+02"
       ]
      },
      {
       "output_type": "stream",
       "stream": "stdout",
       "text": [
        " \r",
        "1563   8.046162e+05   1.000000e-15   3.414570e+02"
       ]
      },
      {
       "output_type": "stream",
       "stream": "stdout",
       "text": [
        " \r",
        "1564   8.046162e+05   1.000000e-15   2.196164e+02"
       ]
      },
      {
       "output_type": "stream",
       "stream": "stdout",
       "text": [
        " \r",
        "1565   8.046162e+05   1.000000e-15   1.302661e+03"
       ]
      },
      {
       "output_type": "stream",
       "stream": "stdout",
       "text": [
        " \r",
        "1566   8.046162e+05   1.000000e-15   1.974657e+02"
       ]
      },
      {
       "output_type": "stream",
       "stream": "stdout",
       "text": [
        " \r",
        "1567   8.046162e+05   1.000000e-15   2.410911e+02"
       ]
      },
      {
       "output_type": "stream",
       "stream": "stdout",
       "text": [
        " \r",
        "1568   8.046161e+05   1.000000e-15   4.660126e+02"
       ]
      },
      {
       "output_type": "stream",
       "stream": "stdout",
       "text": [
        " \r",
        "1569   8.046161e+05   1.000000e-15   1.284021e+02"
       ]
      },
      {
       "output_type": "stream",
       "stream": "stdout",
       "text": [
        " \r",
        "1570   8.046161e+05   1.000000e-15   6.110766e+02"
       ]
      },
      {
       "output_type": "stream",
       "stream": "stdout",
       "text": [
        " \r",
        "1571   8.046161e+05   1.000000e-15   1.614768e+02"
       ]
      },
      {
       "output_type": "stream",
       "stream": "stdout",
       "text": [
        " \r",
        "1572   8.046161e+05   1.000000e-15   1.497429e+02"
       ]
      },
      {
       "output_type": "stream",
       "stream": "stdout",
       "text": [
        " \r",
        "1573   8.046161e+05   1.000000e-15   6.296471e+02"
       ]
      },
      {
       "output_type": "stream",
       "stream": "stdout",
       "text": [
        " \r",
        "1574   8.046161e+05   1.000000e-15   1.157402e+02"
       ]
      },
      {
       "output_type": "stream",
       "stream": "stdout",
       "text": [
        " \r",
        "1575   8.046161e+05   1.000000e-15   2.136501e+02"
       ]
      },
      {
       "output_type": "stream",
       "stream": "stdout",
       "text": [
        " \r",
        "1576   8.046161e+05   1.000000e-15   2.408989e+02"
       ]
      },
      {
       "output_type": "stream",
       "stream": "stdout",
       "text": [
        " \r",
        "1577   8.046161e+05   1.000000e-15   1.191695e+02"
       ]
      },
      {
       "output_type": "stream",
       "stream": "stdout",
       "text": [
        " \r",
        "1578   8.046161e+05   1.000000e-15   5.739287e+02"
       ]
      },
      {
       "output_type": "stream",
       "stream": "stdout",
       "text": [
        " \r",
        "1579   8.046161e+05   1.000000e-15   1.326421e+02"
       ]
      },
      {
       "output_type": "stream",
       "stream": "stdout",
       "text": [
        " \r",
        "1580   8.046161e+05   1.000000e-15   1.440227e+02"
       ]
      },
      {
       "output_type": "stream",
       "stream": "stdout",
       "text": [
        " \r",
        "1581   8.046160e+05   1.000000e-15   3.584422e+02"
       ]
      },
      {
       "output_type": "stream",
       "stream": "stdout",
       "text": [
        " \r",
        "1582   8.046160e+05   1.000000e-15   1.219930e+02"
       ]
      },
      {
       "output_type": "stream",
       "stream": "stdout",
       "text": [
        " \r",
        "1583   8.046160e+05   1.000000e-15   3.327868e+02"
       ]
      },
      {
       "output_type": "stream",
       "stream": "stdout",
       "text": [
        " \r",
        "1584   8.046160e+05   1.000000e-15   1.282593e+02"
       ]
      },
      {
       "output_type": "stream",
       "stream": "stdout",
       "text": [
        " \r",
        "1585   8.046160e+05   1.000000e-15   1.308129e+02"
       ]
      },
      {
       "output_type": "stream",
       "stream": "stdout",
       "text": [
        " \r",
        "1586   8.046160e+05   1.000000e-15   5.610094e+02"
       ]
      },
      {
       "output_type": "stream",
       "stream": "stdout",
       "text": [
        " \r",
        "1587   8.046160e+05   1.000000e-15   1.122565e+02"
       ]
      },
      {
       "output_type": "stream",
       "stream": "stdout",
       "text": [
        " \r",
        "1588   8.046160e+05   1.000000e-15   1.557500e+02"
       ]
      },
      {
       "output_type": "stream",
       "stream": "stdout",
       "text": [
        " \r",
        "1589   8.046160e+05   1.000000e-15   2.454419e+02"
       ]
      },
      {
       "output_type": "stream",
       "stream": "stdout",
       "text": [
        " \r",
        "1590   8.046160e+05   1.000000e-15   1.355376e+02"
       ]
      },
      {
       "output_type": "stream",
       "stream": "stdout",
       "text": [
        " \r",
        "1591   8.046160e+05   1.000000e-15   3.430897e+02"
       ]
      },
      {
       "output_type": "stream",
       "stream": "stdout",
       "text": [
        " \r",
        "1592   8.046160e+05   1.000000e-15   1.282635e+02"
       ]
      },
      {
       "output_type": "stream",
       "stream": "stdout",
       "text": [
        " \r",
        "1593   8.046160e+05   1.000000e-15   1.181193e+02"
       ]
      },
      {
       "output_type": "stream",
       "stream": "stdout",
       "text": [
        " \r",
        "1594   8.046159e+05   1.000000e-15   4.798334e+02"
       ]
      },
      {
       "output_type": "stream",
       "stream": "stdout",
       "text": [
        " \r",
        "1595   8.046159e+05   1.000000e-15   1.277387e+02"
       ]
      },
      {
       "output_type": "stream",
       "stream": "stdout",
       "text": [
        " \r",
        "1596   8.046159e+05   1.000000e-15   2.181906e+02"
       ]
      },
      {
       "output_type": "stream",
       "stream": "stdout",
       "text": [
        " \r",
        "1597   8.046159e+05   1.000000e-15   1.964127e+02"
       ]
      },
      {
       "output_type": "stream",
       "stream": "stdout",
       "text": [
        " \r",
        "1598   8.046159e+05   1.000000e-15   1.204158e+02"
       ]
      },
      {
       "output_type": "stream",
       "stream": "stdout",
       "text": [
        " \r",
        "1599   8.046159e+05   1.000000e-15   5.469204e+02"
       ]
      },
      {
       "output_type": "stream",
       "stream": "stdout",
       "text": [
        " \r",
        "1600   8.046159e+05   1.000000e-15   1.214466e+02"
       ]
      },
      {
       "output_type": "stream",
       "stream": "stdout",
       "text": [
        " \r",
        "1601   8.046159e+05   1.000000e-15   1.500626e+02"
       ]
      },
      {
       "output_type": "stream",
       "stream": "stdout",
       "text": [
        " \r",
        "1602   8.046159e+05   1.000000e-15   4.039479e+02"
       ]
      },
      {
       "output_type": "stream",
       "stream": "stdout",
       "text": [
        " \r",
        "1603   8.046159e+05   1.000000e-15   1.389844e+02"
       ]
      },
      {
       "output_type": "stream",
       "stream": "stdout",
       "text": [
        " \r",
        "1604   8.046159e+05   1.000000e-15   2.942483e+02"
       ]
      },
      {
       "output_type": "stream",
       "stream": "stdout",
       "text": [
        " \r",
        "1605   8.046159e+05   1.000000e-15   1.825477e+02"
       ]
      },
      {
       "output_type": "stream",
       "stream": "stdout",
       "text": [
        " \r",
        "1606   8.046159e+05   1.000000e-15   1.243654e+02"
       ]
      },
      {
       "output_type": "stream",
       "stream": "stdout",
       "text": [
        " \r",
        "1607   8.046159e+05   1.000000e-15   6.800668e+02"
       ]
      },
      {
       "output_type": "stream",
       "stream": "stdout",
       "text": [
        " \r",
        "1608   8.046158e+05   1.000000e-15   1.237047e+02"
       ]
      },
      {
       "output_type": "stream",
       "stream": "stdout",
       "text": [
        " \r",
        "1609   8.046158e+05   1.000000e-15   1.480071e+02"
       ]
      },
      {
       "output_type": "stream",
       "stream": "stdout",
       "text": [
        " \r",
        "1610   8.046158e+05   1.000000e-15   3.682858e+02"
       ]
      },
      {
       "output_type": "stream",
       "stream": "stdout",
       "text": [
        " \r",
        "1611   8.046158e+05   1.000000e-15   9.947232e+01"
       ]
      },
      {
       "output_type": "stream",
       "stream": "stdout",
       "text": [
        " \r",
        "1612   8.046158e+05   1.000000e-15   2.660073e+02"
       ]
      },
      {
       "output_type": "stream",
       "stream": "stdout",
       "text": [
        " \r",
        "1613   8.046158e+05   1.000000e-15   1.460594e+02"
       ]
      },
      {
       "output_type": "stream",
       "stream": "stdout",
       "text": [
        " \r",
        "1614   8.046158e+05   1.000000e-15   9.867429e+01"
       ]
      },
      {
       "output_type": "stream",
       "stream": "stdout",
       "text": [
        " \r",
        "1615   8.046158e+05   1.000000e-15   5.065228e+02"
       ]
      },
      {
       "output_type": "stream",
       "stream": "stdout",
       "text": [
        " \r",
        "1616   8.046158e+05   1.000000e-15   8.783702e+01"
       ]
      },
      {
       "output_type": "stream",
       "stream": "stdout",
       "text": [
        " \r",
        "1617   8.046158e+05   1.000000e-15   1.188567e+02"
       ]
      },
      {
       "output_type": "stream",
       "stream": "stdout",
       "text": [
        " \r",
        "1618   8.046158e+05   1.000000e-15   2.931803e+02"
       ]
      },
      {
       "output_type": "stream",
       "stream": "stdout",
       "text": [
        " \r",
        "1619   8.046158e+05   1.000000e-15   7.287138e+01"
       ]
      },
      {
       "output_type": "stream",
       "stream": "stdout",
       "text": [
        " \r",
        "1620   8.046158e+05   1.000000e-15   1.158561e+02"
       ]
      },
      {
       "output_type": "stream",
       "stream": "stdout",
       "text": [
        " \r",
        "1621   8.046158e+05   1.000000e-15   7.656825e+01"
       ]
      },
      {
       "output_type": "stream",
       "stream": "stdout",
       "text": [
        " \r",
        "1622   8.046158e+05   1.000000e-15   7.165847e+01"
       ]
      },
      {
       "output_type": "stream",
       "stream": "stdout",
       "text": [
        " \r",
        "1623   8.046158e+05   1.000000e-15   3.034475e+02"
       ]
      },
      {
       "output_type": "stream",
       "stream": "stdout",
       "text": [
        " \r",
        "1624   8.046158e+05   1.000000e-15   6.986199e+01"
       ]
      },
      {
       "output_type": "stream",
       "stream": "stdout",
       "text": [
        " \r",
        "1625   8.046158e+05   1.000000e-15   6.938962e+01"
       ]
      },
      {
       "output_type": "stream",
       "stream": "stdout",
       "text": [
        " \r",
        "1626   8.046158e+05   1.000000e-15   2.711573e+02"
       ]
      },
      {
       "output_type": "stream",
       "stream": "stdout",
       "text": [
        " \r",
        "1627   8.046158e+05   1.000000e-15   5.143035e+01"
       ]
      },
      {
       "output_type": "stream",
       "stream": "stdout",
       "text": [
        " \r",
        "1628   8.046157e+05   1.000000e-15   9.931380e+01"
       ]
      },
      {
       "output_type": "stream",
       "stream": "stdout",
       "text": [
        " \r",
        "1629   8.046157e+05   1.000000e-15   9.740146e+01"
       ]
      },
      {
       "output_type": "stream",
       "stream": "stdout",
       "text": [
        " \r",
        "1630   8.046157e+05   1.000000e-15   4.901986e+01"
       ]
      },
      {
       "output_type": "stream",
       "stream": "stdout",
       "text": [
        " \r",
        "1631   8.046157e+05   1.000000e-15   2.298557e+02"
       ]
      },
      {
       "output_type": "stream",
       "stream": "stdout",
       "text": [
        " \r",
        "1632   8.046157e+05   1.000000e-15   5.563231e+01"
       ]
      },
      {
       "output_type": "stream",
       "stream": "stdout",
       "text": [
        " \r",
        "1633   8.046157e+05   1.000000e-15   6.123661e+01"
       ]
      },
      {
       "output_type": "stream",
       "stream": "stdout",
       "text": [
        " \r",
        "1634   8.046157e+05   1.000000e-15   3.251161e+02"
       ]
      },
      {
       "output_type": "stream",
       "stream": "stdout",
       "text": [
        " \r",
        "1635   8.046157e+05   1.000000e-15   6.913337e+01"
       ]
      },
      {
       "output_type": "stream",
       "stream": "stdout",
       "text": [
        " \r",
        "1636   8.046157e+05   1.000000e-15   1.328673e+02"
       ]
      },
      {
       "output_type": "stream",
       "stream": "stdout",
       "text": [
        " \r",
        "1637   8.046157e+05   1.000000e-15   1.381754e+02"
       ]
      },
      {
       "output_type": "stream",
       "stream": "stdout",
       "text": [
        " \r",
        "1638   8.046157e+05   1.000000e-15   8.287863e+01"
       ]
      },
      {
       "output_type": "stream",
       "stream": "stdout",
       "text": [
        " \r",
        "1639   8.046157e+05   1.000000e-15   2.545071e+02"
       ]
      },
      {
       "output_type": "stream",
       "stream": "stdout",
       "text": [
        " \r",
        "1640   8.046157e+05   1.000000e-15   1.056490e+02"
       ]
      },
      {
       "output_type": "stream",
       "stream": "stdout",
       "text": [
        " \r",
        "1641   8.046157e+05   1.000000e-15   7.621410e+01"
       ]
      },
      {
       "output_type": "stream",
       "stream": "stdout",
       "text": [
        " \r",
        "1642   8.046157e+05   1.000000e-15   3.845951e+02"
       ]
      },
      {
       "output_type": "stream",
       "stream": "stdout",
       "text": [
        " \r",
        "1643   8.046157e+05   1.000000e-15   9.653324e+01"
       ]
      },
      {
       "output_type": "stream",
       "stream": "stdout",
       "text": [
        " \r",
        "1644   8.046157e+05   1.000000e-15   1.255596e+02"
       ]
      },
      {
       "output_type": "stream",
       "stream": "stdout",
       "text": [
        " \r",
        "1645   8.046157e+05   1.000000e-15   2.242163e+02"
       ]
      },
      {
       "output_type": "stream",
       "stream": "stdout",
       "text": [
        " \r",
        "1646   8.046157e+05   1.000000e-15   9.767965e+01"
       ]
      },
      {
       "output_type": "stream",
       "stream": "stdout",
       "text": [
        " \r",
        "1647   8.046157e+05   1.000000e-15   2.660883e+02"
       ]
      },
      {
       "output_type": "stream",
       "stream": "stdout",
       "text": [
        " \r",
        "1648   8.046157e+05   1.000000e-15   1.406172e+02"
       ]
      },
      {
       "output_type": "stream",
       "stream": "stdout",
       "text": [
        " \r",
        "1649   8.046156e+05   1.000000e-15   9.143115e+01"
       ]
      },
      {
       "output_type": "stream",
       "stream": "stdout",
       "text": [
        " \r",
        "1650   8.046156e+05   1.000000e-15   5.422371e+02"
       ]
      },
      {
       "output_type": "stream",
       "stream": "stdout",
       "text": [
        " \r",
        "1651   8.046156e+05   1.000000e-15   1.437446e+02"
       ]
      },
      {
       "output_type": "stream",
       "stream": "stdout",
       "text": [
        " \r",
        "1652   8.046156e+05   1.000000e-15   1.356497e+02"
       ]
      },
      {
       "output_type": "stream",
       "stream": "stdout",
       "text": [
        " \r",
        "1653   8.046156e+05   1.000000e-15   4.898529e+02"
       ]
      },
      {
       "output_type": "stream",
       "stream": "stdout",
       "text": [
        " \r",
        "1654   8.046156e+05   1.000000e-15   1.119650e+02"
       ]
      },
      {
       "output_type": "stream",
       "stream": "stdout",
       "text": [
        " \r",
        "1655   8.046156e+05   1.000000e-15   2.849926e+02"
       ]
      },
      {
       "output_type": "stream",
       "stream": "stdout",
       "text": [
        " \r",
        "1656   8.046156e+05   1.000000e-15   2.372032e+02"
       ]
      },
      {
       "output_type": "stream",
       "stream": "stdout",
       "text": [
        " \r",
        "1657   8.046156e+05   1.000000e-15   1.434563e+02"
       ]
      },
      {
       "output_type": "stream",
       "stream": "stdout",
       "text": [
        " \r",
        "1658   8.046156e+05   1.000000e-15   5.823847e+02"
       ]
      },
      {
       "output_type": "stream",
       "stream": "stdout",
       "text": [
        " \r",
        "1659   8.046156e+05   1.000000e-15   1.680886e+02"
       ]
      },
      {
       "output_type": "stream",
       "stream": "stdout",
       "text": [
        " \r",
        "1660   8.046156e+05   1.000000e-15   1.599015e+02"
       ]
      },
      {
       "output_type": "stream",
       "stream": "stdout",
       "text": [
        " \r",
        "1661   8.046155e+05   1.000000e-15   8.672473e+02"
       ]
      },
      {
       "output_type": "stream",
       "stream": "stdout",
       "text": [
        " \r",
        "1662   8.046155e+05   1.000000e-15   2.004242e+02"
       ]
      },
      {
       "output_type": "stream",
       "stream": "stdout",
       "text": [
        " \r",
        "1663   8.046155e+05   1.000000e-15   1.844963e+02"
       ]
      },
      {
       "output_type": "stream",
       "stream": "stdout",
       "text": [
        " \r",
        "1664   8.046155e+05   1.000000e-15   6.364634e+02"
       ]
      },
      {
       "output_type": "stream",
       "stream": "stdout",
       "text": [
        " \r",
        "1665   8.046155e+05   1.000000e-15   2.025903e+02"
       ]
      },
      {
       "output_type": "stream",
       "stream": "stdout",
       "text": [
        " \r",
        "1666   8.046155e+05   1.000000e-15   2.985820e+02"
       ]
      },
      {
       "output_type": "stream",
       "stream": "stdout",
       "text": [
        " \r",
        "1667   8.046155e+05   1.000000e-15   6.294710e+02"
       ]
      },
      {
       "output_type": "stream",
       "stream": "stdout",
       "text": [
        " \r",
        "1668   8.046155e+05   1.000000e-15   2.443868e+02"
       ]
      },
      {
       "output_type": "stream",
       "stream": "stdout",
       "text": [
        " \r",
        "1669   8.046155e+05   1.000000e-15   4.798125e+02"
       ]
      },
      {
       "output_type": "stream",
       "stream": "stdout",
       "text": [
        " \r",
        "1670   8.046154e+05   1.000000e-15   3.300697e+02"
       ]
      },
      {
       "output_type": "stream",
       "stream": "stdout",
       "text": [
        " \r",
        "1671   8.046154e+05   1.000000e-15   3.369263e+02"
       ]
      },
      {
       "output_type": "stream",
       "stream": "stdout",
       "text": [
        " \r",
        "1672   8.046154e+05   1.000000e-15   8.727155e+02"
       ]
      },
      {
       "output_type": "stream",
       "stream": "stdout",
       "text": [
        " \r",
        "1673   8.046154e+05   1.000000e-15   2.481817e+02"
       ]
      },
      {
       "output_type": "stream",
       "stream": "stdout",
       "text": [
        " \r",
        "1674   8.046154e+05   1.000000e-15   3.364097e+02"
       ]
      },
      {
       "output_type": "stream",
       "stream": "stdout",
       "text": [
        " \r",
        "1675   8.046154e+05   1.000000e-15   1.268702e+03"
       ]
      },
      {
       "output_type": "stream",
       "stream": "stdout",
       "text": [
        " \r",
        "1676   8.046153e+05   1.000000e-15   3.680730e+02"
       ]
      },
      {
       "output_type": "stream",
       "stream": "stdout",
       "text": [
        " \r",
        "1677   8.046153e+05   1.000000e-15   4.265495e+02"
       ]
      },
      {
       "output_type": "stream",
       "stream": "stdout",
       "text": [
        " \r",
        "1678   8.046153e+05   1.000000e-15   1.028426e+03"
       ]
      },
      {
       "output_type": "stream",
       "stream": "stdout",
       "text": [
        " \r",
        "1679   8.046153e+05   1.000000e-15   3.091247e+02"
       ]
      },
      {
       "output_type": "stream",
       "stream": "stdout",
       "text": [
        " \r",
        "1680   8.046153e+05   1.000000e-15   6.004149e+02"
       ]
      },
      {
       "output_type": "stream",
       "stream": "stdout",
       "text": [
        " \r",
        "1681   8.046152e+05   1.000000e-15   4.494936e+02"
       ]
      },
      {
       "output_type": "stream",
       "stream": "stdout",
       "text": [
        " \r",
        "1682   8.046152e+05   1.000000e-15   2.896205e+02"
       ]
      },
      {
       "output_type": "stream",
       "stream": "stdout",
       "text": [
        " \r",
        "1683   8.046152e+05   1.000000e-15   1.219873e+03"
       ]
      },
      {
       "output_type": "stream",
       "stream": "stdout",
       "text": [
        " \r",
        "1684   8.046152e+05   1.000000e-15   2.477228e+02"
       ]
      },
      {
       "output_type": "stream",
       "stream": "stdout",
       "text": [
        " \r",
        "1685   8.046152e+05   1.000000e-15   3.274859e+02"
       ]
      },
      {
       "output_type": "stream",
       "stream": "stdout",
       "text": [
        " \r",
        "1686   8.046152e+05   1.000000e-15   7.339236e+02"
       ]
      },
      {
       "output_type": "stream",
       "stream": "stdout",
       "text": [
        " \r",
        "1687   8.046152e+05   1.000000e-15   1.942382e+02"
       ]
      },
      {
       "output_type": "stream",
       "stream": "stdout",
       "text": [
        " \r",
        "1688   8.046152e+05   1.000000e-15   4.408724e+02"
       ]
      },
      {
       "output_type": "stream",
       "stream": "stdout",
       "text": [
        " \r",
        "1689   8.046152e+05   1.000000e-15   2.543621e+02"
       ]
      },
      {
       "output_type": "stream",
       "stream": "stdout",
       "text": [
        " \r",
        "1690   8.046151e+05   1.000000e-15   1.720364e+02"
       ]
      },
      {
       "output_type": "stream",
       "stream": "stdout",
       "text": [
        " \r",
        "1691   8.046151e+05   1.000000e-15   5.698832e+02"
       ]
      },
      {
       "output_type": "stream",
       "stream": "stdout",
       "text": [
        " \r",
        "1692   8.046151e+05   1.000000e-15   1.645744e+02"
       ]
      },
      {
       "output_type": "stream",
       "stream": "stdout",
       "text": [
        " \r",
        "1693   8.046151e+05   1.000000e-15   1.957271e+02"
       ]
      },
      {
       "output_type": "stream",
       "stream": "stdout",
       "text": [
        " \r",
        "1694   8.046151e+05   1.000000e-15   3.533307e+02"
       ]
      },
      {
       "output_type": "stream",
       "stream": "stdout",
       "text": [
        " \r",
        "1695   8.046151e+05   1.000000e-15   1.234040e+02"
       ]
      },
      {
       "output_type": "stream",
       "stream": "stdout",
       "text": [
        " \r",
        "1696   8.046151e+05   1.000000e-15   4.298513e+02"
       ]
      },
      {
       "output_type": "stream",
       "stream": "stdout",
       "text": [
        " \r",
        "1697   8.046151e+05   1.000000e-15   1.688801e+02"
       ]
      },
      {
       "output_type": "stream",
       "stream": "stdout",
       "text": [
        " \r",
        "1698   8.046151e+05   1.000000e-15   1.597617e+02"
       ]
      },
      {
       "output_type": "stream",
       "stream": "stdout",
       "text": [
        " \r",
        "1699   8.046151e+05   1.000000e-15   5.585839e+02"
       ]
      },
      {
       "output_type": "stream",
       "stream": "stdout",
       "text": [
        " \r",
        "1700   8.046151e+05   1.000000e-15   1.372841e+02"
       ]
      },
      {
       "output_type": "stream",
       "stream": "stdout",
       "text": [
        " \r",
        "1701   8.046151e+05   1.000000e-15   2.183975e+02"
       ]
      },
      {
       "output_type": "stream",
       "stream": "stdout",
       "text": [
        " \r",
        "1702   8.046151e+05   1.000000e-15   2.941470e+02"
       ]
      },
      {
       "output_type": "stream",
       "stream": "stdout",
       "text": [
        " \r",
        "1703   8.046151e+05   1.000000e-15   1.542447e+02"
       ]
      },
      {
       "output_type": "stream",
       "stream": "stdout",
       "text": [
        " \r",
        "1704   8.046150e+05   1.000000e-15   5.997850e+02"
       ]
      },
      {
       "output_type": "stream",
       "stream": "stdout",
       "text": [
        " \r",
        "1705   8.046150e+05   1.000000e-15   1.766792e+02"
       ]
      },
      {
       "output_type": "stream",
       "stream": "stdout",
       "text": [
        " \r",
        "1706   8.046150e+05   1.000000e-15   2.193774e+02"
       ]
      },
      {
       "output_type": "stream",
       "stream": "stdout",
       "text": [
        " \r",
        "1707   8.046150e+05   1.000000e-15   3.920607e+02"
       ]
      },
      {
       "output_type": "stream",
       "stream": "stdout",
       "text": [
        " \r",
        "1708   8.046150e+05   1.000000e-15   1.856080e+02"
       ]
      },
      {
       "output_type": "stream",
       "stream": "stdout",
       "text": [
        " \r",
        "1709   8.046150e+05   1.000000e-15   3.443048e+02"
       ]
      },
      {
       "output_type": "stream",
       "stream": "stdout",
       "text": [
        " \r",
        "1710   8.046149e+05   1.000000e-15   5.705773e+02"
       ]
      },
      {
       "output_type": "stream",
       "stream": "stdout",
       "text": [
        " \r",
        "1711   8.046149e+05   1.000000e-15   2.301843e+03"
       ]
      },
      {
       "output_type": "stream",
       "stream": "stdout",
       "text": [
        " \r",
        "1712   8.046149e+05   1.000000e-15   5.132834e+02"
       ]
      },
      {
       "output_type": "stream",
       "stream": "stdout",
       "text": [
        " \r",
        "1713   8.046148e+05   1.000000e-15   4.638383e+02"
       ]
      },
      {
       "output_type": "stream",
       "stream": "stdout",
       "text": [
        " \r",
        "1714   8.046148e+05   1.000000e-15   5.469474e+02"
       ]
      },
      {
       "output_type": "stream",
       "stream": "stdout",
       "text": [
        " \r",
        "1715   8.046148e+05   1.000000e-15   1.718985e+03"
       ]
      },
      {
       "output_type": "stream",
       "stream": "stdout",
       "text": [
        " \r",
        "1716   8.046147e+05   1.000000e-15   4.949378e+02"
       ]
      },
      {
       "output_type": "stream",
       "stream": "stdout",
       "text": [
        " \r",
        "1717   8.046147e+05   1.000000e-15   3.413823e+02"
       ]
      },
      {
       "output_type": "stream",
       "stream": "stdout",
       "text": [
        " \r",
        "1718   8.046147e+05   1.000000e-15   4.164208e+02"
       ]
      },
      {
       "output_type": "stream",
       "stream": "stdout",
       "text": [
        " \r",
        "1719   8.046147e+05   1.000000e-15   9.035238e+02"
       ]
      },
      {
       "output_type": "stream",
       "stream": "stdout",
       "text": [
        " \r",
        "1720   8.046147e+05   1.000000e-15   3.565448e+02"
       ]
      },
      {
       "output_type": "stream",
       "stream": "stdout",
       "text": [
        " \r",
        "1721   8.046146e+05   1.000000e-15   3.761217e+02"
       ]
      },
      {
       "output_type": "stream",
       "stream": "stdout",
       "text": [
        " \r",
        "1722   8.046146e+05   1.000000e-15   9.739883e+02"
       ]
      },
      {
       "output_type": "stream",
       "stream": "stdout",
       "text": [
        " \r",
        "1723   8.046146e+05   1.000000e-15   7.280299e+02"
       ]
      },
      {
       "output_type": "stream",
       "stream": "stdout",
       "text": [
        " \r",
        "1724   8.046145e+05   1.000000e-15   4.908450e+02"
       ]
      },
      {
       "output_type": "stream",
       "stream": "stdout",
       "text": [
        " \r",
        "1725   8.046145e+05   1.000000e-15   5.584723e+02"
       ]
      },
      {
       "output_type": "stream",
       "stream": "stdout",
       "text": [
        " \r",
        "1726   8.046145e+05   1.000000e-15   2.515553e+03"
       ]
      },
      {
       "output_type": "stream",
       "stream": "stdout",
       "text": [
        " \r",
        "1727   8.046144e+05   1.000000e-15   5.463056e+02"
       ]
      },
      {
       "output_type": "stream",
       "stream": "stdout",
       "text": [
        " \r",
        "1728   8.046144e+05   1.000000e-15   4.307013e+02"
       ]
      },
      {
       "output_type": "stream",
       "stream": "stdout",
       "text": [
        " \r",
        "1729   8.046144e+05   1.000000e-15   5.584638e+02"
       ]
      },
      {
       "output_type": "stream",
       "stream": "stdout",
       "text": [
        " \r",
        "1730   8.046144e+05   1.000000e-15   1.123805e+03"
       ]
      },
      {
       "output_type": "stream",
       "stream": "stdout",
       "text": [
        " \r",
        "1731   8.046143e+05   1.000000e-15   4.848995e+02"
       ]
      },
      {
       "output_type": "stream",
       "stream": "stdout",
       "text": [
        " \r",
        "1732   8.046143e+05   1.000000e-15   3.673935e+02"
       ]
      },
      {
       "output_type": "stream",
       "stream": "stdout",
       "text": [
        " \r",
        "1733   8.046143e+05   1.000000e-15   4.738672e+02"
       ]
      },
      {
       "output_type": "stream",
       "stream": "stdout",
       "text": [
        " \r",
        "1734   8.046143e+05   1.000000e-15   1.317205e+03"
       ]
      },
      {
       "output_type": "stream",
       "stream": "stdout",
       "text": [
        " \r",
        "1735   8.046142e+05   1.000000e-15   2.867499e+02"
       ]
      },
      {
       "output_type": "stream",
       "stream": "stdout",
       "text": [
        " \r",
        "1736   8.046142e+05   1.000000e-15   3.398192e+02"
       ]
      },
      {
       "output_type": "stream",
       "stream": "stdout",
       "text": [
        " \r",
        "1737   8.046142e+05   1.000000e-15   3.103463e+02"
       ]
      },
      {
       "output_type": "stream",
       "stream": "stdout",
       "text": [
        " \r",
        "1738   8.046142e+05   1.000000e-15   1.145060e+03"
       ]
      },
      {
       "output_type": "stream",
       "stream": "stdout",
       "text": [
        " \r",
        "1739   8.046142e+05   1.000000e-15   3.962220e+02"
       ]
      },
      {
       "output_type": "stream",
       "stream": "stdout",
       "text": [
        " \r",
        "1740   8.046141e+05   1.000000e-15   2.383235e+02"
       ]
      },
      {
       "output_type": "stream",
       "stream": "stdout",
       "text": [
        " \r",
        "1741   8.046141e+05   1.000000e-15   3.814413e+02"
       ]
      },
      {
       "output_type": "stream",
       "stream": "stdout",
       "text": [
        " \r",
        "1742   8.046141e+05   1.000000e-15   7.616564e+02"
       ]
      },
      {
       "output_type": "stream",
       "stream": "stdout",
       "text": [
        " \r",
        "1743   8.046141e+05   1.000000e-15   2.449922e+02"
       ]
      },
      {
       "output_type": "stream",
       "stream": "stdout",
       "text": [
        " \r",
        "1744   8.046141e+05   1.000000e-15   2.891115e+02"
       ]
      },
      {
       "output_type": "stream",
       "stream": "stdout",
       "text": [
        " \r",
        "1745   8.046141e+05   1.000000e-15   4.750738e+02"
       ]
      },
      {
       "output_type": "stream",
       "stream": "stdout",
       "text": [
        " \r",
        "1746   8.046141e+05   1.000000e-15   3.367222e+02"
       ]
      },
      {
       "output_type": "stream",
       "stream": "stdout",
       "text": [
        " \r",
        "1747   8.046140e+05   1.000000e-15   2.191076e+02"
       ]
      },
      {
       "output_type": "stream",
       "stream": "stdout",
       "text": [
        " \r",
        "1748   8.046140e+05   1.000000e-15   2.111359e+02"
       ]
      },
      {
       "output_type": "stream",
       "stream": "stdout",
       "text": [
        " \r",
        "1749   8.046140e+05   1.000000e-15   1.043047e+03"
       ]
      },
      {
       "output_type": "stream",
       "stream": "stdout",
       "text": [
        " \r",
        "1750   8.046140e+05   1.000000e-15   2.460626e+02"
       ]
      },
      {
       "output_type": "stream",
       "stream": "stdout",
       "text": [
        " \r",
        "1751   8.046140e+05   1.000000e-15   2.296642e+02"
       ]
      },
      {
       "output_type": "stream",
       "stream": "stdout",
       "text": [
        " \r",
        "1752   8.046140e+05   1.000000e-15   2.518837e+02"
       ]
      },
      {
       "output_type": "stream",
       "stream": "stdout",
       "text": [
        " \r",
        "1753   8.046140e+05   1.000000e-15   6.673653e+02"
       ]
      },
      {
       "output_type": "stream",
       "stream": "stdout",
       "text": [
        " \r",
        "1754   8.046139e+05   1.000000e-15   1.967926e+02"
       ]
      },
      {
       "output_type": "stream",
       "stream": "stdout",
       "text": [
        " \r",
        "1755   8.046139e+05   1.000000e-15   1.583004e+02"
       ]
      },
      {
       "output_type": "stream",
       "stream": "stdout",
       "text": [
        " \r",
        "1756   8.046139e+05   1.000000e-15   2.769901e+02"
       ]
      },
      {
       "output_type": "stream",
       "stream": "stdout",
       "text": [
        " \r",
        "1757   8.046139e+05   1.000000e-15   6.135426e+02"
       ]
      },
      {
       "output_type": "stream",
       "stream": "stdout",
       "text": [
        " \r",
        "1758   8.046139e+05   1.000000e-15   1.829680e+02"
       ]
      },
      {
       "output_type": "stream",
       "stream": "stdout",
       "text": [
        " \r",
        "1759   8.046139e+05   1.000000e-15   1.095673e+02"
       ]
      },
      {
       "output_type": "stream",
       "stream": "stdout",
       "text": [
        " \r",
        "1760   8.046139e+05   1.000000e-15   2.094690e+02"
       ]
      },
      {
       "output_type": "stream",
       "stream": "stdout",
       "text": [
        " \r",
        "1761   8.046139e+05   1.000000e-15   4.349935e+02"
       ]
      },
      {
       "output_type": "stream",
       "stream": "stdout",
       "text": [
        " \r",
        "1762   8.046139e+05   1.000000e-15   1.364584e+02"
       ]
      },
      {
       "output_type": "stream",
       "stream": "stdout",
       "text": [
        " \r",
        "1763   8.046138e+05   1.000000e-15   1.552707e+02"
       ]
      },
      {
       "output_type": "stream",
       "stream": "stdout",
       "text": [
        " \r",
        "1764   8.046138e+05   1.000000e-15   1.296676e+02"
       ]
      },
      {
       "output_type": "stream",
       "stream": "stdout",
       "text": [
        " \r",
        "1765   8.046138e+05   1.000000e-15   4.225178e+02"
       ]
      },
      {
       "output_type": "stream",
       "stream": "stdout",
       "text": [
        " \r",
        "1766   8.046138e+05   1.000000e-15   1.699070e+02"
       ]
      },
      {
       "output_type": "stream",
       "stream": "stdout",
       "text": [
        " \r",
        "1767   8.046138e+05   1.000000e-15   9.629378e+01"
       ]
      },
      {
       "output_type": "stream",
       "stream": "stdout",
       "text": [
        " \r",
        "1768   8.046138e+05   1.000000e-15   1.176390e+02"
       ]
      },
      {
       "output_type": "stream",
       "stream": "stdout",
       "text": [
        " \r",
        "1769   8.046138e+05   1.000000e-15   1.266313e+02"
       ]
      },
      {
       "output_type": "stream",
       "stream": "stdout",
       "text": [
        " \r",
        "1770   8.046138e+05   1.000000e-15   3.533638e+02"
       ]
      },
      {
       "output_type": "stream",
       "stream": "stdout",
       "text": [
        " \r",
        "1771   8.046138e+05   1.000000e-15   9.054065e+01"
       ]
      },
      {
       "output_type": "stream",
       "stream": "stdout",
       "text": [
        " \r",
        "1772   8.046138e+05   1.000000e-15   1.090023e+02"
       ]
      },
      {
       "output_type": "stream",
       "stream": "stdout",
       "text": [
        " \r",
        "1773   8.046138e+05   1.000000e-15   9.143184e+01"
       ]
      },
      {
       "output_type": "stream",
       "stream": "stdout",
       "text": [
        " \r",
        "1774   8.046138e+05   1.000000e-15   4.390247e+02"
       ]
      },
      {
       "output_type": "stream",
       "stream": "stdout",
       "text": [
        " \r",
        "1775   8.046138e+05   1.000000e-15   1.127253e+02"
       ]
      },
      {
       "output_type": "stream",
       "stream": "stdout",
       "text": [
        " \r",
        "1776   8.046138e+05   1.000000e-15   9.912714e+01"
       ]
      },
      {
       "output_type": "stream",
       "stream": "stdout",
       "text": [
        " \r",
        "1777   8.046138e+05   1.000000e-15   7.351621e+01"
       ]
      },
      {
       "output_type": "stream",
       "stream": "stdout",
       "text": [
        " \r",
        "1778   8.046138e+05   1.000000e-15   2.715809e+02"
       ]
      },
      {
       "output_type": "stream",
       "stream": "stdout",
       "text": [
        " \r",
        "1779   8.046137e+05   1.000000e-15   7.943712e+01"
       ]
      },
      {
       "output_type": "stream",
       "stream": "stdout",
       "text": [
        " \r",
        "1780   8.046137e+05   1.000000e-15   5.861551e+01"
       ]
      },
      {
       "output_type": "stream",
       "stream": "stdout",
       "text": [
        " \r",
        "1781   8.046137e+05   1.000000e-15   7.510893e+01"
       ]
      },
      {
       "output_type": "stream",
       "stream": "stdout",
       "text": [
        " \r",
        "1782   8.046137e+05   1.000000e-15   1.341564e+02"
       ]
      },
      {
       "output_type": "stream",
       "stream": "stdout",
       "text": [
        " \r",
        "1783   8.046137e+05   1.000000e-15   1.050558e+02"
       ]
      },
      {
       "output_type": "stream",
       "stream": "stdout",
       "text": [
        " \r",
        "1784   8.046137e+05   1.000000e-15   8.608957e+01"
       ]
      },
      {
       "output_type": "stream",
       "stream": "stdout",
       "text": [
        " \r",
        "1785   8.046137e+05   1.000000e-15   6.574159e+01"
       ]
      },
      {
       "output_type": "stream",
       "stream": "stdout",
       "text": [
        " \r",
        "1786   8.046137e+05   1.000000e-15   9.442331e+01"
       ]
      },
      {
       "output_type": "stream",
       "stream": "stdout",
       "text": [
        " \r",
        "1787   8.046137e+05   1.000000e-15   2.686378e+02"
       ]
      },
      {
       "output_type": "stream",
       "stream": "stdout",
       "text": [
        " \r",
        "1788   8.046137e+05   1.000000e-15   3.890410e+01"
       ]
      },
      {
       "output_type": "stream",
       "stream": "stdout",
       "text": [
        " \r",
        "1789   8.046137e+05   1.000000e-15   4.616678e+01"
       ]
      },
      {
       "output_type": "stream",
       "stream": "stdout",
       "text": [
        " \r",
        "1790   8.046137e+05   1.000000e-15   6.496380e+01"
       ]
      },
      {
       "output_type": "stream",
       "stream": "stdout",
       "text": [
        " \r",
        "1791   8.046137e+05   1.000000e-15   1.805752e+02"
       ]
      },
      {
       "output_type": "stream",
       "stream": "stdout",
       "text": [
        " \r",
        "1792   8.046137e+05   1.000000e-15   9.320125e+01"
       ]
      },
      {
       "output_type": "stream",
       "stream": "stdout",
       "text": [
        " \r",
        "1793   8.046137e+05   1.000000e-15   7.210877e+01"
       ]
      },
      {
       "output_type": "stream",
       "stream": "stdout",
       "text": [
        " \r",
        "1794   8.046137e+05   1.000000e-15   5.374752e+01"
       ]
      },
      {
       "output_type": "stream",
       "stream": "stdout",
       "text": [
        " \r",
        "1795   8.046137e+05   1.000000e-15   5.847453e+01"
       ]
      },
      {
       "output_type": "stream",
       "stream": "stdout",
       "text": [
        " \r",
        "1796   8.046137e+05   1.000000e-15   9.233893e+01"
       ]
      },
      {
       "output_type": "stream",
       "stream": "stdout",
       "text": [
        " \r",
        "1797   8.046137e+05   1.000000e-15   4.541706e+01"
       ]
      },
      {
       "output_type": "stream",
       "stream": "stdout",
       "text": [
        " \r",
        "1798   8.046137e+05   1.000000e-15   4.568031e+01"
       ]
      },
      {
       "output_type": "stream",
       "stream": "stdout",
       "text": [
        " \r",
        "1799   8.046137e+05   1.000000e-15   4.196854e+01"
       ]
      },
      {
       "output_type": "stream",
       "stream": "stdout",
       "text": [
        " \r",
        "1800   8.046137e+05   1.000000e-15   1.850617e+02"
       ]
      },
      {
       "output_type": "stream",
       "stream": "stdout",
       "text": [
        " \r",
        "1801   8.046137e+05   1.000000e-15   6.750401e+01"
       ]
      },
      {
       "output_type": "stream",
       "stream": "stdout",
       "text": [
        " \r",
        "1802   8.046137e+05   1.000000e-15   4.384261e+01"
       ]
      },
      {
       "output_type": "stream",
       "stream": "stdout",
       "text": [
        " \r",
        "1803   8.046137e+05   1.000000e-15   5.431621e+01"
       ]
      },
      {
       "output_type": "stream",
       "stream": "stdout",
       "text": [
        " \r",
        "1804   8.046137e+05   1.000000e-15   8.309053e+01"
       ]
      },
      {
       "output_type": "stream",
       "stream": "stdout",
       "text": [
        " \r",
        "1805   8.046136e+05   1.000000e-15   1.247640e+02"
       ]
      },
      {
       "output_type": "stream",
       "stream": "stdout",
       "text": [
        " \r",
        "1806   8.046136e+05   1.000000e-15   4.124346e+01"
       ]
      },
      {
       "output_type": "stream",
       "stream": "stdout",
       "text": [
        " \r",
        "1807   8.046136e+05   1.000000e-15   5.965722e+01"
       ]
      },
      {
       "output_type": "stream",
       "stream": "stdout",
       "text": [
        " \r",
        "1808   8.046136e+05   1.000000e-15   7.257967e+01"
       ]
      },
      {
       "output_type": "stream",
       "stream": "stdout",
       "text": [
        " \r",
        "1809   8.046136e+05   1.000000e-15   1.967542e+02"
       ]
      },
      {
       "output_type": "stream",
       "stream": "stdout",
       "text": [
        " \r",
        "1810   8.046136e+05   1.000000e-15   6.477945e+01"
       ]
      },
      {
       "output_type": "stream",
       "stream": "stdout",
       "text": [
        " \r",
        "1811   8.046136e+05   1.000000e-15   5.470084e+01"
       ]
      },
      {
       "output_type": "stream",
       "stream": "stdout",
       "text": [
        " \r",
        "1812   8.046136e+05   1.000000e-15   4.687921e+01"
       ]
      },
      {
       "output_type": "stream",
       "stream": "stdout",
       "text": [
        " \r",
        "1813   8.046136e+05   1.000000e-15   1.294101e+02"
       ]
      },
      {
       "output_type": "stream",
       "stream": "stdout",
       "text": [
        " \r",
        "1814   8.046136e+05   1.000000e-15   5.732288e+01"
       ]
      },
      {
       "output_type": "stream",
       "stream": "stdout",
       "text": [
        " \r",
        "1815   8.046136e+05   1.000000e-15   4.392069e+01"
       ]
      },
      {
       "output_type": "stream",
       "stream": "stdout",
       "text": [
        " \r",
        "1816   8.046136e+05   1.000000e-15   4.198625e+01"
       ]
      },
      {
       "output_type": "stream",
       "stream": "stdout",
       "text": [
        " \r",
        "1817   8.046136e+05   1.000000e-15   4.369711e+01"
       ]
      },
      {
       "output_type": "stream",
       "stream": "stdout",
       "text": [
        " \r",
        "1818   8.046136e+05   1.000000e-15   1.638215e+02"
       ]
      },
      {
       "output_type": "stream",
       "stream": "stdout",
       "text": [
        " \r",
        "1819   8.046136e+05   1.000000e-15   5.132082e+01"
       ]
      },
      {
       "output_type": "stream",
       "stream": "stdout",
       "text": [
        " \r",
        "1820   8.046136e+05   1.000000e-15   3.548893e+01"
       ]
      },
      {
       "output_type": "stream",
       "stream": "stdout",
       "text": [
        " \r",
        "1821   8.046136e+05   1.000000e-15   4.118824e+01"
       ]
      },
      {
       "output_type": "stream",
       "stream": "stdout",
       "text": [
        " \r",
        "1822   8.046136e+05   1.000000e-15   5.600109e+01"
       ]
      },
      {
       "output_type": "stream",
       "stream": "stdout",
       "text": [
        " \r",
        "1823   8.046136e+05   1.000000e-15   7.413790e+01"
       ]
      },
      {
       "output_type": "stream",
       "stream": "stdout",
       "text": [
        " \r",
        "1824   8.046136e+05   1.000000e-15   4.357873e+01"
       ]
      },
      {
       "output_type": "stream",
       "stream": "stdout",
       "text": [
        " \r",
        "1825   8.046136e+05   1.000000e-15   4.347479e+01"
       ]
      },
      {
       "output_type": "stream",
       "stream": "stdout",
       "text": [
        " \r",
        "1826   8.046136e+05   1.000000e-15   3.513733e+01"
       ]
      },
      {
       "output_type": "stream",
       "stream": "stdout",
       "text": [
        " \r",
        "1827   8.046136e+05   1.000000e-15   1.350759e+02"
       ]
      },
      {
       "output_type": "stream",
       "stream": "stdout",
       "text": [
        " \r",
        "1828   8.046136e+05   1.000000e-15   3.200812e+01"
       ]
      },
      {
       "output_type": "stream",
       "stream": "stdout",
       "text": [
        " \r",
        "1829   8.046136e+05   1.000000e-15   2.811088e+01"
       ]
      },
      {
       "output_type": "stream",
       "stream": "stdout",
       "text": [
        " \r",
        "1830   8.046136e+05   1.000000e-15   3.403527e+01"
       ]
      },
      {
       "output_type": "stream",
       "stream": "stdout",
       "text": [
        " \r",
        "1831   8.046136e+05   1.000000e-15   3.889997e+01"
       ]
      },
      {
       "output_type": "stream",
       "stream": "stdout",
       "text": [
        " \r",
        "1832   8.046136e+05   1.000000e-15   9.492543e+01"
       ]
      },
      {
       "output_type": "stream",
       "stream": "stdout",
       "text": [
        " \r",
        "1833   8.046136e+05   1.000000e-15   3.618566e+01"
       ]
      },
      {
       "output_type": "stream",
       "stream": "stdout",
       "text": [
        " \r",
        "1834   8.046136e+05   1.000000e-15   3.187743e+01"
       ]
      },
      {
       "output_type": "stream",
       "stream": "stdout",
       "text": [
        " \r",
        "1835   8.046136e+05   1.000000e-15   2.879331e+01"
       ]
      },
      {
       "output_type": "stream",
       "stream": "stdout",
       "text": [
        " \r",
        "1836   8.046136e+05   1.000000e-15   1.122438e+02"
       ]
      },
      {
       "output_type": "stream",
       "stream": "stdout",
       "text": [
        " \r",
        "1837   8.046136e+05   1.000000e-15   2.610400e+01"
       ]
      },
      {
       "output_type": "stream",
       "stream": "stdout",
       "text": [
        " \r",
        "1838   8.046136e+05   1.000000e-15   1.610858e+01"
       ]
      },
      {
       "output_type": "stream",
       "stream": "stdout",
       "text": [
        " \r",
        "1839   8.046136e+05   1.000000e-15   2.470540e+01"
       ]
      },
      {
       "output_type": "stream",
       "stream": "stdout",
       "text": [
        " \r",
        "1840   8.046136e+05   1.000000e-15   8.646140e+01"
       ]
      },
      {
       "output_type": "stream",
       "stream": "stdout",
       "text": [
        " \r",
        "1841   8.046136e+05   1.000000e-15   2.434211e+01"
       ]
      },
      {
       "output_type": "stream",
       "stream": "stdout",
       "text": [
        " \r",
        "1842   8.046136e+05   1.000000e-15   2.282909e+01"
       ]
      },
      {
       "output_type": "stream",
       "stream": "stdout",
       "text": [
        " \r",
        "1843   8.046136e+05   1.000000e-15   3.217721e+01"
       ]
      },
      {
       "output_type": "stream",
       "stream": "stdout",
       "text": [
        " \r",
        "1844   8.046135e+05   1.000000e-15   6.976616e+01"
       ]
      },
      {
       "output_type": "stream",
       "stream": "stdout",
       "text": [
        " \r",
        "1845   8.046135e+05   1.000000e-15   3.475450e+01"
       ]
      },
      {
       "output_type": "stream",
       "stream": "stdout",
       "text": [
        " \r",
        "1846   8.046135e+05   1.000000e-15   2.671437e+01"
       ]
      },
      {
       "output_type": "stream",
       "stream": "stdout",
       "text": [
        " \r",
        "1847   8.046135e+05   1.000000e-15   4.640078e+01"
       ]
      },
      {
       "output_type": "stream",
       "stream": "stdout",
       "text": [
        " \r",
        "1848   8.046135e+05   1.000000e-15   7.119033e+01"
       ]
      },
      {
       "output_type": "stream",
       "stream": "stdout",
       "text": [
        " \r",
        "1849   8.046135e+05   1.000000e-15   3.552520e+01"
       ]
      },
      {
       "output_type": "stream",
       "stream": "stdout",
       "text": [
        " \r",
        "1850   8.046135e+05   1.000000e-15   3.470796e+01"
       ]
      },
      {
       "output_type": "stream",
       "stream": "stdout",
       "text": [
        " \r",
        "1851   8.046135e+05   1.000000e-15   1.501723e+02"
       ]
      },
      {
       "output_type": "stream",
       "stream": "stdout",
       "text": [
        " \r",
        "1852   8.046135e+05   1.000000e-15   5.502636e+01"
       ]
      },
      {
       "output_type": "stream",
       "stream": "stdout",
       "text": [
        " \r",
        "1853   8.046135e+05   1.000000e-15   4.352320e+01"
       ]
      },
      {
       "output_type": "stream",
       "stream": "stdout",
       "text": [
        " \r",
        "1854   8.046135e+05   1.000000e-15   3.463273e+01"
       ]
      },
      {
       "output_type": "stream",
       "stream": "stdout",
       "text": [
        " \r",
        "1855   8.046135e+05   1.000000e-15   1.354689e+02"
       ]
      },
      {
       "output_type": "stream",
       "stream": "stdout",
       "text": [
        " \r",
        "1856   8.046135e+05   1.000000e-15   3.178284e+01"
       ]
      },
      {
       "output_type": "stream",
       "stream": "stdout",
       "text": [
        " \r",
        "1857   8.046135e+05   1.000000e-15   2.871313e+01"
       ]
      },
      {
       "output_type": "stream",
       "stream": "stdout",
       "text": [
        " \r",
        "1858   8.046135e+05   1.000000e-15   4.447311e+01"
       ]
      },
      {
       "output_type": "stream",
       "stream": "stdout",
       "text": [
        " \r",
        "1859   8.046135e+05   1.000000e-15   7.178520e+01"
       ]
      },
      {
       "output_type": "stream",
       "stream": "stdout",
       "text": [
        " \r",
        "1860   8.046135e+05   1.000000e-15   2.310045e+01"
       ]
      },
      {
       "output_type": "stream",
       "stream": "stdout",
       "text": [
        " \r",
        "1861   8.046135e+05   1.000000e-15   2.061589e+01"
       ]
      },
      {
       "output_type": "stream",
       "stream": "stdout",
       "text": [
        " \r",
        "1862   8.046135e+05   1.000000e-15   4.762990e+01"
       ]
      },
      {
       "output_type": "stream",
       "stream": "stdout",
       "text": [
        " \r",
        "1863   8.046135e+05   1.000000e-15   2.951753e+01"
       ]
      },
      {
       "output_type": "stream",
       "stream": "stdout",
       "text": [
        " \r",
        "1864   8.046135e+05   1.000000e-15   2.097189e+01"
       ]
      },
      {
       "output_type": "stream",
       "stream": "stdout",
       "text": [
        " \r",
        "1865   8.046135e+05   1.000000e-15   2.044033e+01"
       ]
      },
      {
       "output_type": "stream",
       "stream": "stdout",
       "text": [
        " \r",
        "1866   8.046135e+05   1.000000e-15   7.021622e+01"
       ]
      },
      {
       "output_type": "stream",
       "stream": "stdout",
       "text": [
        " \r",
        "1867   8.046135e+05   1.000000e-15   2.430318e+01"
       ]
      },
      {
       "output_type": "stream",
       "stream": "stdout",
       "text": [
        " \r",
        "1868   8.046135e+05   1.000000e-15   1.367086e+01"
       ]
      },
      {
       "output_type": "stream",
       "stream": "stdout",
       "text": [
        " \r",
        "1869   8.046135e+05   1.000000e-15   1.403250e+01"
       ]
      },
      {
       "output_type": "stream",
       "stream": "stdout",
       "text": [
        " \r",
        "1870   8.046135e+05   1.000000e-15   7.498184e+01"
       ]
      },
      {
       "output_type": "stream",
       "stream": "stdout",
       "text": [
        " \r",
        "1871   8.046135e+05   1.000000e-15   1.644772e+01"
       ]
      },
      {
       "output_type": "stream",
       "stream": "stdout",
       "text": [
        " \r",
        "1872   8.046135e+05   1.000000e-15   1.451236e+01"
       ]
      },
      {
       "output_type": "stream",
       "stream": "stdout",
       "text": [
        " \r",
        "1873   8.046135e+05   1.000000e-15   1.648530e+01"
       ]
      },
      {
       "output_type": "stream",
       "stream": "stdout",
       "text": [
        " \r",
        "1874   8.046135e+05   1.000000e-15   4.168336e+01"
       ]
      },
      {
       "output_type": "stream",
       "stream": "stdout",
       "text": [
        " \r",
        "1875   8.046135e+05   1.000000e-15   1.265734e+01"
       ]
      },
      {
       "output_type": "stream",
       "stream": "stdout",
       "text": [
        " \r",
        "1876   8.046135e+05   1.000000e-15   1.265906e+01"
       ]
      },
      {
       "output_type": "stream",
       "stream": "stdout",
       "text": [
        " \r",
        "1877   8.046135e+05   1.000000e-15   4.073486e+01"
       ]
      },
      {
       "output_type": "stream",
       "stream": "stdout",
       "text": [
        " \r",
        "1878   8.046135e+05   1.000000e-15   2.195198e+01"
       ]
      },
      {
       "output_type": "stream",
       "stream": "stdout",
       "text": [
        " \r",
        "1879   8.046135e+05   1.000000e-15   1.428100e+01"
       ]
      },
      {
       "output_type": "stream",
       "stream": "stdout",
       "text": [
        " \r",
        "1880   8.046135e+05   1.000000e-15   1.973475e+01"
       ]
      },
      {
       "output_type": "stream",
       "stream": "stdout",
       "text": [
        " \r",
        "1881   8.046135e+05   1.000000e-15   8.310015e+01"
       ]
      },
      {
       "output_type": "stream",
       "stream": "stdout",
       "text": [
        " \r",
        "1882   8.046135e+05   1.000000e-15   1.434066e+01"
       ]
      },
      {
       "output_type": "stream",
       "stream": "stdout",
       "text": [
        " \r",
        "1883   8.046135e+05   1.000000e-15   1.503144e+01"
       ]
      },
      {
       "output_type": "stream",
       "stream": "stdout",
       "text": [
        " \r",
        "1884   8.046135e+05   1.000000e-15   1.692194e+01"
       ]
      },
      {
       "output_type": "stream",
       "stream": "stdout",
       "text": [
        " \r",
        "1885   8.046135e+05   1.000000e-15   3.636584e+01"
       ]
      },
      {
       "output_type": "stream",
       "stream": "stdout",
       "text": [
        " \r",
        "1886   8.046135e+05   1.000000e-15   1.790254e+01"
       ]
      },
      {
       "output_type": "stream",
       "stream": "stdout",
       "text": [
        " \r",
        "1887   8.046135e+05   1.000000e-15   1.946879e+01"
       ]
      },
      {
       "output_type": "stream",
       "stream": "stdout",
       "text": [
        " \r",
        "1888   8.046135e+05   1.000000e-15   6.875407e+01"
       ]
      },
      {
       "output_type": "stream",
       "stream": "stdout",
       "text": [
        " \r",
        "1889   8.046135e+05   1.000000e-15   2.810285e+01"
       ]
      },
      {
       "output_type": "stream",
       "stream": "stdout",
       "text": [
        " \r",
        "1890   8.046135e+05   1.000000e-15   2.266184e+01"
       ]
      },
      {
       "output_type": "stream",
       "stream": "stdout",
       "text": [
        " \r",
        "1891   8.046135e+05   1.000000e-15   2.736305e+01"
       ]
      },
      {
       "output_type": "stream",
       "stream": "stdout",
       "text": [
        " \r",
        "1892   8.046135e+05   1.000000e-15   1.002087e+02"
       ]
      },
      {
       "output_type": "stream",
       "stream": "stdout",
       "text": [
        " \r",
        "1893   8.046135e+05   1.000000e-15   1.931142e+01"
       ]
      },
      {
       "output_type": "stream",
       "stream": "stdout",
       "text": [
        " \r",
        "1894   8.046135e+05   1.000000e-15   2.191092e+01"
       ]
      },
      {
       "output_type": "stream",
       "stream": "stdout",
       "text": [
        " \r",
        "1895   8.046135e+05   1.000000e-15   2.764383e+01"
       ]
      },
      {
       "output_type": "stream",
       "stream": "stdout",
       "text": [
        " \r",
        "1896   8.046135e+05   1.000000e-15   4.929734e+01"
       ]
      },
      {
       "output_type": "stream",
       "stream": "stdout",
       "text": [
        " \r",
        "1897   8.046135e+05   1.000000e-15   1.787475e+01"
       ]
      },
      {
       "output_type": "stream",
       "stream": "stdout",
       "text": [
        " \r",
        "1898   8.046135e+05   1.000000e-15   2.296698e+01"
       ]
      },
      {
       "output_type": "stream",
       "stream": "stdout",
       "text": [
        " \r",
        "1899   8.046135e+05   1.000000e-15   8.811060e+01"
       ]
      },
      {
       "output_type": "stream",
       "stream": "stdout",
       "text": [
        " \r",
        "1900   8.046135e+05   1.000000e-15   1.814895e+01"
       ]
      },
      {
       "output_type": "stream",
       "stream": "stdout",
       "text": [
        " \r",
        "1901   8.046135e+05   1.000000e-15   1.801580e+01"
       ]
      },
      {
       "output_type": "stream",
       "stream": "stdout",
       "text": [
        " \r",
        "1902   8.046135e+05   1.000000e-15   1.816740e+01"
       ]
      },
      {
       "output_type": "stream",
       "stream": "stdout",
       "text": [
        " \r",
        "1903   8.046135e+05   1.000000e-15   4.283332e+01"
       ]
      },
      {
       "output_type": "stream",
       "stream": "stdout",
       "text": [
        " \r",
        "1904   8.046135e+05   1.000000e-15   1.435487e+01"
       ]
      },
      {
       "output_type": "stream",
       "stream": "stdout",
       "text": [
        " \r",
        "1905   8.046135e+05   1.000000e-15   1.385935e+01"
       ]
      },
      {
       "output_type": "stream",
       "stream": "stdout",
       "text": [
        " \r",
        "1906   8.046135e+05   1.000000e-15   4.901198e+01"
       ]
      },
      {
       "output_type": "stream",
       "stream": "stdout",
       "text": [
        " \r",
        "1907   8.046135e+05   1.000000e-15   2.070365e+01"
       ]
      },
      {
       "output_type": "stream",
       "stream": "stdout",
       "text": [
        " \r",
        "1908   8.046135e+05   1.000000e-15   1.611480e+01"
       ]
      },
      {
       "output_type": "stream",
       "stream": "stdout",
       "text": [
        " \r",
        "1909   8.046135e+05   1.000000e-15   1.240508e+01"
       ]
      },
      {
       "output_type": "stream",
       "stream": "stdout",
       "text": [
        " \r",
        "1910   8.046135e+05   1.000000e-15   5.966962e+01"
       ]
      },
      {
       "output_type": "stream",
       "stream": "stdout",
       "text": [
        " \r",
        "1911   8.046135e+05   1.000000e-15   1.419205e+01"
       ]
      },
      {
       "output_type": "stream",
       "stream": "stdout",
       "text": [
        " \r",
        "1912   8.046135e+05   1.000000e-15   1.229426e+01"
       ]
      },
      {
       "output_type": "stream",
       "stream": "stdout",
       "text": [
        " \r",
        "1913   8.046135e+05   1.000000e-15   2.994852e+01"
       ]
      },
      {
       "output_type": "stream",
       "stream": "stdout",
       "text": [
        " \r",
        "1914   8.046135e+05   1.000000e-15   2.694776e+01"
       ]
      },
      {
       "output_type": "stream",
       "stream": "stdout",
       "text": [
        " \r",
        "1915   8.046135e+05   1.000000e-15   1.533111e+01"
       ]
      },
      {
       "output_type": "stream",
       "stream": "stdout",
       "text": [
        " \r",
        "1916   8.046135e+05   1.000000e-15   1.541005e+01"
       ]
      },
      {
       "output_type": "stream",
       "stream": "stdout",
       "text": [
        " \r",
        "1917   8.046135e+05   1.000000e-15   6.512111e+01"
       ]
      },
      {
       "output_type": "stream",
       "stream": "stdout",
       "text": [
        " \r",
        "1918   8.046135e+05   1.000000e-15   1.601257e+01"
       ]
      },
      {
       "output_type": "stream",
       "stream": "stdout",
       "text": [
        " \r",
        "1919   8.046135e+05   1.000000e-15   1.004376e+01"
       ]
      },
      {
       "output_type": "stream",
       "stream": "stdout",
       "text": [
        " \r",
        "1920   8.046134e+05   1.000000e-15   2.516497e+01"
       ]
      },
      {
       "output_type": "stream",
       "stream": "stdout",
       "text": [
        " \r",
        "1921   8.046134e+05   1.000000e-15   4.090555e+01"
       ]
      },
      {
       "output_type": "stream",
       "stream": "stdout",
       "text": [
        " \r",
        "1922   8.046134e+05   1.000000e-15   1.437060e+01"
       ]
      },
      {
       "output_type": "stream",
       "stream": "stdout",
       "text": [
        " \r",
        "1923   8.046134e+05   1.000000e-15   1.454904e+01"
       ]
      },
      {
       "output_type": "stream",
       "stream": "stdout",
       "text": [
        " \r",
        "1924   8.046134e+05   1.000000e-15   8.376532e+01"
       ]
      },
      {
       "output_type": "stream",
       "stream": "stdout",
       "text": [
        " \r",
        "1925   8.046134e+05   1.000000e-15   1.606437e+01"
       ]
      },
      {
       "output_type": "stream",
       "stream": "stdout",
       "text": [
        " \r",
        "1926   8.046134e+05   1.000000e-15   1.695060e+01"
       ]
      },
      {
       "output_type": "stream",
       "stream": "stdout",
       "text": [
        " \r",
        "1927   8.046134e+05   1.000000e-15   1.928999e+01"
       ]
      },
      {
       "output_type": "stream",
       "stream": "stdout",
       "text": [
        " \r",
        "1928   8.046134e+05   1.000000e-15   4.515222e+01"
       ]
      },
      {
       "output_type": "stream",
       "stream": "stdout",
       "text": [
        " \r",
        "1929   8.046134e+05   1.000000e-15   1.805459e+01"
       ]
      },
      {
       "output_type": "stream",
       "stream": "stdout",
       "text": [
        " \r",
        "1930   8.046134e+05   1.000000e-15   1.449662e+01"
       ]
      },
      {
       "output_type": "stream",
       "stream": "stdout",
       "text": [
        " \r",
        "1931   8.046134e+05   1.000000e-15   9.207656e+01"
       ]
      },
      {
       "output_type": "stream",
       "stream": "stdout",
       "text": [
        " \r",
        "1932   8.046134e+05   1.000000e-15   2.505012e+01"
       ]
      },
      {
       "output_type": "stream",
       "stream": "stdout",
       "text": [
        " \r",
        "1933   8.046134e+05   1.000000e-15   1.590207e+01"
       ]
      },
      {
       "output_type": "stream",
       "stream": "stdout",
       "text": [
        " \r",
        "1934   8.046134e+05   1.000000e-15   1.812922e+01"
       ]
      },
      {
       "output_type": "stream",
       "stream": "stdout",
       "text": [
        " \r",
        "1935   8.046134e+05   1.000000e-15   4.217397e+01"
       ]
      },
      {
       "output_type": "stream",
       "stream": "stdout",
       "text": [
        " \r",
        "1936   8.046134e+05   1.000000e-15   1.699918e+01"
       ]
      },
      {
       "output_type": "stream",
       "stream": "stdout",
       "text": [
        " \r",
        "1937   8.046134e+05   1.000000e-15   1.544307e+01"
       ]
      },
      {
       "output_type": "stream",
       "stream": "stdout",
       "text": [
        " \r",
        "1938   8.046134e+05   1.000000e-15   4.913774e+01"
       ]
      },
      {
       "output_type": "stream",
       "stream": "stdout",
       "text": [
        " \r",
        "1939   8.046134e+05   1.000000e-15   1.707414e+01"
       ]
      },
      {
       "output_type": "stream",
       "stream": "stdout",
       "text": [
        " \r",
        "1940   8.046134e+05   1.000000e-15   1.706869e+01"
       ]
      },
      {
       "output_type": "stream",
       "stream": "stdout",
       "text": [
        " \r",
        "1941   8.046134e+05   1.000000e-15   1.856928e+01"
       ]
      },
      {
       "output_type": "stream",
       "stream": "stdout",
       "text": [
        " \r",
        "1942   8.046134e+05   1.000000e-15   2.995936e+01"
       ]
      },
      {
       "output_type": "stream",
       "stream": "stdout",
       "text": [
        " \r",
        "1943   8.046134e+05   1.000000e-15   1.867924e+01"
       ]
      },
      {
       "output_type": "stream",
       "stream": "stdout",
       "text": [
        " \r",
        "1944   8.046134e+05   1.000000e-15   1.589975e+01"
       ]
      },
      {
       "output_type": "stream",
       "stream": "stdout",
       "text": [
        " \r",
        "1945   8.046134e+05   1.000000e-15   7.024106e+01"
       ]
      },
      {
       "output_type": "stream",
       "stream": "stdout",
       "text": [
        " \r",
        "1946   8.046134e+05   1.000000e-15   2.110522e+01"
       ]
      },
      {
       "output_type": "stream",
       "stream": "stdout",
       "text": [
        " \r",
        "1947   8.046134e+05   1.000000e-15   1.643786e+01"
       ]
      },
      {
       "output_type": "stream",
       "stream": "stdout",
       "text": [
        " \r",
        "1948   8.046134e+05   1.000000e-15   2.993487e+01"
       ]
      },
      {
       "output_type": "stream",
       "stream": "stdout",
       "text": [
        " \r",
        "1949   8.046134e+05   1.000000e-15   3.802263e+01"
       ]
      },
      {
       "output_type": "stream",
       "stream": "stdout",
       "text": [
        " \r",
        "1950   8.046134e+05   1.000000e-15   1.535366e+01"
       ]
      },
      {
       "output_type": "stream",
       "stream": "stdout",
       "text": [
        " \r",
        "1951   8.046134e+05   1.000000e-15   2.407039e+01"
       ]
      },
      {
       "output_type": "stream",
       "stream": "stdout",
       "text": [
        " \r",
        "1952   8.046134e+05   1.000000e-15   8.433751e+01"
       ]
      },
      {
       "output_type": "stream",
       "stream": "stdout",
       "text": [
        " \r",
        "1953   8.046134e+05   1.000000e-15   1.914712e+01"
       ]
      },
      {
       "output_type": "stream",
       "stream": "stdout",
       "text": [
        " \r",
        "1954   8.046134e+05   1.000000e-15   2.077150e+01"
       ]
      },
      {
       "output_type": "stream",
       "stream": "stdout",
       "text": [
        " \r",
        "1955   8.046134e+05   1.000000e-15   3.238009e+01"
       ]
      },
      {
       "output_type": "stream",
       "stream": "stdout",
       "text": [
        " \r",
        "1956   8.046134e+05   1.000000e-15   4.302862e+01"
       ]
      },
      {
       "output_type": "stream",
       "stream": "stdout",
       "text": [
        " \r",
        "1957   8.046134e+05   1.000000e-15   1.959333e+01"
       ]
      },
      {
       "output_type": "stream",
       "stream": "stdout",
       "text": [
        " \r",
        "1958   8.046134e+05   1.000000e-15   3.099410e+01"
       ]
      },
      {
       "output_type": "stream",
       "stream": "stdout",
       "text": [
        " \r",
        "1959   8.046134e+05   1.000000e-15   1.044357e+02"
       ]
      },
      {
       "output_type": "stream",
       "stream": "stdout",
       "text": [
        " \r",
        "1960   8.046134e+05   1.000000e-15   2.751742e+01"
       ]
      },
      {
       "output_type": "stream",
       "stream": "stdout",
       "text": [
        " \r",
        "1961   8.046134e+05   1.000000e-15   2.857540e+01"
       ]
      },
      {
       "output_type": "stream",
       "stream": "stdout",
       "text": [
        " \r",
        "1962   8.046134e+05   1.000000e-15   4.992809e+01"
       ]
      },
      {
       "output_type": "stream",
       "stream": "stdout",
       "text": [
        " \r",
        "1963   8.046134e+05   1.000000e-15   6.015650e+01"
       ]
      },
      {
       "output_type": "stream",
       "stream": "stdout",
       "text": [
        " \r",
        "1964   8.046134e+05   1.000000e-15   2.629689e+01"
       ]
      },
      {
       "output_type": "stream",
       "stream": "stdout",
       "text": [
        " \r",
        "1965   8.046134e+05   1.000000e-15   3.003997e+01"
       ]
      },
      {
       "output_type": "stream",
       "stream": "stdout",
       "text": [
        " \r",
        "1966   8.046134e+05   1.000000e-15   1.020259e+02"
       ]
      },
      {
       "output_type": "stream",
       "stream": "stdout",
       "text": [
        " \r",
        "1967   8.046134e+05   1.000000e-15   2.395458e+01"
       ]
      },
      {
       "output_type": "stream",
       "stream": "stdout",
       "text": [
        " \r",
        "1968   8.046134e+05   1.000000e-15   2.279361e+01"
       ]
      },
      {
       "output_type": "stream",
       "stream": "stdout",
       "text": [
        " \r",
        "1969   8.046134e+05   1.000000e-15   3.926779e+01"
       ]
      },
      {
       "output_type": "stream",
       "stream": "stdout",
       "text": [
        " \r",
        "1970   8.046134e+05   1.000000e-15   5.477860e+01"
       ]
      },
      {
       "output_type": "stream",
       "stream": "stdout",
       "text": [
        " \r",
        "1971   8.046134e+05   1.000000e-15   3.005106e+01"
       ]
      },
      {
       "output_type": "stream",
       "stream": "stdout",
       "text": [
        " \r",
        "1972   8.046134e+05   1.000000e-15   2.062814e+01"
       ]
      },
      {
       "output_type": "stream",
       "stream": "stdout",
       "text": [
        " \r",
        "1973   8.046134e+05   1.000000e-15   1.122194e+02"
       ]
      },
      {
       "output_type": "stream",
       "stream": "stdout",
       "text": [
        " \r",
        "1974   8.046134e+05   1.000000e-15   2.316082e+01"
       ]
      },
      {
       "output_type": "stream",
       "stream": "stdout",
       "text": [
        " \r",
        "1975   8.046134e+05   1.000000e-15   1.569715e+01"
       ]
      },
      {
       "output_type": "stream",
       "stream": "stdout",
       "text": [
        " \r",
        "1976   8.046134e+05   1.000000e-15   2.933956e+01"
       ]
      },
      {
       "output_type": "stream",
       "stream": "stdout",
       "text": [
        " \r",
        "1977   8.046134e+05   1.000000e-15   3.665651e+01"
       ]
      },
      {
       "output_type": "stream",
       "stream": "stdout",
       "text": [
        " \r",
        "1978   8.046134e+05   1.000000e-15   1.811404e+01"
       ]
      },
      {
       "output_type": "stream",
       "stream": "stdout",
       "text": [
        " \r",
        "1979   8.046134e+05   1.000000e-15   1.988502e+01"
       ]
      },
      {
       "output_type": "stream",
       "stream": "stdout",
       "text": [
        " \r",
        "1980   8.046134e+05   1.000000e-15   9.175073e+01"
       ]
      },
      {
       "output_type": "stream",
       "stream": "stdout",
       "text": [
        " \r",
        "1981   8.046134e+05   1.000000e-15   1.732198e+01"
       ]
      },
      {
       "output_type": "stream",
       "stream": "stdout",
       "text": [
        " \r",
        "1982   8.046134e+05   1.000000e-15   2.330206e+01"
       ]
      },
      {
       "output_type": "stream",
       "stream": "stdout",
       "text": [
        " \r",
        "1983   8.046134e+05   1.000000e-15   2.970862e+01"
       ]
      },
      {
       "output_type": "stream",
       "stream": "stdout",
       "text": [
        " \r",
        "1984   8.046134e+05   1.000000e-15   3.925028e+01"
       ]
      },
      {
       "output_type": "stream",
       "stream": "stdout",
       "text": [
        " \r",
        "1985   8.046134e+05   1.000000e-15   2.048512e+01"
       ]
      },
      {
       "output_type": "stream",
       "stream": "stdout",
       "text": [
        " \r",
        "1986   8.046134e+05   1.000000e-15   1.776441e+01"
       ]
      },
      {
       "output_type": "stream",
       "stream": "stdout",
       "text": [
        " \r",
        "1987   8.046134e+05   1.000000e-15   1.042799e+02"
       ]
      },
      {
       "output_type": "stream",
       "stream": "stdout",
       "text": [
        " \r",
        "1988   8.046134e+05   1.000000e-15   1.624753e+01"
       ]
      },
      {
       "output_type": "stream",
       "stream": "stdout",
       "text": [
        " \r",
        "1989   8.046134e+05   1.000000e-15   1.934682e+01"
       ]
      },
      {
       "output_type": "stream",
       "stream": "stdout",
       "text": [
        " \r",
        "1990   8.046134e+05   1.000000e-15   3.682405e+01"
       ]
      },
      {
       "output_type": "stream",
       "stream": "stdout",
       "text": [
        " \r",
        "1991   8.046134e+05   1.000000e-15   3.765804e+01"
       ]
      },
      {
       "output_type": "stream",
       "stream": "stdout",
       "text": [
        " \r",
        "1992   8.046134e+05   1.000000e-15   1.873492e+01"
       ]
      },
      {
       "output_type": "stream",
       "stream": "stdout",
       "text": [
        " \r",
        "1993   8.046134e+05   1.000000e-15   1.728836e+01"
       ]
      },
      {
       "output_type": "stream",
       "stream": "stdout",
       "text": [
        " \r",
        "1994   8.046134e+05   1.000000e-15   7.806630e+01"
       ]
      },
      {
       "output_type": "stream",
       "stream": "stdout",
       "text": [
        " \r",
        "1995   8.046134e+05   1.000000e-15   1.725412e+01"
       ]
      },
      {
       "output_type": "stream",
       "stream": "stdout",
       "text": [
        " \r",
        "1996   8.046134e+05   1.000000e-15   1.835046e+01"
       ]
      },
      {
       "output_type": "stream",
       "stream": "stdout",
       "text": [
        " \r",
        "1997   8.046134e+05   1.000000e-15   3.817249e+01"
       ]
      },
      {
       "output_type": "stream",
       "stream": "stdout",
       "text": [
        " \r",
        "1998   8.046134e+05   1.000000e-15   2.542871e+01"
       ]
      },
      {
       "output_type": "stream",
       "stream": "stdout",
       "text": [
        " \r",
        "1999   8.046134e+05   1.000000e-15   1.634266e+01"
       ]
      },
      {
       "output_type": "stream",
       "stream": "stdout",
       "text": [
        " \r",
        "2000   8.046133e+05   1.000000e-15   1.951071e+01"
       ]
      },
      {
       "output_type": "stream",
       "stream": "stdout",
       "text": [
        " \r",
        "2000   8.046133e+05   1.000000e-15   5.036526e+01"
       ]
      },
      {
       "output_type": "stream",
       "stream": "stdout",
       "text": [
        " \n",
        "maxiter exceeded\n"
       ]
      }
     ],
     "prompt_number": 68
    },
    {
     "cell_type": "code",
     "collapsed": false,
     "input": [
      "m.kern.plot_ARD()"
     ],
     "language": "python",
     "metadata": {},
     "outputs": [
      {
       "metadata": {},
       "output_type": "pyout",
       "prompt_number": 69,
       "text": [
        "<matplotlib.axes._subplots.AxesSubplot at 0x10e21e250>"
       ]
      },
      {
       "metadata": {},
       "output_type": "display_data",
       "png": "[encoded data removed]"
      }
     ],
     "prompt_number": 69
    },
    {
     "cell_type": "code",
     "collapsed": false,
     "input": [
      "i_Gata3 = SP.where(geneID=='ENSMUSG00000015619')\n",
      "PL.scatter(m.X[:,0], m.X[:,1], 40, Ycorr[:,i_Gata3])"
     ],
     "language": "python",
     "metadata": {},
     "outputs": [
      {
       "metadata": {},
       "output_type": "pyout",
       "prompt_number": 70,
       "text": [
        "<matplotlib.collections.PathCollection at 0x1116b4a50>"
       ]
      },
      {
       "metadata": {},
       "output_type": "display_data",
       "png": "[encoded data removed]"
      }
     ],
     "prompt_number": 70
    },
    {
     "cell_type": "code",
     "collapsed": false,
     "input": [],
     "language": "python",
     "metadata": {},
     "outputs": []
    }
   ],
   "metadata": {}
  }
 ]
}