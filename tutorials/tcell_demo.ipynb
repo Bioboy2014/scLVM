{
 "metadata": {
  "name": "",
  "signature": "sha256:d02c325c86b4588be05bc3765f90530dae55f27a1b20814c818e672d3178490c"
 },
 "nbformat": 3,
 "nbformat_minor": 0,
 "worksheets": [
  {
   "cells": [
    {
     "cell_type": "heading",
     "level": 1,
     "metadata": {},
     "source": [
      "scLVM  - Accounting for cell-to-cell heterogeneity in single-cell RNA-Seq data"
     ]
    },
    {
     "cell_type": "markdown",
     "metadata": {},
     "source": [
      "scLVM requires preprocessed and normalize signle-cell RNA-Seq data as input. This example assumes that the data have already been processed appropriately. For an example of how the input file for this notebook can be generated form raw counts, see R/transform_counts_Tcells.R"
     ]
    },
    {
     "cell_type": "heading",
     "level": 2,
     "metadata": {},
     "source": [
      "Stage 1: Fitting process"
     ]
    },
    {
     "cell_type": "markdown",
     "metadata": {},
     "source": [
      "scLVM use the Gaussian Process Latent variable model to fit a cell-cell covariance matrix, which is induced by a specified number of hidden factor (typically low rank). This approach resembles a Principal Component Analysis on genes annotated to a hidden factor (such as cell cycle). However, instead of explicitly reconstructing PCA loadings and scores, the GPLVM approach fits a low-rank cell-to-cell covariance to the empirical covariance matrix of these genes. Moreover, scLVM accounts for the technical noise estiamtes during the fitting."
     ]
    },
    {
     "cell_type": "code",
     "collapsed": false,
     "input": [
      "# activiate inline plotting\n",
      "%pylab inline\n",
      "# load modules\n",
      "import sys\n",
      "import scipy as SP\n",
      "import pylab as PL\n",
      "from matplotlib import cm\n",
      "import h5py\n",
      "#adjust path\n",
      "sys.path.append('./..')\n",
      "from scLVM import scLVM\n",
      "from IPython.display import Latex"
     ],
     "language": "python",
     "metadata": {},
     "outputs": [
      {
       "output_type": "stream",
       "stream": "stdout",
       "text": [
        "Populating the interactive namespace from numpy and matplotlib\n"
       ]
      }
     ],
     "prompt_number": 1
    },
    {
     "cell_type": "markdown",
     "metadata": {},
     "source": [
      "First, the required data have to be loaded. These includes:\n",
      "* Normalised gene expression data: LogNcountsMmus\n",
      "* Technical noise (in log space): LogVar_techMmus \n",
      "* Gene symbols: gene_names\n",
      "* Heterogeneous genes (boolean vector): genes_geterogen \n",
      "* Cell cycle genes (vector of indices): cellcyclegenes_filter"
     ]
    },
    {
     "cell_type": "code",
     "collapsed": false,
     "input": [
      "data = './../data/Tcell/data_Tcells_normCounts.h5f'\n",
      "f = h5py.File(data,'r')\n",
      "Y = f['LogNcountsMmus'][:]                 # gene expression matrix\n",
      "tech_noise = f['LogVar_techMmus'][:]       # technical noise\n",
      "genes_het_bool=f['genes_heterogen'][:]     # index of heterogeneous genes\n",
      "geneID = f['gene_names'][:]            # gene names\n",
      "cellcyclegenes_filter = SP.unique(f['cellcyclegenes_filter'][:].ravel() -1) # idx of cell cycle genes from GO\n",
      "cellcyclegenes_filterCB = f['ccCBall_gene_indices'][:].ravel() -1        # idx of cell cycle genes from cycle base ..."
     ],
     "language": "python",
     "metadata": {},
     "outputs": [],
     "prompt_number": 2
    },
    {
     "cell_type": "markdown",
     "metadata": {},
     "source": [
      "First, for the fitting process, we need the gene matrix of cell cycle genes:"
     ]
    },
    {
     "cell_type": "code",
     "collapsed": false,
     "input": [
      "# filter cell cycle genes\n",
      "idx_cell_cycle = SP.union1d(cellcyclegenes_filter,cellcyclegenes_filterCB)\n",
      "# determine non-zero counts\n",
      "idx_nonzero = SP.nonzero((Y.mean(0)**2)>0)[0]\n",
      "idx_cell_cycle_noise_filtered = SP.intersect1d(idx_cell_cycle,idx_nonzero)\n",
      "# subset gene expression matrix\n",
      "Ycc = Y[:,idx_cell_cycle_noise_filtered]"
     ],
     "language": "python",
     "metadata": {},
     "outputs": [],
     "prompt_number": 18
    },
    {
     "cell_type": "markdown",
     "metadata": {},
     "source": [
      "scLVM can now be fit using the cell cycle expression matrix. The user needs to define the number of latent factors to be fitted. Initially, we fit a model assuming a large numbers of factos:"
     ]
    },
    {
     "cell_type": "code",
     "collapsed": false,
     "input": [
      "k = 80                    # number of latent factors\n",
      "out_dir = './cache'       # folder where results are cached\n",
      "file_name = 'Kcc.hdf5'    # name of the cache file\n",
      "recalc = True             # recalculate X and Kconf\n",
      "use_ard = True            # use automatic relevance detection\n",
      "sclvm = scLVM(Y)\n",
      "#Fit model with 80 factors\n",
      "X_ARD,Kcc_ARD,varGPLVM_ARD = sclvm.fitGPLVM(idx=idx_cell_cycle_noise_filtered,k=k,out_dir='./cache',file_name=file_name,recalc=recalc, use_ard=use_ard)"
     ],
     "language": "python",
     "metadata": {},
     "outputs": [],
     "prompt_number": 21
    },
    {
     "cell_type": "markdown",
     "metadata": {},
     "source": [
      "In order to determine an appropriate number of hidden factors, it is instructive to visualize the variance contributions of the individual latent factors. "
     ]
    },
    {
     "cell_type": "code",
     "collapsed": false,
     "input": [
      "#Plot variance contributions from ARD \n",
      "plt = PL.subplot(1,1,1)\n",
      "PL.title('Variance explained by latent factors')\n",
      "PL.scatter(SP.arange(k)+1,varGPLVM_ARD['X_ARD'])\n",
      "PL.xlim([0,k+1])\n",
      "PL.xlabel('# Factor')\n",
      "PL.ylabel('Variance explained')"
     ],
     "language": "python",
     "metadata": {},
     "outputs": [
      {
       "metadata": {},
       "output_type": "pyout",
       "prompt_number": 49,
       "text": [
        "<matplotlib.text.Text at 0x113540a50>"
       ]
      },
      {
       "metadata": {},
       "output_type": "display_data",
       "png": "[encoded data removed]",
       "text": [
        "<matplotlib.figure.Figure at 0x119682ed0>"
       ]
      }
     ],
     "prompt_number": 49
    },
    {
     "cell_type": "markdown",
     "metadata": {},
     "source": [
      "In this example (and generally when considering cell cycle as the confounding factor), there is a large gap in the proportion of explained variance between the first and the second factor. This suggests, that a single latent factor underlies the variation captured by the cellcycle genes. Consequently, we choose to re-fit the scLVM mdoel with one latent factor only."
     ]
    },
    {
     "cell_type": "code",
     "collapsed": false,
     "input": [
      "#Fit model with a single factor (rank 1 covariance matrix)\n",
      "X,Kcc,varGPLVM = sclvm.fitGPLVM(idx=idx_cell_cycle_noise_filtered,k=1,out_dir='./cache',file_name=file_name,recalc=True, use_ard=False)"
     ],
     "language": "python",
     "metadata": {},
     "outputs": [],
     "prompt_number": 24
    },
    {
     "cell_type": "markdown",
     "metadata": {},
     "source": [
      "The inferred cell to cell covaraince matrix can be visualized: "
     ]
    },
    {
     "cell_type": "code",
     "collapsed": false,
     "input": [
      "#Plot inferred similarity matrix\n",
      "plt = PL.subplot(1,1,1)\n",
      "PL.title('Similarity matrix based on cell cycle')\n",
      "PL.imshow(Kcc,cmap=cm.RdBu,vmin=-3,vmax=+3,interpolation='None')\n",
      "PL.colorbar()\n",
      "plt.set_xticks([])\n",
      "plt.set_yticks([])\n",
      "PL.xlabel('cells')\n",
      "PL.ylabel('cells')"
     ],
     "language": "python",
     "metadata": {},
     "outputs": [
      {
       "metadata": {},
       "output_type": "pyout",
       "prompt_number": 30,
       "text": [
        "<matplotlib.text.Text at 0x11570b4d0>"
       ]
      },
      {
       "metadata": {},
       "output_type": "display_data",
       "png": "[encoded data removed]",
       "text": [
        "<matplotlib.figure.Figure at 0x1156bd250>"
       ]
      }
     ],
     "prompt_number": 30
    },
    {
     "cell_type": "heading",
     "level": 2,
     "metadata": {},
     "source": [
      "Stage 2: Variance decomposition and cell cycle correction"
     ]
    },
    {
     "cell_type": "markdown",
     "metadata": {},
     "source": [
      "First, we use the fitted scLVM model to decompose the source of variance for each gene."
     ]
    },
    {
     "cell_type": "code",
     "collapsed": false,
     "input": [
      "# considers only heterogeneous genes\n",
      "Ihet = genes_het_bool==1\n",
      "Y    = Y[:,Ihet]\n",
      "tech_noise = tech_noise[Ihet]\n",
      "geneID = geneID[Ihet]"
     ],
     "language": "python",
     "metadata": {},
     "outputs": [],
     "prompt_number": 31
    },
    {
     "cell_type": "markdown",
     "metadata": {},
     "source": [
      "The computatioan time for the next step can be substantial. If large datasets are considerd, it may be advisable to distribute these calculations on a high performance compute cluster. In this case i0 and i1 determine the range of genes for wich this anlaysis is performed. Here, we fit the model on 1,000 genes."
     ]
    },
    {
     "cell_type": "code",
     "collapsed": false,
     "input": [
      "#optionally: restrict range for the analysis\n",
      "i0 = 0    # gene from which the analysis starts\n",
      "i1 = 1000 # gene at which the analysis ends \n",
      "\n",
      "# construct sclvm object\n",
      "sclvm = scLVM(Y,geneID=geneID,tech_noise=tech_noise)\n",
      "\n",
      "# fit the model from i0 to i1\n",
      "sclvm.varianceDecomposition(K=Kcc,i0=i0,i1=i1)\n"
     ],
     "language": "python",
     "metadata": {},
     "outputs": [],
     "prompt_number": 32
    },
    {
     "cell_type": "markdown",
     "metadata": {},
     "source": [
      "Once the contribution of cell cycle to the observed variance is estimated, cell-cycled corrected gene expression levels can be obtained. The variance component estimates calculatd by scLVM are normalised such that they sum uo to 1. There may be a small number of genes where the maximum likelihood fit does not converge propperly. We suggest to remove these in downstream analyses."
     ]
    },
    {
     "cell_type": "code",
     "collapsed": false,
     "input": [
      "normalize=True    # variance components are normalizaed to sum up to one\n",
      "\n",
      "# get variance components\n",
      "var, var_info = sclvm.getVarianceComponents(normalize=normalize)\n",
      "var_filtered = var[var_info['conv']] # filter out genes for which vd has not converged\n",
      "\n",
      "# get corrected expression levels\n",
      "Ycorr = sclvm.getCorrectedExpression()\n",
      "Ycorr.shape"
     ],
     "language": "python",
     "metadata": {},
     "outputs": [
      {
       "metadata": {},
       "output_type": "pyout",
       "prompt_number": 33,
       "text": [
        "(81, 1000)"
       ]
      }
     ],
     "prompt_number": 33
    },
    {
     "cell_type": "markdown",
     "metadata": {},
     "source": [
      "Here, we visualize the resulting variance component using a pie chart. Shown are the average contributions of varaince (across genes) for different categories:\n",
      "* Hidden_0: the first hidden factor, here the the cell cycle\n",
      "* bio_noise: the residual biological variation\n",
      "* techh_noise: the technical noise level"
     ]
    },
    {
     "cell_type": "code",
     "collapsed": false,
     "input": [
      "#calculate average variance components across all genes and visualize\n",
      "var_mean = var_filtered.mean(0)\n",
      "colors = ['Green','MediumBlue','Gray']\n",
      "pp=PL.pie(var_mean,labels=var_info['col_header'],autopct='%1.1f%%',colors=colors,\n",
      "       shadow=True, startangle=0)"
     ],
     "language": "python",
     "metadata": {},
     "outputs": [
      {
       "metadata": {},
       "output_type": "display_data",
       "png": "[encoded data removed]",
       "text": [
        "<matplotlib.figure.Figure at 0x1156f4e10>"
       ]
      }
     ],
     "prompt_number": 36
    },
    {
     "cell_type": "heading",
     "level": 2,
     "metadata": {},
     "source": [
      "Gene correlation analysis"
     ]
    },
    {
     "cell_type": "markdown",
     "metadata": {},
     "source": [
      "The fitted cell cyle covariance matrix can also be used in a range of other analyses. Here, we illustrate it's use to improve the estimation of pairwise correlation coefficients between genes, while accounting for the cell cycle.\n",
      "For each gene i, we fit a linear mixed model with a fixed effect representing the contribution of a second gene j and random effect representing the contribution of the cell cycle. Gene correlations can then be determined by testing the significance of the fixed effect. Again, the computational complexity of this analysis can be substantial, requiring distributing these analyses on a parallel compute cluster. For illustration, we here consider the gene-gene correlation network of the first 10 genes."
     ]
    },
    {
     "cell_type": "code",
     "collapsed": false,
     "input": [
      "i0 = 0     # gene from which the analysis starts\n",
      "i1 = 10    # gene to which the analysis ends\n",
      "\n",
      "# fit lmm without correction\n",
      "pv0,beta0,info0 = sclvm.fitLMM(K=None,i0=i0,i1=i1,verbose=False)\n",
      "# fit lmm with correction\n",
      "pv1,beta1,info1 = sclvm.fitLMM(K=Kcc,i0=i0,i1=i1,verbose=False)"
     ],
     "language": "python",
     "metadata": {},
     "outputs": [],
     "prompt_number": 37
    },
    {
     "cell_type": "code",
     "collapsed": false,
     "input": [
      "PL.subplot(2,2,1)\n",
      "PL.title('Without Correction')\n",
      "p=PL.imshow(beta0[:,i0:i1],cmap=cm.RdBu,vmin=-0.6,vmax=+1,interpolation='None')\n",
      "PL.colorbar()\n",
      "plt.set_xticks([])\n",
      "plt.set_yticks([])\n",
      "PL.xlabel('gene'),PL.ylabel('gene')\n",
      "PL.subplot(2,2,2)\n",
      "PL.title('With Correction')\n",
      "p=PL.imshow(beta1[:,i0:i1],cmap=cm.RdBu,vmin=-0.6,vmax=+1,interpolation='None')\n",
      "PL.colorbar()\n",
      "plt.set_xticks([])\n",
      "plt.set_yticks([])\n",
      "PL.xlabel('gene'),PL.ylabel('gene')"
     ],
     "language": "python",
     "metadata": {},
     "outputs": [
      {
       "metadata": {},
       "output_type": "pyout",
       "prompt_number": 39,
       "text": [
        "(<matplotlib.text.Text at 0x1189bf790>, <matplotlib.text.Text at 0x1189a0390>)"
       ]
      },
      {
       "metadata": {},
       "output_type": "display_data",
       "png": "[encoded data removed]",
       "text": [
        "<matplotlib.figure.Figure at 0x114f4f690>"
       ]
      }
     ],
     "prompt_number": 39
    },
    {
     "cell_type": "heading",
     "level": 2,
     "metadata": {},
     "source": [
      "Downstream analysis"
     ]
    },
    {
     "cell_type": "markdown",
     "metadata": {},
     "source": [
      "The cell-cycle corrected gene expression matix can used for various kinds of downstream analysis. This includes clustering, visualisation, network analysis etc. To use the correct expression matrix in other programmes, it is straightforward to export the correct expression matrix as CSV file:"
     ]
    },
    {
     "cell_type": "code",
     "collapsed": false,
     "input": [
      "SP.savetxt('Ycorr.txt',Ycorr)"
     ],
     "language": "python",
     "metadata": {},
     "outputs": [],
     "prompt_number": 50
    },
    {
     "cell_type": "markdown",
     "metadata": {},
     "source": [
      "As an example for downstream analyses using corrected exprssion levels, we here consider GPy to fit a non-linear PCA model, therbey visualizing hidden substructures between cells."
     ]
    },
    {
     "cell_type": "code",
     "collapsed": false,
     "input": [
      "import GPy"
     ],
     "language": "python",
     "metadata": {},
     "outputs": [],
     "prompt_number": 51
    },
    {
     "cell_type": "code",
     "collapsed": false,
     "input": [
      "# Model optimization\n",
      "Ystd = Ycorr-Ycorr.mean(0)\n",
      "Ystd/=Ystd.std(0)\n",
      "input_dim = 2 # How many latent dimensions to use\n",
      "kern = GPy.kern.rbf(input_dim,ARD=True) # ARD kernel\n",
      "m = GPy.models.BayesianGPLVM(Ystd, input_dim=input_dim, kernel=kern, num_inducing=40)\n",
      "m.optimize('scg', messages=1, max_iters=2000)"
     ],
     "language": "python",
     "metadata": {},
     "outputs": [
      {
       "output_type": "stream",
       "stream": "stdout",
       "text": [
        "Warning: adding jitter of 1.0000000000e-03\n",
        " I      F              Scale          |g|        "
       ]
      },
      {
       "output_type": "stream",
       "stream": "stdout",
       "text": [
        "\n",
        "\r"
       ]
      },
      {
       "output_type": "stream",
       "stream": "stdout",
       "text": [
        "0001   1.216795e+05   1.000000e+00   6.948100e+07"
       ]
      },
      {
       "output_type": "stream",
       "stream": "stdout",
       "text": [
        " \r",
        "0002   1.216795e+05   5.000000e-01   2.481229e+07"
       ]
      },
      {
       "output_type": "stream",
       "stream": "stdout",
       "text": [
        " \r",
        "0003   1.216795e+05   2.000000e+00   2.481229e+07"
       ]
      },
      {
       "output_type": "stream",
       "stream": "stdout",
       "text": [
        " \n",
        "\r",
        "0004   1.216795e+05   8.000000e+00   2.481229e+07"
       ]
      },
      {
       "output_type": "stream",
       "stream": "stdout",
       "text": [
        " \r",
        "0005   1.216795e+05   3.200000e+01   2.481229e+07"
       ]
      },
      {
       "output_type": "stream",
       "stream": "stdout",
       "text": [
        " \r",
        "0006   1.216795e+05   1.280000e+02   2.481229e+07"
       ]
      },
      {
       "output_type": "stream",
       "stream": "stdout",
       "text": [
        " \r",
        "0007   1.216795e+05   5.120000e+02   2.481229e+07"
       ]
      },
      {
       "output_type": "stream",
       "stream": "stdout",
       "text": [
        " \r",
        "0008   1.203562e+05   2.048000e+03   2.481229e+07"
       ]
      },
      {
       "output_type": "stream",
       "stream": "stdout",
       "text": [
        " \r",
        "0009   1.168875e+05   2.048000e+03   2.066819e+08"
       ]
      },
      {
       "output_type": "stream",
       "stream": "stdout",
       "text": [
        " \r",
        "0010   1.160796e+05   1.024000e+03   1.510637e+07"
       ]
      },
      {
       "output_type": "stream",
       "stream": "stdout",
       "text": [
        " \r",
        "0011   1.154778e+05   5.120000e+02   1.775456e+06"
       ]
      },
      {
       "output_type": "stream",
       "stream": "stdout",
       "text": [
        " \n",
        "\r"
       ]
      },
      {
       "output_type": "stream",
       "stream": "stdout",
       "text": [
        "0012   1.153117e+05   2.560000e+02   2.345644e+06"
       ]
      },
      {
       "output_type": "stream",
       "stream": "stdout",
       "text": [
        " \r",
        "0013   1.151462e+05   1.280000e+02   5.281286e+05"
       ]
      },
      {
       "output_type": "stream",
       "stream": "stdout",
       "text": [
        " \r",
        "0014   1.150979e+05   6.400000e+01   5.427770e+05"
       ]
      },
      {
       "output_type": "stream",
       "stream": "stdout",
       "text": [
        " \r",
        "0015   1.150608e+05   3.200000e+01   1.288955e+05"
       ]
      },
      {
       "output_type": "stream",
       "stream": "stdout",
       "text": [
        " \r",
        "0016   1.150442e+05   1.600000e+01   1.341835e+05"
       ]
      },
      {
       "output_type": "stream",
       "stream": "stdout",
       "text": [
        " \r",
        "0017   1.150223e+05   8.000000e+00   7.846808e+04"
       ]
      },
      {
       "output_type": "stream",
       "stream": "stdout",
       "text": [
        " \r",
        "0018   1.150094e+05   4.000000e+00   1.022916e+05"
       ]
      },
      {
       "output_type": "stream",
       "stream": "stdout",
       "text": [
        " \r",
        "0019   1.149963e+05   2.000000e+00   5.965779e+04"
       ]
      },
      {
       "output_type": "stream",
       "stream": "stdout",
       "text": [
        " \n",
        "\r"
       ]
      },
      {
       "output_type": "stream",
       "stream": "stdout",
       "text": [
        "0020   1.149916e+05   1.000000e+00   4.083446e+04"
       ]
      },
      {
       "output_type": "stream",
       "stream": "stdout",
       "text": [
        " \r",
        "0021   1.149872e+05   5.000000e-01   2.883595e+04"
       ]
      },
      {
       "output_type": "stream",
       "stream": "stdout",
       "text": [
        " \r",
        "0022   1.149860e+05   2.500000e-01   9.719525e+03"
       ]
      },
      {
       "output_type": "stream",
       "stream": "stdout",
       "text": [
        " \r",
        "0023   1.149837e+05   1.250000e-01   1.522792e+04"
       ]
      },
      {
       "output_type": "stream",
       "stream": "stdout",
       "text": [
        " \r",
        "0024   1.149829e+05   6.250000e-02   6.449038e+03"
       ]
      },
      {
       "output_type": "stream",
       "stream": "stdout",
       "text": [
        " \n",
        "\r"
       ]
      },
      {
       "output_type": "stream",
       "stream": "stdout",
       "text": [
        "0025   1.149814e+05   3.125000e-02   9.836900e+03"
       ]
      },
      {
       "output_type": "stream",
       "stream": "stdout",
       "text": [
        " \r",
        "0026   1.149808e+05   1.562500e-02   5.793567e+03"
       ]
      },
      {
       "output_type": "stream",
       "stream": "stdout",
       "text": [
        " \r",
        "0027   1.149796e+05   7.812500e-03   7.396486e+03"
       ]
      },
      {
       "output_type": "stream",
       "stream": "stdout",
       "text": [
        " \r",
        "0028   1.149789e+05   3.906250e-03   7.084507e+03"
       ]
      },
      {
       "output_type": "stream",
       "stream": "stdout",
       "text": [
        " \r",
        "0029   1.149773e+05   1.953125e-03   8.184626e+03"
       ]
      },
      {
       "output_type": "stream",
       "stream": "stdout",
       "text": [
        " \r",
        "0030   1.149763e+05   9.765625e-04   1.169487e+04"
       ]
      },
      {
       "output_type": "stream",
       "stream": "stdout",
       "text": [
        " \r",
        "0031   1.149744e+05   4.882812e-04   1.086507e+04"
       ]
      },
      {
       "output_type": "stream",
       "stream": "stdout",
       "text": [
        " \r",
        "0032   1.149730e+05   2.441406e-04   2.208211e+04"
       ]
      },
      {
       "output_type": "stream",
       "stream": "stdout",
       "text": [
        " \r",
        "0033   1.149730e+05   1.220703e-04   1.677177e+04"
       ]
      },
      {
       "output_type": "stream",
       "stream": "stdout",
       "text": [
        " \r",
        "0034   1.149730e+05   4.882812e-04   1.677177e+04"
       ]
      },
      {
       "output_type": "stream",
       "stream": "stdout",
       "text": [
        " \r",
        "0035   1.149730e+05   1.953125e-03   1.677177e+04"
       ]
      },
      {
       "output_type": "stream",
       "stream": "stdout",
       "text": [
        " \r",
        "0036   1.149730e+05   7.812500e-03   1.677177e+04"
       ]
      },
      {
       "output_type": "stream",
       "stream": "stdout",
       "text": [
        " \r",
        "0037   1.149730e+05   3.125000e-02   1.677177e+04"
       ]
      },
      {
       "output_type": "stream",
       "stream": "stdout",
       "text": [
        " \r",
        "0038   1.149730e+05   1.250000e-01   1.677177e+04"
       ]
      },
      {
       "output_type": "stream",
       "stream": "stdout",
       "text": [
        " \r",
        "0039   1.149728e+05   5.000000e-01   1.677177e+04"
       ]
      },
      {
       "output_type": "stream",
       "stream": "stdout",
       "text": [
        " \r",
        "0040   1.149491e+05   2.000000e+00   6.354351e+05"
       ]
      },
      {
       "output_type": "stream",
       "stream": "stdout",
       "text": [
        " \r",
        "0041   1.147992e+05   1.000000e+00   1.385519e+05"
       ]
      },
      {
       "output_type": "stream",
       "stream": "stdout",
       "text": [
        " \r",
        "0042   1.147934e+05   5.000000e-01   9.695964e+04"
       ]
      },
      {
       "output_type": "stream",
       "stream": "stdout",
       "text": [
        " \r",
        "0043   1.147466e+05   2.500000e-01   3.972309e+04"
       ]
      },
      {
       "output_type": "stream",
       "stream": "stdout",
       "text": [
        " \r",
        "0044   1.147430e+05   1.250000e-01   7.115413e+04"
       ]
      },
      {
       "output_type": "stream",
       "stream": "stdout",
       "text": [
        " \r",
        "0045   1.147193e+05   6.250000e-02   3.471505e+04"
       ]
      },
      {
       "output_type": "stream",
       "stream": "stdout",
       "text": [
        " \r",
        "0046   1.147191e+05   6.250000e-02   9.073533e+04"
       ]
      },
      {
       "output_type": "stream",
       "stream": "stdout",
       "text": [
        " \r",
        "0047   1.147103e+05   3.125000e-02   5.710511e+04"
       ]
      },
      {
       "output_type": "stream",
       "stream": "stdout",
       "text": [
        " \r",
        "0048   1.147060e+05   1.562500e-02   1.387555e+04"
       ]
      },
      {
       "output_type": "stream",
       "stream": "stdout",
       "text": [
        " \r",
        "0049   1.146978e+05   7.812500e-03   8.825768e+04"
       ]
      },
      {
       "output_type": "stream",
       "stream": "stdout",
       "text": [
        " \r",
        "0050   1.146959e+05   3.906250e-03   8.420408e+03"
       ]
      },
      {
       "output_type": "stream",
       "stream": "stdout",
       "text": [
        " \r",
        "0051   1.146918e+05   1.953125e-03   3.505380e+04"
       ]
      },
      {
       "output_type": "stream",
       "stream": "stdout",
       "text": [
        " \r",
        "0052   1.146905e+05   9.765625e-04   5.623300e+03"
       ]
      },
      {
       "output_type": "stream",
       "stream": "stdout",
       "text": [
        " \r",
        "0053   1.146884e+05   4.882812e-04   2.162465e+04"
       ]
      },
      {
       "output_type": "stream",
       "stream": "stdout",
       "text": [
        " \r",
        "0054   1.146858e+05   2.441406e-04   6.790462e+03"
       ]
      },
      {
       "output_type": "stream",
       "stream": "stdout",
       "text": [
        " \r",
        "0055   1.146818e+05   1.220703e-04   4.001716e+04"
       ]
      },
      {
       "output_type": "stream",
       "stream": "stdout",
       "text": [
        " \r",
        "0056   1.146752e+05   6.103516e-05   2.486708e+04"
       ]
      },
      {
       "output_type": "stream",
       "stream": "stdout",
       "text": [
        " \r",
        "0057   1.146656e+05   3.051758e-05   6.473908e+04"
       ]
      },
      {
       "output_type": "stream",
       "stream": "stdout",
       "text": [
        " \r",
        "0058   1.146398e+05   1.525879e-05   1.331110e+05"
       ]
      },
      {
       "output_type": "stream",
       "stream": "stdout",
       "text": [
        " \r",
        "0059   1.146063e+05   7.629395e-06   1.125085e+05"
       ]
      },
      {
       "output_type": "stream",
       "stream": "stdout",
       "text": [
        " \r",
        "0060   1.145335e+05   3.814697e-06   4.481148e+05"
       ]
      },
      {
       "output_type": "stream",
       "stream": "stdout",
       "text": [
        " \r",
        "0061   1.145111e+05   1.907349e-06   1.896094e+05"
       ]
      },
      {
       "output_type": "stream",
       "stream": "stdout",
       "text": [
        " \r",
        "0062   1.144813e+05   9.536743e-07   3.723194e+04"
       ]
      },
      {
       "output_type": "stream",
       "stream": "stdout",
       "text": [
        " \r",
        "0063   1.144762e+05   4.768372e-07   1.219190e+05"
       ]
      },
      {
       "output_type": "stream",
       "stream": "stdout",
       "text": [
        " \r",
        "0064   1.144729e+05   2.384186e-07   4.825637e+03"
       ]
      },
      {
       "output_type": "stream",
       "stream": "stdout",
       "text": [
        " \r",
        "0065   1.144721e+05   1.192093e-07   7.740897e+03"
       ]
      },
      {
       "output_type": "stream",
       "stream": "stdout",
       "text": [
        " \r",
        "0066   1.144657e+05   5.960464e-08   1.530607e+04"
       ]
      },
      {
       "output_type": "stream",
       "stream": "stdout",
       "text": [
        " \r",
        "0067   1.144602e+05   2.980232e-08   5.225704e+03"
       ]
      },
      {
       "output_type": "stream",
       "stream": "stdout",
       "text": [
        " \n",
        "\r"
       ]
      },
      {
       "output_type": "stream",
       "stream": "stdout",
       "text": [
        "0068   1.144597e+05   1.490116e-08   1.509257e+04"
       ]
      },
      {
       "output_type": "stream",
       "stream": "stdout",
       "text": [
        " \r",
        "0069   1.144567e+05   7.450581e-09   7.039821e+02"
       ]
      },
      {
       "output_type": "stream",
       "stream": "stdout",
       "text": [
        " \r",
        "0070   1.144562e+05   3.725290e-09   9.316642e+03"
       ]
      },
      {
       "output_type": "stream",
       "stream": "stdout",
       "text": [
        " \r",
        "0071   1.144336e+05   1.862645e-09   3.102925e+03"
       ]
      },
      {
       "output_type": "stream",
       "stream": "stdout",
       "text": [
        " \r",
        "0072   1.144319e+05   9.313226e-10   2.003080e+04"
       ]
      },
      {
       "output_type": "stream",
       "stream": "stdout",
       "text": [
        " \r",
        "0073   1.144194e+05   4.656613e-10   1.525466e+04"
       ]
      },
      {
       "output_type": "stream",
       "stream": "stdout",
       "text": [
        " \r",
        "0074   1.144190e+05   2.328306e-10   1.118373e+04"
       ]
      },
      {
       "output_type": "stream",
       "stream": "stdout",
       "text": [
        " \r",
        "0075   1.144190e+05   8.773283e+00   1.356289e+04"
       ]
      },
      {
       "output_type": "stream",
       "stream": "stdout",
       "text": [
        " \r",
        "0076   1.144170e+05   3.509313e+01   1.356289e+04"
       ]
      },
      {
       "output_type": "stream",
       "stream": "stdout",
       "text": [
        " \r",
        "0077   1.144156e+05   1.754657e+01   1.924862e+04"
       ]
      },
      {
       "output_type": "stream",
       "stream": "stdout",
       "text": [
        " \r",
        "0078   1.143986e+05   8.773283e+00   1.934949e+04"
       ]
      },
      {
       "output_type": "stream",
       "stream": "stdout",
       "text": [
        " \r",
        "0079   1.143948e+05   4.386641e+00   5.400950e+03"
       ]
      },
      {
       "output_type": "stream",
       "stream": "stdout",
       "text": [
        " \r",
        "0080   1.143862e+05   2.193321e+00   9.622689e+04"
       ]
      },
      {
       "output_type": "stream",
       "stream": "stdout",
       "text": [
        " \r",
        "0081   1.143857e+05   1.096660e+00   1.064121e+04"
       ]
      },
      {
       "output_type": "stream",
       "stream": "stdout",
       "text": [
        " \r",
        "0082   1.143849e+05   5.483302e-01   3.097234e+03"
       ]
      },
      {
       "output_type": "stream",
       "stream": "stdout",
       "text": [
        " \r",
        "0083   1.143847e+05   2.741651e-01   1.837427e+03"
       ]
      },
      {
       "output_type": "stream",
       "stream": "stdout",
       "text": [
        " \r",
        "0084   1.143830e+05   1.370825e-01   4.273044e+03"
       ]
      },
      {
       "output_type": "stream",
       "stream": "stdout",
       "text": [
        " \r",
        "0085   1.143827e+05   6.854127e-02   3.950246e+03"
       ]
      },
      {
       "output_type": "stream",
       "stream": "stdout",
       "text": [
        " \r",
        "0086   1.143805e+05   3.427064e-02   3.862909e+03"
       ]
      },
      {
       "output_type": "stream",
       "stream": "stdout",
       "text": [
        " \r",
        "0087   1.143798e+05   1.713532e-02   1.537563e+04"
       ]
      },
      {
       "output_type": "stream",
       "stream": "stdout",
       "text": [
        " \r",
        "0088   1.143798e+05   8.567659e-03   5.717053e+03"
       ]
      },
      {
       "output_type": "stream",
       "stream": "stdout",
       "text": [
        " \r",
        "0089   1.143798e+05   3.427064e-02   5.717053e+03"
       ]
      },
      {
       "output_type": "stream",
       "stream": "stdout",
       "text": [
        " \r",
        "0090   1.143798e+05   1.370825e-01   5.717053e+03"
       ]
      },
      {
       "output_type": "stream",
       "stream": "stdout",
       "text": [
        " \r",
        "0091   1.143798e+05   5.483302e-01   5.717053e+03"
       ]
      },
      {
       "output_type": "stream",
       "stream": "stdout",
       "text": [
        " \r",
        "0092   1.143798e+05   2.193321e+00   5.717053e+03"
       ]
      },
      {
       "output_type": "stream",
       "stream": "stdout",
       "text": [
        " \r",
        "0093   1.143794e+05   8.773283e+00   5.717053e+03"
       ]
      },
      {
       "output_type": "stream",
       "stream": "stdout",
       "text": [
        " \r",
        "0094   1.143721e+05   8.773283e+00   3.397931e+03"
       ]
      },
      {
       "output_type": "stream",
       "stream": "stdout",
       "text": [
        " \r",
        "0095   1.143709e+05   4.386641e+00   2.386964e+04"
       ]
      },
      {
       "output_type": "stream",
       "stream": "stdout",
       "text": [
        " \r",
        "0096   1.143674e+05   2.193321e+00   4.157616e+03"
       ]
      },
      {
       "output_type": "stream",
       "stream": "stdout",
       "text": [
        " \r",
        "0097   1.143670e+05   1.096660e+00   2.490576e+03"
       ]
      },
      {
       "output_type": "stream",
       "stream": "stdout",
       "text": [
        " \r",
        "0098   1.143651e+05   5.483302e-01   9.501019e+03"
       ]
      },
      {
       "output_type": "stream",
       "stream": "stdout",
       "text": [
        " \r",
        "0099   1.143645e+05   2.741651e-01   5.960441e+02"
       ]
      },
      {
       "output_type": "stream",
       "stream": "stdout",
       "text": [
        " \n",
        "\r"
       ]
      },
      {
       "output_type": "stream",
       "stream": "stdout",
       "text": [
        "0100   1.143613e+05   1.370825e-01   1.400050e+04"
       ]
      },
      {
       "output_type": "stream",
       "stream": "stdout",
       "text": [
        " \r",
        "0101   1.143560e+05   6.854127e-02   4.910494e+03"
       ]
      },
      {
       "output_type": "stream",
       "stream": "stdout",
       "text": [
        " \r",
        "0102   1.143466e+05   3.427064e-02   8.874504e+04"
       ]
      },
      {
       "output_type": "stream",
       "stream": "stdout",
       "text": [
        " \r",
        "0103   1.143458e+05   1.713532e-02   6.805022e+03"
       ]
      },
      {
       "output_type": "stream",
       "stream": "stdout",
       "text": [
        " \r",
        "0104   1.143434e+05   8.567659e-03   7.294152e+03"
       ]
      },
      {
       "output_type": "stream",
       "stream": "stdout",
       "text": [
        " \r",
        "0105   1.143400e+05   4.283829e-03   2.150971e+04"
       ]
      },
      {
       "output_type": "stream",
       "stream": "stdout",
       "text": [
        " \r",
        "0106   1.143383e+05   2.141915e-03   4.327180e+04"
       ]
      },
      {
       "output_type": "stream",
       "stream": "stdout",
       "text": [
        " \r",
        "0107   1.143353e+05   8.567659e-03   5.419844e+04"
       ]
      },
      {
       "output_type": "stream",
       "stream": "stdout",
       "text": [
        " \r",
        "0108   1.143184e+05   4.283829e-03   3.912325e+04"
       ]
      },
      {
       "output_type": "stream",
       "stream": "stdout",
       "text": [
        " \r",
        "0109   1.143182e+05   2.141915e-03   3.227013e+03"
       ]
      },
      {
       "output_type": "stream",
       "stream": "stdout",
       "text": [
        " \r",
        "0110   1.143137e+05   1.070957e-03   2.669965e+03"
       ]
      },
      {
       "output_type": "stream",
       "stream": "stdout",
       "text": [
        " \r",
        "0111   1.143131e+05   5.354787e-04   1.559339e+04"
       ]
      },
      {
       "output_type": "stream",
       "stream": "stdout",
       "text": [
        " \r",
        "0112   1.142995e+05   2.677393e-04   1.090280e+04"
       ]
      },
      {
       "output_type": "stream",
       "stream": "stdout",
       "text": [
        " \r",
        "0113   1.142988e+05   1.338697e-04   9.333065e+03"
       ]
      },
      {
       "output_type": "stream",
       "stream": "stdout",
       "text": [
        " \r",
        "0114   1.142941e+05   6.693484e-05   8.859645e+03"
       ]
      },
      {
       "output_type": "stream",
       "stream": "stdout",
       "text": [
        " \r",
        "0115   1.142867e+05   3.346742e-05   3.287617e+03"
       ]
      },
      {
       "output_type": "stream",
       "stream": "stdout",
       "text": [
        " \r",
        "0116   1.142856e+05   1.673371e-05   2.913184e+04"
       ]
      },
      {
       "output_type": "stream",
       "stream": "stdout",
       "text": [
        " \r",
        "0117   1.142852e+05   8.366854e-06   1.009604e+03"
       ]
      },
      {
       "output_type": "stream",
       "stream": "stdout",
       "text": [
        " \r",
        "0118   1.142830e+05   4.183427e-06   5.457305e+02"
       ]
      },
      {
       "output_type": "stream",
       "stream": "stdout",
       "text": [
        " \r",
        "0119   1.142819e+05   2.091714e-06   4.161541e+04"
       ]
      },
      {
       "output_type": "stream",
       "stream": "stdout",
       "text": [
        " \r",
        "0120   1.142814e+05   1.045857e-06   8.354064e+03"
       ]
      },
      {
       "output_type": "stream",
       "stream": "stdout",
       "text": [
        " \r",
        "0121   1.142808e+05   5.229284e-07   1.478410e+03"
       ]
      },
      {
       "output_type": "stream",
       "stream": "stdout",
       "text": [
        " \r",
        "0122   1.142805e+05   2.614642e-07   6.159374e+03"
       ]
      },
      {
       "output_type": "stream",
       "stream": "stdout",
       "text": [
        " \r",
        "0123   1.142797e+05   1.307321e-07   2.884816e+02"
       ]
      },
      {
       "output_type": "stream",
       "stream": "stdout",
       "text": [
        " \r",
        "0124   1.142793e+05   6.536605e-08   1.068574e+04"
       ]
      },
      {
       "output_type": "stream",
       "stream": "stdout",
       "text": [
        " \r",
        "0125   1.142790e+05   3.268303e-08   1.275157e+03"
       ]
      },
      {
       "output_type": "stream",
       "stream": "stdout",
       "text": [
        " \r",
        "0126   1.142788e+05   1.634151e-08   2.932862e+03"
       ]
      },
      {
       "output_type": "stream",
       "stream": "stdout",
       "text": [
        " \r",
        "0127   1.142786e+05   8.170756e-09   3.148840e+02"
       ]
      },
      {
       "output_type": "stream",
       "stream": "stdout",
       "text": [
        " \r",
        "0128   1.142785e+05   4.085378e-09   1.904185e+03"
       ]
      },
      {
       "output_type": "stream",
       "stream": "stdout",
       "text": [
        " \r",
        "0129   1.142770e+05   2.042689e-09   3.548912e+02"
       ]
      },
      {
       "output_type": "stream",
       "stream": "stdout",
       "text": [
        " \r",
        "0130   1.142769e+05   1.021345e-09   1.189928e+03"
       ]
      },
      {
       "output_type": "stream",
       "stream": "stdout",
       "text": [
        " \r",
        "0131   1.142769e+05   5.106723e-10   1.547524e+03"
       ]
      },
      {
       "output_type": "stream",
       "stream": "stdout",
       "text": [
        " \r",
        "0132   1.142769e+05   2.042689e-09   1.547524e+03"
       ]
      },
      {
       "output_type": "stream",
       "stream": "stdout",
       "text": [
        " \r",
        "0133   1.142769e+05   8.170756e-09   1.547524e+03"
       ]
      },
      {
       "output_type": "stream",
       "stream": "stdout",
       "text": [
        " \r",
        "0134   1.142769e+05   3.268303e-08   1.547524e+03"
       ]
      },
      {
       "output_type": "stream",
       "stream": "stdout",
       "text": [
        " \r",
        "0135   1.142769e+05   1.307321e-07   1.547524e+03"
       ]
      },
      {
       "output_type": "stream",
       "stream": "stdout",
       "text": [
        " \r",
        "0136   1.142769e+05   5.229284e-07   1.547524e+03"
       ]
      },
      {
       "output_type": "stream",
       "stream": "stdout",
       "text": [
        " \r",
        "0137   1.142769e+05   2.091714e-06   1.547524e+03"
       ]
      },
      {
       "output_type": "stream",
       "stream": "stdout",
       "text": [
        " \r",
        "0138   1.142769e+05   8.366854e-06   1.547524e+03"
       ]
      },
      {
       "output_type": "stream",
       "stream": "stdout",
       "text": [
        " \r",
        "0139   1.142769e+05   3.346742e-05   1.547524e+03"
       ]
      },
      {
       "output_type": "stream",
       "stream": "stdout",
       "text": [
        " \r",
        "0140   1.142769e+05   1.338697e-04   1.547524e+03"
       ]
      },
      {
       "output_type": "stream",
       "stream": "stdout",
       "text": [
        " \r",
        "0141   1.142769e+05   5.354787e-04   1.547524e+03"
       ]
      },
      {
       "output_type": "stream",
       "stream": "stdout",
       "text": [
        " \r",
        "0142   1.142769e+05   2.141915e-03   1.547524e+03"
       ]
      },
      {
       "output_type": "stream",
       "stream": "stdout",
       "text": [
        " \r",
        "0143   1.142769e+05   8.567659e-03   1.547524e+03"
       ]
      },
      {
       "output_type": "stream",
       "stream": "stdout",
       "text": [
        " \r",
        "0144   1.142769e+05   3.427064e-02   1.547524e+03"
       ]
      },
      {
       "output_type": "stream",
       "stream": "stdout",
       "text": [
        " \r",
        "0145   1.142769e+05   1.370825e-01   1.547524e+03"
       ]
      },
      {
       "output_type": "stream",
       "stream": "stdout",
       "text": [
        " \r",
        "0146   1.142769e+05   5.483302e-01   1.547524e+03"
       ]
      },
      {
       "output_type": "stream",
       "stream": "stdout",
       "text": [
        " \r",
        "0147   1.142751e+05   2.193321e+00   1.547524e+03"
       ]
      },
      {
       "output_type": "stream",
       "stream": "stdout",
       "text": [
        " \r",
        "0148   1.142749e+05   8.773283e+00   1.527986e+04"
       ]
      },
      {
       "output_type": "stream",
       "stream": "stdout",
       "text": [
        " \r",
        "0149   1.142615e+05   4.386641e+00   1.583661e+04"
       ]
      },
      {
       "output_type": "stream",
       "stream": "stdout",
       "text": [
        " \r",
        "0150   1.142613e+05   2.193321e+00   3.383074e+03"
       ]
      },
      {
       "output_type": "stream",
       "stream": "stdout",
       "text": [
        " \r",
        "0151   1.142574e+05   1.096660e+00   2.190202e+03"
       ]
      },
      {
       "output_type": "stream",
       "stream": "stdout",
       "text": [
        " \r",
        "0152   1.142573e+05   5.483302e-01   5.112616e+02"
       ]
      },
      {
       "output_type": "stream",
       "stream": "stdout",
       "text": [
        " \r",
        "0153   1.142550e+05   2.741651e-01   2.654319e+03"
       ]
      },
      {
       "output_type": "stream",
       "stream": "stdout",
       "text": [
        " \r",
        "0154   1.142526e+05   1.370825e-01   1.516053e+03"
       ]
      },
      {
       "output_type": "stream",
       "stream": "stdout",
       "text": [
        " \r",
        "0155   1.142494e+05   6.854127e-02   4.997570e+04"
       ]
      },
      {
       "output_type": "stream",
       "stream": "stdout",
       "text": [
        " \r",
        "0156   1.142490e+05   6.854127e-02   9.396872e+03"
       ]
      },
      {
       "output_type": "stream",
       "stream": "stdout",
       "text": [
        " \r",
        "0157   1.142461e+05   3.427064e-02   6.143366e+03"
       ]
      },
      {
       "output_type": "stream",
       "stream": "stdout",
       "text": [
        " \r",
        "0158   1.142460e+05   1.713532e-02   5.643091e+02"
       ]
      },
      {
       "output_type": "stream",
       "stream": "stdout",
       "text": [
        " \r",
        "0159   1.142443e+05   8.567659e-03   9.779238e+02"
       ]
      },
      {
       "output_type": "stream",
       "stream": "stdout",
       "text": [
        " \r",
        "0160   1.142441e+05   4.283829e-03   1.524476e+03"
       ]
      },
      {
       "output_type": "stream",
       "stream": "stdout",
       "text": [
        " \r",
        "0161   1.142427e+05   2.141915e-03   4.133522e+03"
       ]
      },
      {
       "output_type": "stream",
       "stream": "stdout",
       "text": [
        " \r",
        "0162   1.142426e+05   1.070957e-03   2.845368e+03"
       ]
      },
      {
       "output_type": "stream",
       "stream": "stdout",
       "text": [
        " \r",
        "0163   1.142410e+05   5.354787e-04   9.225186e+02"
       ]
      },
      {
       "output_type": "stream",
       "stream": "stdout",
       "text": [
        " \r",
        "0164   1.142409e+05   2.677393e-04   2.741858e+02"
       ]
      },
      {
       "output_type": "stream",
       "stream": "stdout",
       "text": [
        " \r",
        "0165   1.142404e+05   1.338697e-04   3.610097e+03"
       ]
      },
      {
       "output_type": "stream",
       "stream": "stdout",
       "text": [
        " \r",
        "0166   1.142393e+05   6.693484e-05   4.466261e+02"
       ]
      },
      {
       "output_type": "stream",
       "stream": "stdout",
       "text": [
        " \r",
        "0167   1.142376e+05   3.346742e-05   3.893117e+04"
       ]
      },
      {
       "output_type": "stream",
       "stream": "stdout",
       "text": [
        " \r",
        "0168   1.142367e+05   1.673371e-05   2.976226e+04"
       ]
      },
      {
       "output_type": "stream",
       "stream": "stdout",
       "text": [
        " \r",
        "0169   1.142347e+05   8.366854e-06   2.499329e+03"
       ]
      },
      {
       "output_type": "stream",
       "stream": "stdout",
       "text": [
        " \r",
        "0170   1.142347e+05   4.183427e-06   8.171625e+02"
       ]
      },
      {
       "output_type": "stream",
       "stream": "stdout",
       "text": [
        " \r",
        "0171   1.142336e+05   2.091714e-06   7.752441e+02"
       ]
      },
      {
       "output_type": "stream",
       "stream": "stdout",
       "text": [
        " \r",
        "0172   1.142331e+05   1.045857e-06   2.826387e+02"
       ]
      },
      {
       "output_type": "stream",
       "stream": "stdout",
       "text": [
        " \r",
        "0173   1.142324e+05   5.229284e-07   8.048952e+03"
       ]
      },
      {
       "output_type": "stream",
       "stream": "stdout",
       "text": [
        " \r",
        "0174   1.142324e+05   2.614642e-07   1.311785e+03"
       ]
      },
      {
       "output_type": "stream",
       "stream": "stdout",
       "text": [
        " \r",
        "0175   1.142324e+05   1.045857e-06   1.311785e+03"
       ]
      },
      {
       "output_type": "stream",
       "stream": "stdout",
       "text": [
        " \r",
        "0176   1.142324e+05   4.183427e-06   1.311785e+03"
       ]
      },
      {
       "output_type": "stream",
       "stream": "stdout",
       "text": [
        " \r",
        "0177   1.142324e+05   1.673371e-05   1.311785e+03"
       ]
      },
      {
       "output_type": "stream",
       "stream": "stdout",
       "text": [
        " \r",
        "0178   1.142324e+05   6.693484e-05   1.311785e+03"
       ]
      },
      {
       "output_type": "stream",
       "stream": "stdout",
       "text": [
        " \r",
        "0179   1.142324e+05   2.677393e-04   1.311785e+03"
       ]
      },
      {
       "output_type": "stream",
       "stream": "stdout",
       "text": [
        " \r",
        "0180   1.142324e+05   1.070957e-03   1.311785e+03"
       ]
      },
      {
       "output_type": "stream",
       "stream": "stdout",
       "text": [
        " \r",
        "0181   1.142324e+05   4.283829e-03   1.311785e+03"
       ]
      },
      {
       "output_type": "stream",
       "stream": "stdout",
       "text": [
        " \r",
        "0182   1.142324e+05   1.713532e-02   1.311785e+03"
       ]
      },
      {
       "output_type": "stream",
       "stream": "stdout",
       "text": [
        " \r",
        "0183   1.142324e+05   6.854127e-02   1.311785e+03"
       ]
      },
      {
       "output_type": "stream",
       "stream": "stdout",
       "text": [
        " \r",
        "0184   1.142324e+05   2.741651e-01   1.311785e+03"
       ]
      },
      {
       "output_type": "stream",
       "stream": "stdout",
       "text": [
        " \r",
        "0185   1.142324e+05   1.096660e+00   1.311785e+03"
       ]
      },
      {
       "output_type": "stream",
       "stream": "stdout",
       "text": [
        " \r",
        "0186   1.142307e+05   4.386641e+00   1.311785e+03"
       ]
      },
      {
       "output_type": "stream",
       "stream": "stdout",
       "text": [
        " \r",
        "0187   1.142298e+05   2.384644e+01   1.758104e+05"
       ]
      },
      {
       "output_type": "stream",
       "stream": "stdout",
       "text": [
        " \r",
        "0188   1.142229e+05   2.384644e+01   2.248579e+05"
       ]
      },
      {
       "output_type": "stream",
       "stream": "stdout",
       "text": [
        " \r",
        "0189   1.142156e+05   1.192322e+01   2.693236e+04"
       ]
      },
      {
       "output_type": "stream",
       "stream": "stdout",
       "text": [
        " \r",
        "0190   1.142146e+05   5.961611e+00   2.168235e+04"
       ]
      },
      {
       "output_type": "stream",
       "stream": "stdout",
       "text": [
        " \r",
        "0191   1.142137e+05   2.980806e+00   3.267380e+03"
       ]
      },
      {
       "output_type": "stream",
       "stream": "stdout",
       "text": [
        " \r",
        "0192   1.142136e+05   1.490403e+00   2.063035e+03"
       ]
      },
      {
       "output_type": "stream",
       "stream": "stdout",
       "text": [
        " \r",
        "0193   1.142134e+05   7.452014e-01   7.722502e+02"
       ]
      },
      {
       "output_type": "stream",
       "stream": "stdout",
       "text": [
        " \r",
        "0194   1.142134e+05   3.726007e-01   3.888977e+02"
       ]
      },
      {
       "output_type": "stream",
       "stream": "stdout",
       "text": [
        " \r",
        "0195   1.142132e+05   1.863003e-01   4.316765e+02"
       ]
      },
      {
       "output_type": "stream",
       "stream": "stdout",
       "text": [
        " \r",
        "0196   1.142132e+05   9.315017e-02   7.419131e+02"
       ]
      },
      {
       "output_type": "stream",
       "stream": "stdout",
       "text": [
        " \r",
        "0197   1.142128e+05   4.657509e-02   1.104505e+03"
       ]
      },
      {
       "output_type": "stream",
       "stream": "stdout",
       "text": [
        " \r",
        "0198   1.142124e+05   2.328754e-02   1.056741e+03"
       ]
      },
      {
       "output_type": "stream",
       "stream": "stdout",
       "text": [
        " \r",
        "0199   1.142117e+05   1.164377e-02   5.259243e+03"
       ]
      },
      {
       "output_type": "stream",
       "stream": "stdout",
       "text": [
        " \r",
        "0200   1.142113e+05   5.821886e-03   5.318702e+02"
       ]
      },
      {
       "output_type": "stream",
       "stream": "stdout",
       "text": [
        " \r",
        "0201   1.142107e+05   2.910943e-03   9.461626e+03"
       ]
      },
      {
       "output_type": "stream",
       "stream": "stdout",
       "text": [
        " \r",
        "0202   1.142106e+05   1.455471e-03   1.973676e+03"
       ]
      },
      {
       "output_type": "stream",
       "stream": "stdout",
       "text": [
        " \r",
        "0203   1.142104e+05   7.277357e-04   1.545335e+03"
       ]
      },
      {
       "output_type": "stream",
       "stream": "stdout",
       "text": [
        " \r",
        "0204   1.142104e+05   3.638679e-04   4.110074e+02"
       ]
      },
      {
       "output_type": "stream",
       "stream": "stdout",
       "text": [
        " \r",
        "0205   1.142103e+05   1.819339e-04   5.475621e+02"
       ]
      },
      {
       "output_type": "stream",
       "stream": "stdout",
       "text": [
        " \r",
        "0206   1.142102e+05   9.096697e-05   3.047468e+02"
       ]
      },
      {
       "output_type": "stream",
       "stream": "stdout",
       "text": [
        " \r",
        "0207   1.142098e+05   4.548348e-05   1.886879e+03"
       ]
      },
      {
       "output_type": "stream",
       "stream": "stdout",
       "text": [
        " \r",
        "0208   1.142098e+05   4.548348e-05   1.660195e+03"
       ]
      },
      {
       "output_type": "stream",
       "stream": "stdout",
       "text": [
        " \r",
        "0209   1.142094e+05   2.274174e-05   8.144527e+02"
       ]
      },
      {
       "output_type": "stream",
       "stream": "stdout",
       "text": [
        " \r",
        "0210   1.142093e+05   1.137087e-05   2.393539e+03"
       ]
      },
      {
       "output_type": "stream",
       "stream": "stdout",
       "text": [
        " \r",
        "0211   1.142092e+05   5.685435e-06   2.909730e+02"
       ]
      },
      {
       "output_type": "stream",
       "stream": "stdout",
       "text": [
        " \r",
        "0212   1.142092e+05   2.842718e-06   2.452773e+02"
       ]
      },
      {
       "output_type": "stream",
       "stream": "stdout",
       "text": [
        " \r",
        "0213   1.142091e+05   1.421359e-06   5.446250e+02"
       ]
      },
      {
       "output_type": "stream",
       "stream": "stdout",
       "text": [
        " \r",
        "0214   1.142091e+05   1.421359e-06   7.951166e+02"
       ]
      },
      {
       "output_type": "stream",
       "stream": "stdout",
       "text": [
        " \r",
        "0215   1.142080e+05   7.106794e-07   8.170659e+02"
       ]
      },
      {
       "output_type": "stream",
       "stream": "stdout",
       "text": [
        " \r",
        "0216   1.142074e+05   3.553397e-07   1.993707e+04"
       ]
      },
      {
       "output_type": "stream",
       "stream": "stdout",
       "text": [
        " \r",
        "0217   1.142072e+05   1.776699e-07   5.288247e+03"
       ]
      },
      {
       "output_type": "stream",
       "stream": "stdout",
       "text": [
        " \r",
        "0218   1.142070e+05   8.883493e-08   1.323677e+03"
       ]
      },
      {
       "output_type": "stream",
       "stream": "stdout",
       "text": [
        " \r",
        "0219   1.142069e+05   4.441746e-08   5.614614e+02"
       ]
      },
      {
       "output_type": "stream",
       "stream": "stdout",
       "text": [
        " \r",
        "0220   1.142065e+05   2.220873e-08   2.000100e+03"
       ]
      },
      {
       "output_type": "stream",
       "stream": "stdout",
       "text": [
        " \r",
        "0221   1.142065e+05   1.110437e-08   2.510404e+02"
       ]
      },
      {
       "output_type": "stream",
       "stream": "stdout",
       "text": [
        " \r",
        "0222   1.142063e+05   5.552183e-09   1.332945e+03"
       ]
      },
      {
       "output_type": "stream",
       "stream": "stdout",
       "text": [
        " \r",
        "0223   1.142063e+05   2.776092e-09   2.965781e+02"
       ]
      },
      {
       "output_type": "stream",
       "stream": "stdout",
       "text": [
        " \r",
        "0224   1.142062e+05   1.388046e-09   3.056743e+02"
       ]
      },
      {
       "output_type": "stream",
       "stream": "stdout",
       "text": [
        " \r",
        "0225   1.142061e+05   6.940229e-10   8.632476e+02"
       ]
      },
      {
       "output_type": "stream",
       "stream": "stdout",
       "text": [
        " \r",
        "0226   1.142058e+05   3.470114e-10   3.992041e+02"
       ]
      },
      {
       "output_type": "stream",
       "stream": "stdout",
       "text": [
        " \r",
        "0227   1.142057e+05   3.470114e-10   1.680048e+04"
       ]
      },
      {
       "output_type": "stream",
       "stream": "stdout",
       "text": [
        " \r",
        "0228   1.142053e+05   1.735057e-10   1.143922e+04"
       ]
      },
      {
       "output_type": "stream",
       "stream": "stdout",
       "text": [
        " \r",
        "0229   1.142048e+05   8.675286e-11   4.122275e+02"
       ]
      },
      {
       "output_type": "stream",
       "stream": "stdout",
       "text": [
        " \r",
        "0230   1.142047e+05   4.337643e-11   1.649567e+03"
       ]
      },
      {
       "output_type": "stream",
       "stream": "stdout",
       "text": [
        " \r",
        "0231   1.142021e+05   2.168821e-11   2.984372e+02"
       ]
      },
      {
       "output_type": "stream",
       "stream": "stdout",
       "text": [
        " \r",
        "0232   1.142017e+05   1.084411e-11   7.259545e+03"
       ]
      },
      {
       "output_type": "stream",
       "stream": "stdout",
       "text": [
        " \r",
        "0233   1.141887e+05   5.422054e-12   4.038840e+03"
       ]
      },
      {
       "output_type": "stream",
       "stream": "stdout",
       "text": [
        " \r",
        "0234   1.141870e+05   2.711027e-12   1.855408e+04"
       ]
      },
      {
       "output_type": "stream",
       "stream": "stdout",
       "text": [
        " \r",
        "0235   1.141706e+05   1.355513e-12   1.319339e+04"
       ]
      },
      {
       "output_type": "stream",
       "stream": "stdout",
       "text": [
        " \r",
        "0236   1.141667e+05   6.777567e-13   9.992313e+03"
       ]
      },
      {
       "output_type": "stream",
       "stream": "stdout",
       "text": [
        " \r",
        "0237   1.141667e+05   6.777567e-13   1.941273e+05"
       ]
      },
      {
       "output_type": "stream",
       "stream": "stdout",
       "text": [
        " \r",
        "0238   1.141667e+05   2.711027e-12   1.941273e+05"
       ]
      },
      {
       "output_type": "stream",
       "stream": "stdout",
       "text": [
        " \r",
        "0239   1.141667e+05   1.084411e-11   1.941273e+05"
       ]
      },
      {
       "output_type": "stream",
       "stream": "stdout",
       "text": [
        " \r",
        "0240   1.141667e+05   4.337643e-11   1.941273e+05"
       ]
      },
      {
       "output_type": "stream",
       "stream": "stdout",
       "text": [
        " \r",
        "0241   1.141667e+05   1.735057e-10   1.941273e+05"
       ]
      },
      {
       "output_type": "stream",
       "stream": "stdout",
       "text": [
        " \r",
        "0242   1.141667e+05   6.940229e-10   1.941273e+05"
       ]
      },
      {
       "output_type": "stream",
       "stream": "stdout",
       "text": [
        " \r",
        "0243   1.141667e+05   2.776092e-09   1.941273e+05"
       ]
      },
      {
       "output_type": "stream",
       "stream": "stdout",
       "text": [
        " \r",
        "0244   1.141667e+05   1.110437e-08   1.941273e+05"
       ]
      },
      {
       "output_type": "stream",
       "stream": "stdout",
       "text": [
        " \r",
        "0245   1.141667e+05   4.441746e-08   1.941273e+05"
       ]
      },
      {
       "output_type": "stream",
       "stream": "stdout",
       "text": [
        " \r",
        "0246   1.141667e+05   1.776699e-07   1.941273e+05"
       ]
      },
      {
       "output_type": "stream",
       "stream": "stdout",
       "text": [
        " \r",
        "0247   1.141667e+05   7.106794e-07   1.941273e+05"
       ]
      },
      {
       "output_type": "stream",
       "stream": "stdout",
       "text": [
        " \r",
        "0248   1.141667e+05   2.842718e-06   1.941273e+05"
       ]
      },
      {
       "output_type": "stream",
       "stream": "stdout",
       "text": [
        " \r",
        "0249   1.141667e+05   1.137087e-05   1.941273e+05"
       ]
      },
      {
       "output_type": "stream",
       "stream": "stdout",
       "text": [
        " \r",
        "0250   1.141667e+05   4.548348e-05   1.941273e+05"
       ]
      },
      {
       "output_type": "stream",
       "stream": "stdout",
       "text": [
        " \r",
        "0251   1.141667e+05   1.819339e-04   1.941273e+05"
       ]
      },
      {
       "output_type": "stream",
       "stream": "stdout",
       "text": [
        " \r",
        "0252   1.141667e+05   7.277357e-04   1.941273e+05"
       ]
      },
      {
       "output_type": "stream",
       "stream": "stdout",
       "text": [
        " \r",
        "0253   1.141667e+05   2.910943e-03   1.941273e+05"
       ]
      },
      {
       "output_type": "stream",
       "stream": "stdout",
       "text": [
        " \r",
        "0254   1.141667e+05   1.164377e-02   1.941273e+05"
       ]
      },
      {
       "output_type": "stream",
       "stream": "stdout",
       "text": [
        " \r",
        "0255   1.141667e+05   4.657509e-02   1.941273e+05"
       ]
      },
      {
       "output_type": "stream",
       "stream": "stdout",
       "text": [
        " \r",
        "0256   1.141667e+05   1.863003e-01   1.941273e+05"
       ]
      },
      {
       "output_type": "stream",
       "stream": "stdout",
       "text": [
        " \r",
        "0257   1.141667e+05   7.452014e-01   1.941273e+05"
       ]
      },
      {
       "output_type": "stream",
       "stream": "stdout",
       "text": [
        " \r",
        "0258   1.141448e+05   2.980806e+00   1.941273e+05"
       ]
      },
      {
       "output_type": "stream",
       "stream": "stdout",
       "text": [
        " \r",
        "0259   1.141188e+05   1.490403e+00   5.995787e+05"
       ]
      },
      {
       "output_type": "stream",
       "stream": "stdout",
       "text": [
        " \r",
        "0260   1.141188e+05   7.452014e-01   1.317485e+04"
       ]
      },
      {
       "output_type": "stream",
       "stream": "stdout",
       "text": [
        " \r",
        "0261   1.141178e+05   3.726007e-01   1.143018e+04"
       ]
      },
      {
       "output_type": "stream",
       "stream": "stdout",
       "text": [
        " \r",
        "0262   1.141178e+05   2.708421e+00   1.627890e+04"
       ]
      },
      {
       "output_type": "stream",
       "stream": "stdout",
       "text": [
        " \r",
        "0263   1.141172e+05   1.083369e+01   1.627890e+04"
       ]
      },
      {
       "output_type": "stream",
       "stream": "stdout",
       "text": [
        " \r",
        "0264   1.141163e+05   5.416843e+00   1.499867e+04"
       ]
      },
      {
       "output_type": "stream",
       "stream": "stdout",
       "text": [
        " \r",
        "0265   1.141121e+05   2.708421e+00   1.468566e+04"
       ]
      },
      {
       "output_type": "stream",
       "stream": "stdout",
       "text": [
        " \r",
        "0266   1.141118e+05   1.354211e+00   5.728641e+02"
       ]
      },
      {
       "output_type": "stream",
       "stream": "stdout",
       "text": [
        " \r",
        "0267   1.141103e+05   6.771053e-01   8.341210e+03"
       ]
      },
      {
       "output_type": "stream",
       "stream": "stdout",
       "text": [
        " \r",
        "0268   1.141097e+05   3.385527e-01   2.074287e+03"
       ]
      },
      {
       "output_type": "stream",
       "stream": "stdout",
       "text": [
        " \r",
        "0269   1.141087e+05   1.692763e-01   1.093947e+04"
       ]
      },
      {
       "output_type": "stream",
       "stream": "stdout",
       "text": [
        " \r",
        "0270   1.141070e+05   8.463817e-02   2.399848e+03"
       ]
      },
      {
       "output_type": "stream",
       "stream": "stdout",
       "text": [
        " \r",
        "0271   1.141063e+05   4.231908e-02   1.903148e+04"
       ]
      },
      {
       "output_type": "stream",
       "stream": "stdout",
       "text": [
        " \r",
        "0272   1.141053e+05   2.115954e-02   1.938624e+03"
       ]
      },
      {
       "output_type": "stream",
       "stream": "stdout",
       "text": [
        " \r",
        "0273   1.141049e+05   1.057977e-02   6.745861e+03"
       ]
      },
      {
       "output_type": "stream",
       "stream": "stdout",
       "text": [
        " \r",
        "0274   1.141047e+05   5.289885e-03   1.185361e+03"
       ]
      },
      {
       "output_type": "stream",
       "stream": "stdout",
       "text": [
        " \r",
        "0275   1.141042e+05   2.644943e-03   7.838528e+02"
       ]
      },
      {
       "output_type": "stream",
       "stream": "stdout",
       "text": [
        " \r",
        "0276   1.141038e+05   1.322471e-03   7.664661e+03"
       ]
      },
      {
       "output_type": "stream",
       "stream": "stdout",
       "text": [
        " \n",
        "\r"
       ]
      },
      {
       "output_type": "stream",
       "stream": "stdout",
       "text": [
        "0277   1.141037e+05   6.612357e-04   3.823547e+02"
       ]
      },
      {
       "output_type": "stream",
       "stream": "stdout",
       "text": [
        " \r",
        "0278   1.141036e+05   3.306178e-04   1.547781e+03"
       ]
      },
      {
       "output_type": "stream",
       "stream": "stdout",
       "text": [
        " \r",
        "0279   1.141034e+05   1.653089e-04   2.434644e+02"
       ]
      },
      {
       "output_type": "stream",
       "stream": "stdout",
       "text": [
        " \r",
        "0280   1.141032e+05   8.265446e-05   1.750540e+03"
       ]
      },
      {
       "output_type": "stream",
       "stream": "stdout",
       "text": [
        " \r",
        "0281   1.141028e+05   4.132723e-05   1.233282e+03"
       ]
      },
      {
       "output_type": "stream",
       "stream": "stdout",
       "text": [
        " \r",
        "0282   1.141024e+05   2.066362e-05   2.031618e+03"
       ]
      },
      {
       "output_type": "stream",
       "stream": "stdout",
       "text": [
        " \r",
        "0283   1.141021e+05   2.066362e-05   1.605221e+04"
       ]
      },
      {
       "output_type": "stream",
       "stream": "stdout",
       "text": [
        " \r",
        "0284   1.141014e+05   2.066362e-05   3.563886e+04"
       ]
      },
      {
       "output_type": "stream",
       "stream": "stdout",
       "text": [
        " \r",
        "0285   1.141007e+05   1.033181e-05   4.877645e+03"
       ]
      },
      {
       "output_type": "stream",
       "stream": "stdout",
       "text": [
        " \r",
        "0286   1.141007e+05   1.033181e-05   4.833459e+03"
       ]
      },
      {
       "output_type": "stream",
       "stream": "stdout",
       "text": [
        " \r",
        "0287   1.141007e+05   5.165904e-06   2.441186e+03"
       ]
      },
      {
       "output_type": "stream",
       "stream": "stdout",
       "text": [
        " \r",
        "0288   1.141007e+05   2.066362e-05   2.441186e+03"
       ]
      },
      {
       "output_type": "stream",
       "stream": "stdout",
       "text": [
        " \r",
        "0289   1.141007e+05   8.265446e-05   2.441186e+03"
       ]
      },
      {
       "output_type": "stream",
       "stream": "stdout",
       "text": [
        " \r",
        "0290   1.141007e+05   3.306178e-04   2.441186e+03"
       ]
      },
      {
       "output_type": "stream",
       "stream": "stdout",
       "text": [
        " \r",
        "0291   1.141007e+05   1.322471e-03   2.441186e+03"
       ]
      },
      {
       "output_type": "stream",
       "stream": "stdout",
       "text": [
        " \r",
        "0292   1.141007e+05   5.289885e-03   2.441186e+03"
       ]
      },
      {
       "output_type": "stream",
       "stream": "stdout",
       "text": [
        " \r",
        "0293   1.141007e+05   2.115954e-02   2.441186e+03"
       ]
      },
      {
       "output_type": "stream",
       "stream": "stdout",
       "text": [
        " \r",
        "0294   1.141007e+05   8.463817e-02   2.441186e+03"
       ]
      },
      {
       "output_type": "stream",
       "stream": "stdout",
       "text": [
        " \r",
        "0295   1.141007e+05   3.385527e-01   2.441186e+03"
       ]
      },
      {
       "output_type": "stream",
       "stream": "stdout",
       "text": [
        " \r",
        "0296   1.141007e+05   1.354211e+00   2.441186e+03"
       ]
      },
      {
       "output_type": "stream",
       "stream": "stdout",
       "text": [
        " \r",
        "0297   1.141007e+05   5.416843e+00   2.441186e+03"
       ]
      },
      {
       "output_type": "stream",
       "stream": "stdout",
       "text": [
        " \r",
        "0298   1.141005e+05   2.166737e+01   2.441186e+03"
       ]
      },
      {
       "output_type": "stream",
       "stream": "stdout",
       "text": [
        " \r",
        "0299   1.141005e+05   2.166737e+01   3.661892e+03"
       ]
      },
      {
       "output_type": "stream",
       "stream": "stdout",
       "text": [
        " \r",
        "0300   1.141003e+05   1.083369e+01   3.432667e+03"
       ]
      },
      {
       "output_type": "stream",
       "stream": "stdout",
       "text": [
        " \r",
        "0301   1.140997e+05   5.416843e+00   1.147158e+03"
       ]
      },
      {
       "output_type": "stream",
       "stream": "stdout",
       "text": [
        " \r",
        "0302   1.140996e+05   2.708421e+00   4.649395e+02"
       ]
      },
      {
       "output_type": "stream",
       "stream": "stdout",
       "text": [
        " \r",
        "0303   1.140992e+05   1.354211e+00   6.393409e+02"
       ]
      },
      {
       "output_type": "stream",
       "stream": "stdout",
       "text": [
        " \r",
        "0304   1.140990e+05   6.771053e-01   3.491372e+02"
       ]
      },
      {
       "output_type": "stream",
       "stream": "stdout",
       "text": [
        " \r",
        "0305   1.140987e+05   3.385527e-01   2.450535e+03"
       ]
      },
      {
       "output_type": "stream",
       "stream": "stdout",
       "text": [
        " \r",
        "0306   1.140986e+05   1.692763e-01   1.458014e+02"
       ]
      },
      {
       "output_type": "stream",
       "stream": "stdout",
       "text": [
        " \r",
        "0307   1.140985e+05   8.463817e-02   9.987392e+02"
       ]
      },
      {
       "output_type": "stream",
       "stream": "stdout",
       "text": [
        " \r",
        "0308   1.140984e+05   4.231908e-02   3.358230e+02"
       ]
      },
      {
       "output_type": "stream",
       "stream": "stdout",
       "text": [
        " \r",
        "0309   1.140981e+05   2.115954e-02   1.955788e+03"
       ]
      },
      {
       "output_type": "stream",
       "stream": "stdout",
       "text": [
        " \r",
        "0310   1.140978e+05   1.057977e-02   2.409765e+02"
       ]
      },
      {
       "output_type": "stream",
       "stream": "stdout",
       "text": [
        " \r",
        "0311   1.140975e+05   5.289885e-03   9.258197e+03"
       ]
      },
      {
       "output_type": "stream",
       "stream": "stdout",
       "text": [
        " \r",
        "0312   1.140973e+05   2.644943e-03   3.753402e+03"
       ]
      },
      {
       "output_type": "stream",
       "stream": "stdout",
       "text": [
        " \r",
        "0313   1.140971e+05   1.322471e-03   2.621921e+02"
       ]
      },
      {
       "output_type": "stream",
       "stream": "stdout",
       "text": [
        " \r",
        "0314   1.140971e+05   6.612357e-04   7.079386e+02"
       ]
      },
      {
       "output_type": "stream",
       "stream": "stdout",
       "text": [
        " \r",
        "0315   1.140932e+05   3.306178e-04   1.349627e+02"
       ]
      },
      {
       "output_type": "stream",
       "stream": "stdout",
       "text": [
        " \r",
        "0316   1.140931e+05   1.653089e-04   2.426492e+02"
       ]
      },
      {
       "output_type": "stream",
       "stream": "stdout",
       "text": [
        " \r",
        "0317   1.140919e+05   8.265446e-05   2.169574e+03"
       ]
      },
      {
       "output_type": "stream",
       "stream": "stdout",
       "text": [
        " \r",
        "0318   1.140919e+05   4.132723e-05   2.707922e+02"
       ]
      },
      {
       "output_type": "stream",
       "stream": "stdout",
       "text": [
        " \r",
        "0319   1.140917e+05   2.066362e-05   3.182873e+02"
       ]
      },
      {
       "output_type": "stream",
       "stream": "stdout",
       "text": [
        " \r",
        "0320   1.140917e+05   2.066362e-05   1.776614e+02"
       ]
      },
      {
       "output_type": "stream",
       "stream": "stdout",
       "text": [
        " \r",
        "0321   1.140915e+05   1.033181e-05   1.845555e+02"
       ]
      },
      {
       "output_type": "stream",
       "stream": "stdout",
       "text": [
        " \r",
        "0322   1.140915e+05   1.033181e-05   1.159637e+03"
       ]
      },
      {
       "output_type": "stream",
       "stream": "stdout",
       "text": [
        " \r",
        "0323   1.140912e+05   5.165904e-06   7.263329e+02"
       ]
      },
      {
       "output_type": "stream",
       "stream": "stdout",
       "text": [
        " \r",
        "0324   1.140910e+05   2.582952e-06   3.575040e+03"
       ]
      },
      {
       "output_type": "stream",
       "stream": "stdout",
       "text": [
        " \r",
        "0325   1.140909e+05   1.291476e-06   1.596280e+02"
       ]
      },
      {
       "output_type": "stream",
       "stream": "stdout",
       "text": [
        " \r",
        "0326   1.140909e+05   6.457380e-07   7.464629e+02"
       ]
      },
      {
       "output_type": "stream",
       "stream": "stdout",
       "text": [
        " \r",
        "0327   1.140901e+05   3.228690e-07   2.593686e+02"
       ]
      },
      {
       "output_type": "stream",
       "stream": "stdout",
       "text": [
        " \r",
        "0328   1.140899e+05   3.228690e-07   9.711604e+03"
       ]
      },
      {
       "output_type": "stream",
       "stream": "stdout",
       "text": [
        " \r",
        "0329   1.140888e+05   1.614345e-07   3.581351e+03"
       ]
      },
      {
       "output_type": "stream",
       "stream": "stdout",
       "text": [
        " \r",
        "0330   1.140884e+05   8.071725e-08   8.378323e+03"
       ]
      },
      {
       "output_type": "stream",
       "stream": "stdout",
       "text": [
        " \r",
        "0331   1.140883e+05   4.035862e-08   1.988451e+02"
       ]
      },
      {
       "output_type": "stream",
       "stream": "stdout",
       "text": [
        " \r",
        "0332   1.140882e+05   2.017931e-08   1.044373e+03"
       ]
      },
      {
       "output_type": "stream",
       "stream": "stdout",
       "text": [
        " \r",
        "0333   1.140879e+05   1.008966e-08   1.205563e+02"
       ]
      },
      {
       "output_type": "stream",
       "stream": "stdout",
       "text": [
        " \r",
        "0334   1.140877e+05   5.044828e-09   3.920262e+03"
       ]
      },
      {
       "output_type": "stream",
       "stream": "stdout",
       "text": [
        " \r",
        "0335   1.140874e+05   2.522414e-09   8.329457e+02"
       ]
      },
      {
       "output_type": "stream",
       "stream": "stdout",
       "text": [
        " \r",
        "0336   1.140873e+05   1.261207e-09   2.446844e+03"
       ]
      },
      {
       "output_type": "stream",
       "stream": "stdout",
       "text": [
        " \r",
        "0337   1.140872e+05   6.306035e-10   1.254438e+02"
       ]
      },
      {
       "output_type": "stream",
       "stream": "stdout",
       "text": [
        " \r",
        "0338   1.140872e+05   3.153017e-10   4.798323e+02"
       ]
      },
      {
       "output_type": "stream",
       "stream": "stdout",
       "text": [
        " \r",
        "0339   1.140871e+05   1.576509e-10   1.716715e+02"
       ]
      },
      {
       "output_type": "stream",
       "stream": "stdout",
       "text": [
        " \r",
        "0340   1.140871e+05   7.882544e-11   4.595722e+02"
       ]
      },
      {
       "output_type": "stream",
       "stream": "stdout",
       "text": [
        " \r",
        "0341   1.140870e+05   3.941272e-11   4.716792e+02"
       ]
      },
      {
       "output_type": "stream",
       "stream": "stdout",
       "text": [
        " \r",
        "0342   1.140870e+05   1.576509e-10   8.622197e+02"
       ]
      },
      {
       "output_type": "stream",
       "stream": "stdout",
       "text": [
        " \r",
        "0343   1.140867e+05   7.882544e-11   7.414869e+02"
       ]
      },
      {
       "output_type": "stream",
       "stream": "stdout",
       "text": [
        " \r",
        "0344   1.140866e+05   3.941272e-11   5.098014e+03"
       ]
      },
      {
       "output_type": "stream",
       "stream": "stdout",
       "text": [
        " \r",
        "0345   1.140866e+05   1.970636e-11   8.062089e+02"
       ]
      },
      {
       "output_type": "stream",
       "stream": "stdout",
       "text": [
        " \r",
        "0346   1.140864e+05   9.853180e-12   1.640577e+02"
       ]
      },
      {
       "output_type": "stream",
       "stream": "stdout",
       "text": [
        " \r",
        "0347   1.140863e+05   4.926590e-12   1.504668e+03"
       ]
      },
      {
       "output_type": "stream",
       "stream": "stdout",
       "text": [
        " \r",
        "0348   1.140861e+05   2.463295e-12   7.839853e+02"
       ]
      },
      {
       "output_type": "stream",
       "stream": "stdout",
       "text": [
        " \r",
        "0349   1.140843e+05   1.231647e-12   8.591061e+02"
       ]
      },
      {
       "output_type": "stream",
       "stream": "stdout",
       "text": [
        " \r",
        "0350   1.140835e+05   1.231647e-12   7.458152e+04"
       ]
      },
      {
       "output_type": "stream",
       "stream": "stdout",
       "text": [
        " \r",
        "0351   1.140818e+05   6.158237e-13   5.425964e+04"
       ]
      },
      {
       "output_type": "stream",
       "stream": "stdout",
       "text": [
        " \r",
        "0352   1.140799e+05   3.079119e-13   1.880852e+03"
       ]
      },
      {
       "output_type": "stream",
       "stream": "stdout",
       "text": [
        " \r",
        "0353   1.140798e+05   1.539559e-13   2.846613e+03"
       ]
      },
      {
       "output_type": "stream",
       "stream": "stdout",
       "text": [
        " \r",
        "0354   1.140783e+05   7.697797e-14   3.768843e+02"
       ]
      },
      {
       "output_type": "stream",
       "stream": "stdout",
       "text": [
        " \r",
        "0355   1.140782e+05   3.848898e-14   1.135254e+03"
       ]
      },
      {
       "output_type": "stream",
       "stream": "stdout",
       "text": [
        " \r",
        "0356   1.140763e+05   1.924449e-14   9.082882e+02"
       ]
      },
      {
       "output_type": "stream",
       "stream": "stdout",
       "text": [
        " \r",
        "0357   1.140761e+05   9.622246e-15   1.719815e+03"
       ]
      },
      {
       "output_type": "stream",
       "stream": "stdout",
       "text": [
        " \r",
        "0358   1.140741e+05   4.811123e-15   3.363724e+03"
       ]
      },
      {
       "output_type": "stream",
       "stream": "stdout",
       "text": [
        " \r",
        "0359   1.140740e+05   2.405561e-15   3.961890e+02"
       ]
      },
      {
       "output_type": "stream",
       "stream": "stdout",
       "text": [
        " \r",
        "0360   1.140737e+05   1.202781e-15   6.644260e+02"
       ]
      },
      {
       "output_type": "stream",
       "stream": "stdout",
       "text": [
        " \r",
        "0361   1.140737e+05   1.202781e-15   3.780213e+02"
       ]
      },
      {
       "output_type": "stream",
       "stream": "stdout",
       "text": [
        " \r",
        "0362   1.140736e+05   1.000000e-15   2.219328e+02"
       ]
      },
      {
       "output_type": "stream",
       "stream": "stdout",
       "text": [
        " \r",
        "0363   1.140736e+05   1.000000e-15   4.925996e+02"
       ]
      },
      {
       "output_type": "stream",
       "stream": "stdout",
       "text": [
        " \r",
        "0364   1.140727e+05   1.000000e-15   1.386495e+02"
       ]
      },
      {
       "output_type": "stream",
       "stream": "stdout",
       "text": [
        " \r",
        "0365   1.140726e+05   1.000000e-15   8.105636e+02"
       ]
      },
      {
       "output_type": "stream",
       "stream": "stdout",
       "text": [
        " \r",
        "0366   1.140721e+05   1.000000e-15   3.194931e+02"
       ]
      },
      {
       "output_type": "stream",
       "stream": "stdout",
       "text": [
        " \r",
        "0367   1.140720e+05   1.000000e-15   2.128044e+02"
       ]
      },
      {
       "output_type": "stream",
       "stream": "stdout",
       "text": [
        " \r",
        "0368   1.140698e+05   1.000000e-15   3.136382e+03"
       ]
      },
      {
       "output_type": "stream",
       "stream": "stdout",
       "text": [
        " \r",
        "0369   1.140662e+05   1.000000e-15   6.603356e+02"
       ]
      },
      {
       "output_type": "stream",
       "stream": "stdout",
       "text": [
        " \r",
        "0370   1.140658e+05   1.000000e-15   6.537224e+04"
       ]
      },
      {
       "output_type": "stream",
       "stream": "stdout",
       "text": [
        " \r",
        "0371   1.140621e+05   1.000000e-15   2.907086e+04"
       ]
      },
      {
       "output_type": "stream",
       "stream": "stdout",
       "text": [
        " \r",
        "0372   1.140620e+05   1.000000e-15   8.072490e+03"
       ]
      },
      {
       "output_type": "stream",
       "stream": "stdout",
       "text": [
        " \r",
        "0373   1.140592e+05   1.000000e-15   1.821829e+03"
       ]
      },
      {
       "output_type": "stream",
       "stream": "stdout",
       "text": [
        " \r",
        "0374   1.140581e+05   1.000000e-15   8.855531e+03"
       ]
      },
      {
       "output_type": "stream",
       "stream": "stdout",
       "text": [
        " \r",
        "0375   1.140532e+05   1.000000e-15   2.557741e+04"
       ]
      },
      {
       "output_type": "stream",
       "stream": "stdout",
       "text": [
        " \r",
        "0376   1.140529e+05   1.000000e-15   1.227086e+04"
       ]
      },
      {
       "output_type": "stream",
       "stream": "stdout",
       "text": [
        " \r",
        "0377   1.140495e+05   1.000000e-15   5.713702e+03"
       ]
      },
      {
       "output_type": "stream",
       "stream": "stdout",
       "text": [
        " \r",
        "0378   1.140495e+05   1.000000e-15   1.361301e+03"
       ]
      },
      {
       "output_type": "stream",
       "stream": "stdout",
       "text": [
        " \r",
        "0379   1.140488e+05   1.000000e-15   1.058907e+03"
       ]
      },
      {
       "output_type": "stream",
       "stream": "stdout",
       "text": [
        " \r",
        "0380   1.140488e+05   1.000000e-15   5.761607e+02"
       ]
      },
      {
       "output_type": "stream",
       "stream": "stdout",
       "text": [
        " \r",
        "0381   1.140484e+05   1.000000e-15   2.157796e+02"
       ]
      },
      {
       "output_type": "stream",
       "stream": "stdout",
       "text": [
        " \r",
        "0382   1.140484e+05   1.000000e-15   1.505870e+02"
       ]
      },
      {
       "output_type": "stream",
       "stream": "stdout",
       "text": [
        " \r",
        "0383   1.140482e+05   1.000000e-15   4.487180e+02"
       ]
      },
      {
       "output_type": "stream",
       "stream": "stdout",
       "text": [
        " \r",
        "0384   1.140475e+05   1.000000e-15   1.432092e+02"
       ]
      },
      {
       "output_type": "stream",
       "stream": "stdout",
       "text": [
        " \r",
        "0385   1.140474e+05   1.000000e-15   9.282976e+02"
       ]
      },
      {
       "output_type": "stream",
       "stream": "stdout",
       "text": [
        " \r",
        "0386   1.140465e+05   1.000000e-15   9.826010e+02"
       ]
      },
      {
       "output_type": "stream",
       "stream": "stdout",
       "text": [
        " \r",
        "0387   1.140454e+05   1.000000e-15   1.105431e+04"
       ]
      },
      {
       "output_type": "stream",
       "stream": "stdout",
       "text": [
        " \r",
        "0388   1.140454e+05   8.781954e+00   2.535729e+03"
       ]
      },
      {
       "output_type": "stream",
       "stream": "stdout",
       "text": [
        " \r",
        "0389   1.140445e+05   3.512782e+01   2.535729e+03"
       ]
      },
      {
       "output_type": "stream",
       "stream": "stdout",
       "text": [
        " \r",
        "0390   1.140438e+05   1.756391e+01   1.176565e+03"
       ]
      },
      {
       "output_type": "stream",
       "stream": "stdout",
       "text": [
        " \r",
        "0391   1.140405e+05   8.781954e+00   1.182977e+04"
       ]
      },
      {
       "output_type": "stream",
       "stream": "stdout",
       "text": [
        " \r",
        "0392   1.140387e+05   4.390977e+00   8.216216e+02"
       ]
      },
      {
       "output_type": "stream",
       "stream": "stdout",
       "text": [
        " \r",
        "0393   1.140361e+05   2.195488e+00   3.541613e+04"
       ]
      },
      {
       "output_type": "stream",
       "stream": "stdout",
       "text": [
        " \r",
        "0394   1.140361e+05   1.097744e+00   1.530538e+03"
       ]
      },
      {
       "output_type": "stream",
       "stream": "stdout",
       "text": [
        " \r",
        "0395   1.140361e+05   4.390977e+00   1.530538e+03"
       ]
      },
      {
       "output_type": "stream",
       "stream": "stdout",
       "text": [
        " \r",
        "0396   1.140343e+05   1.756391e+01   1.530538e+03"
       ]
      },
      {
       "output_type": "stream",
       "stream": "stdout",
       "text": [
        " \r",
        "0397   1.140338e+05   8.781954e+00   7.757086e+02"
       ]
      },
      {
       "output_type": "stream",
       "stream": "stdout",
       "text": [
        " \r",
        "0398   1.140314e+05   4.390977e+00   1.735559e+04"
       ]
      },
      {
       "output_type": "stream",
       "stream": "stdout",
       "text": [
        " \r",
        "0399   1.140311e+05   2.195488e+00   7.505699e+03"
       ]
      },
      {
       "output_type": "stream",
       "stream": "stdout",
       "text": [
        " \r",
        "0400   1.140303e+05   1.097744e+00   2.053109e+03"
       ]
      },
      {
       "output_type": "stream",
       "stream": "stdout",
       "text": [
        " \r",
        "0401   1.140303e+05   5.488721e-01   2.186074e+02"
       ]
      },
      {
       "output_type": "stream",
       "stream": "stdout",
       "text": [
        " \r",
        "0402   1.140301e+05   2.744361e-01   4.033102e+02"
       ]
      },
      {
       "output_type": "stream",
       "stream": "stdout",
       "text": [
        " \r",
        "0403   1.140299e+05   1.372180e-01   2.841472e+02"
       ]
      },
      {
       "output_type": "stream",
       "stream": "stdout",
       "text": [
        " \r",
        "0404   1.140292e+05   6.860901e-02   4.435590e+03"
       ]
      },
      {
       "output_type": "stream",
       "stream": "stdout",
       "text": [
        " \r",
        "0405   1.140289e+05   3.430451e-02   4.948595e+02"
       ]
      },
      {
       "output_type": "stream",
       "stream": "stdout",
       "text": [
        " \r",
        "0406   1.140287e+05   1.715225e-02   4.730727e+03"
       ]
      },
      {
       "output_type": "stream",
       "stream": "stdout",
       "text": [
        " \r",
        "0407   1.140286e+05   8.576127e-03   2.075672e+02"
       ]
      },
      {
       "output_type": "stream",
       "stream": "stdout",
       "text": [
        " \r",
        "0408   1.140286e+05   4.288063e-03   3.728089e+02"
       ]
      },
      {
       "output_type": "stream",
       "stream": "stdout",
       "text": [
        " \r",
        "0409   1.140286e+05   2.144032e-03   1.585068e+02"
       ]
      },
      {
       "output_type": "stream",
       "stream": "stdout",
       "text": [
        " \r",
        "0410   1.140285e+05   1.072016e-03   4.012127e+02"
       ]
      },
      {
       "output_type": "stream",
       "stream": "stdout",
       "text": [
        " \r",
        "0411   1.140283e+05   5.360079e-04   2.629306e+02"
       ]
      },
      {
       "output_type": "stream",
       "stream": "stdout",
       "text": [
        " \r",
        "0412   1.140278e+05   2.680040e-04   4.757038e+03"
       ]
      },
      {
       "output_type": "stream",
       "stream": "stdout",
       "text": [
        " \r",
        "0413   1.140247e+05   1.340020e-04   1.725053e+03"
       ]
      },
      {
       "output_type": "stream",
       "stream": "stdout",
       "text": [
        " \r",
        "0414   1.140237e+05   6.700099e-05   1.399136e+04"
       ]
      },
      {
       "output_type": "stream",
       "stream": "stdout",
       "text": [
        " \r",
        "0415   1.140237e+05   3.350050e-05   4.667624e+03"
       ]
      },
      {
       "output_type": "stream",
       "stream": "stdout",
       "text": [
        " \r",
        "0416   1.140237e+05   1.340020e-04   4.667624e+03"
       ]
      },
      {
       "output_type": "stream",
       "stream": "stdout",
       "text": [
        " \r",
        "0417   1.140237e+05   5.360079e-04   4.667624e+03"
       ]
      },
      {
       "output_type": "stream",
       "stream": "stdout",
       "text": [
        " \r",
        "0418   1.140237e+05   2.144032e-03   4.667624e+03"
       ]
      },
      {
       "output_type": "stream",
       "stream": "stdout",
       "text": [
        " \r",
        "0419   1.140237e+05   8.576127e-03   4.667624e+03"
       ]
      },
      {
       "output_type": "stream",
       "stream": "stdout",
       "text": [
        " \r",
        "0420   1.140237e+05   3.430451e-02   4.667624e+03"
       ]
      },
      {
       "output_type": "stream",
       "stream": "stdout",
       "text": [
        " \r",
        "0421   1.140237e+05   1.372180e-01   4.667624e+03"
       ]
      },
      {
       "output_type": "stream",
       "stream": "stdout",
       "text": [
        " \r",
        "0422   1.140237e+05   5.488721e-01   4.667624e+03"
       ]
      },
      {
       "output_type": "stream",
       "stream": "stdout",
       "text": [
        " \r",
        "0423   1.140231e+05   2.195488e+00   4.667624e+03"
       ]
      },
      {
       "output_type": "stream",
       "stream": "stdout",
       "text": [
        " \r",
        "0424   1.140229e+05   2.195488e+00   5.599200e+03"
       ]
      },
      {
       "output_type": "stream",
       "stream": "stdout",
       "text": [
        " \r",
        "0425   1.140188e+05   1.097744e+00   2.622091e+03"
       ]
      },
      {
       "output_type": "stream",
       "stream": "stdout",
       "text": [
        " \r",
        "0426   1.140184e+05   5.488721e-01   2.404173e+03"
       ]
      },
      {
       "output_type": "stream",
       "stream": "stdout",
       "text": [
        " \r",
        "0427   1.140174e+05   2.744361e-01   1.019924e+04"
       ]
      },
      {
       "output_type": "stream",
       "stream": "stdout",
       "text": [
        " \r",
        "0428   1.140172e+05   1.372180e-01   6.336481e+02"
       ]
      },
      {
       "output_type": "stream",
       "stream": "stdout",
       "text": [
        " \r",
        "0429   1.140169e+05   6.860901e-02   2.896839e+03"
       ]
      },
      {
       "output_type": "stream",
       "stream": "stdout",
       "text": [
        " \r",
        "0430   1.140169e+05   3.430451e-02   4.639080e+02"
       ]
      },
      {
       "output_type": "stream",
       "stream": "stdout",
       "text": [
        " \r",
        "0431   1.140168e+05   1.715225e-02   2.796551e+02"
       ]
      },
      {
       "output_type": "stream",
       "stream": "stdout",
       "text": [
        " \r",
        "0432   1.140168e+05   8.576127e-03   4.284729e+02"
       ]
      },
      {
       "output_type": "stream",
       "stream": "stdout",
       "text": [
        " \r",
        "0433   1.140168e+05   4.288063e-03   2.558843e+02"
       ]
      },
      {
       "output_type": "stream",
       "stream": "stdout",
       "text": [
        " \r",
        "0434   1.140167e+05   2.144032e-03   5.257307e+02"
       ]
      },
      {
       "output_type": "stream",
       "stream": "stdout",
       "text": [
        " \r",
        "0435   1.140165e+05   1.072016e-03   7.287367e+02"
       ]
      },
      {
       "output_type": "stream",
       "stream": "stdout",
       "text": [
        " \r",
        "0436   1.140163e+05   5.360079e-04   1.044461e+03"
       ]
      },
      {
       "output_type": "stream",
       "stream": "stdout",
       "text": [
        " \r",
        "0437   1.140161e+05   2.680040e-04   3.037591e+03"
       ]
      },
      {
       "output_type": "stream",
       "stream": "stdout",
       "text": [
        " \r",
        "0438   1.140160e+05   2.680040e-04   7.201572e+03"
       ]
      },
      {
       "output_type": "stream",
       "stream": "stdout",
       "text": [
        " \r",
        "0439   1.140157e+05   1.340020e-04   5.637307e+03"
       ]
      },
      {
       "output_type": "stream",
       "stream": "stdout",
       "text": [
        " \r",
        "0440   1.140154e+05   6.700099e-05   2.196199e+03"
       ]
      },
      {
       "output_type": "stream",
       "stream": "stdout",
       "text": [
        " \r",
        "0441   1.140153e+05   3.350050e-05   7.698578e+02"
       ]
      },
      {
       "output_type": "stream",
       "stream": "stdout",
       "text": [
        " \r",
        "0442   1.140150e+05   1.675025e-05   2.383564e+03"
       ]
      },
      {
       "output_type": "stream",
       "stream": "stdout",
       "text": [
        " \r",
        "0443   1.140148e+05   8.375124e-06   2.308811e+02"
       ]
      },
      {
       "output_type": "stream",
       "stream": "stdout",
       "text": [
        " \r",
        "0444   1.140145e+05   4.187562e-06   3.237348e+03"
       ]
      },
      {
       "output_type": "stream",
       "stream": "stdout",
       "text": [
        " \r",
        "0445   1.140142e+05   2.093781e-06   9.669417e+01"
       ]
      },
      {
       "output_type": "stream",
       "stream": "stdout",
       "text": [
        " \n",
        "\r"
       ]
      },
      {
       "output_type": "stream",
       "stream": "stdout",
       "text": [
        "0446   1.140141e+05   1.046890e-06   2.976283e+02"
       ]
      },
      {
       "output_type": "stream",
       "stream": "stdout",
       "text": [
        " \r",
        "0447   1.140110e+05   5.234452e-07   2.865384e+03"
       ]
      },
      {
       "output_type": "stream",
       "stream": "stdout",
       "text": [
        " \r",
        "0448   1.140107e+05   2.617226e-07   1.870653e+03"
       ]
      },
      {
       "output_type": "stream",
       "stream": "stdout",
       "text": [
        " \r",
        "0449   1.140076e+05   1.308613e-07   7.675237e+03"
       ]
      },
      {
       "output_type": "stream",
       "stream": "stdout",
       "text": [
        " \r",
        "0450   1.140073e+05   6.543065e-08   3.205453e+03"
       ]
      },
      {
       "output_type": "stream",
       "stream": "stdout",
       "text": [
        " \r",
        "0451   1.140065e+05   3.271533e-08   2.625036e+03"
       ]
      },
      {
       "output_type": "stream",
       "stream": "stdout",
       "text": [
        " \r",
        "0452   1.140065e+05   3.271533e-08   4.936263e+03"
       ]
      },
      {
       "output_type": "stream",
       "stream": "stdout",
       "text": [
        " \r",
        "0453   1.140062e+05   3.271533e-08   1.394687e+03"
       ]
      },
      {
       "output_type": "stream",
       "stream": "stdout",
       "text": [
        " \r",
        "0454   1.140057e+05   1.635766e-08   6.032756e+02"
       ]
      },
      {
       "output_type": "stream",
       "stream": "stdout",
       "text": [
        " \r",
        "0455   1.140051e+05   8.178832e-09   8.762670e+03"
       ]
      },
      {
       "output_type": "stream",
       "stream": "stdout",
       "text": [
        " \r",
        "0456   1.140031e+05   4.089416e-09   8.750601e+02"
       ]
      },
      {
       "output_type": "stream",
       "stream": "stdout",
       "text": [
        " \r",
        "0457   1.140030e+05   2.044708e-09   3.346033e+03"
       ]
      },
      {
       "output_type": "stream",
       "stream": "stdout",
       "text": [
        " \r",
        "0458   1.140004e+05   1.022354e-09   7.858633e+02"
       ]
      },
      {
       "output_type": "stream",
       "stream": "stdout",
       "text": [
        " \r",
        "0459   1.140002e+05   5.111770e-10   6.170486e+02"
       ]
      },
      {
       "output_type": "stream",
       "stream": "stdout",
       "text": [
        " \r",
        "0460   1.139989e+05   2.555885e-10   5.629060e+03"
       ]
      },
      {
       "output_type": "stream",
       "stream": "stdout",
       "text": [
        " \r",
        "0461   1.139987e+05   1.277942e-10   4.406110e+02"
       ]
      },
      {
       "output_type": "stream",
       "stream": "stdout",
       "text": [
        " \r",
        "0462   1.139984e+05   6.389712e-11   3.278826e+03"
       ]
      },
      {
       "output_type": "stream",
       "stream": "stdout",
       "text": [
        " \r",
        "0463   1.139982e+05   3.194856e-11   3.257066e+02"
       ]
      },
      {
       "output_type": "stream",
       "stream": "stdout",
       "text": [
        " \r",
        "0464   1.139980e+05   1.597428e-11   2.825761e+03"
       ]
      },
      {
       "output_type": "stream",
       "stream": "stdout",
       "text": [
        " \r",
        "0465   1.139979e+05   7.987140e-12   7.959653e+02"
       ]
      },
      {
       "output_type": "stream",
       "stream": "stdout",
       "text": [
        " \r",
        "0466   1.139977e+05   3.993570e-12   1.280243e+03"
       ]
      },
      {
       "output_type": "stream",
       "stream": "stdout",
       "text": [
        " \r",
        "0467   1.139976e+05   1.996785e-12   1.257362e+03"
       ]
      },
      {
       "output_type": "stream",
       "stream": "stdout",
       "text": [
        " \r",
        "0468   1.139975e+05   9.983926e-13   7.430897e+02"
       ]
      },
      {
       "output_type": "stream",
       "stream": "stdout",
       "text": [
        " \r",
        "0469   1.139974e+05   4.991963e-13   1.309295e+03"
       ]
      },
      {
       "output_type": "stream",
       "stream": "stdout",
       "text": [
        " \r",
        "0470   1.139972e+05   2.495981e-13   5.024437e+02"
       ]
      },
      {
       "output_type": "stream",
       "stream": "stdout",
       "text": [
        " \r",
        "0471   1.139970e+05   1.247991e-13   2.424208e+03"
       ]
      },
      {
       "output_type": "stream",
       "stream": "stdout",
       "text": [
        " \r",
        "0472   1.139969e+05   6.239953e-14   9.227790e+02"
       ]
      },
      {
       "output_type": "stream",
       "stream": "stdout",
       "text": [
        " \r",
        "0473   1.139967e+05   3.119977e-14   1.631250e+03"
       ]
      },
      {
       "output_type": "stream",
       "stream": "stdout",
       "text": [
        " \r",
        "0474   1.139965e+05   1.559988e-14   1.193588e+03"
       ]
      },
      {
       "output_type": "stream",
       "stream": "stdout",
       "text": [
        " \r",
        "0475   1.139964e+05   7.799942e-15   1.477121e+03"
       ]
      },
      {
       "output_type": "stream",
       "stream": "stdout",
       "text": [
        " \r",
        "0476   1.139963e+05   3.899971e-15   7.582084e+02"
       ]
      },
      {
       "output_type": "stream",
       "stream": "stdout",
       "text": [
        " \r",
        "0477   1.139962e+05   1.949985e-15   1.581123e+03"
       ]
      },
      {
       "output_type": "stream",
       "stream": "stdout",
       "text": [
        " \r",
        "0478   1.139958e+05   1.000000e-15   7.467366e+02"
       ]
      },
      {
       "output_type": "stream",
       "stream": "stdout",
       "text": [
        " \r",
        "0479   1.139955e+05   1.000000e-15   3.648580e+03"
       ]
      },
      {
       "output_type": "stream",
       "stream": "stdout",
       "text": [
        " \r",
        "0480   1.139952e+05   1.000000e-15   1.419793e+03"
       ]
      },
      {
       "output_type": "stream",
       "stream": "stdout",
       "text": [
        " \r",
        "0481   1.139949e+05   1.000000e-15   3.121172e+03"
       ]
      },
      {
       "output_type": "stream",
       "stream": "stdout",
       "text": [
        " \r",
        "0482   1.139948e+05   1.000000e-15   1.265306e+03"
       ]
      },
      {
       "output_type": "stream",
       "stream": "stdout",
       "text": [
        " \r",
        "0483   1.139947e+05   1.000000e-15   1.037831e+03"
       ]
      },
      {
       "output_type": "stream",
       "stream": "stdout",
       "text": [
        " \r",
        "0484   1.139945e+05   1.000000e-15   1.394058e+03"
       ]
      },
      {
       "output_type": "stream",
       "stream": "stdout",
       "text": [
        " \r",
        "0485   1.139943e+05   1.000000e-15   8.636909e+02"
       ]
      },
      {
       "output_type": "stream",
       "stream": "stdout",
       "text": [
        " \r",
        "0486   1.139940e+05   1.000000e-15   2.755354e+03"
       ]
      },
      {
       "output_type": "stream",
       "stream": "stdout",
       "text": [
        " \r",
        "0487   1.139931e+05   1.000000e-15   1.056286e+03"
       ]
      },
      {
       "output_type": "stream",
       "stream": "stdout",
       "text": [
        " \r",
        "0488   1.139925e+05   1.000000e-15   1.113004e+04"
       ]
      },
      {
       "output_type": "stream",
       "stream": "stdout",
       "text": [
        " \r",
        "0489   1.139905e+05   1.000000e-15   6.805926e+02"
       ]
      },
      {
       "output_type": "stream",
       "stream": "stdout",
       "text": [
        " \r",
        "0490   1.139901e+05   1.000000e-15   7.320040e+03"
       ]
      },
      {
       "output_type": "stream",
       "stream": "stdout",
       "text": [
        " \r",
        "0491   1.139893e+05   1.000000e-15   1.464696e+03"
       ]
      },
      {
       "output_type": "stream",
       "stream": "stdout",
       "text": [
        " \r",
        "0492   1.139893e+05   1.000000e-15   2.060943e+03"
       ]
      },
      {
       "output_type": "stream",
       "stream": "stdout",
       "text": [
        " \r",
        "0493   1.139876e+05   1.000000e-15   1.506219e+03"
       ]
      },
      {
       "output_type": "stream",
       "stream": "stdout",
       "text": [
        " \r",
        "0494   1.139873e+05   1.000000e-15   6.807962e+03"
       ]
      },
      {
       "output_type": "stream",
       "stream": "stdout",
       "text": [
        " \r",
        "0495   1.139868e+05   1.000000e-15   1.232927e+03"
       ]
      },
      {
       "output_type": "stream",
       "stream": "stdout",
       "text": [
        " \r",
        "0496   1.139868e+05   1.000000e-15   8.789117e+03"
       ]
      },
      {
       "output_type": "stream",
       "stream": "stdout",
       "text": [
        " \r",
        "0497   1.139861e+05   1.000000e-15   5.814589e+03"
       ]
      },
      {
       "output_type": "stream",
       "stream": "stdout",
       "text": [
        " \r",
        "0498   1.139859e+05   1.000000e-15   1.005161e+03"
       ]
      },
      {
       "output_type": "stream",
       "stream": "stdout",
       "text": [
        " \r",
        "0499   1.139858e+05   1.000000e-15   3.836657e+03"
       ]
      },
      {
       "output_type": "stream",
       "stream": "stdout",
       "text": [
        " \r",
        "0500   1.139827e+05   1.000000e-15   8.553142e+02"
       ]
      },
      {
       "output_type": "stream",
       "stream": "stdout",
       "text": [
        " \r",
        "0501   1.139822e+05   1.000000e-15   9.124142e+02"
       ]
      },
      {
       "output_type": "stream",
       "stream": "stdout",
       "text": [
        " \r",
        "0502   1.139802e+05   1.000000e-15   1.162475e+04"
       ]
      },
      {
       "output_type": "stream",
       "stream": "stdout",
       "text": [
        " \r",
        "0503   1.139794e+05   1.000000e-15   1.368170e+03"
       ]
      },
      {
       "output_type": "stream",
       "stream": "stdout",
       "text": [
        " \r",
        "0504   1.139786e+05   1.000000e-15   1.126203e+04"
       ]
      },
      {
       "output_type": "stream",
       "stream": "stdout",
       "text": [
        " \r",
        "0505   1.139780e+05   1.000000e-15   1.667852e+03"
       ]
      },
      {
       "output_type": "stream",
       "stream": "stdout",
       "text": [
        " \r",
        "0506   1.139777e+05   1.000000e-15   5.588995e+03"
       ]
      },
      {
       "output_type": "stream",
       "stream": "stdout",
       "text": [
        " \r",
        "0507   1.139771e+05   1.000000e-15   1.386309e+03"
       ]
      },
      {
       "output_type": "stream",
       "stream": "stdout",
       "text": [
        " \r",
        "0508   1.139770e+05   1.000000e-15   3.639220e+03"
       ]
      },
      {
       "output_type": "stream",
       "stream": "stdout",
       "text": [
        " \r",
        "0509   1.139766e+05   1.000000e-15   8.375997e+02"
       ]
      },
      {
       "output_type": "stream",
       "stream": "stdout",
       "text": [
        " \r",
        "0510   1.139765e+05   1.000000e-15   1.579115e+03"
       ]
      },
      {
       "output_type": "stream",
       "stream": "stdout",
       "text": [
        " \r",
        "0511   1.139763e+05   1.000000e-15   4.628567e+02"
       ]
      },
      {
       "output_type": "stream",
       "stream": "stdout",
       "text": [
        " \r",
        "0512   1.139762e+05   1.000000e-15   1.390556e+03"
       ]
      },
      {
       "output_type": "stream",
       "stream": "stdout",
       "text": [
        " \r",
        "0513   1.139755e+05   1.000000e-15   8.534056e+02"
       ]
      },
      {
       "output_type": "stream",
       "stream": "stdout",
       "text": [
        " \r",
        "0514   1.139754e+05   1.000000e-15   2.337082e+03"
       ]
      },
      {
       "output_type": "stream",
       "stream": "stdout",
       "text": [
        " \r",
        "0515   1.139749e+05   1.000000e-15   1.178202e+03"
       ]
      },
      {
       "output_type": "stream",
       "stream": "stdout",
       "text": [
        " \r",
        "0516   1.139748e+05   1.000000e-15   1.019420e+03"
       ]
      },
      {
       "output_type": "stream",
       "stream": "stdout",
       "text": [
        " \r",
        "0517   1.139744e+05   1.000000e-15   9.966505e+02"
       ]
      },
      {
       "output_type": "stream",
       "stream": "stdout",
       "text": [
        " \r",
        "0518   1.139743e+05   1.000000e-15   1.131838e+03"
       ]
      },
      {
       "output_type": "stream",
       "stream": "stdout",
       "text": [
        " \r",
        "0519   1.139735e+05   1.000000e-15   2.913581e+03"
       ]
      },
      {
       "output_type": "stream",
       "stream": "stdout",
       "text": [
        " \r",
        "0520   1.139731e+05   1.000000e-15   1.421383e+03"
       ]
      },
      {
       "output_type": "stream",
       "stream": "stdout",
       "text": [
        " \r",
        "0521   1.139725e+05   1.000000e-15   7.355527e+03"
       ]
      },
      {
       "output_type": "stream",
       "stream": "stdout",
       "text": [
        " \r",
        "0522   1.139715e+05   1.000000e-15   7.386075e+02"
       ]
      },
      {
       "output_type": "stream",
       "stream": "stdout",
       "text": [
        " \r",
        "0523   1.139711e+05   1.000000e-15   7.998971e+03"
       ]
      },
      {
       "output_type": "stream",
       "stream": "stdout",
       "text": [
        " \r",
        "0524   1.139693e+05   1.000000e-15   9.445703e+02"
       ]
      },
      {
       "output_type": "stream",
       "stream": "stdout",
       "text": [
        " \r",
        "0525   1.139689e+05   1.000000e-15   8.965033e+03"
       ]
      },
      {
       "output_type": "stream",
       "stream": "stdout",
       "text": [
        " \r",
        "0526   1.139645e+05   1.000000e-15   3.022362e+03"
       ]
      },
      {
       "output_type": "stream",
       "stream": "stdout",
       "text": [
        " \r",
        "0527   1.139644e+05   1.000000e-15   2.148598e+03"
       ]
      },
      {
       "output_type": "stream",
       "stream": "stdout",
       "text": [
        " \r",
        "0528   1.139631e+05   1.000000e-15   9.666659e+02"
       ]
      },
      {
       "output_type": "stream",
       "stream": "stdout",
       "text": [
        " \r",
        "0529   1.139628e+05   1.000000e-15   1.761541e+03"
       ]
      },
      {
       "output_type": "stream",
       "stream": "stdout",
       "text": [
        " \r",
        "0530   1.139592e+05   1.000000e-15   7.421882e+03"
       ]
      },
      {
       "output_type": "stream",
       "stream": "stdout",
       "text": [
        " \r",
        "0531   1.139587e+05   1.000000e-15   2.189006e+03"
       ]
      },
      {
       "output_type": "stream",
       "stream": "stdout",
       "text": [
        " \r",
        "0532   1.139571e+05   1.000000e-15   1.116221e+04"
       ]
      },
      {
       "output_type": "stream",
       "stream": "stdout",
       "text": [
        " \r",
        "0533   1.139559e+05   1.000000e-15   3.141767e+03"
       ]
      },
      {
       "output_type": "stream",
       "stream": "stdout",
       "text": [
        " \r",
        "0534   1.139547e+05   1.000000e-15   1.813998e+04"
       ]
      },
      {
       "output_type": "stream",
       "stream": "stdout",
       "text": [
        " \r",
        "0535   1.139529e+05   1.000000e-15   2.857084e+03"
       ]
      },
      {
       "output_type": "stream",
       "stream": "stdout",
       "text": [
        " \r",
        "0536   1.139522e+05   1.000000e-15   1.354808e+04"
       ]
      },
      {
       "output_type": "stream",
       "stream": "stdout",
       "text": [
        " \r",
        "0537   1.139509e+05   1.000000e-15   1.834093e+03"
       ]
      },
      {
       "output_type": "stream",
       "stream": "stdout",
       "text": [
        " \r",
        "0538   1.139506e+05   1.000000e-15   6.705266e+03"
       ]
      },
      {
       "output_type": "stream",
       "stream": "stdout",
       "text": [
        " \r",
        "0539   1.139495e+05   1.000000e-15   2.004482e+03"
       ]
      },
      {
       "output_type": "stream",
       "stream": "stdout",
       "text": [
        " \r",
        "0540   1.139493e+05   1.000000e-15   3.488091e+03"
       ]
      },
      {
       "output_type": "stream",
       "stream": "stdout",
       "text": [
        " \r",
        "0541   1.139479e+05   1.000000e-15   1.748778e+03"
       ]
      },
      {
       "output_type": "stream",
       "stream": "stdout",
       "text": [
        " \r",
        "0542   1.139477e+05   1.000000e-15   3.855230e+03"
       ]
      },
      {
       "output_type": "stream",
       "stream": "stdout",
       "text": [
        " \r",
        "0543   1.139460e+05   1.000000e-15   3.582668e+03"
       ]
      },
      {
       "output_type": "stream",
       "stream": "stdout",
       "text": [
        " \r",
        "0544   1.139457e+05   1.000000e-15   2.521275e+03"
       ]
      },
      {
       "output_type": "stream",
       "stream": "stdout",
       "text": [
        " \r",
        "0545   1.139441e+05   1.000000e-15   4.358263e+03"
       ]
      },
      {
       "output_type": "stream",
       "stream": "stdout",
       "text": [
        " \r",
        "0546   1.139434e+05   1.000000e-15   2.574820e+03"
       ]
      },
      {
       "output_type": "stream",
       "stream": "stdout",
       "text": [
        " \r",
        "0547   1.139403e+05   1.000000e-15   1.667054e+04"
       ]
      },
      {
       "output_type": "stream",
       "stream": "stdout",
       "text": [
        " \r",
        "0548   1.139372e+05   1.000000e-15   2.731530e+03"
       ]
      },
      {
       "output_type": "stream",
       "stream": "stdout",
       "text": [
        " \r",
        "0549   1.139368e+05   1.000000e-15   9.491303e+03"
       ]
      },
      {
       "output_type": "stream",
       "stream": "stdout",
       "text": [
        " \r",
        "0550   1.139323e+05   1.000000e-15   2.773483e+03"
       ]
      },
      {
       "output_type": "stream",
       "stream": "stdout",
       "text": [
        " \r",
        "0551   1.139315e+05   1.000000e-15   9.693108e+02"
       ]
      },
      {
       "output_type": "stream",
       "stream": "stdout",
       "text": [
        " \r",
        "0552   1.139294e+05   1.000000e-15   1.844561e+04"
       ]
      },
      {
       "output_type": "stream",
       "stream": "stdout",
       "text": [
        " \r",
        "0553   1.139288e+05   1.000000e-15   7.676832e+02"
       ]
      },
      {
       "output_type": "stream",
       "stream": "stdout",
       "text": [
        " \r",
        "0554   1.139282e+05   1.000000e-15   9.819105e+03"
       ]
      },
      {
       "output_type": "stream",
       "stream": "stdout",
       "text": [
        " \r",
        "0555   1.139272e+05   1.000000e-15   5.298265e+02"
       ]
      },
      {
       "output_type": "stream",
       "stream": "stdout",
       "text": [
        " \r",
        "0556   1.139270e+05   1.000000e-15   3.713527e+03"
       ]
      },
      {
       "output_type": "stream",
       "stream": "stdout",
       "text": [
        " \r",
        "0557   1.139262e+05   1.000000e-15   7.407478e+02"
       ]
      },
      {
       "output_type": "stream",
       "stream": "stdout",
       "text": [
        " \r",
        "0558   1.139261e+05   1.000000e-15   6.190845e+02"
       ]
      },
      {
       "output_type": "stream",
       "stream": "stdout",
       "text": [
        " \r",
        "0559   1.139254e+05   1.000000e-15   6.406485e+02"
       ]
      },
      {
       "output_type": "stream",
       "stream": "stdout",
       "text": [
        " \r",
        "0560   1.139252e+05   1.000000e-15   9.114771e+02"
       ]
      },
      {
       "output_type": "stream",
       "stream": "stdout",
       "text": [
        " \r",
        "0561   1.139241e+05   1.000000e-15   4.997425e+03"
       ]
      },
      {
       "output_type": "stream",
       "stream": "stdout",
       "text": [
        " \r",
        "0562   1.139239e+05   1.000000e-15   6.799830e+02"
       ]
      },
      {
       "output_type": "stream",
       "stream": "stdout",
       "text": [
        " \r",
        "0563   1.139235e+05   1.000000e-15   3.113740e+03"
       ]
      },
      {
       "output_type": "stream",
       "stream": "stdout",
       "text": [
        " \r",
        "0564   1.139232e+05   1.000000e-15   7.538389e+02"
       ]
      },
      {
       "output_type": "stream",
       "stream": "stdout",
       "text": [
        " \r",
        "0565   1.139227e+05   1.000000e-15   5.059421e+03"
       ]
      },
      {
       "output_type": "stream",
       "stream": "stdout",
       "text": [
        " \r",
        "0566   1.139224e+05   1.000000e-15   1.028385e+03"
       ]
      },
      {
       "output_type": "stream",
       "stream": "stdout",
       "text": [
        " \r",
        "0567   1.139222e+05   1.000000e-15   3.520273e+03"
       ]
      },
      {
       "output_type": "stream",
       "stream": "stdout",
       "text": [
        " \r",
        "0568   1.139219e+05   1.000000e-15   9.421363e+02"
       ]
      },
      {
       "output_type": "stream",
       "stream": "stdout",
       "text": [
        " \r",
        "0569   1.139216e+05   1.000000e-15   3.451982e+03"
       ]
      },
      {
       "output_type": "stream",
       "stream": "stdout",
       "text": [
        " \r",
        "0570   1.139210e+05   1.000000e-15   1.526416e+03"
       ]
      },
      {
       "output_type": "stream",
       "stream": "stdout",
       "text": [
        " \r",
        "0571   1.139206e+05   1.000000e-15   6.137013e+03"
       ]
      },
      {
       "output_type": "stream",
       "stream": "stdout",
       "text": [
        " \r",
        "0572   1.139197e+05   1.000000e-15   2.821844e+03"
       ]
      },
      {
       "output_type": "stream",
       "stream": "stdout",
       "text": [
        " \r",
        "0573   1.139194e+05   1.000000e-15   6.485304e+03"
       ]
      },
      {
       "output_type": "stream",
       "stream": "stdout",
       "text": [
        " \r",
        "0574   1.139181e+05   1.000000e-15   2.396535e+03"
       ]
      },
      {
       "output_type": "stream",
       "stream": "stdout",
       "text": [
        " \r",
        "0575   1.139178e+05   1.000000e-15   7.126036e+03"
       ]
      },
      {
       "output_type": "stream",
       "stream": "stdout",
       "text": [
        " \r",
        "0576   1.139156e+05   1.000000e-15   1.843444e+03"
       ]
      },
      {
       "output_type": "stream",
       "stream": "stdout",
       "text": [
        " \r",
        "0577   1.139154e+05   1.000000e-15   4.900411e+03"
       ]
      },
      {
       "output_type": "stream",
       "stream": "stdout",
       "text": [
        " \r",
        "0578   1.139123e+05   1.000000e-15   2.723906e+03"
       ]
      },
      {
       "output_type": "stream",
       "stream": "stdout",
       "text": [
        " \r",
        "0579   1.139120e+05   1.000000e-15   2.736144e+03"
       ]
      },
      {
       "output_type": "stream",
       "stream": "stdout",
       "text": [
        " \r",
        "0580   1.139101e+05   1.000000e-15   5.371854e+03"
       ]
      },
      {
       "output_type": "stream",
       "stream": "stdout",
       "text": [
        " \r",
        "0581   1.139085e+05   1.000000e-15   2.063681e+03"
       ]
      },
      {
       "output_type": "stream",
       "stream": "stdout",
       "text": [
        " \r",
        "0582   1.139084e+05   1.000000e-15   3.867027e+04"
       ]
      },
      {
       "output_type": "stream",
       "stream": "stdout",
       "text": [
        " \r",
        "0583   1.139077e+05   4.000000e-15   2.513983e+04"
       ]
      },
      {
       "output_type": "stream",
       "stream": "stdout",
       "text": [
        " \r",
        "0584   1.139035e+05   2.000000e-15   1.842667e+04"
       ]
      },
      {
       "output_type": "stream",
       "stream": "stdout",
       "text": [
        " \r",
        "0585   1.139019e+05   1.000000e-15   1.940335e+03"
       ]
      },
      {
       "output_type": "stream",
       "stream": "stdout",
       "text": [
        " \r",
        "0586   1.139018e+05   1.000000e-15   9.816272e+02"
       ]
      },
      {
       "output_type": "stream",
       "stream": "stdout",
       "text": [
        " \r",
        "0587   1.139005e+05   1.000000e-15   1.498598e+03"
       ]
      },
      {
       "output_type": "stream",
       "stream": "stdout",
       "text": [
        " \r",
        "0588   1.138999e+05   1.000000e-15   6.701347e+02"
       ]
      },
      {
       "output_type": "stream",
       "stream": "stdout",
       "text": [
        " \r",
        "0589   1.138992e+05   1.000000e-15   9.720449e+03"
       ]
      },
      {
       "output_type": "stream",
       "stream": "stdout",
       "text": [
        " \r",
        "0590   1.138979e+05   1.000000e-15   6.356442e+02"
       ]
      },
      {
       "output_type": "stream",
       "stream": "stdout",
       "text": [
        " \r",
        "0591   1.138976e+05   1.000000e-15   5.803956e+03"
       ]
      },
      {
       "output_type": "stream",
       "stream": "stdout",
       "text": [
        " \r",
        "0592   1.138971e+05   1.000000e-15   5.707146e+02"
       ]
      },
      {
       "output_type": "stream",
       "stream": "stdout",
       "text": [
        " \r",
        "0593   1.138971e+05   1.000000e-15   1.248735e+03"
       ]
      },
      {
       "output_type": "stream",
       "stream": "stdout",
       "text": [
        " \r",
        "0594   1.138966e+05   1.000000e-15   7.723583e+02"
       ]
      },
      {
       "output_type": "stream",
       "stream": "stdout",
       "text": [
        " \r",
        "0595   1.138965e+05   1.000000e-15   6.925640e+02"
       ]
      },
      {
       "output_type": "stream",
       "stream": "stdout",
       "text": [
        " \r",
        "0596   1.138961e+05   1.000000e-15   6.920206e+02"
       ]
      },
      {
       "output_type": "stream",
       "stream": "stdout",
       "text": [
        " \r",
        "0597   1.138961e+05   1.000000e-15   5.036894e+02"
       ]
      },
      {
       "output_type": "stream",
       "stream": "stdout",
       "text": [
        " \r",
        "0598   1.138957e+05   1.000000e-15   1.011413e+03"
       ]
      },
      {
       "output_type": "stream",
       "stream": "stdout",
       "text": [
        " \r",
        "0599   1.138956e+05   1.000000e-15   4.717513e+02"
       ]
      },
      {
       "output_type": "stream",
       "stream": "stdout",
       "text": [
        " \r",
        "0600   1.138951e+05   1.000000e-15   1.682213e+03"
       ]
      },
      {
       "output_type": "stream",
       "stream": "stdout",
       "text": [
        " \r",
        "0601   1.138950e+05   1.000000e-15   4.104346e+02"
       ]
      },
      {
       "output_type": "stream",
       "stream": "stdout",
       "text": [
        " \r",
        "0602   1.138946e+05   1.000000e-15   2.509660e+03"
       ]
      },
      {
       "output_type": "stream",
       "stream": "stdout",
       "text": [
        " \r",
        "0603   1.138944e+05   1.000000e-15   3.384433e+02"
       ]
      },
      {
       "output_type": "stream",
       "stream": "stdout",
       "text": [
        " \r",
        "0604   1.138939e+05   1.000000e-15   5.171395e+03"
       ]
      },
      {
       "output_type": "stream",
       "stream": "stdout",
       "text": [
        " \r",
        "0605   1.138932e+05   1.000000e-15   3.655455e+02"
       ]
      },
      {
       "output_type": "stream",
       "stream": "stdout",
       "text": [
        " \r",
        "0606   1.138927e+05   1.000000e-15   8.862802e+03"
       ]
      },
      {
       "output_type": "stream",
       "stream": "stdout",
       "text": [
        " \r",
        "0607   1.138923e+05   1.000000e-15   6.080710e+02"
       ]
      },
      {
       "output_type": "stream",
       "stream": "stdout",
       "text": [
        " \r",
        "0608   1.138921e+05   1.000000e-15   3.047910e+03"
       ]
      },
      {
       "output_type": "stream",
       "stream": "stdout",
       "text": [
        " \r",
        "0609   1.138910e+05   1.000000e-15   4.338949e+02"
       ]
      },
      {
       "output_type": "stream",
       "stream": "stdout",
       "text": [
        " \r",
        "0610   1.138909e+05   1.000000e-15   1.296521e+03"
       ]
      },
      {
       "output_type": "stream",
       "stream": "stdout",
       "text": [
        " \r",
        "0611   1.138901e+05   1.000000e-15   1.089541e+03"
       ]
      },
      {
       "output_type": "stream",
       "stream": "stdout",
       "text": [
        " \r",
        "0612   1.138898e+05   1.000000e-15   5.027511e+02"
       ]
      },
      {
       "output_type": "stream",
       "stream": "stdout",
       "text": [
        " \r",
        "0613   1.138895e+05   1.000000e-15   4.346792e+03"
       ]
      },
      {
       "output_type": "stream",
       "stream": "stdout",
       "text": [
        " \r",
        "0614   1.138886e+05   1.000000e-15   3.878359e+02"
       ]
      },
      {
       "output_type": "stream",
       "stream": "stdout",
       "text": [
        " \r",
        "0615   1.138884e+05   1.000000e-15   3.186201e+02"
       ]
      },
      {
       "output_type": "stream",
       "stream": "stdout",
       "text": [
        " \r",
        "0616   1.138876e+05   1.000000e-15   3.720101e+03"
       ]
      },
      {
       "output_type": "stream",
       "stream": "stdout",
       "text": [
        " \r",
        "0617   1.138872e+05   1.000000e-15   4.166792e+02"
       ]
      },
      {
       "output_type": "stream",
       "stream": "stdout",
       "text": [
        " \r",
        "0618   1.138870e+05   1.000000e-15   4.752951e+03"
       ]
      },
      {
       "output_type": "stream",
       "stream": "stdout",
       "text": [
        " \r",
        "0619   1.138860e+05   1.000000e-15   4.822851e+02"
       ]
      },
      {
       "output_type": "stream",
       "stream": "stdout",
       "text": [
        " \r",
        "0620   1.138858e+05   1.000000e-15   3.643260e+02"
       ]
      },
      {
       "output_type": "stream",
       "stream": "stdout",
       "text": [
        " \r",
        "0621   1.138851e+05   1.000000e-15   2.938626e+03"
       ]
      },
      {
       "output_type": "stream",
       "stream": "stdout",
       "text": [
        " \r",
        "0622   1.138841e+05   1.000000e-15   7.150908e+02"
       ]
      },
      {
       "output_type": "stream",
       "stream": "stdout",
       "text": [
        " \r",
        "0623   1.138840e+05   1.000000e-15   2.442197e+03"
       ]
      },
      {
       "output_type": "stream",
       "stream": "stdout",
       "text": [
        " \r",
        "0624   1.138826e+05   1.000000e-15   8.929400e+02"
       ]
      },
      {
       "output_type": "stream",
       "stream": "stdout",
       "text": [
        " \r",
        "0625   1.138817e+05   1.000000e-15   6.201484e+02"
       ]
      },
      {
       "output_type": "stream",
       "stream": "stdout",
       "text": [
        " \r",
        "0626   1.138809e+05   1.000000e-15   1.414522e+04"
       ]
      },
      {
       "output_type": "stream",
       "stream": "stdout",
       "text": [
        " \r",
        "0627   1.138805e+05   1.000000e-15   1.049158e+03"
       ]
      },
      {
       "output_type": "stream",
       "stream": "stdout",
       "text": [
        " \r",
        "0628   1.138803e+05   1.000000e-15   3.950540e+03"
       ]
      },
      {
       "output_type": "stream",
       "stream": "stdout",
       "text": [
        " \r",
        "0629   1.138801e+05   1.000000e-15   2.353164e+02"
       ]
      },
      {
       "output_type": "stream",
       "stream": "stdout",
       "text": [
        " \r",
        "0630   1.138800e+05   1.000000e-15   2.150907e+03"
       ]
      },
      {
       "output_type": "stream",
       "stream": "stdout",
       "text": [
        " \r",
        "0631   1.138797e+05   1.000000e-15   3.983378e+02"
       ]
      },
      {
       "output_type": "stream",
       "stream": "stdout",
       "text": [
        " \r",
        "0632   1.138797e+05   1.000000e-15   8.508598e+02"
       ]
      },
      {
       "output_type": "stream",
       "stream": "stdout",
       "text": [
        " \r",
        "0633   1.138794e+05   1.000000e-15   2.913791e+02"
       ]
      },
      {
       "output_type": "stream",
       "stream": "stdout",
       "text": [
        " \r",
        "0634   1.138794e+05   1.000000e-15   6.001377e+02"
       ]
      },
      {
       "output_type": "stream",
       "stream": "stdout",
       "text": [
        " \r",
        "0635   1.138792e+05   1.000000e-15   4.578877e+02"
       ]
      },
      {
       "output_type": "stream",
       "stream": "stdout",
       "text": [
        " \r",
        "0636   1.138792e+05   1.000000e-15   2.855055e+02"
       ]
      },
      {
       "output_type": "stream",
       "stream": "stdout",
       "text": [
        " \r",
        "0637   1.138790e+05   1.000000e-15   3.638295e+02"
       ]
      },
      {
       "output_type": "stream",
       "stream": "stdout",
       "text": [
        " \r",
        "0638   1.138790e+05   1.000000e-15   2.519459e+02"
       ]
      },
      {
       "output_type": "stream",
       "stream": "stdout",
       "text": [
        " \r",
        "0639   1.138788e+05   1.000000e-15   8.600676e+02"
       ]
      },
      {
       "output_type": "stream",
       "stream": "stdout",
       "text": [
        " \r",
        "0640   1.138787e+05   1.000000e-15   2.785521e+02"
       ]
      },
      {
       "output_type": "stream",
       "stream": "stdout",
       "text": [
        " \r",
        "0641   1.138786e+05   1.000000e-15   1.101449e+03"
       ]
      },
      {
       "output_type": "stream",
       "stream": "stdout",
       "text": [
        " \r",
        "0642   1.138784e+05   1.000000e-15   2.646967e+02"
       ]
      },
      {
       "output_type": "stream",
       "stream": "stdout",
       "text": [
        " \r",
        "0643   1.138783e+05   1.000000e-15   1.905752e+03"
       ]
      },
      {
       "output_type": "stream",
       "stream": "stdout",
       "text": [
        " \r",
        "0644   1.138780e+05   1.000000e-15   4.956357e+02"
       ]
      },
      {
       "output_type": "stream",
       "stream": "stdout",
       "text": [
        " \r",
        "0645   1.138778e+05   1.000000e-15   2.923664e+03"
       ]
      },
      {
       "output_type": "stream",
       "stream": "stdout",
       "text": [
        " \r",
        "0646   1.138775e+05   1.000000e-15   5.981322e+02"
       ]
      },
      {
       "output_type": "stream",
       "stream": "stdout",
       "text": [
        " \r",
        "0647   1.138774e+05   1.000000e-15   2.450087e+03"
       ]
      },
      {
       "output_type": "stream",
       "stream": "stdout",
       "text": [
        " \r",
        "0648   1.138771e+05   1.000000e-15   5.714958e+02"
       ]
      },
      {
       "output_type": "stream",
       "stream": "stdout",
       "text": [
        " \r",
        "0649   1.138771e+05   1.000000e-15   1.078073e+03"
       ]
      },
      {
       "output_type": "stream",
       "stream": "stdout",
       "text": [
        " \r",
        "0650   1.138768e+05   1.000000e-15   3.874548e+02"
       ]
      },
      {
       "output_type": "stream",
       "stream": "stdout",
       "text": [
        " \r",
        "0651   1.138768e+05   1.000000e-15   7.951707e+02"
       ]
      },
      {
       "output_type": "stream",
       "stream": "stdout",
       "text": [
        " \r",
        "0652   1.138762e+05   1.000000e-15   8.249487e+02"
       ]
      },
      {
       "output_type": "stream",
       "stream": "stdout",
       "text": [
        " \r",
        "0653   1.138761e+05   1.000000e-15   1.758655e+03"
       ]
      },
      {
       "output_type": "stream",
       "stream": "stdout",
       "text": [
        " \r",
        "0654   1.138755e+05   1.000000e-15   2.219955e+03"
       ]
      },
      {
       "output_type": "stream",
       "stream": "stdout",
       "text": [
        " \r",
        "0655   1.138754e+05   1.000000e-15   8.189767e+02"
       ]
      },
      {
       "output_type": "stream",
       "stream": "stdout",
       "text": [
        " \r",
        "0656   1.138751e+05   1.000000e-15   1.462660e+03"
       ]
      },
      {
       "output_type": "stream",
       "stream": "stdout",
       "text": [
        " \r",
        "0657   1.138749e+05   1.000000e-15   5.622623e+02"
       ]
      },
      {
       "output_type": "stream",
       "stream": "stdout",
       "text": [
        " \r",
        "0658   1.138743e+05   1.000000e-15   3.327798e+03"
       ]
      },
      {
       "output_type": "stream",
       "stream": "stdout",
       "text": [
        " \r",
        "0659   1.138739e+05   1.000000e-15   1.093134e+03"
       ]
      },
      {
       "output_type": "stream",
       "stream": "stdout",
       "text": [
        " \r",
        "0660   1.138733e+05   1.000000e-15   7.401549e+03"
       ]
      },
      {
       "output_type": "stream",
       "stream": "stdout",
       "text": [
        " \r",
        "0661   1.138723e+05   1.000000e-15   1.021393e+03"
       ]
      },
      {
       "output_type": "stream",
       "stream": "stdout",
       "text": [
        " \r",
        "0662   1.138718e+05   1.000000e-15   1.077536e+04"
       ]
      },
      {
       "output_type": "stream",
       "stream": "stdout",
       "text": [
        " \r",
        "0663   1.138701e+05   1.000000e-15   1.466848e+03"
       ]
      },
      {
       "output_type": "stream",
       "stream": "stdout",
       "text": [
        " \r",
        "0664   1.138690e+05   1.000000e-15   9.670005e+02"
       ]
      },
      {
       "output_type": "stream",
       "stream": "stdout",
       "text": [
        " \r",
        "0665   1.138680e+05   1.000000e-15   1.785364e+04"
       ]
      },
      {
       "output_type": "stream",
       "stream": "stdout",
       "text": [
        " \r",
        "0666   1.138673e+05   1.000000e-15   1.260826e+03"
       ]
      },
      {
       "output_type": "stream",
       "stream": "stdout",
       "text": [
        " \r",
        "0667   1.138669e+05   1.000000e-15   7.543856e+03"
       ]
      },
      {
       "output_type": "stream",
       "stream": "stdout",
       "text": [
        " \r",
        "0668   1.138666e+05   1.000000e-15   3.949190e+02"
       ]
      },
      {
       "output_type": "stream",
       "stream": "stdout",
       "text": [
        " \r",
        "0669   1.138665e+05   1.000000e-15   2.238382e+03"
       ]
      },
      {
       "output_type": "stream",
       "stream": "stdout",
       "text": [
        " \r",
        "0670   1.138661e+05   1.000000e-15   5.486130e+02"
       ]
      },
      {
       "output_type": "stream",
       "stream": "stdout",
       "text": [
        " \r",
        "0671   1.138661e+05   1.000000e-15   1.578364e+03"
       ]
      },
      {
       "output_type": "stream",
       "stream": "stdout",
       "text": [
        " \r",
        "0672   1.138656e+05   1.000000e-15   7.323801e+02"
       ]
      },
      {
       "output_type": "stream",
       "stream": "stdout",
       "text": [
        " \r",
        "0673   1.138656e+05   1.000000e-15   1.391261e+03"
       ]
      },
      {
       "output_type": "stream",
       "stream": "stdout",
       "text": [
        " \r",
        "0674   1.138651e+05   1.000000e-15   1.049288e+03"
       ]
      },
      {
       "output_type": "stream",
       "stream": "stdout",
       "text": [
        " \r",
        "0675   1.138650e+05   1.000000e-15   1.175627e+03"
       ]
      },
      {
       "output_type": "stream",
       "stream": "stdout",
       "text": [
        " \r",
        "0676   1.138645e+05   1.000000e-15   1.487409e+03"
       ]
      },
      {
       "output_type": "stream",
       "stream": "stdout",
       "text": [
        " \r",
        "0677   1.138644e+05   1.000000e-15   6.576006e+02"
       ]
      },
      {
       "output_type": "stream",
       "stream": "stdout",
       "text": [
        " \r",
        "0678   1.138642e+05   1.000000e-15   1.385232e+03"
       ]
      },
      {
       "output_type": "stream",
       "stream": "stdout",
       "text": [
        " \r",
        "0679   1.138641e+05   1.000000e-15   3.880088e+02"
       ]
      },
      {
       "output_type": "stream",
       "stream": "stdout",
       "text": [
        " \r",
        "0680   1.138637e+05   1.000000e-15   2.391506e+03"
       ]
      },
      {
       "output_type": "stream",
       "stream": "stdout",
       "text": [
        " \r",
        "0681   1.138635e+05   1.000000e-15   5.388403e+02"
       ]
      },
      {
       "output_type": "stream",
       "stream": "stdout",
       "text": [
        " \r",
        "0682   1.138632e+05   1.000000e-15   3.254479e+03"
       ]
      },
      {
       "output_type": "stream",
       "stream": "stdout",
       "text": [
        " \r",
        "0683   1.138631e+05   1.000000e-15   1.943400e+02"
       ]
      },
      {
       "output_type": "stream",
       "stream": "stdout",
       "text": [
        " \r",
        "0684   1.138631e+05   1.000000e-15   1.234330e+03"
       ]
      },
      {
       "output_type": "stream",
       "stream": "stdout",
       "text": [
        " \r",
        "0685   1.138628e+05   1.000000e-15   1.925467e+02"
       ]
      },
      {
       "output_type": "stream",
       "stream": "stdout",
       "text": [
        " \r",
        "0686   1.138627e+05   1.000000e-15   1.101062e+03"
       ]
      },
      {
       "output_type": "stream",
       "stream": "stdout",
       "text": [
        " \r",
        "0687   1.138623e+05   1.000000e-15   3.155332e+02"
       ]
      },
      {
       "output_type": "stream",
       "stream": "stdout",
       "text": [
        " \r",
        "0688   1.138623e+05   1.000000e-15   4.311569e+02"
       ]
      },
      {
       "output_type": "stream",
       "stream": "stdout",
       "text": [
        " \r",
        "0689   1.138620e+05   1.000000e-15   4.636587e+02"
       ]
      },
      {
       "output_type": "stream",
       "stream": "stdout",
       "text": [
        " \r",
        "0690   1.138619e+05   1.000000e-15   1.946258e+02"
       ]
      },
      {
       "output_type": "stream",
       "stream": "stdout",
       "text": [
        " \r",
        "0691   1.138617e+05   1.000000e-15   1.034506e+03"
       ]
      },
      {
       "output_type": "stream",
       "stream": "stdout",
       "text": [
        " \r",
        "0692   1.138616e+05   1.000000e-15   1.382443e+02"
       ]
      },
      {
       "output_type": "stream",
       "stream": "stdout",
       "text": [
        " \r",
        "0693   1.138614e+05   1.000000e-15   2.810050e+03"
       ]
      },
      {
       "output_type": "stream",
       "stream": "stdout",
       "text": [
        " \r",
        "0694   1.138609e+05   1.000000e-15   3.585857e+02"
       ]
      },
      {
       "output_type": "stream",
       "stream": "stdout",
       "text": [
        " \r",
        "0695   1.138609e+05   1.000000e-15   5.588051e+02"
       ]
      },
      {
       "output_type": "stream",
       "stream": "stdout",
       "text": [
        " \r",
        "0696   1.138603e+05   1.000000e-15   4.193910e+02"
       ]
      },
      {
       "output_type": "stream",
       "stream": "stdout",
       "text": [
        " \r",
        "0697   1.138600e+05   1.000000e-15   3.924236e+02"
       ]
      },
      {
       "output_type": "stream",
       "stream": "stdout",
       "text": [
        " \r",
        "0698   1.138596e+05   1.000000e-15   4.702681e+03"
       ]
      },
      {
       "output_type": "stream",
       "stream": "stdout",
       "text": [
        " \r",
        "0699   1.138591e+05   1.000000e-15   2.373822e+02"
       ]
      },
      {
       "output_type": "stream",
       "stream": "stdout",
       "text": [
        " \r",
        "0700   1.138588e+05   1.000000e-15   5.693761e+03"
       ]
      },
      {
       "output_type": "stream",
       "stream": "stdout",
       "text": [
        " \r",
        "0701   1.138586e+05   1.000000e-15   2.247212e+02"
       ]
      },
      {
       "output_type": "stream",
       "stream": "stdout",
       "text": [
        " \r",
        "0702   1.138585e+05   1.000000e-15   2.190308e+02"
       ]
      },
      {
       "output_type": "stream",
       "stream": "stdout",
       "text": [
        " \r",
        "0703   1.138576e+05   1.000000e-15   2.441876e+03"
       ]
      },
      {
       "output_type": "stream",
       "stream": "stdout",
       "text": [
        " \r",
        "0704   1.138572e+05   1.000000e-15   3.906755e+02"
       ]
      },
      {
       "output_type": "stream",
       "stream": "stdout",
       "text": [
        " \r",
        "0705   1.138571e+05   1.000000e-15   1.741398e+03"
       ]
      },
      {
       "output_type": "stream",
       "stream": "stdout",
       "text": [
        " \r",
        "0706   1.138567e+05   1.000000e-15   2.226771e+02"
       ]
      },
      {
       "output_type": "stream",
       "stream": "stdout",
       "text": [
        " \r",
        "0707   1.138565e+05   1.000000e-15   3.114934e+02"
       ]
      },
      {
       "output_type": "stream",
       "stream": "stdout",
       "text": [
        " \r",
        "0708   1.138561e+05   1.000000e-15   5.085542e+03"
       ]
      },
      {
       "output_type": "stream",
       "stream": "stdout",
       "text": [
        " \r",
        "0709   1.138558e+05   1.000000e-15   2.265789e+02"
       ]
      },
      {
       "output_type": "stream",
       "stream": "stdout",
       "text": [
        " \r",
        "0710   1.138557e+05   1.000000e-15   2.801153e+03"
       ]
      },
      {
       "output_type": "stream",
       "stream": "stdout",
       "text": [
        " \r",
        "0711   1.138555e+05   1.000000e-15   1.705948e+02"
       ]
      },
      {
       "output_type": "stream",
       "stream": "stdout",
       "text": [
        " \r",
        "0712   1.138555e+05   1.000000e-15   3.977721e+02"
       ]
      },
      {
       "output_type": "stream",
       "stream": "stdout",
       "text": [
        " \r",
        "0713   1.138553e+05   1.000000e-15   1.340144e+02"
       ]
      },
      {
       "output_type": "stream",
       "stream": "stdout",
       "text": [
        " \r",
        "0714   1.138553e+05   1.000000e-15   1.772339e+02"
       ]
      },
      {
       "output_type": "stream",
       "stream": "stdout",
       "text": [
        " \r",
        "0715   1.138551e+05   1.000000e-15   3.980865e+02"
       ]
      },
      {
       "output_type": "stream",
       "stream": "stdout",
       "text": [
        " \r",
        "0716   1.138550e+05   1.000000e-15   2.075819e+02"
       ]
      },
      {
       "output_type": "stream",
       "stream": "stdout",
       "text": [
        " \r",
        "0717   1.138548e+05   1.000000e-15   2.262789e+03"
       ]
      },
      {
       "output_type": "stream",
       "stream": "stdout",
       "text": [
        " \r",
        "0718   1.138546e+05   1.000000e-15   1.766726e+02"
       ]
      },
      {
       "output_type": "stream",
       "stream": "stdout",
       "text": [
        " \r",
        "0719   1.138545e+05   1.000000e-15   1.530549e+03"
       ]
      },
      {
       "output_type": "stream",
       "stream": "stdout",
       "text": [
        " \r",
        "0720   1.138542e+05   1.000000e-15   2.583797e+02"
       ]
      },
      {
       "output_type": "stream",
       "stream": "stdout",
       "text": [
        " \r",
        "0721   1.138542e+05   1.000000e-15   3.942352e+02"
       ]
      },
      {
       "output_type": "stream",
       "stream": "stdout",
       "text": [
        " \r",
        "0722   1.138532e+05   1.000000e-15   4.861885e+02"
       ]
      },
      {
       "output_type": "stream",
       "stream": "stdout",
       "text": [
        " \r",
        "0723   1.138530e+05   1.000000e-15   1.774918e+03"
       ]
      },
      {
       "output_type": "stream",
       "stream": "stdout",
       "text": [
        " \r",
        "0724   1.138522e+05   1.000000e-15   5.833255e+03"
       ]
      },
      {
       "output_type": "stream",
       "stream": "stdout",
       "text": [
        " \r",
        "0725   1.138511e+05   1.000000e-15   2.117153e+03"
       ]
      },
      {
       "output_type": "stream",
       "stream": "stdout",
       "text": [
        " \r",
        "0726   1.138508e+05   1.000000e-15   7.365496e+03"
       ]
      },
      {
       "output_type": "stream",
       "stream": "stdout",
       "text": [
        " \r",
        "0727   1.138487e+05   1.000000e-15   1.740345e+03"
       ]
      },
      {
       "output_type": "stream",
       "stream": "stdout",
       "text": [
        " \r",
        "0728   1.138486e+05   1.000000e-15   1.603125e+03"
       ]
      },
      {
       "output_type": "stream",
       "stream": "stdout",
       "text": [
        " \r",
        "0729   1.138471e+05   1.000000e-15   1.775240e+03"
       ]
      },
      {
       "output_type": "stream",
       "stream": "stdout",
       "text": [
        " \r",
        "0730   1.138456e+05   1.000000e-15   8.076106e+02"
       ]
      },
      {
       "output_type": "stream",
       "stream": "stdout",
       "text": [
        " \r",
        "0731   1.138454e+05   1.000000e-15   4.687999e+03"
       ]
      },
      {
       "output_type": "stream",
       "stream": "stdout",
       "text": [
        " \r",
        "0732   1.138441e+05   1.000000e-15   8.465066e+02"
       ]
      },
      {
       "output_type": "stream",
       "stream": "stdout",
       "text": [
        " \r",
        "0733   1.138439e+05   1.000000e-15   7.988306e+02"
       ]
      },
      {
       "output_type": "stream",
       "stream": "stdout",
       "text": [
        " \r",
        "0734   1.138430e+05   1.000000e-15   4.603949e+03"
       ]
      },
      {
       "output_type": "stream",
       "stream": "stdout",
       "text": [
        " \r",
        "0735   1.138428e+05   1.000000e-15   3.533475e+02"
       ]
      },
      {
       "output_type": "stream",
       "stream": "stdout",
       "text": [
        " \r",
        "0736   1.138424e+05   1.000000e-15   4.637042e+03"
       ]
      },
      {
       "output_type": "stream",
       "stream": "stdout",
       "text": [
        " \r",
        "0737   1.138422e+05   1.000000e-15   2.697190e+02"
       ]
      },
      {
       "output_type": "stream",
       "stream": "stdout",
       "text": [
        " \r",
        "0738   1.138421e+05   1.000000e-15   2.211542e+03"
       ]
      },
      {
       "output_type": "stream",
       "stream": "stdout",
       "text": [
        " \r",
        "0739   1.138419e+05   1.000000e-15   2.769641e+02"
       ]
      },
      {
       "output_type": "stream",
       "stream": "stdout",
       "text": [
        " \r",
        "0740   1.138417e+05   1.000000e-15   1.954183e+03"
       ]
      },
      {
       "output_type": "stream",
       "stream": "stdout",
       "text": [
        " \r",
        "0741   1.138414e+05   1.000000e-15   3.479618e+02"
       ]
      },
      {
       "output_type": "stream",
       "stream": "stdout",
       "text": [
        " \r",
        "0742   1.138413e+05   1.000000e-15   2.323496e+03"
       ]
      },
      {
       "output_type": "stream",
       "stream": "stdout",
       "text": [
        " \r",
        "0743   1.138408e+05   1.000000e-15   5.129485e+02"
       ]
      },
      {
       "output_type": "stream",
       "stream": "stdout",
       "text": [
        " \r",
        "0744   1.138408e+05   1.000000e-15   1.363523e+03"
       ]
      },
      {
       "output_type": "stream",
       "stream": "stdout",
       "text": [
        " \r",
        "0745   1.138404e+05   1.000000e-15   3.915848e+02"
       ]
      },
      {
       "output_type": "stream",
       "stream": "stdout",
       "text": [
        " \r",
        "0746   1.138404e+05   1.000000e-15   6.917842e+02"
       ]
      },
      {
       "output_type": "stream",
       "stream": "stdout",
       "text": [
        " \r",
        "0747   1.138400e+05   1.000000e-15   3.913825e+02"
       ]
      },
      {
       "output_type": "stream",
       "stream": "stdout",
       "text": [
        " \r",
        "0748   1.138400e+05   1.000000e-15   4.463701e+02"
       ]
      },
      {
       "output_type": "stream",
       "stream": "stdout",
       "text": [
        " \r",
        "0749   1.138396e+05   1.000000e-15   7.383774e+02"
       ]
      },
      {
       "output_type": "stream",
       "stream": "stdout",
       "text": [
        " \r",
        "0750   1.138396e+05   1.000000e-15   2.535854e+02"
       ]
      },
      {
       "output_type": "stream",
       "stream": "stdout",
       "text": [
        " \r",
        "0751   1.138393e+05   1.000000e-15   8.236542e+02"
       ]
      },
      {
       "output_type": "stream",
       "stream": "stdout",
       "text": [
        " \r",
        "0752   1.138392e+05   1.000000e-15   2.343546e+02"
       ]
      },
      {
       "output_type": "stream",
       "stream": "stdout",
       "text": [
        " \r",
        "0753   1.138389e+05   1.000000e-15   1.977365e+03"
       ]
      },
      {
       "output_type": "stream",
       "stream": "stdout",
       "text": [
        " \r",
        "0754   1.138387e+05   1.000000e-15   2.443289e+02"
       ]
      },
      {
       "output_type": "stream",
       "stream": "stdout",
       "text": [
        " \r",
        "0755   1.138385e+05   1.000000e-15   3.548069e+03"
       ]
      },
      {
       "output_type": "stream",
       "stream": "stdout",
       "text": [
        " \r",
        "0756   1.138381e+05   1.000000e-15   2.409147e+02"
       ]
      },
      {
       "output_type": "stream",
       "stream": "stdout",
       "text": [
        " \r",
        "0757   1.138380e+05   1.000000e-15   2.881891e+03"
       ]
      },
      {
       "output_type": "stream",
       "stream": "stdout",
       "text": [
        " \r",
        "0758   1.138375e+05   1.000000e-15   2.205980e+02"
       ]
      },
      {
       "output_type": "stream",
       "stream": "stdout",
       "text": [
        " \r",
        "0759   1.138375e+05   1.000000e-15   8.193524e+02"
       ]
      },
      {
       "output_type": "stream",
       "stream": "stdout",
       "text": [
        " \r",
        "0760   1.138372e+05   1.000000e-15   3.366117e+02"
       ]
      },
      {
       "output_type": "stream",
       "stream": "stdout",
       "text": [
        " \r",
        "0761   1.138371e+05   1.000000e-15   2.504240e+02"
       ]
      },
      {
       "output_type": "stream",
       "stream": "stdout",
       "text": [
        " \r",
        "0762   1.138367e+05   1.000000e-15   2.425644e+03"
       ]
      },
      {
       "output_type": "stream",
       "stream": "stdout",
       "text": [
        " \r",
        "0763   1.138365e+05   1.000000e-15   1.760266e+02"
       ]
      },
      {
       "output_type": "stream",
       "stream": "stdout",
       "text": [
        " \r",
        "0764   1.138362e+05   1.000000e-15   2.961551e+03"
       ]
      },
      {
       "output_type": "stream",
       "stream": "stdout",
       "text": [
        " \r",
        "0765   1.138359e+05   1.000000e-15   2.909014e+02"
       ]
      },
      {
       "output_type": "stream",
       "stream": "stdout",
       "text": [
        " \r",
        "0766   1.138358e+05   1.000000e-15   2.264199e+03"
       ]
      },
      {
       "output_type": "stream",
       "stream": "stdout",
       "text": [
        " \r",
        "0767   1.138354e+05   1.000000e-15   3.015240e+02"
       ]
      },
      {
       "output_type": "stream",
       "stream": "stdout",
       "text": [
        " \r",
        "0768   1.138353e+05   1.000000e-15   5.912308e+02"
       ]
      },
      {
       "output_type": "stream",
       "stream": "stdout",
       "text": [
        " \r",
        "0769   1.138348e+05   1.000000e-15   4.343542e+02"
       ]
      },
      {
       "output_type": "stream",
       "stream": "stdout",
       "text": [
        " \r",
        "0770   1.138347e+05   1.000000e-15   2.592427e+02"
       ]
      },
      {
       "output_type": "stream",
       "stream": "stdout",
       "text": [
        " \r",
        "0771   1.138342e+05   1.000000e-15   1.056309e+03"
       ]
      },
      {
       "output_type": "stream",
       "stream": "stdout",
       "text": [
        " \r",
        "0772   1.138340e+05   1.000000e-15   2.398516e+02"
       ]
      },
      {
       "output_type": "stream",
       "stream": "stdout",
       "text": [
        " \r",
        "0773   1.138337e+05   1.000000e-15   3.833605e+03"
       ]
      },
      {
       "output_type": "stream",
       "stream": "stdout",
       "text": [
        " \r",
        "0774   1.138334e+05   1.000000e-15   2.279167e+02"
       ]
      },
      {
       "output_type": "stream",
       "stream": "stdout",
       "text": [
        " \r",
        "0775   1.138334e+05   1.000000e-15   5.220490e+02"
       ]
      },
      {
       "output_type": "stream",
       "stream": "stdout",
       "text": [
        " \r",
        "0776   1.138330e+05   1.000000e-15   3.192771e+02"
       ]
      },
      {
       "output_type": "stream",
       "stream": "stdout",
       "text": [
        " \r",
        "0777   1.138329e+05   1.000000e-15   2.203626e+02"
       ]
      },
      {
       "output_type": "stream",
       "stream": "stdout",
       "text": [
        " \r",
        "0778   1.138326e+05   1.000000e-15   2.998071e+03"
       ]
      },
      {
       "output_type": "stream",
       "stream": "stdout",
       "text": [
        " \r",
        "0779   1.138323e+05   1.000000e-15   1.767286e+02"
       ]
      },
      {
       "output_type": "stream",
       "stream": "stdout",
       "text": [
        " \r",
        "0780   1.138322e+05   1.000000e-15   2.698837e+03"
       ]
      },
      {
       "output_type": "stream",
       "stream": "stdout",
       "text": [
        " \r",
        "0781   1.138318e+05   1.000000e-15   1.950678e+02"
       ]
      },
      {
       "output_type": "stream",
       "stream": "stdout",
       "text": [
        " \r",
        "0782   1.138318e+05   1.000000e-15   1.078524e+03"
       ]
      },
      {
       "output_type": "stream",
       "stream": "stdout",
       "text": [
        " \r",
        "0783   1.138314e+05   1.000000e-15   3.608491e+02"
       ]
      },
      {
       "output_type": "stream",
       "stream": "stdout",
       "text": [
        " \r",
        "0784   1.138313e+05   1.000000e-15   2.249307e+02"
       ]
      },
      {
       "output_type": "stream",
       "stream": "stdout",
       "text": [
        " \r",
        "0785   1.138309e+05   1.000000e-15   1.536706e+03"
       ]
      },
      {
       "output_type": "stream",
       "stream": "stdout",
       "text": [
        " \r",
        "0786   1.138304e+05   1.000000e-15   2.329226e+02"
       ]
      },
      {
       "output_type": "stream",
       "stream": "stdout",
       "text": [
        " \r",
        "0787   1.138303e+05   1.000000e-15   1.913487e+03"
       ]
      },
      {
       "output_type": "stream",
       "stream": "stdout",
       "text": [
        " \r",
        "0788   1.138297e+05   1.000000e-15   2.949698e+02"
       ]
      },
      {
       "output_type": "stream",
       "stream": "stdout",
       "text": [
        " \r",
        "0789   1.138297e+05   1.000000e-15   3.462410e+02"
       ]
      },
      {
       "output_type": "stream",
       "stream": "stdout",
       "text": [
        " \r",
        "0790   1.138293e+05   1.000000e-15   4.051113e+02"
       ]
      },
      {
       "output_type": "stream",
       "stream": "stdout",
       "text": [
        " \r",
        "0791   1.138292e+05   1.000000e-15   2.146179e+02"
       ]
      },
      {
       "output_type": "stream",
       "stream": "stdout",
       "text": [
        " \r",
        "0792   1.138290e+05   1.000000e-15   2.034995e+03"
       ]
      },
      {
       "output_type": "stream",
       "stream": "stdout",
       "text": [
        " \r",
        "0793   1.138288e+05   1.000000e-15   1.647263e+02"
       ]
      },
      {
       "output_type": "stream",
       "stream": "stdout",
       "text": [
        " \r",
        "0794   1.138287e+05   1.000000e-15   1.166474e+02"
       ]
      },
      {
       "output_type": "stream",
       "stream": "stdout",
       "text": [
        " \r",
        "0795   1.138285e+05   1.000000e-15   8.256529e+02"
       ]
      },
      {
       "output_type": "stream",
       "stream": "stdout",
       "text": [
        " \r",
        "0796   1.138283e+05   1.000000e-15   1.539682e+02"
       ]
      },
      {
       "output_type": "stream",
       "stream": "stdout",
       "text": [
        " \r",
        "0797   1.138283e+05   1.000000e-15   3.025972e+02"
       ]
      },
      {
       "output_type": "stream",
       "stream": "stdout",
       "text": [
        " \r",
        "0798   1.138281e+05   1.000000e-15   2.523829e+02"
       ]
      },
      {
       "output_type": "stream",
       "stream": "stdout",
       "text": [
        " \r",
        "0799   1.138278e+05   1.000000e-15   1.158904e+02"
       ]
      },
      {
       "output_type": "stream",
       "stream": "stdout",
       "text": [
        " \r",
        "0800   1.138277e+05   1.000000e-15   2.416460e+03"
       ]
      },
      {
       "output_type": "stream",
       "stream": "stdout",
       "text": [
        " \r",
        "0801   1.138275e+05   1.000000e-15   1.598845e+02"
       ]
      },
      {
       "output_type": "stream",
       "stream": "stdout",
       "text": [
        " \r",
        "0802   1.138275e+05   1.000000e-15   5.552914e+02"
       ]
      },
      {
       "output_type": "stream",
       "stream": "stdout",
       "text": [
        " \r",
        "0803   1.138273e+05   1.000000e-15   1.199683e+02"
       ]
      },
      {
       "output_type": "stream",
       "stream": "stdout",
       "text": [
        " \r",
        "0804   1.138273e+05   1.000000e-15   1.279312e+02"
       ]
      },
      {
       "output_type": "stream",
       "stream": "stdout",
       "text": [
        " \r",
        "0805   1.138271e+05   1.000000e-15   7.453516e+02"
       ]
      },
      {
       "output_type": "stream",
       "stream": "stdout",
       "text": [
        " \r",
        "0806   1.138271e+05   1.000000e-15   7.532508e+01"
       ]
      },
      {
       "output_type": "stream",
       "stream": "stdout",
       "text": [
        " \r",
        "0807   1.138269e+05   1.000000e-15   1.471644e+03"
       ]
      },
      {
       "output_type": "stream",
       "stream": "stdout",
       "text": [
        " \r",
        "0808   1.138265e+05   1.000000e-15   1.085789e+02"
       ]
      },
      {
       "output_type": "stream",
       "stream": "stdout",
       "text": [
        " \r",
        "0809   1.138263e+05   1.000000e-15   1.656388e+02"
       ]
      },
      {
       "output_type": "stream",
       "stream": "stdout",
       "text": [
        " \r",
        "0810   1.138262e+05   1.000000e-15   1.654395e+03"
       ]
      },
      {
       "output_type": "stream",
       "stream": "stdout",
       "text": [
        " \r",
        "0811   1.138257e+05   1.000000e-15   3.546697e+02"
       ]
      },
      {
       "output_type": "stream",
       "stream": "stdout",
       "text": [
        " \r",
        "0812   1.138256e+05   1.000000e-15   4.090005e+02"
       ]
      },
      {
       "output_type": "stream",
       "stream": "stdout",
       "text": [
        " \r",
        "0813   1.138254e+05   1.000000e-15   8.277410e+02"
       ]
      },
      {
       "output_type": "stream",
       "stream": "stdout",
       "text": [
        " \r",
        "0814   1.138253e+05   1.000000e-15   2.821197e+02"
       ]
      },
      {
       "output_type": "stream",
       "stream": "stdout",
       "text": [
        " \r",
        "0815   1.138251e+05   1.000000e-15   7.132625e+02"
       ]
      },
      {
       "output_type": "stream",
       "stream": "stdout",
       "text": [
        " \r",
        "0816   1.138251e+05   1.000000e-15   3.198928e+02"
       ]
      },
      {
       "output_type": "stream",
       "stream": "stdout",
       "text": [
        " \r",
        "0817   1.138249e+05   1.000000e-15   1.067694e+03"
       ]
      },
      {
       "output_type": "stream",
       "stream": "stdout",
       "text": [
        " \r",
        "0818   1.138248e+05   1.000000e-15   3.752995e+02"
       ]
      },
      {
       "output_type": "stream",
       "stream": "stdout",
       "text": [
        " \r",
        "0819   1.138246e+05   1.000000e-15   1.439204e+03"
       ]
      },
      {
       "output_type": "stream",
       "stream": "stdout",
       "text": [
        " \r",
        "0820   1.138245e+05   1.000000e-15   4.040481e+02"
       ]
      },
      {
       "output_type": "stream",
       "stream": "stdout",
       "text": [
        " \r",
        "0821   1.138244e+05   1.000000e-15   1.772145e+03"
       ]
      },
      {
       "output_type": "stream",
       "stream": "stdout",
       "text": [
        " \r",
        "0822   1.138240e+05   1.000000e-15   3.761280e+02"
       ]
      },
      {
       "output_type": "stream",
       "stream": "stdout",
       "text": [
        " \r",
        "0823   1.138238e+05   1.000000e-15   3.465109e+03"
       ]
      },
      {
       "output_type": "stream",
       "stream": "stdout",
       "text": [
        " \r",
        "0824   1.138233e+05   1.000000e-15   3.234532e+02"
       ]
      },
      {
       "output_type": "stream",
       "stream": "stdout",
       "text": [
        " \r",
        "0825   1.138233e+05   1.000000e-15   5.015398e+02"
       ]
      },
      {
       "output_type": "stream",
       "stream": "stdout",
       "text": [
        " \r",
        "0826   1.138230e+05   1.000000e-15   3.591168e+02"
       ]
      },
      {
       "output_type": "stream",
       "stream": "stdout",
       "text": [
        " \r",
        "0827   1.138226e+05   1.000000e-15   1.714349e+02"
       ]
      },
      {
       "output_type": "stream",
       "stream": "stdout",
       "text": [
        " \r",
        "0828   1.138224e+05   1.000000e-15   2.584296e+02"
       ]
      },
      {
       "output_type": "stream",
       "stream": "stdout",
       "text": [
        " \r",
        "0829   1.138222e+05   1.000000e-15   3.060649e+03"
       ]
      },
      {
       "output_type": "stream",
       "stream": "stdout",
       "text": [
        " \r",
        "0830   1.138219e+05   1.000000e-15   1.306088e+02"
       ]
      },
      {
       "output_type": "stream",
       "stream": "stdout",
       "text": [
        " \r",
        "0831   1.138219e+05   1.000000e-15   2.283631e+02"
       ]
      },
      {
       "output_type": "stream",
       "stream": "stdout",
       "text": [
        " \r",
        "0832   1.138217e+05   1.000000e-15   2.314970e+02"
       ]
      },
      {
       "output_type": "stream",
       "stream": "stdout",
       "text": [
        " \r",
        "0833   1.138216e+05   1.000000e-15   1.223929e+02"
       ]
      },
      {
       "output_type": "stream",
       "stream": "stdout",
       "text": [
        " \r",
        "0834   1.138215e+05   1.000000e-15   7.741180e+01"
       ]
      },
      {
       "output_type": "stream",
       "stream": "stdout",
       "text": [
        " \r",
        "0835   1.138214e+05   1.000000e-15   6.489549e+02"
       ]
      },
      {
       "output_type": "stream",
       "stream": "stdout",
       "text": [
        " \r",
        "0836   1.138213e+05   1.000000e-15   6.799912e+01"
       ]
      },
      {
       "output_type": "stream",
       "stream": "stdout",
       "text": [
        " \r",
        "0837   1.138213e+05   1.000000e-15   3.102189e+02"
       ]
      },
      {
       "output_type": "stream",
       "stream": "stdout",
       "text": [
        " \r",
        "0838   1.138211e+05   1.000000e-15   7.531286e+01"
       ]
      },
      {
       "output_type": "stream",
       "stream": "stdout",
       "text": [
        " \r",
        "0839   1.138210e+05   1.000000e-15   9.749423e+01"
       ]
      },
      {
       "output_type": "stream",
       "stream": "stdout",
       "text": [
        " \r",
        "0840   1.138209e+05   1.000000e-15   1.214101e+03"
       ]
      },
      {
       "output_type": "stream",
       "stream": "stdout",
       "text": [
        " \r",
        "0841   1.138207e+05   1.000000e-15   1.158988e+02"
       ]
      },
      {
       "output_type": "stream",
       "stream": "stdout",
       "text": [
        " \r",
        "0842   1.138207e+05   1.000000e-15   1.032523e+02"
       ]
      },
      {
       "output_type": "stream",
       "stream": "stdout",
       "text": [
        " \r",
        "0843   1.138206e+05   1.000000e-15   1.881772e+02"
       ]
      },
      {
       "output_type": "stream",
       "stream": "stdout",
       "text": [
        " \r",
        "0844   1.138205e+05   1.000000e-15   7.456562e+01"
       ]
      },
      {
       "output_type": "stream",
       "stream": "stdout",
       "text": [
        " \r",
        "0845   1.138205e+05   1.000000e-15   6.049264e+02"
       ]
      },
      {
       "output_type": "stream",
       "stream": "stdout",
       "text": [
        " \r",
        "0846   1.138203e+05   1.000000e-15   7.638782e+01"
       ]
      },
      {
       "output_type": "stream",
       "stream": "stdout",
       "text": [
        " \r",
        "0847   1.138202e+05   1.000000e-15   8.359652e+01"
       ]
      },
      {
       "output_type": "stream",
       "stream": "stdout",
       "text": [
        " \r",
        "0848   1.138201e+05   1.000000e-15   1.264180e+03"
       ]
      },
      {
       "output_type": "stream",
       "stream": "stdout",
       "text": [
        " \r",
        "0849   1.138200e+05   1.000000e-15   8.915394e+01"
       ]
      },
      {
       "output_type": "stream",
       "stream": "stdout",
       "text": [
        " \r",
        "0850   1.138200e+05   1.000000e-15   1.248441e+02"
       ]
      },
      {
       "output_type": "stream",
       "stream": "stdout",
       "text": [
        " \r",
        "0851   1.138198e+05   1.000000e-15   2.196670e+02"
       ]
      },
      {
       "output_type": "stream",
       "stream": "stdout",
       "text": [
        " \r",
        "0852   1.138197e+05   1.000000e-15   8.362812e+01"
       ]
      },
      {
       "output_type": "stream",
       "stream": "stdout",
       "text": [
        " \r",
        "0853   1.138196e+05   1.000000e-15   1.650861e+02"
       ]
      },
      {
       "output_type": "stream",
       "stream": "stdout",
       "text": [
        " \r",
        "0854   1.138194e+05   1.000000e-15   2.322252e+02"
       ]
      },
      {
       "output_type": "stream",
       "stream": "stdout",
       "text": [
        " \r",
        "0855   1.138193e+05   1.000000e-15   1.199422e+02"
       ]
      },
      {
       "output_type": "stream",
       "stream": "stdout",
       "text": [
        " \r",
        "0856   1.138192e+05   1.000000e-15   7.177512e+02"
       ]
      },
      {
       "output_type": "stream",
       "stream": "stdout",
       "text": [
        " \r",
        "0857   1.138191e+05   1.000000e-15   8.623398e+01"
       ]
      },
      {
       "output_type": "stream",
       "stream": "stdout",
       "text": [
        " \r",
        "0858   1.138190e+05   1.000000e-15   9.651840e+01"
       ]
      },
      {
       "output_type": "stream",
       "stream": "stdout",
       "text": [
        " \r",
        "0859   1.138189e+05   1.000000e-15   1.079604e+03"
       ]
      },
      {
       "output_type": "stream",
       "stream": "stdout",
       "text": [
        " \r",
        "0860   1.138188e+05   1.000000e-15   6.699439e+01"
       ]
      },
      {
       "output_type": "stream",
       "stream": "stdout",
       "text": [
        " \r",
        "0861   1.138188e+05   1.000000e-15   1.300391e+02"
       ]
      },
      {
       "output_type": "stream",
       "stream": "stdout",
       "text": [
        " \r",
        "0862   1.138186e+05   1.000000e-15   3.121690e+02"
       ]
      },
      {
       "output_type": "stream",
       "stream": "stdout",
       "text": [
        " \r",
        "0863   1.138185e+05   1.000000e-15   6.886930e+01"
       ]
      },
      {
       "output_type": "stream",
       "stream": "stdout",
       "text": [
        " \r",
        "0864   1.138185e+05   1.000000e-15   3.361684e+02"
       ]
      },
      {
       "output_type": "stream",
       "stream": "stdout",
       "text": [
        " \r",
        "0865   1.138184e+05   1.000000e-15   7.467467e+01"
       ]
      },
      {
       "output_type": "stream",
       "stream": "stdout",
       "text": [
        " \r",
        "0866   1.138183e+05   1.000000e-15   6.301713e+01"
       ]
      },
      {
       "output_type": "stream",
       "stream": "stdout",
       "text": [
        " \r",
        "0867   1.138183e+05   1.000000e-15   2.751486e+02"
       ]
      },
      {
       "output_type": "stream",
       "stream": "stdout",
       "text": [
        " \r",
        "0868   1.138182e+05   1.000000e-15   6.542898e+01"
       ]
      },
      {
       "output_type": "stream",
       "stream": "stdout",
       "text": [
        " \r",
        "0869   1.138181e+05   1.000000e-15   5.735817e+01"
       ]
      },
      {
       "output_type": "stream",
       "stream": "stdout",
       "text": [
        " \r",
        "0870   1.138180e+05   1.000000e-15   9.188962e+02"
       ]
      },
      {
       "output_type": "stream",
       "stream": "stdout",
       "text": [
        " \r",
        "0871   1.138179e+05   1.000000e-15   5.892019e+01"
       ]
      },
      {
       "output_type": "stream",
       "stream": "stdout",
       "text": [
        " \r",
        "0872   1.138179e+05   1.000000e-15   1.091285e+02"
       ]
      },
      {
       "output_type": "stream",
       "stream": "stdout",
       "text": [
        " \r",
        "0873   1.138178e+05   1.000000e-15   1.396799e+02"
       ]
      },
      {
       "output_type": "stream",
       "stream": "stdout",
       "text": [
        " \r",
        "0874   1.138177e+05   1.000000e-15   6.103100e+01"
       ]
      },
      {
       "output_type": "stream",
       "stream": "stdout",
       "text": [
        " \r",
        "0875   1.138177e+05   1.000000e-15   8.248933e+02"
       ]
      },
      {
       "output_type": "stream",
       "stream": "stdout",
       "text": [
        " \r",
        "0876   1.138175e+05   1.000000e-15   6.492834e+01"
       ]
      },
      {
       "output_type": "stream",
       "stream": "stdout",
       "text": [
        " \r",
        "0877   1.138175e+05   1.000000e-15   7.599442e+01"
       ]
      },
      {
       "output_type": "stream",
       "stream": "stdout",
       "text": [
        " \r",
        "0878   1.138174e+05   1.000000e-15   1.893336e+02"
       ]
      },
      {
       "output_type": "stream",
       "stream": "stdout",
       "text": [
        " \r",
        "0879   1.138173e+05   1.000000e-15   6.943819e+01"
       ]
      },
      {
       "output_type": "stream",
       "stream": "stdout",
       "text": [
        " \r",
        "0880   1.138173e+05   1.000000e-15   6.216324e+02"
       ]
      },
      {
       "output_type": "stream",
       "stream": "stdout",
       "text": [
        " \r",
        "0881   1.138172e+05   1.000000e-15   5.743677e+01"
       ]
      },
      {
       "output_type": "stream",
       "stream": "stdout",
       "text": [
        " \r",
        "0882   1.138172e+05   1.000000e-15   6.887458e+01"
       ]
      },
      {
       "output_type": "stream",
       "stream": "stdout",
       "text": [
        " \r",
        "0883   1.138171e+05   1.000000e-15   2.937772e+02"
       ]
      },
      {
       "output_type": "stream",
       "stream": "stdout",
       "text": [
        " \r",
        "0884   1.138170e+05   1.000000e-15   5.394463e+01"
       ]
      },
      {
       "output_type": "stream",
       "stream": "stdout",
       "text": [
        " \r",
        "0885   1.138169e+05   1.000000e-15   4.106205e+02"
       ]
      },
      {
       "output_type": "stream",
       "stream": "stdout",
       "text": [
        " \r",
        "0886   1.138168e+05   1.000000e-15   8.114026e+01"
       ]
      },
      {
       "output_type": "stream",
       "stream": "stdout",
       "text": [
        " \r",
        "0887   1.138168e+05   1.000000e-15   7.354989e+01"
       ]
      },
      {
       "output_type": "stream",
       "stream": "stdout",
       "text": [
        " \r",
        "0888   1.138167e+05   1.000000e-15   7.653094e+02"
       ]
      },
      {
       "output_type": "stream",
       "stream": "stdout",
       "text": [
        " \r",
        "0889   1.138166e+05   1.000000e-15   4.699470e+01"
       ]
      },
      {
       "output_type": "stream",
       "stream": "stdout",
       "text": [
        " \r",
        "0890   1.138166e+05   1.000000e-15   5.994428e+01"
       ]
      },
      {
       "output_type": "stream",
       "stream": "stdout",
       "text": [
        " \r",
        "0891   1.138165e+05   1.000000e-15   4.775077e+02"
       ]
      },
      {
       "output_type": "stream",
       "stream": "stdout",
       "text": [
        " \r",
        "0892   1.138164e+05   1.000000e-15   3.422898e+01"
       ]
      },
      {
       "output_type": "stream",
       "stream": "stdout",
       "text": [
        " \r",
        "0893   1.138164e+05   1.000000e-15   2.164446e+02"
       ]
      },
      {
       "output_type": "stream",
       "stream": "stdout",
       "text": [
        " \r",
        "0894   1.138163e+05   1.000000e-15   5.821519e+01"
       ]
      },
      {
       "output_type": "stream",
       "stream": "stdout",
       "text": [
        " \r",
        "0895   1.138163e+05   1.000000e-15   4.035065e+01"
       ]
      },
      {
       "output_type": "stream",
       "stream": "stdout",
       "text": [
        " \r",
        "0896   1.138162e+05   1.000000e-15   5.646566e+02"
       ]
      },
      {
       "output_type": "stream",
       "stream": "stdout",
       "text": [
        " \r",
        "0897   1.138162e+05   1.000000e-15   5.603805e+01"
       ]
      },
      {
       "output_type": "stream",
       "stream": "stdout",
       "text": [
        " \r",
        "0898   1.138161e+05   1.000000e-15   4.102676e+01"
       ]
      },
      {
       "output_type": "stream",
       "stream": "stdout",
       "text": [
        " \r",
        "0899   1.138161e+05   1.000000e-15   3.249978e+02"
       ]
      },
      {
       "output_type": "stream",
       "stream": "stdout",
       "text": [
        " \r",
        "0900   1.138160e+05   1.000000e-15   3.951133e+01"
       ]
      },
      {
       "output_type": "stream",
       "stream": "stdout",
       "text": [
        " \r",
        "0901   1.138160e+05   1.000000e-15   3.787781e+01"
       ]
      },
      {
       "output_type": "stream",
       "stream": "stdout",
       "text": [
        " \r",
        "0902   1.138159e+05   1.000000e-15   4.141177e+02"
       ]
      },
      {
       "output_type": "stream",
       "stream": "stdout",
       "text": [
        " \r",
        "0903   1.138159e+05   1.000000e-15   2.875944e+01"
       ]
      },
      {
       "output_type": "stream",
       "stream": "stdout",
       "text": [
        " \r",
        "0904   1.138159e+05   1.000000e-15   5.748502e+01"
       ]
      },
      {
       "output_type": "stream",
       "stream": "stdout",
       "text": [
        " \r",
        "0905   1.138158e+05   1.000000e-15   6.210084e+01"
       ]
      },
      {
       "output_type": "stream",
       "stream": "stdout",
       "text": [
        " \r",
        "0906   1.138158e+05   1.000000e-15   2.633249e+01"
       ]
      },
      {
       "output_type": "stream",
       "stream": "stdout",
       "text": [
        " \r",
        "0907   1.138158e+05   1.000000e-15   2.240456e+02"
       ]
      },
      {
       "output_type": "stream",
       "stream": "stdout",
       "text": [
        " \r",
        "0908   1.138158e+05   1.000000e-15   1.675821e+01"
       ]
      },
      {
       "output_type": "stream",
       "stream": "stdout",
       "text": [
        " \r",
        "0909   1.138157e+05   1.000000e-15   1.375994e+01"
       ]
      },
      {
       "output_type": "stream",
       "stream": "stdout",
       "text": [
        " \r",
        "0910   1.138157e+05   1.000000e-15   2.158764e+01"
       ]
      },
      {
       "output_type": "stream",
       "stream": "stdout",
       "text": [
        " \r",
        "0911   1.138157e+05   1.000000e-15   1.970591e+01"
       ]
      },
      {
       "output_type": "stream",
       "stream": "stdout",
       "text": [
        " \r",
        "0912   1.138157e+05   1.000000e-15   9.929305e+00"
       ]
      },
      {
       "output_type": "stream",
       "stream": "stdout",
       "text": [
        " \n",
        "\r"
       ]
      },
      {
       "output_type": "stream",
       "stream": "stdout",
       "text": [
        "0913   1.138157e+05   1.000000e-15   1.091758e+01"
       ]
      },
      {
       "output_type": "stream",
       "stream": "stdout",
       "text": [
        " \r",
        "0914   1.138157e+05   1.000000e-15   4.865907e+01"
       ]
      },
      {
       "output_type": "stream",
       "stream": "stdout",
       "text": [
        " \r",
        "0915   1.138157e+05   1.000000e-15   8.243786e+00"
       ]
      },
      {
       "output_type": "stream",
       "stream": "stdout",
       "text": [
        " \r",
        "0916   1.138157e+05   1.000000e-15   8.468973e+00"
       ]
      },
      {
       "output_type": "stream",
       "stream": "stdout",
       "text": [
        " \r",
        "0917   1.138157e+05   1.000000e-15   2.173528e+01"
       ]
      },
      {
       "output_type": "stream",
       "stream": "stdout",
       "text": [
        " \r",
        "0918   1.138156e+05   1.000000e-15   5.379188e+00"
       ]
      },
      {
       "output_type": "stream",
       "stream": "stdout",
       "text": [
        " \r",
        "0919   1.138156e+05   1.000000e-15   2.904493e+01"
       ]
      },
      {
       "output_type": "stream",
       "stream": "stdout",
       "text": [
        " \r",
        "0920   1.138156e+05   1.000000e-15   5.958881e+00"
       ]
      },
      {
       "output_type": "stream",
       "stream": "stdout",
       "text": [
        " \r",
        "0921   1.138156e+05   1.000000e-15   4.726852e+00"
       ]
      },
      {
       "output_type": "stream",
       "stream": "stdout",
       "text": [
        " \r",
        "0922   1.138156e+05   1.000000e-15   4.738352e+01"
       ]
      },
      {
       "output_type": "stream",
       "stream": "stdout",
       "text": [
        " \r",
        "0923   1.138156e+05   1.000000e-15   9.594258e+00"
       ]
      },
      {
       "output_type": "stream",
       "stream": "stdout",
       "text": [
        " \r",
        "0924   1.138156e+05   1.000000e-15   8.834833e+00"
       ]
      },
      {
       "output_type": "stream",
       "stream": "stdout",
       "text": [
        " \r",
        "0925   1.138156e+05   1.000000e-15   6.949730e+01"
       ]
      },
      {
       "output_type": "stream",
       "stream": "stdout",
       "text": [
        " \r",
        "0926   1.138156e+05   1.000000e-15   9.709598e+00"
       ]
      },
      {
       "output_type": "stream",
       "stream": "stdout",
       "text": [
        " \r",
        "0927   1.138156e+05   1.000000e-15   1.232413e+01"
       ]
      },
      {
       "output_type": "stream",
       "stream": "stdout",
       "text": [
        " \r",
        "0928   1.138156e+05   1.000000e-15   1.352921e+02"
       ]
      },
      {
       "output_type": "stream",
       "stream": "stdout",
       "text": [
        " \r",
        "0929   1.138155e+05   1.000000e-15   1.000559e+01"
       ]
      },
      {
       "output_type": "stream",
       "stream": "stdout",
       "text": [
        " \r",
        "0930   1.138155e+05   1.000000e-15   1.701052e+01"
       ]
      },
      {
       "output_type": "stream",
       "stream": "stdout",
       "text": [
        " \r",
        "0931   1.138155e+05   1.000000e-15   3.026043e+01"
       ]
      },
      {
       "output_type": "stream",
       "stream": "stdout",
       "text": [
        " \r",
        "0932   1.138155e+05   1.000000e-15   1.186110e+01"
       ]
      },
      {
       "output_type": "stream",
       "stream": "stdout",
       "text": [
        " \r",
        "0933   1.138155e+05   1.000000e-15   1.784875e+01"
       ]
      },
      {
       "output_type": "stream",
       "stream": "stdout",
       "text": [
        " \r",
        "0934   1.138155e+05   1.000000e-15   4.762710e+01"
       ]
      },
      {
       "output_type": "stream",
       "stream": "stdout",
       "text": [
        " \r",
        "0935   1.138154e+05   1.000000e-15   1.469702e+01"
       ]
      },
      {
       "output_type": "stream",
       "stream": "stdout",
       "text": [
        " \r",
        "0936   1.138154e+05   1.000000e-15   1.433316e+01"
       ]
      },
      {
       "output_type": "stream",
       "stream": "stdout",
       "text": [
        " \r",
        "0937   1.138154e+05   1.000000e-15   1.126710e+02"
       ]
      },
      {
       "output_type": "stream",
       "stream": "stdout",
       "text": [
        " \r",
        "0938   1.138154e+05   1.000000e-15   1.439722e+01"
       ]
      },
      {
       "output_type": "stream",
       "stream": "stdout",
       "text": [
        " \r",
        "0939   1.138154e+05   1.000000e-15   3.651444e+01"
       ]
      },
      {
       "output_type": "stream",
       "stream": "stdout",
       "text": [
        " \r",
        "0940   1.138153e+05   1.000000e-15   3.674730e+01"
       ]
      },
      {
       "output_type": "stream",
       "stream": "stdout",
       "text": [
        " \r",
        "0941   1.138153e+05   1.000000e-15   1.661234e+01"
       ]
      },
      {
       "output_type": "stream",
       "stream": "stdout",
       "text": [
        " \r",
        "0942   1.138153e+05   1.000000e-15   2.524084e+01"
       ]
      },
      {
       "output_type": "stream",
       "stream": "stdout",
       "text": [
        " \r",
        "0943   1.138153e+05   1.000000e-15   4.771088e+01"
       ]
      },
      {
       "output_type": "stream",
       "stream": "stdout",
       "text": [
        " \r",
        "0944   1.138152e+05   1.000000e-15   1.341255e+01"
       ]
      },
      {
       "output_type": "stream",
       "stream": "stdout",
       "text": [
        " \r",
        "0945   1.138152e+05   1.000000e-15   5.484194e+01"
       ]
      },
      {
       "output_type": "stream",
       "stream": "stdout",
       "text": [
        " \r",
        "0946   1.138152e+05   1.000000e-15   2.744435e+01"
       ]
      },
      {
       "output_type": "stream",
       "stream": "stdout",
       "text": [
        " \r",
        "0947   1.138152e+05   1.000000e-15   1.540876e+01"
       ]
      },
      {
       "output_type": "stream",
       "stream": "stdout",
       "text": [
        " \r",
        "0948   1.138152e+05   1.000000e-15   6.935587e+01"
       ]
      },
      {
       "output_type": "stream",
       "stream": "stdout",
       "text": [
        " \r",
        "0949   1.138151e+05   1.000000e-15   2.627767e+01"
       ]
      },
      {
       "output_type": "stream",
       "stream": "stdout",
       "text": [
        " \r",
        "0950   1.138151e+05   1.000000e-15   1.384617e+01"
       ]
      },
      {
       "output_type": "stream",
       "stream": "stdout",
       "text": [
        " \r",
        "0951   1.138151e+05   1.000000e-15   5.026279e+01"
       ]
      },
      {
       "output_type": "stream",
       "stream": "stdout",
       "text": [
        " \r",
        "0952   1.138151e+05   1.000000e-15   1.977079e+01"
       ]
      },
      {
       "output_type": "stream",
       "stream": "stdout",
       "text": [
        " \r",
        "0953   1.138151e+05   1.000000e-15   1.302233e+01"
       ]
      },
      {
       "output_type": "stream",
       "stream": "stdout",
       "text": [
        " \r",
        "0954   1.138151e+05   1.000000e-15   6.837622e+01"
       ]
      },
      {
       "output_type": "stream",
       "stream": "stdout",
       "text": [
        " \r",
        "0955   1.138150e+05   1.000000e-15   9.373732e+00"
       ]
      },
      {
       "output_type": "stream",
       "stream": "stdout",
       "text": [
        " \r",
        "0956   1.138150e+05   1.000000e-15   9.323573e+00"
       ]
      },
      {
       "output_type": "stream",
       "stream": "stdout",
       "text": [
        " \r",
        "0957   1.138150e+05   1.000000e-15   1.409495e+02"
       ]
      },
      {
       "output_type": "stream",
       "stream": "stdout",
       "text": [
        " \r",
        "0958   1.138150e+05   1.000000e-15   9.292047e+00"
       ]
      },
      {
       "output_type": "stream",
       "stream": "stdout",
       "text": [
        " \r",
        "0959   1.138150e+05   1.000000e-15   1.317227e+01"
       ]
      },
      {
       "output_type": "stream",
       "stream": "stdout",
       "text": [
        " \r",
        "0960   1.138150e+05   1.000000e-15   6.508811e+01"
       ]
      },
      {
       "output_type": "stream",
       "stream": "stdout",
       "text": [
        " \r",
        "0961   1.138150e+05   1.000000e-15   1.206728e+01"
       ]
      },
      {
       "output_type": "stream",
       "stream": "stdout",
       "text": [
        " \r",
        "0962   1.138150e+05   1.000000e-15   1.071672e+01"
       ]
      },
      {
       "output_type": "stream",
       "stream": "stdout",
       "text": [
        " \r",
        "0963   1.138149e+05   1.000000e-15   6.455256e+01"
       ]
      },
      {
       "output_type": "stream",
       "stream": "stdout",
       "text": [
        " \r",
        "0964   1.138149e+05   1.000000e-15   7.665848e+00"
       ]
      },
      {
       "output_type": "stream",
       "stream": "stdout",
       "text": [
        " \r",
        "0965   1.138149e+05   1.000000e-15   2.834085e+01"
       ]
      },
      {
       "output_type": "stream",
       "stream": "stdout",
       "text": [
        " \r",
        "0966   1.138149e+05   1.000000e-15   1.457105e+01"
       ]
      },
      {
       "output_type": "stream",
       "stream": "stdout",
       "text": [
        " \r",
        "0967   1.138149e+05   1.000000e-15   6.644637e+00"
       ]
      },
      {
       "output_type": "stream",
       "stream": "stdout",
       "text": [
        " \r",
        "0968   1.138149e+05   1.000000e-15   1.251637e+02"
       ]
      },
      {
       "output_type": "stream",
       "stream": "stdout",
       "text": [
        " \r",
        "0969   1.138149e+05   1.000000e-15   1.017575e+01"
       ]
      },
      {
       "output_type": "stream",
       "stream": "stdout",
       "text": [
        " \r",
        "0970   1.138149e+05   1.000000e-15   7.295123e+00"
       ]
      },
      {
       "output_type": "stream",
       "stream": "stdout",
       "text": [
        " \r",
        "0971   1.138149e+05   1.000000e-15   1.229362e+02"
       ]
      },
      {
       "output_type": "stream",
       "stream": "stdout",
       "text": [
        " \r",
        "0972   1.138149e+05   1.000000e-15   7.895069e+00"
       ]
      },
      {
       "output_type": "stream",
       "stream": "stdout",
       "text": [
        " \r",
        "0973   1.138149e+05   1.000000e-15   7.610720e+00"
       ]
      },
      {
       "output_type": "stream",
       "stream": "stdout",
       "text": [
        " \r",
        "0974   1.138148e+05   1.000000e-15   3.348722e+01"
       ]
      },
      {
       "output_type": "stream",
       "stream": "stdout",
       "text": [
        " \r",
        "0975   1.138148e+05   1.000000e-15   4.988168e+00"
       ]
      },
      {
       "output_type": "stream",
       "stream": "stdout",
       "text": [
        " \r",
        "0976   1.138148e+05   1.000000e-15   1.691057e+01"
       ]
      },
      {
       "output_type": "stream",
       "stream": "stdout",
       "text": [
        " \r",
        "0977   1.138148e+05   1.000000e-15   5.325513e+00"
       ]
      },
      {
       "output_type": "stream",
       "stream": "stdout",
       "text": [
        " \r",
        "0978   1.138148e+05   1.000000e-15   4.897563e+00"
       ]
      },
      {
       "output_type": "stream",
       "stream": "stdout",
       "text": [
        " \r",
        "0979   1.138148e+05   1.000000e-15   6.448054e+01"
       ]
      },
      {
       "output_type": "stream",
       "stream": "stdout",
       "text": [
        " \r",
        "0980   1.138148e+05   1.000000e-15   5.461036e+00"
       ]
      },
      {
       "output_type": "stream",
       "stream": "stdout",
       "text": [
        " \r",
        "0981   1.138148e+05   1.000000e-15   5.922354e+00"
       ]
      },
      {
       "output_type": "stream",
       "stream": "stdout",
       "text": [
        " \r",
        "0982   1.138148e+05   1.000000e-15   7.616060e+01"
       ]
      },
      {
       "output_type": "stream",
       "stream": "stdout",
       "text": [
        " \r",
        "0983   1.138148e+05   1.000000e-15   5.177971e+00"
       ]
      },
      {
       "output_type": "stream",
       "stream": "stdout",
       "text": [
        " \r",
        "0984   1.138148e+05   1.000000e-15   7.010426e+00"
       ]
      },
      {
       "output_type": "stream",
       "stream": "stdout",
       "text": [
        " \r",
        "0985   1.138148e+05   1.000000e-15   7.016066e+01"
       ]
      },
      {
       "output_type": "stream",
       "stream": "stdout",
       "text": [
        " \r",
        "0986   1.138148e+05   1.000000e-15   5.147833e+00"
       ]
      },
      {
       "output_type": "stream",
       "stream": "stdout",
       "text": [
        " \r",
        "0987   1.138148e+05   1.000000e-15   5.426504e+00"
       ]
      },
      {
       "output_type": "stream",
       "stream": "stdout",
       "text": [
        " \r",
        "0988   1.138148e+05   1.000000e-15   1.589141e+01"
       ]
      },
      {
       "output_type": "stream",
       "stream": "stdout",
       "text": [
        " \r",
        "0989   1.138148e+05   1.000000e-15   4.617645e+00"
       ]
      },
      {
       "output_type": "stream",
       "stream": "stdout",
       "text": [
        " \r",
        "0990   1.138148e+05   1.000000e-15   8.253092e+00"
       ]
      },
      {
       "output_type": "stream",
       "stream": "stdout",
       "text": [
        " \r",
        "0991   1.138147e+05   1.000000e-15   1.407251e+01"
       ]
      },
      {
       "output_type": "stream",
       "stream": "stdout",
       "text": [
        " \r",
        "0992   1.138147e+05   1.000000e-15   4.551913e+00"
       ]
      },
      {
       "output_type": "stream",
       "stream": "stdout",
       "text": [
        " \r",
        "0993   1.138147e+05   1.000000e-15   1.196406e+01"
       ]
      },
      {
       "output_type": "stream",
       "stream": "stdout",
       "text": [
        " \r",
        "0994   1.138147e+05   1.000000e-15   5.085569e+00"
       ]
      },
      {
       "output_type": "stream",
       "stream": "stdout",
       "text": [
        " \r",
        "0995   1.138147e+05   1.000000e-15   3.473335e+00"
       ]
      },
      {
       "output_type": "stream",
       "stream": "stdout",
       "text": [
        " \r",
        "0996   1.138147e+05   1.000000e-15   3.652488e+01"
       ]
      },
      {
       "output_type": "stream",
       "stream": "stdout",
       "text": [
        " \r",
        "0997   1.138147e+05   1.000000e-15   4.445551e+00"
       ]
      },
      {
       "output_type": "stream",
       "stream": "stdout",
       "text": [
        " \r",
        "0998   1.138147e+05   1.000000e-15   3.025931e+00"
       ]
      },
      {
       "output_type": "stream",
       "stream": "stdout",
       "text": [
        " \r",
        "0999   1.138147e+05   1.000000e-15   4.382379e+01"
       ]
      },
      {
       "output_type": "stream",
       "stream": "stdout",
       "text": [
        " \r",
        "1000   1.138147e+05   1.000000e-15   2.969414e+00"
       ]
      },
      {
       "output_type": "stream",
       "stream": "stdout",
       "text": [
        " \r",
        "1001   1.138147e+05   1.000000e-15   2.581151e+00"
       ]
      },
      {
       "output_type": "stream",
       "stream": "stdout",
       "text": [
        " \r",
        "1002   1.138147e+05   1.000000e-15   2.390041e+01"
       ]
      },
      {
       "output_type": "stream",
       "stream": "stdout",
       "text": [
        " \r",
        "1003   1.138147e+05   1.000000e-15   1.825207e+00"
       ]
      },
      {
       "output_type": "stream",
       "stream": "stdout",
       "text": [
        " \r",
        "1004   1.138147e+05   1.000000e-15   1.998089e+00"
       ]
      },
      {
       "output_type": "stream",
       "stream": "stdout",
       "text": [
        " \r",
        "1005   1.138147e+05   1.000000e-15   1.977480e+01"
       ]
      },
      {
       "output_type": "stream",
       "stream": "stdout",
       "text": [
        " \r",
        "1006   1.138147e+05   1.000000e-15   1.248428e+00"
       ]
      },
      {
       "output_type": "stream",
       "stream": "stdout",
       "text": [
        " \r",
        "1007   1.138147e+05   1.000000e-15   1.343316e+00"
       ]
      },
      {
       "output_type": "stream",
       "stream": "stdout",
       "text": [
        " \r",
        "1008   1.138147e+05   1.000000e-15   1.779137e+01"
       ]
      },
      {
       "output_type": "stream",
       "stream": "stdout",
       "text": [
        " \r",
        "1009   1.138147e+05   1.000000e-15   1.774257e+00"
       ]
      },
      {
       "output_type": "stream",
       "stream": "stdout",
       "text": [
        " \r",
        "1010   1.138147e+05   1.000000e-15   1.237937e+00"
       ]
      },
      {
       "output_type": "stream",
       "stream": "stdout",
       "text": [
        " \r",
        "1011   1.138147e+05   1.000000e-15   3.599856e+00"
       ]
      },
      {
       "output_type": "stream",
       "stream": "stdout",
       "text": [
        " \r",
        "1012   1.138147e+05   1.000000e-15   1.683840e+00"
       ]
      },
      {
       "output_type": "stream",
       "stream": "stdout",
       "text": [
        " \r",
        "1013   1.138147e+05   1.000000e-15   9.592381e-01"
       ]
      },
      {
       "output_type": "stream",
       "stream": "stdout",
       "text": [
        " \r",
        "1014   1.138147e+05   1.000000e-15   9.596912e-01"
       ]
      },
      {
       "output_type": "stream",
       "stream": "stdout",
       "text": [
        " \r",
        "1015   1.138147e+05   1.000000e-15   9.839803e+00"
       ]
      },
      {
       "output_type": "stream",
       "stream": "stdout",
       "text": [
        " \r",
        "1016   1.138147e+05   1.000000e-15   9.008987e-01"
       ]
      },
      {
       "output_type": "stream",
       "stream": "stdout",
       "text": [
        " \r",
        "1017   1.138147e+05   1.000000e-15   7.219206e-01"
       ]
      },
      {
       "output_type": "stream",
       "stream": "stdout",
       "text": [
        " \r",
        "1018   1.138147e+05   1.000000e-15   1.955850e+00"
       ]
      },
      {
       "output_type": "stream",
       "stream": "stdout",
       "text": [
        " \r",
        "1019   1.138147e+05   1.000000e-15   1.080009e+00"
       ]
      },
      {
       "output_type": "stream",
       "stream": "stdout",
       "text": [
        " \r",
        "1020   1.138147e+05   1.000000e-15   8.120198e-01"
       ]
      },
      {
       "output_type": "stream",
       "stream": "stdout",
       "text": [
        " \r",
        "1021   1.138147e+05   1.000000e-15   6.105064e-01"
       ]
      },
      {
       "output_type": "stream",
       "stream": "stdout",
       "text": [
        " \r",
        "1022   1.138147e+05   1.000000e-15   1.408136e+00"
       ]
      },
      {
       "output_type": "stream",
       "stream": "stdout",
       "text": [
        " \r",
        "1023   1.138147e+05   1.000000e-15   1.037372e+00"
       ]
      },
      {
       "output_type": "stream",
       "stream": "stdout",
       "text": [
        " \r",
        "1024   1.138147e+05   1.000000e-15   5.482481e-01"
       ]
      },
      {
       "output_type": "stream",
       "stream": "stdout",
       "text": [
        " \r",
        "1025   1.138147e+05   1.000000e-15   5.233050e-01"
       ]
      },
      {
       "output_type": "stream",
       "stream": "stdout",
       "text": [
        " \r",
        "1026   1.138147e+05   1.000000e-15   4.591322e+00"
       ]
      },
      {
       "output_type": "stream",
       "stream": "stdout",
       "text": [
        " \r",
        "1027   1.138147e+05   1.000000e-15   4.700619e-01"
       ]
      },
      {
       "output_type": "stream",
       "stream": "stdout",
       "text": [
        " \r",
        "1028   1.138147e+05   1.000000e-15   4.208704e-01"
       ]
      },
      {
       "output_type": "stream",
       "stream": "stdout",
       "text": [
        " \r",
        "1029   1.138147e+05   1.000000e-15   5.586787e+00"
       ]
      },
      {
       "output_type": "stream",
       "stream": "stdout",
       "text": [
        " \r",
        "1030   1.138147e+05   1.000000e-15   5.143088e-01"
       ]
      },
      {
       "output_type": "stream",
       "stream": "stdout",
       "text": [
        " \r",
        "1031   1.138147e+05   1.000000e-15   3.785573e-01"
       ]
      },
      {
       "output_type": "stream",
       "stream": "stdout",
       "text": [
        " \r",
        "1032   1.138147e+05   1.000000e-15   2.580537e+00"
       ]
      },
      {
       "output_type": "stream",
       "stream": "stdout",
       "text": [
        " \r",
        "1033   1.138147e+05   1.000000e-15   4.320116e-01"
       ]
      },
      {
       "output_type": "stream",
       "stream": "stdout",
       "text": [
        " \r",
        "1034   1.138147e+05   1.000000e-15   3.098086e-01"
       ]
      },
      {
       "output_type": "stream",
       "stream": "stdout",
       "text": [
        " \r",
        "1035   1.138147e+05   1.000000e-15   1.394202e+00"
       ]
      },
      {
       "output_type": "stream",
       "stream": "stdout",
       "text": [
        " \r",
        "1036   1.138147e+05   1.000000e-15   3.512177e-01"
       ]
      },
      {
       "output_type": "stream",
       "stream": "stdout",
       "text": [
        " \r",
        "1037   1.138147e+05   1.000000e-15   2.606663e-01"
       ]
      },
      {
       "output_type": "stream",
       "stream": "stdout",
       "text": [
        " \r",
        "1038   1.138147e+05   1.000000e-15   6.340001e-01"
       ]
      },
      {
       "output_type": "stream",
       "stream": "stdout",
       "text": [
        " \r",
        "1039   1.138147e+05   1.000000e-15   3.054270e-01"
       ]
      },
      {
       "output_type": "stream",
       "stream": "stdout",
       "text": [
        " \r",
        "1040   1.138147e+05   1.000000e-15   1.983048e-01"
       ]
      },
      {
       "output_type": "stream",
       "stream": "stdout",
       "text": [
        " \r",
        "1041   1.138147e+05   1.000000e-15   3.620828e-01"
       ]
      },
      {
       "output_type": "stream",
       "stream": "stdout",
       "text": [
        " \r",
        "1042   1.138147e+05   1.000000e-15   3.247521e-01"
       ]
      },
      {
       "output_type": "stream",
       "stream": "stdout",
       "text": [
        " \r",
        "1043   1.138147e+05   1.000000e-15   1.426329e-01"
       ]
      },
      {
       "output_type": "stream",
       "stream": "stdout",
       "text": [
        " \r",
        "1044   1.138147e+05   1.000000e-15   2.111839e-01"
       ]
      },
      {
       "output_type": "stream",
       "stream": "stdout",
       "text": [
        " \r",
        "1045   1.138147e+05   1.000000e-15   4.923944e-01"
       ]
      },
      {
       "output_type": "stream",
       "stream": "stdout",
       "text": [
        " \r",
        "1046   1.138147e+05   1.000000e-15   1.292698e-01"
       ]
      },
      {
       "output_type": "stream",
       "stream": "stdout",
       "text": [
        " \r",
        "1047   1.138147e+05   1.000000e-15   1.205699e-01"
       ]
      },
      {
       "output_type": "stream",
       "stream": "stdout",
       "text": [
        " \r",
        "1048   1.138147e+05   1.000000e-15   1.147904e+00"
       ]
      },
      {
       "output_type": "stream",
       "stream": "stdout",
       "text": [
        " \r",
        "1049   1.138147e+05   1.000000e-15   1.298477e-01"
       ]
      },
      {
       "output_type": "stream",
       "stream": "stdout",
       "text": [
        " \r",
        "1050   1.138147e+05   1.000000e-15   1.534517e-01"
       ]
      },
      {
       "output_type": "stream",
       "stream": "stdout",
       "text": [
        " \r",
        "1051   1.138147e+05   1.000000e-15   4.104649e-01"
       ]
      },
      {
       "output_type": "stream",
       "stream": "stdout",
       "text": [
        " \r",
        "1052   1.138147e+05   1.000000e-15   1.317868e-01"
       ]
      },
      {
       "output_type": "stream",
       "stream": "stdout",
       "text": [
        " \r",
        "1053   1.138147e+05   1.000000e-15   1.163349e-01"
       ]
      },
      {
       "output_type": "stream",
       "stream": "stdout",
       "text": [
        " \r",
        "1054   1.138147e+05   1.000000e-15   1.038399e-01"
       ]
      },
      {
       "output_type": "stream",
       "stream": "stdout",
       "text": [
        " \r",
        "1055   1.138147e+05   1.000000e-15   8.268175e-01"
       ]
      },
      {
       "output_type": "stream",
       "stream": "stdout",
       "text": [
        " \r",
        "1056   1.138147e+05   1.000000e-15   1.083877e-01"
       ]
      },
      {
       "output_type": "stream",
       "stream": "stdout",
       "text": [
        " \r",
        "1057   1.138147e+05   1.000000e-15   8.562801e-02"
       ]
      },
      {
       "output_type": "stream",
       "stream": "stdout",
       "text": [
        " \n",
        "\r"
       ]
      },
      {
       "output_type": "stream",
       "stream": "stdout",
       "text": [
        "1058   1.138147e+05   1.000000e-15   1.239377e+00"
       ]
      },
      {
       "output_type": "stream",
       "stream": "stdout",
       "text": [
        " \r",
        "1059   1.138147e+05   1.000000e-15   7.232152e-02"
       ]
      },
      {
       "output_type": "stream",
       "stream": "stdout",
       "text": [
        " \r",
        "1060   1.138147e+05   1.000000e-15   7.482922e-02"
       ]
      },
      {
       "output_type": "stream",
       "stream": "stdout",
       "text": [
        " \r",
        "1061   1.138147e+05   1.000000e-15   9.143998e-01"
       ]
      },
      {
       "output_type": "stream",
       "stream": "stdout",
       "text": [
        " \r",
        "1062   1.138147e+05   1.000000e-15   7.533435e-02"
       ]
      },
      {
       "output_type": "stream",
       "stream": "stdout",
       "text": [
        " \r",
        "1063   1.138147e+05   1.000000e-15   6.637172e-02"
       ]
      },
      {
       "output_type": "stream",
       "stream": "stdout",
       "text": [
        " \r",
        "1064   1.138147e+05   1.000000e-15   5.816981e-01"
       ]
      },
      {
       "output_type": "stream",
       "stream": "stdout",
       "text": [
        " \r",
        "1065   1.138147e+05   1.000000e-15   5.655524e-02"
       ]
      },
      {
       "output_type": "stream",
       "stream": "stdout",
       "text": [
        " \r",
        "1066   1.138147e+05   1.000000e-15   5.286364e-02"
       ]
      },
      {
       "output_type": "stream",
       "stream": "stdout",
       "text": [
        " \r",
        "1067   1.138147e+05   1.000000e-15   5.176175e-01"
       ]
      },
      {
       "output_type": "stream",
       "stream": "stdout",
       "text": [
        " \r",
        "1068   1.138147e+05   1.000000e-15   5.724264e-02"
       ]
      },
      {
       "output_type": "stream",
       "stream": "stdout",
       "text": [
        " \r",
        "1069   1.138147e+05   1.000000e-15   5.494960e-02"
       ]
      },
      {
       "output_type": "stream",
       "stream": "stdout",
       "text": [
        " \r",
        "1070   1.138147e+05   1.000000e-15   4.706474e-01"
       ]
      },
      {
       "output_type": "stream",
       "stream": "stdout",
       "text": [
        " \r",
        "1071   1.138147e+05   1.000000e-15   4.785078e-02"
       ]
      },
      {
       "output_type": "stream",
       "stream": "stdout",
       "text": [
        " \r",
        "1072   1.138147e+05   1.000000e-15   5.455044e-02"
       ]
      },
      {
       "output_type": "stream",
       "stream": "stdout",
       "text": [
        " \r",
        "1073   1.138147e+05   1.000000e-15   5.142088e-01"
       ]
      },
      {
       "output_type": "stream",
       "stream": "stdout",
       "text": [
        " \r",
        "1074   1.138147e+05   1.000000e-15   5.584329e-02"
       ]
      },
      {
       "output_type": "stream",
       "stream": "stdout",
       "text": [
        " \r",
        "1075   1.138147e+05   1.000000e-15   5.373738e-02"
       ]
      },
      {
       "output_type": "stream",
       "stream": "stdout",
       "text": [
        " \r",
        "1076   1.138147e+05   1.000000e-15   4.357218e-01"
       ]
      },
      {
       "output_type": "stream",
       "stream": "stdout",
       "text": [
        " \r",
        "1077   1.138147e+05   1.000000e-15   5.604878e-02"
       ]
      },
      {
       "output_type": "stream",
       "stream": "stdout",
       "text": [
        " \r",
        "1078   1.138147e+05   1.000000e-15   5.363464e-02"
       ]
      },
      {
       "output_type": "stream",
       "stream": "stdout",
       "text": [
        " \r",
        "1079   1.138147e+05   1.000000e-15   8.456971e-01"
       ]
      },
      {
       "output_type": "stream",
       "stream": "stdout",
       "text": [
        " \r",
        "1080   1.138147e+05   1.000000e-15   9.063062e-02"
       ]
      },
      {
       "output_type": "stream",
       "stream": "stdout",
       "text": [
        " \r",
        "1081   1.138147e+05   1.000000e-15   7.234193e-02"
       ]
      },
      {
       "output_type": "stream",
       "stream": "stdout",
       "text": [
        " \r",
        "1082   1.138147e+05   1.000000e-15   8.447925e-01"
       ]
      },
      {
       "output_type": "stream",
       "stream": "stdout",
       "text": [
        " \r",
        "1083   1.138147e+05   1.000000e-15   7.080323e-02"
       ]
      },
      {
       "output_type": "stream",
       "stream": "stdout",
       "text": [
        " \r",
        "1084   1.138147e+05   1.000000e-15   7.304255e-02"
       ]
      },
      {
       "output_type": "stream",
       "stream": "stdout",
       "text": [
        " \r",
        "1085   1.138147e+05   1.000000e-15   9.905156e-01"
       ]
      },
      {
       "output_type": "stream",
       "stream": "stdout",
       "text": [
        " \r",
        "1086   1.138147e+05   1.000000e-15   7.415192e-02"
       ]
      },
      {
       "output_type": "stream",
       "stream": "stdout",
       "text": [
        " \r",
        "1087   1.138147e+05   1.000000e-15   1.017160e-01"
       ]
      },
      {
       "output_type": "stream",
       "stream": "stdout",
       "text": [
        " \r",
        "1088   1.138147e+05   1.000000e-15   6.053535e-01"
       ]
      },
      {
       "output_type": "stream",
       "stream": "stdout",
       "text": [
        " \r",
        "1089   1.138147e+05   1.000000e-15   7.426009e-02"
       ]
      },
      {
       "output_type": "stream",
       "stream": "stdout",
       "text": [
        " \r",
        "1090   1.138147e+05   1.000000e-15   1.171154e-01"
       ]
      },
      {
       "output_type": "stream",
       "stream": "stdout",
       "text": [
        " \r",
        "1091   1.138147e+05   1.000000e-15   2.295343e-01"
       ]
      },
      {
       "output_type": "stream",
       "stream": "stdout",
       "text": [
        " \r",
        "1092   1.138147e+05   1.000000e-15   8.578622e-02"
       ]
      },
      {
       "output_type": "stream",
       "stream": "stdout",
       "text": [
        " \r",
        "1093   1.138147e+05   1.000000e-15   1.604851e-01"
       ]
      },
      {
       "output_type": "stream",
       "stream": "stdout",
       "text": [
        " \r",
        "1094   1.138147e+05   1.000000e-15   1.309425e-01"
       ]
      },
      {
       "output_type": "stream",
       "stream": "stdout",
       "text": [
        " \r",
        "1095   1.138147e+05   1.000000e-15   6.458457e-02"
       ]
      },
      {
       "output_type": "stream",
       "stream": "stdout",
       "text": [
        " \r",
        "1096   1.138147e+05   1.000000e-15   2.980239e-01"
       ]
      },
      {
       "output_type": "stream",
       "stream": "stdout",
       "text": [
        " \r",
        "1097   1.138147e+05   1.000000e-15   9.221898e-02"
       ]
      },
      {
       "output_type": "stream",
       "stream": "stdout",
       "text": [
        " \r",
        "1098   1.138147e+05   1.000000e-15   5.959912e-02"
       ]
      },
      {
       "output_type": "stream",
       "stream": "stdout",
       "text": [
        " \r",
        "1099   1.138147e+05   1.000000e-15   6.348693e-01"
       ]
      },
      {
       "output_type": "stream",
       "stream": "stdout",
       "text": [
        " \r",
        "1100   1.138147e+05   1.000000e-15   7.711394e-02"
       ]
      },
      {
       "output_type": "stream",
       "stream": "stdout",
       "text": [
        " \r",
        "1101   1.138147e+05   1.000000e-15   5.236586e-02"
       ]
      },
      {
       "output_type": "stream",
       "stream": "stdout",
       "text": [
        " \r",
        "1102   1.138147e+05   1.000000e-15   7.345997e-01"
       ]
      },
      {
       "output_type": "stream",
       "stream": "stdout",
       "text": [
        " \r",
        "1103   1.138147e+05   1.000000e-15   3.743612e-02"
       ]
      },
      {
       "output_type": "stream",
       "stream": "stdout",
       "text": [
        " \r",
        "1104   1.138147e+05   1.000000e-15   5.285864e-02"
       ]
      },
      {
       "output_type": "stream",
       "stream": "stdout",
       "text": [
        " \r",
        "1105   1.138147e+05   1.000000e-15   4.360312e-01"
       ]
      },
      {
       "output_type": "stream",
       "stream": "stdout",
       "text": [
        " \r",
        "1106   1.138147e+05   1.000000e-15   4.415603e-02"
       ]
      },
      {
       "output_type": "stream",
       "stream": "stdout",
       "text": [
        " \r",
        "1107   1.138147e+05   1.000000e-15   5.353362e-02"
       ]
      },
      {
       "output_type": "stream",
       "stream": "stdout",
       "text": [
        " \r",
        "1108   1.138147e+05   1.000000e-15   2.647705e-01"
       ]
      },
      {
       "output_type": "stream",
       "stream": "stdout",
       "text": [
        " \r",
        "1109   1.138147e+05   1.000000e-15   4.750652e-02"
       ]
      },
      {
       "output_type": "stream",
       "stream": "stdout",
       "text": [
        " \r",
        "1110   1.138147e+05   1.000000e-15   3.913627e-02"
       ]
      },
      {
       "output_type": "stream",
       "stream": "stdout",
       "text": [
        " \r",
        "1111   1.138147e+05   1.000000e-15   9.789361e-02"
       ]
      },
      {
       "output_type": "stream",
       "stream": "stdout",
       "text": [
        " \r",
        "1112   1.138147e+05   1.000000e-15   3.041636e-02"
       ]
      },
      {
       "output_type": "stream",
       "stream": "stdout",
       "text": [
        " \r",
        "1113   1.138147e+05   1.000000e-15   4.645349e-02"
       ]
      },
      {
       "output_type": "stream",
       "stream": "stdout",
       "text": [
        " \r",
        "1114   1.138147e+05   1.000000e-15   6.110450e-02"
       ]
      },
      {
       "output_type": "stream",
       "stream": "stdout",
       "text": [
        " \r",
        "1115   1.138147e+05   1.000000e-15   2.646676e-02"
       ]
      },
      {
       "output_type": "stream",
       "stream": "stdout",
       "text": [
        " \r",
        "1116   1.138147e+05   1.000000e-15   7.462925e-02"
       ]
      },
      {
       "output_type": "stream",
       "stream": "stdout",
       "text": [
        " \r",
        "1117   1.138147e+05   1.000000e-15   4.197036e-02"
       ]
      },
      {
       "output_type": "stream",
       "stream": "stdout",
       "text": [
        " \r",
        "1118   1.138147e+05   1.000000e-15   3.706977e-02"
       ]
      },
      {
       "output_type": "stream",
       "stream": "stdout",
       "text": [
        " \r",
        "1119   1.138147e+05   1.000000e-15   1.037221e-01"
       ]
      },
      {
       "output_type": "stream",
       "stream": "stdout",
       "text": [
        " \r",
        "1120   1.138147e+05   1.000000e-15   3.807690e-02"
       ]
      },
      {
       "output_type": "stream",
       "stream": "stdout",
       "text": [
        " \r",
        "1121   1.138147e+05   1.000000e-15   3.780505e-02"
       ]
      },
      {
       "output_type": "stream",
       "stream": "stdout",
       "text": [
        " \r",
        "1122   1.138147e+05   1.000000e-15   1.491943e-01"
       ]
      },
      {
       "output_type": "stream",
       "stream": "stdout",
       "text": [
        " \r",
        "1123   1.138147e+05   1.000000e-15   3.247119e-02"
       ]
      },
      {
       "output_type": "stream",
       "stream": "stdout",
       "text": [
        " \r",
        "1124   1.138147e+05   1.000000e-15   3.032193e-02"
       ]
      },
      {
       "output_type": "stream",
       "stream": "stdout",
       "text": [
        " \r",
        "1125   1.138147e+05   1.000000e-15   2.172731e-01"
       ]
      },
      {
       "output_type": "stream",
       "stream": "stdout",
       "text": [
        " \r",
        "1126   1.138147e+05   1.000000e-15   3.065446e-02"
       ]
      },
      {
       "output_type": "stream",
       "stream": "stdout",
       "text": [
        " \r",
        "1127   1.138147e+05   1.000000e-15   2.245205e-02"
       ]
      },
      {
       "output_type": "stream",
       "stream": "stdout",
       "text": [
        " \r",
        "1128   1.138147e+05   1.000000e-15   3.128983e-01"
       ]
      },
      {
       "output_type": "stream",
       "stream": "stdout",
       "text": [
        " \r",
        "1129   1.138147e+05   1.000000e-15   2.599995e-02"
       ]
      },
      {
       "output_type": "stream",
       "stream": "stdout",
       "text": [
        " \r",
        "1130   1.138147e+05   1.000000e-15   2.253370e-02"
       ]
      },
      {
       "output_type": "stream",
       "stream": "stdout",
       "text": [
        " \r",
        "1131   1.138147e+05   1.000000e-15   2.868961e-01"
       ]
      },
      {
       "output_type": "stream",
       "stream": "stdout",
       "text": [
        " \r",
        "1132   1.138147e+05   1.000000e-15   2.224029e-02"
       ]
      },
      {
       "output_type": "stream",
       "stream": "stdout",
       "text": [
        " \r",
        "1133   1.138147e+05   1.000000e-15   2.388493e-02"
       ]
      },
      {
       "output_type": "stream",
       "stream": "stdout",
       "text": [
        " \r",
        "1134   1.138147e+05   1.000000e-15   4.126916e-01"
       ]
      },
      {
       "output_type": "stream",
       "stream": "stdout",
       "text": [
        " \r",
        "1135   1.138147e+05   1.000000e-15   2.737779e-02"
       ]
      },
      {
       "output_type": "stream",
       "stream": "stdout",
       "text": [
        " \r",
        "1136   1.138147e+05   1.000000e-15   2.747034e-02"
       ]
      },
      {
       "output_type": "stream",
       "stream": "stdout",
       "text": [
        " \r",
        "1137   1.138147e+05   1.000000e-15   2.280218e-01"
       ]
      },
      {
       "output_type": "stream",
       "stream": "stdout",
       "text": [
        " \r",
        "1138   1.138147e+05   1.000000e-15   2.683429e-02"
       ]
      },
      {
       "output_type": "stream",
       "stream": "stdout",
       "text": [
        " \r",
        "1139   1.138147e+05   1.000000e-15   3.429775e-02"
       ]
      },
      {
       "output_type": "stream",
       "stream": "stdout",
       "text": [
        " \r",
        "1140   1.138147e+05   1.000000e-15   1.165952e-01"
       ]
      },
      {
       "output_type": "stream",
       "stream": "stdout",
       "text": [
        " \r",
        "1141   1.138147e+05   1.000000e-15   2.511513e-02"
       ]
      },
      {
       "output_type": "stream",
       "stream": "stdout",
       "text": [
        " \r",
        "1142   1.138147e+05   1.000000e-15   3.603779e-02"
       ]
      },
      {
       "output_type": "stream",
       "stream": "stdout",
       "text": [
        " \r",
        "1143   1.138147e+05   1.000000e-15   3.141921e-02"
       ]
      },
      {
       "output_type": "stream",
       "stream": "stdout",
       "text": [
        " \r",
        "1144   1.138147e+05   1.000000e-15   1.356627e-02"
       ]
      },
      {
       "output_type": "stream",
       "stream": "stdout",
       "text": [
        " \r",
        "1145   1.138147e+05   1.000000e-15   5.141274e-02"
       ]
      },
      {
       "output_type": "stream",
       "stream": "stdout",
       "text": [
        " \r",
        "1146   1.138147e+05   1.000000e-15   1.824900e-02"
       ]
      },
      {
       "output_type": "stream",
       "stream": "stdout",
       "text": [
        " \r",
        "1147   1.138147e+05   1.000000e-15   8.022690e-03"
       ]
      },
      {
       "output_type": "stream",
       "stream": "stdout",
       "text": [
        " \n",
        "\r"
       ]
      },
      {
       "output_type": "stream",
       "stream": "stdout",
       "text": [
        "1148   1.138147e+05   1.000000e-15   1.026234e-01"
       ]
      },
      {
       "output_type": "stream",
       "stream": "stdout",
       "text": [
        " \r",
        "1149   1.138147e+05   1.000000e-15   8.935752e-03"
       ]
      },
      {
       "output_type": "stream",
       "stream": "stdout",
       "text": [
        " \r",
        "1150   1.138147e+05   1.000000e-15   7.807948e-03"
       ]
      },
      {
       "output_type": "stream",
       "stream": "stdout",
       "text": [
        " \r",
        "1151   1.138147e+05   1.000000e-15   1.015974e-01"
       ]
      },
      {
       "output_type": "stream",
       "stream": "stdout",
       "text": [
        " \r",
        "1152   1.138147e+05   1.000000e-15   6.890233e-03"
       ]
      },
      {
       "output_type": "stream",
       "stream": "stdout",
       "text": [
        " \r",
        "1153   1.138147e+05   1.000000e-15   6.819932e-03"
       ]
      },
      {
       "output_type": "stream",
       "stream": "stdout",
       "text": [
        " \r",
        "1154   1.138147e+05   1.000000e-15   5.410309e-02"
       ]
      },
      {
       "output_type": "stream",
       "stream": "stdout",
       "text": [
        " \r",
        "1155   1.138147e+05   1.000000e-15   4.893298e-03"
       ]
      },
      {
       "output_type": "stream",
       "stream": "stdout",
       "text": [
        " \r",
        "1156   1.138147e+05   1.000000e-15   6.995103e-03"
       ]
      },
      {
       "output_type": "stream",
       "stream": "stdout",
       "text": [
        " \r",
        "1156   1.138147e+05   1.000000e-15   6.995103e-03"
       ]
      },
      {
       "output_type": "stream",
       "stream": "stdout",
       "text": [
        " \n",
        "converged - relative reduction in objective\n"
       ]
      },
      {
       "output_type": "stream",
       "stream": "stderr",
       "text": [
        "/opt/local/Library/Frameworks/Python.framework/Versions/2.7/lib/python2.7/site-packages/GPy/core/transformations.py:32: RuntimeWarning: overflow encountered in exp\n",
        "  return np.where(x>lim_val, x, np.log(1. + np.exp(x)))\n",
        "/opt/local/Library/Frameworks/Python.framework/Versions/2.7/lib/python2.7/site-packages/GPy/kern/parts/rbf.py:256: RuntimeWarning: divide by zero encountered in divide\n",
        "  X = X / self.lengthscale\n",
        "/opt/local/Library/Frameworks/Python.framework/Versions/2.7/lib/python2.7/site-packages/GPy/kern/parts/rbf.py:258: RuntimeWarning: invalid value encountered in add\n",
        "  self._K_dist2 = -2.*tdot(X) + (Xsquare[:, None] + Xsquare[None, :])\n",
        "/opt/local/Library/Frameworks/Python.framework/Versions/2.7/lib/python2.7/site-packages/GPy/kern/parts/rbf.py:273: RuntimeWarning: divide by zero encountered in divide\n",
        "  self._psi2_Zdist_sq = np.square(self._psi2_Zdist / self.lengthscale) # M,M,Q\n",
        "/opt/local/Library/Frameworks/Python.framework/Versions/2.7/lib/python2.7/site-packages/GPy/kern/parts/rbf.py:273: RuntimeWarning: invalid value encountered in divide\n",
        "  self._psi2_Zdist_sq = np.square(self._psi2_Zdist / self.lengthscale) # M,M,Q\n",
        "/opt/local/Library/Frameworks/Python.framework/Versions/2.7/lib/python2.7/site-packages/GPy/kern/parts/rbf.py:279: RuntimeWarning: invalid value encountered in divide\n",
        "  self._psi1_denom = S[:, None, :] / self.lengthscale2 + 1.\n",
        "/opt/local/Library/Frameworks/Python.framework/Versions/2.7/lib/python2.7/site-packages/GPy/kern/parts/rbf.py:281: RuntimeWarning: divide by zero encountered in divide\n",
        "  self._psi1_dist_sq = np.square(self._psi1_dist) / self.lengthscale2 / self._psi1_denom\n",
        "/opt/local/Library/Frameworks/Python.framework/Versions/2.7/lib/python2.7/site-packages/GPy/kern/parts/rbf.py:286: RuntimeWarning: invalid value encountered in divide\n",
        "  self._psi2_denom = 2.*S[:, None, None, :] / self.lengthscale2 + 1. # N,M,M,Q\n",
        "/opt/local/Library/Frameworks/Python.framework/Versions/2.7/lib/python2.7/site-packages/GPy/util/linalg.py:121: RuntimeWarning: invalid value encountered in less_equal\n",
        "  if np.any(diagA <= 0.):\n"
       ]
      }
     ],
     "prompt_number": 45
    },
    {
     "cell_type": "markdown",
     "metadata": {},
     "source": [
      "The model assumes two principle components. Here, we visualize the relative importance of the two components."
     ]
    },
    {
     "cell_type": "code",
     "collapsed": false,
     "input": [
      "m.kern.plot_ARD()"
     ],
     "language": "python",
     "metadata": {},
     "outputs": [
      {
       "metadata": {},
       "output_type": "pyout",
       "prompt_number": 52,
       "text": [
        "<matplotlib.axes.AxesSubplot at 0x11351a210>"
       ]
      },
      {
       "metadata": {},
       "output_type": "display_data",
       "png": "[encoded data removed]",
       "text": [
        "<matplotlib.figure.Figure at 0x114f42d90>"
       ]
      }
     ],
     "prompt_number": 52
    },
    {
     "cell_type": "markdown",
     "metadata": {},
     "source": [
      "Finally, the position of individual cells in the principle component space can be visualized. Cells are colour coded by GATA3 expression, a canonical T-cell differentiation marker gene."
     ]
    },
    {
     "cell_type": "code",
     "collapsed": false,
     "input": [
      "i_Gata3 = SP.where(geneID=='ENSMUSG00000015619')\n",
      "PL.scatter(m.X[:,0], m.X[:,1], 40, Ycorr[:,i_Gata3])\n",
      "PL.xlabel('PC1')\n",
      "PL.ylabel('PC2')\n",
      "PL.colorbar()"
     ],
     "language": "python",
     "metadata": {},
     "outputs": [
      {
       "metadata": {},
       "output_type": "pyout",
       "prompt_number": 53,
       "text": [
        "<matplotlib.colorbar.Colorbar instance at 0x11370d050>"
       ]
      },
      {
       "metadata": {},
       "output_type": "display_data",
       "png": "[encoded data removed]",
       "text": [
        "<matplotlib.figure.Figure at 0x11352e990>"
       ]
      }
     ],
     "prompt_number": 53
    },
    {
     "cell_type": "code",
     "collapsed": false,
     "input": [],
     "language": "python",
     "metadata": {},
     "outputs": []
    }
   ],
   "metadata": {}
  }
 ]
}